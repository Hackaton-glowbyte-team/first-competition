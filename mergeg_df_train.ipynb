{
 "cells": [
  {
   "cell_type": "code",
   "execution_count": 1,
   "metadata": {},
   "outputs": [],
   "source": [
    "import pandas as pd\n",
    "import numpy as np\n",
    "from os.path import join\n",
    "from pathlib import Path\n",
    "import os\n"
   ]
  },
  {
   "cell_type": "code",
   "execution_count": 2,
   "metadata": {},
   "outputs": [],
   "source": [
    "path = Path(\"data/\")\n",
    "filename_1 = 'train_dataset.csv'\n",
    "filename_2 = 'preprocessing_loaded_table.csv'\n",
    "\n",
    "\n"
   ]
  },
  {
   "cell_type": "code",
   "execution_count": 3,
   "metadata": {},
   "outputs": [],
   "source": [
    "#Функция для возврата часа в дату\n",
    "def date_plus_hours_to_index(data):\n",
    "    data = data.copy()\n",
    "    data['date'] = data['date'] + pd.to_timedelta(data['time'] , 'H')\n",
    "    data = data.set_index('date')\n",
    "    return data"
   ]
  },
  {
   "cell_type": "code",
   "execution_count": 4,
   "metadata": {},
   "outputs": [],
   "source": [
    "# Функция для сдвига на суткм (в скаченном датасете разбивка по 30 мин, по этому timeshift=48)\n",
    "def shift_features_fact(df, timeshift=48):\n",
    "    list_fact_columns=list([df.columns])\n",
    "    new_df = df.copy()\n",
    "    for column in list_fact_columns:\n",
    "        new_df[column] = new_df[column].shift(timeshift)\n",
    "    \n",
    "    return new_df"
   ]
  },
  {
   "cell_type": "code",
   "execution_count": 5,
   "metadata": {},
   "outputs": [],
   "source": [
    "# объединение оригинальных тренировочных данных и скаченных признаков со сдвигом\n",
    "def data_merge(path, filename_1, filename_2):\n",
    "    df_train = pd.read_csv(join(path, filename_1), parse_dates=[0])\n",
    "    df_train = date_plus_hours_to_index(df_train)\n",
    "    df_fich = pd.read_csv(join(path, filename_2))\n",
    "    df_fich['date'] = pd.to_datetime(df_fich['date'], infer_datetime_format=True)\n",
    "    df_fich = df_fich.set_index('date')\n",
    "    df_fich_shift = shift_features_fact(df_fich)\n",
    "\n",
    "    \n",
    "    \n",
    "    df_train = pd.merge(df_train, df_fich_shift[df_fich.columns], left_index=True, right_index=True)\n",
    "\n",
    "    return df_train\n",
    "\n",
    "    \n",
    "    "
   ]
  },
  {
   "cell_type": "code",
   "execution_count": 6,
   "metadata": {},
   "outputs": [],
   "source": [
    "df_train_shift = data_merge(path, 'train_dataset.csv', 'preprocessing_loaded_table.csv')\n"
   ]
  },
  {
   "cell_type": "code",
   "execution_count": 7,
   "metadata": {},
   "outputs": [],
   "source": [
    "df_train_shift.to_csv('data/df_train_shift.csv')"
   ]
  }
 ],
 "metadata": {
  "kernelspec": {
   "display_name": "ds1_practicum_env",
   "language": "python",
   "name": "python3"
  },
  "language_info": {
   "codemirror_mode": {
    "name": "ipython",
    "version": 3
   },
   "file_extension": ".py",
   "mimetype": "text/x-python",
   "name": "python",
   "nbconvert_exporter": "python",
   "pygments_lexer": "ipython3",
   "version": "3.9.16"
  }
 },
 "nbformat": 4,
 "nbformat_minor": 2
}
