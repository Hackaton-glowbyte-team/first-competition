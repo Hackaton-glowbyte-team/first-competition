{
 "cells": [
  {
   "cell_type": "code",
   "execution_count": 730,
   "id": "e4351135",
   "metadata": {},
   "outputs": [],
   "source": [
    "import numpy as np\n",
    "import pandas as pd\n",
    "import matplotlib.pyplot as plt\n",
    "import datetime\n",
    "\n",
    "import lightgbm as lgb\n",
    "from sklearn.model_selection import train_test_split\n",
    "from sklearn.metrics import mean_absolute_error\n",
    "\n",
    "import re\n",
    "\n",
    "from tqdm import tqdm\n",
    "\n",
    "random_state = 12345\n",
    "\n",
    "import json\n",
    "import os"
   ]
  },
  {
   "cell_type": "code",
   "execution_count": 731,
   "id": "98a4ce10",
   "metadata": {},
   "outputs": [
    {
     "name": "stdout",
     "output_type": "stream",
     "text": [
      "<class 'pandas.core.frame.DataFrame'>\n",
      "RangeIndex: 37224 entries, 0 to 37223\n",
      "Data columns (total 7 columns):\n",
      " #   Column        Non-Null Count  Dtype  \n",
      "---  ------        --------------  -----  \n",
      " 0   date          37224 non-null  object \n",
      " 1   time          37224 non-null  int64  \n",
      " 2   target        37224 non-null  float64\n",
      " 3   temp          37224 non-null  float64\n",
      " 4   temp_pred     37136 non-null  float64\n",
      " 5   weather_pred  37136 non-null  object \n",
      " 6   weather_fact  37223 non-null  object \n",
      "dtypes: float64(3), int64(1), object(3)\n",
      "memory usage: 2.0+ MB\n"
     ]
    }
   ],
   "source": [
    "train_ds = pd.read_csv('data/train_dataset.csv')\n",
    "train_ds.info()"
   ]
  },
  {
   "cell_type": "code",
   "execution_count": 732,
   "id": "9e9d3889",
   "metadata": {},
   "outputs": [
    {
     "data": {
      "text/html": [
       "<div>\n",
       "<style scoped>\n",
       "    .dataframe tbody tr th:only-of-type {\n",
       "        vertical-align: middle;\n",
       "    }\n",
       "\n",
       "    .dataframe tbody tr th {\n",
       "        vertical-align: top;\n",
       "    }\n",
       "\n",
       "    .dataframe thead th {\n",
       "        text-align: right;\n",
       "    }\n",
       "</style>\n",
       "<table border=\"1\" class=\"dataframe\">\n",
       "  <thead>\n",
       "    <tr style=\"text-align: right;\">\n",
       "      <th></th>\n",
       "      <th>date</th>\n",
       "      <th>time</th>\n",
       "      <th>target</th>\n",
       "      <th>temp</th>\n",
       "      <th>temp_pred</th>\n",
       "      <th>weather_pred</th>\n",
       "      <th>weather_fact</th>\n",
       "    </tr>\n",
       "  </thead>\n",
       "  <tbody>\n",
       "    <tr>\n",
       "      <th>0</th>\n",
       "      <td>2019-01-01</td>\n",
       "      <td>0</td>\n",
       "      <td>481.510</td>\n",
       "      <td>2.9</td>\n",
       "      <td>2.0</td>\n",
       "      <td>пасм, ветер</td>\n",
       "      <td>ветер</td>\n",
       "    </tr>\n",
       "    <tr>\n",
       "      <th>1</th>\n",
       "      <td>2019-01-01</td>\n",
       "      <td>1</td>\n",
       "      <td>462.872</td>\n",
       "      <td>2.9</td>\n",
       "      <td>2.0</td>\n",
       "      <td>пасм, ветер</td>\n",
       "      <td>ветер</td>\n",
       "    </tr>\n",
       "    <tr>\n",
       "      <th>2</th>\n",
       "      <td>2019-01-01</td>\n",
       "      <td>2</td>\n",
       "      <td>449.718</td>\n",
       "      <td>2.9</td>\n",
       "      <td>2.0</td>\n",
       "      <td>пасм, ветер</td>\n",
       "      <td>ветер</td>\n",
       "    </tr>\n",
       "    <tr>\n",
       "      <th>3</th>\n",
       "      <td>2019-01-01</td>\n",
       "      <td>3</td>\n",
       "      <td>430.908</td>\n",
       "      <td>4.3</td>\n",
       "      <td>2.0</td>\n",
       "      <td>пасм, ветер</td>\n",
       "      <td>ветер, пасм</td>\n",
       "    </tr>\n",
       "    <tr>\n",
       "      <th>4</th>\n",
       "      <td>2019-01-01</td>\n",
       "      <td>4</td>\n",
       "      <td>415.163</td>\n",
       "      <td>4.3</td>\n",
       "      <td>2.0</td>\n",
       "      <td>пасм, ветер</td>\n",
       "      <td>ветер, пасм</td>\n",
       "    </tr>\n",
       "    <tr>\n",
       "      <th>...</th>\n",
       "      <td>...</td>\n",
       "      <td>...</td>\n",
       "      <td>...</td>\n",
       "      <td>...</td>\n",
       "      <td>...</td>\n",
       "      <td>...</td>\n",
       "      <td>...</td>\n",
       "    </tr>\n",
       "    <tr>\n",
       "      <th>2923</th>\n",
       "      <td>2023-07-31</td>\n",
       "      <td>19</td>\n",
       "      <td>453.173</td>\n",
       "      <td>17.2</td>\n",
       "      <td>18.0</td>\n",
       "      <td>пасм, 24% дождь</td>\n",
       "      <td>п/обл</td>\n",
       "    </tr>\n",
       "    <tr>\n",
       "      <th>2924</th>\n",
       "      <td>2023-07-31</td>\n",
       "      <td>20</td>\n",
       "      <td>446.287</td>\n",
       "      <td>17.2</td>\n",
       "      <td>18.0</td>\n",
       "      <td>пасм, 24% дождь</td>\n",
       "      <td>п/обл</td>\n",
       "    </tr>\n",
       "    <tr>\n",
       "      <th>2925</th>\n",
       "      <td>2023-07-31</td>\n",
       "      <td>21</td>\n",
       "      <td>444.373</td>\n",
       "      <td>15.8</td>\n",
       "      <td>17.0</td>\n",
       "      <td>пасм, 24% дождь</td>\n",
       "      <td>п/обл</td>\n",
       "    </tr>\n",
       "    <tr>\n",
       "      <th>2926</th>\n",
       "      <td>2023-07-31</td>\n",
       "      <td>22</td>\n",
       "      <td>449.078</td>\n",
       "      <td>15.8</td>\n",
       "      <td>17.0</td>\n",
       "      <td>пасм, 24% дождь</td>\n",
       "      <td>п/обл</td>\n",
       "    </tr>\n",
       "    <tr>\n",
       "      <th>2927</th>\n",
       "      <td>2023-07-31</td>\n",
       "      <td>23</td>\n",
       "      <td>416.078</td>\n",
       "      <td>15.8</td>\n",
       "      <td>17.0</td>\n",
       "      <td>пасм, 24% дождь</td>\n",
       "      <td>п/обл</td>\n",
       "    </tr>\n",
       "  </tbody>\n",
       "</table>\n",
       "<p>40152 rows × 7 columns</p>\n",
       "</div>"
      ],
      "text/plain": [
       "            date  time   target  temp  temp_pred     weather_pred weather_fact\n",
       "0     2019-01-01     0  481.510   2.9        2.0      пасм, ветер        ветер\n",
       "1     2019-01-01     1  462.872   2.9        2.0      пасм, ветер        ветер\n",
       "2     2019-01-01     2  449.718   2.9        2.0      пасм, ветер        ветер\n",
       "3     2019-01-01     3  430.908   4.3        2.0      пасм, ветер  ветер, пасм\n",
       "4     2019-01-01     4  415.163   4.3        2.0      пасм, ветер  ветер, пасм\n",
       "...          ...   ...      ...   ...        ...              ...          ...\n",
       "2923  2023-07-31    19  453.173  17.2       18.0  пасм, 24% дождь        п/обл\n",
       "2924  2023-07-31    20  446.287  17.2       18.0  пасм, 24% дождь        п/обл\n",
       "2925  2023-07-31    21  444.373  15.8       17.0  пасм, 24% дождь        п/обл\n",
       "2926  2023-07-31    22  449.078  15.8       17.0  пасм, 24% дождь        п/обл\n",
       "2927  2023-07-31    23  416.078  15.8       17.0  пасм, 24% дождь        п/обл\n",
       "\n",
       "[40152 rows x 7 columns]"
      ]
     },
     "execution_count": 732,
     "metadata": {},
     "output_type": "execute_result"
    }
   ],
   "source": [
    "test_ds = pd.read_csv('data/test_dataset.csv')\n",
    "train_ds = pd.concat([train_ds, test_ds])\n",
    "train_ds"
   ]
  },
  {
   "cell_type": "code",
   "execution_count": 733,
   "id": "3288c300",
   "metadata": {},
   "outputs": [
    {
     "data": {
      "text/html": [
       "<div>\n",
       "<style scoped>\n",
       "    .dataframe tbody tr th:only-of-type {\n",
       "        vertical-align: middle;\n",
       "    }\n",
       "\n",
       "    .dataframe tbody tr th {\n",
       "        vertical-align: top;\n",
       "    }\n",
       "\n",
       "    .dataframe thead th {\n",
       "        text-align: right;\n",
       "    }\n",
       "</style>\n",
       "<table border=\"1\" class=\"dataframe\">\n",
       "  <thead>\n",
       "    <tr style=\"text-align: right;\">\n",
       "      <th></th>\n",
       "      <th>date</th>\n",
       "      <th>time</th>\n",
       "      <th>target</th>\n",
       "      <th>temp</th>\n",
       "      <th>temp_pred</th>\n",
       "      <th>weather_pred</th>\n",
       "      <th>weather_fact</th>\n",
       "    </tr>\n",
       "  </thead>\n",
       "  <tbody>\n",
       "    <tr>\n",
       "      <th>0</th>\n",
       "      <td>2023-04-01</td>\n",
       "      <td>0</td>\n",
       "      <td>479.282</td>\n",
       "      <td>5.7</td>\n",
       "      <td>5.0</td>\n",
       "      <td>пасм, 58%</td>\n",
       "      <td>пасм, морось</td>\n",
       "    </tr>\n",
       "    <tr>\n",
       "      <th>1</th>\n",
       "      <td>2023-04-01</td>\n",
       "      <td>1</td>\n",
       "      <td>445.182</td>\n",
       "      <td>5.7</td>\n",
       "      <td>5.0</td>\n",
       "      <td>пасм, 58%</td>\n",
       "      <td>пасм, морось</td>\n",
       "    </tr>\n",
       "    <tr>\n",
       "      <th>2</th>\n",
       "      <td>2023-04-01</td>\n",
       "      <td>2</td>\n",
       "      <td>424.225</td>\n",
       "      <td>5.7</td>\n",
       "      <td>5.0</td>\n",
       "      <td>пасм, 58%</td>\n",
       "      <td>пасм, морось</td>\n",
       "    </tr>\n",
       "    <tr>\n",
       "      <th>3</th>\n",
       "      <td>2023-04-01</td>\n",
       "      <td>3</td>\n",
       "      <td>413.866</td>\n",
       "      <td>5.0</td>\n",
       "      <td>4.0</td>\n",
       "      <td>пасм, 71% дождь</td>\n",
       "      <td>пасм, дымка</td>\n",
       "    </tr>\n",
       "    <tr>\n",
       "      <th>4</th>\n",
       "      <td>2023-04-01</td>\n",
       "      <td>4</td>\n",
       "      <td>408.146</td>\n",
       "      <td>5.0</td>\n",
       "      <td>4.0</td>\n",
       "      <td>пасм, 71% дождь</td>\n",
       "      <td>пасм, дымка</td>\n",
       "    </tr>\n",
       "    <tr>\n",
       "      <th>...</th>\n",
       "      <td>...</td>\n",
       "      <td>...</td>\n",
       "      <td>...</td>\n",
       "      <td>...</td>\n",
       "      <td>...</td>\n",
       "      <td>...</td>\n",
       "      <td>...</td>\n",
       "    </tr>\n",
       "    <tr>\n",
       "      <th>2923</th>\n",
       "      <td>2023-07-31</td>\n",
       "      <td>19</td>\n",
       "      <td>453.173</td>\n",
       "      <td>17.2</td>\n",
       "      <td>18.0</td>\n",
       "      <td>пасм, 24% дождь</td>\n",
       "      <td>п/обл</td>\n",
       "    </tr>\n",
       "    <tr>\n",
       "      <th>2924</th>\n",
       "      <td>2023-07-31</td>\n",
       "      <td>20</td>\n",
       "      <td>446.287</td>\n",
       "      <td>17.2</td>\n",
       "      <td>18.0</td>\n",
       "      <td>пасм, 24% дождь</td>\n",
       "      <td>п/обл</td>\n",
       "    </tr>\n",
       "    <tr>\n",
       "      <th>2925</th>\n",
       "      <td>2023-07-31</td>\n",
       "      <td>21</td>\n",
       "      <td>444.373</td>\n",
       "      <td>15.8</td>\n",
       "      <td>17.0</td>\n",
       "      <td>пасм, 24% дождь</td>\n",
       "      <td>п/обл</td>\n",
       "    </tr>\n",
       "    <tr>\n",
       "      <th>2926</th>\n",
       "      <td>2023-07-31</td>\n",
       "      <td>22</td>\n",
       "      <td>449.078</td>\n",
       "      <td>15.8</td>\n",
       "      <td>17.0</td>\n",
       "      <td>пасм, 24% дождь</td>\n",
       "      <td>п/обл</td>\n",
       "    </tr>\n",
       "    <tr>\n",
       "      <th>2927</th>\n",
       "      <td>2023-07-31</td>\n",
       "      <td>23</td>\n",
       "      <td>416.078</td>\n",
       "      <td>15.8</td>\n",
       "      <td>17.0</td>\n",
       "      <td>пасм, 24% дождь</td>\n",
       "      <td>п/обл</td>\n",
       "    </tr>\n",
       "  </tbody>\n",
       "</table>\n",
       "<p>2928 rows × 7 columns</p>\n",
       "</div>"
      ],
      "text/plain": [
       "            date  time   target  temp  temp_pred     weather_pred  \\\n",
       "0     2023-04-01     0  479.282   5.7        5.0        пасм, 58%   \n",
       "1     2023-04-01     1  445.182   5.7        5.0        пасм, 58%   \n",
       "2     2023-04-01     2  424.225   5.7        5.0        пасм, 58%   \n",
       "3     2023-04-01     3  413.866   5.0        4.0  пасм, 71% дождь   \n",
       "4     2023-04-01     4  408.146   5.0        4.0  пасм, 71% дождь   \n",
       "...          ...   ...      ...   ...        ...              ...   \n",
       "2923  2023-07-31    19  453.173  17.2       18.0  пасм, 24% дождь   \n",
       "2924  2023-07-31    20  446.287  17.2       18.0  пасм, 24% дождь   \n",
       "2925  2023-07-31    21  444.373  15.8       17.0  пасм, 24% дождь   \n",
       "2926  2023-07-31    22  449.078  15.8       17.0  пасм, 24% дождь   \n",
       "2927  2023-07-31    23  416.078  15.8       17.0  пасм, 24% дождь   \n",
       "\n",
       "      weather_fact  \n",
       "0     пасм, морось  \n",
       "1     пасм, морось  \n",
       "2     пасм, морось  \n",
       "3      пасм, дымка  \n",
       "4      пасм, дымка  \n",
       "...            ...  \n",
       "2923         п/обл  \n",
       "2924         п/обл  \n",
       "2925         п/обл  \n",
       "2926         п/обл  \n",
       "2927         п/обл  \n",
       "\n",
       "[2928 rows x 7 columns]"
      ]
     },
     "execution_count": 733,
     "metadata": {},
     "output_type": "execute_result"
    }
   ],
   "source": [
    "test_ds"
   ]
  },
  {
   "cell_type": "code",
   "execution_count": 734,
   "id": "16090ac1",
   "metadata": {},
   "outputs": [],
   "source": [
    "train_ds['date'] = pd.to_datetime(train_ds['date'])\n",
    "train_ds['year'] = train_ds['date'].dt.year\n",
    "train_ds['month'] = train_ds['date'].dt.month\n",
    "train_ds['day_of_week'] = train_ds['date'].dt.dayofweek\n",
    "train_ds['day'] = train_ds['date'].dt.day\n",
    "train_ds['day_of_year'] = train_ds['date'].dt.dayofyear"
   ]
  },
  {
   "cell_type": "code",
   "execution_count": 735,
   "id": "42c7f979",
   "metadata": {},
   "outputs": [],
   "source": [
    "# функция формирует колонки 'cloudy', 'rainy', 'windy', 'clear', 'some_number'\n",
    "# в колонках число, которое 0 при отсутсвии упоминания явления в weather_pred или степень упоминания\n",
    "# функция дает в колонках номер первого списка, элемент которого есть в строке плюс 1\n",
    "# списки cloudy_list, rainy_list, windy_list, clear_list можно модифицировать\n",
    "# соответственно, можно экспериментировать с расположением значений в списках\n",
    "# например, сейчас 'дождь', 'снег', 'д+сн' - первая степень  дождя, а 'гроз', 'ливень' - вторая\n",
    "# а можно сделать снег второй, а грозу с ливнем убрать в третью\n",
    "# также сделал отдельный список для \"ясности\", чтобы выделить 'ясно' и 'солнечно'\n",
    "\n",
    "def in_what_list(weather, big_list):\n",
    "    for list_number, small_list in enumerate(big_list):\n",
    "        if any(word in weather for word in small_list):\n",
    "            return list_number+1\n",
    "    return 0\n",
    "\n",
    "def weather_split2(row):\n",
    "    weather = row['weather_pred']\n",
    "    cloudy_list = [['проясн', 'пер.об.', 'п/об'], ['пасм', 'обл']]\n",
    "    rainy_list = [['дождь', 'снег', 'д+сн'], ['гроз', 'ливень']]\n",
    "    windy_list = [['вет'],['штор']]\n",
    "    clear_list = [['проясн'], ['ясно'], ['солнеч']]\n",
    "    numbers = re.findall(r'\\d+', weather)\n",
    "    cloudy = in_what_list(weather, cloudy_list)\n",
    "    rainy = in_what_list(weather, rainy_list)\n",
    "    windy = in_what_list(weather, windy_list)\n",
    "    clear = in_what_list(weather, clear_list)\n",
    "    rain_probability = 0 if len(numbers)==0 else int(numbers[0])\n",
    "    has_rain_probability = int(len(numbers)==0)\n",
    "    return cloudy, rainy, windy, clear, rain_probability, has_rain_probability\n",
    "\n",
    "def fill_weather_columns(df):\n",
    "    df['weather_pred'] = df['weather_pred'].fillna('')\n",
    "    df['cloudy'], df['rainy'], df['windy'], df['clear'], df['rain_probability'], df['has_rain_probability'] = \\\n",
    "                zip(*df.apply(weather_split2, axis=1))\n",
    "    return df\n",
    "\n",
    "train_ds = fill_weather_columns(train_ds)\n",
    "\n"
   ]
  },
  {
   "cell_type": "code",
   "execution_count": 736,
   "id": "68e0243c",
   "metadata": {},
   "outputs": [],
   "source": [
    "def sunrise(df):\n",
    "    latitude = 54.7065\n",
    "    longitude = 20.511\n",
    "\n",
    "    sun = Sun(latitude, longitude)\n",
    "\n",
    "    df['day'] = df.index\n",
    "    df['sunrise'] = ('2019-01-01 00:00:00')\n",
    "    df['sunset'] = ('2019-01-01 00:00:00')\n",
    "\n",
    "    for i in range(len(df_train_orig['day'])):\n",
    "        df['sunrise'][i] = (sun.get_local_sunrise_time(datetime.date(df['day'][i])) \n",
    "                                        - timedelta(hours=1)).strftime('%Y-%m-%dZ%H:%M:%S')\n",
    "        df['sunset'][i] = (sun.get_local_sunset_time(datetime.date(df['day'][i])) \n",
    "                                        - timedelta(hours=1)).strftime('%Y-%m-%dZ%H:%M:%S')\n",
    "    \n",
    "    df = df.drop(['day'], axis= 1)\n",
    "\n",
    "    df['sunset'] = pd.to_datetime(df['sunset'], format='%Y-%m-%dZ%H:%M:%S')\n",
    "    df['sunrise'] = pd.to_datetime(df['sunrise'], format='%Y-%m-%dZ%H:%M:%S')\n",
    "    df['sun_time'] = df['sunset'] - df['sunrise']\n",
    "         \n",
    "    return df"
   ]
  },
  {
   "cell_type": "code",
   "execution_count": 737,
   "id": "fb5383e2",
   "metadata": {},
   "outputs": [
    {
     "name": "stdout",
     "output_type": "stream",
     "text": [
      "<class 'pandas.core.frame.DataFrame'>\n",
      "RangeIndex: 366 entries, 0 to 365\n",
      "Data columns (total 12 columns):\n",
      " #   Column                          Non-Null Count  Dtype  \n",
      "---  ------                          --------------  -----  \n",
      " 0   index                           366 non-null    float64\n",
      " 1   Восход                          366 non-null    object \n",
      " 2   Зенит                           366 non-null    object \n",
      " 3   Закат                           366 non-null    object \n",
      " 4   Долгота дня                     366 non-null    object \n",
      " 5   Unnamed: 4                      366 non-null    object \n",
      " 6   Начало астрономических сумерек  366 non-null    object \n",
      " 7   Начало навигационных сумерек    366 non-null    object \n",
      " 8   Начало гражданских сумерек      366 non-null    object \n",
      " 9   Конец гражданских сумерек       366 non-null    object \n",
      " 10  Конец навигационных сумерек     366 non-null    object \n",
      " 11  Конец астрономических сумерек   366 non-null    object \n",
      "dtypes: float64(1), object(11)\n",
      "memory usage: 34.4+ KB\n"
     ]
    }
   ],
   "source": [
    "daylight_2020 = pd.read_csv('data/daylight_data_2020.csv', sep=';').reset_index()\n",
    "daylight_2020.head(10)\n",
    "daylight_2020.info()"
   ]
  },
  {
   "cell_type": "code",
   "execution_count": 738,
   "id": "bdda03de",
   "metadata": {},
   "outputs": [
    {
     "data": {
      "text/plain": [
       "Timedelta('0 days 10:10:00')"
      ]
     },
     "execution_count": 738,
     "metadata": {},
     "output_type": "execute_result"
    }
   ],
   "source": [
    "def split_hm_time(s):\n",
    "    v = s.split(':')\n",
    "    #return( pd.to_timedelta(int(v[0]), unit='h') + pd.to_timedelta(int(v[1]), unit='m'))\n",
    "    return( int(v[0])*60 + int(v[1]))\n",
    "\n",
    "def split_time(s, units):\n",
    "    v = s.split(':')\n",
    "    return( sum( [ pd.to_timedelta(int(val), unit=units[i]) for i,val in enumerate(v) ], datetime.timedelta() ) )\n",
    "\n",
    "split_time('10:10', 'hm')"
   ]
  },
  {
   "cell_type": "code",
   "execution_count": 739,
   "id": "5f66eca6",
   "metadata": {},
   "outputs": [
    {
     "name": "stdout",
     "output_type": "stream",
     "text": [
      "<class 'pandas.core.frame.DataFrame'>\n",
      "Int64Index: 1665 entries, 0 to 203\n",
      "Data columns (total 14 columns):\n",
      " #   Column                Non-Null Count  Dtype         \n",
      "---  ------                --------------  -----         \n",
      " 0   date                  1665 non-null   datetime64[ns]\n",
      " 1   sunrise               1665 non-null   int64         \n",
      " 2   midday                1665 non-null   int64         \n",
      " 3   sunset                1665 non-null   int64         \n",
      " 4   duration              1665 non-null   object        \n",
      " 5   difference            1665 non-null   object        \n",
      " 6   astro_sunrise         1665 non-null   int64         \n",
      " 7   navigational_sunrise  1665 non-null   int64         \n",
      " 8   civil_sunrise         1665 non-null   int64         \n",
      " 9   civil_sunset          1665 non-null   int64         \n",
      " 10  navigational_sunset   1665 non-null   int64         \n",
      " 11  astro_sunset          1665 non-null   int64         \n",
      " 12  civil_day             1665 non-null   int64         \n",
      " 13  day_duration          1665 non-null   int64         \n",
      "dtypes: datetime64[ns](1), int64(11), object(2)\n",
      "memory usage: 195.1+ KB\n"
     ]
    }
   ],
   "source": [
    "years = [2019, 2020, 2021, 2022, 2023]\n",
    "daylight_column_names = ['date', 'sunrise', 'midday', 'sunset', 'duration', 'difference', \n",
    "                         'astro_sunrise', 'navigational_sunrise', 'civil_sunrise',\n",
    "                         'civil_sunset', 'navigational_sunset', 'astro_sunset']\n",
    "daylight_non_hm_names = ['date', 'duration', 'difference']\n",
    "daylight_hm_names = daylight_column_names.copy()\n",
    "for name in daylight_non_hm_names:\n",
    "    daylight_hm_names.remove(name)\n",
    "daylight_table = []\n",
    "for i, year in enumerate(years):\n",
    "    daylight_table.append(pd.read_csv(f'data/daylight_data_{year}.csv', sep=';').reset_index())\n",
    "    daylight_table[i].columns = daylight_column_names\n",
    "    daylight_table[i]['date'] = daylight_table[i]['date'].apply(lambda x: '{0:04d}-{1:02d}-{2:02d}'.format(year, round( (x % 1)*100), int(x)))\n",
    "    daylight_table[i]['date'] = pd.to_datetime(daylight_table[i]['date'])\n",
    "    #for column in daylight_column_names[1:]:\n",
    "        #daylight_table[i][column] = pd.to_timedelta(daylight_table[i][column])\n",
    "    #daylight_table[i]['sunrise'] = pd.to_timedelta(daylight_table[i]['sunrise'], unit='m')\n",
    "\n",
    "    #daylight_table[i]['sunrise'] = daylight_table[i]['sunrise'].apply(split_hm_time)\n",
    "    for name in daylight_hm_names:\n",
    "        daylight_table[i][name] = daylight_table[i][name].where(daylight_table[i][name]!='—', '0:0').apply(split_hm_time)\n",
    "\n",
    "daylight_df = pd.concat(daylight_table)\n",
    "\n",
    "daylight_df['civil_day'] = daylight_df['civil_sunset'] - daylight_df['civil_sunrise']\n",
    "daylight_df['day_duration'] = daylight_df['sunset'] - daylight_df['sunrise']\n",
    "\n",
    "daylight_df.info()"
   ]
  },
  {
   "cell_type": "code",
   "execution_count": 740,
   "id": "28abcba9",
   "metadata": {},
   "outputs": [
    {
     "data": {
      "text/html": [
       "<div>\n",
       "<style scoped>\n",
       "    .dataframe tbody tr th:only-of-type {\n",
       "        vertical-align: middle;\n",
       "    }\n",
       "\n",
       "    .dataframe tbody tr th {\n",
       "        vertical-align: top;\n",
       "    }\n",
       "\n",
       "    .dataframe thead th {\n",
       "        text-align: right;\n",
       "    }\n",
       "</style>\n",
       "<table border=\"1\" class=\"dataframe\">\n",
       "  <thead>\n",
       "    <tr style=\"text-align: right;\">\n",
       "      <th></th>\n",
       "      <th>date</th>\n",
       "      <th>sunrise</th>\n",
       "      <th>midday</th>\n",
       "      <th>sunset</th>\n",
       "      <th>duration</th>\n",
       "      <th>difference</th>\n",
       "      <th>astro_sunrise</th>\n",
       "      <th>navigational_sunrise</th>\n",
       "      <th>civil_sunrise</th>\n",
       "      <th>civil_sunset</th>\n",
       "      <th>navigational_sunset</th>\n",
       "      <th>astro_sunset</th>\n",
       "      <th>civil_day</th>\n",
       "      <th>day_duration</th>\n",
       "    </tr>\n",
       "  </thead>\n",
       "  <tbody>\n",
       "    <tr>\n",
       "      <th>0</th>\n",
       "      <td>2019-01-01</td>\n",
       "      <td>542</td>\n",
       "      <td>762</td>\n",
       "      <td>982</td>\n",
       "      <td>07:19:58</td>\n",
       "      <td>+1:14</td>\n",
       "      <td>406</td>\n",
       "      <td>450</td>\n",
       "      <td>497</td>\n",
       "      <td>1027</td>\n",
       "      <td>1074</td>\n",
       "      <td>1117</td>\n",
       "      <td>530</td>\n",
       "      <td>440</td>\n",
       "    </tr>\n",
       "    <tr>\n",
       "      <th>1</th>\n",
       "      <td>2019-01-02</td>\n",
       "      <td>542</td>\n",
       "      <td>762</td>\n",
       "      <td>983</td>\n",
       "      <td>07:21:19</td>\n",
       "      <td>+1:21</td>\n",
       "      <td>406</td>\n",
       "      <td>450</td>\n",
       "      <td>497</td>\n",
       "      <td>1028</td>\n",
       "      <td>1074</td>\n",
       "      <td>1118</td>\n",
       "      <td>531</td>\n",
       "      <td>441</td>\n",
       "    </tr>\n",
       "    <tr>\n",
       "      <th>2</th>\n",
       "      <td>2019-01-03</td>\n",
       "      <td>541</td>\n",
       "      <td>763</td>\n",
       "      <td>984</td>\n",
       "      <td>07:22:46</td>\n",
       "      <td>+1:27</td>\n",
       "      <td>406</td>\n",
       "      <td>450</td>\n",
       "      <td>497</td>\n",
       "      <td>1029</td>\n",
       "      <td>1075</td>\n",
       "      <td>1119</td>\n",
       "      <td>532</td>\n",
       "      <td>443</td>\n",
       "    </tr>\n",
       "    <tr>\n",
       "      <th>3</th>\n",
       "      <td>2019-01-04</td>\n",
       "      <td>541</td>\n",
       "      <td>763</td>\n",
       "      <td>985</td>\n",
       "      <td>07:24:21</td>\n",
       "      <td>+1:35</td>\n",
       "      <td>406</td>\n",
       "      <td>450</td>\n",
       "      <td>497</td>\n",
       "      <td>1030</td>\n",
       "      <td>1077</td>\n",
       "      <td>1120</td>\n",
       "      <td>533</td>\n",
       "      <td>444</td>\n",
       "    </tr>\n",
       "    <tr>\n",
       "      <th>4</th>\n",
       "      <td>2019-01-05</td>\n",
       "      <td>541</td>\n",
       "      <td>764</td>\n",
       "      <td>987</td>\n",
       "      <td>07:26:03</td>\n",
       "      <td>+1:42</td>\n",
       "      <td>406</td>\n",
       "      <td>450</td>\n",
       "      <td>497</td>\n",
       "      <td>1031</td>\n",
       "      <td>1078</td>\n",
       "      <td>1121</td>\n",
       "      <td>534</td>\n",
       "      <td>446</td>\n",
       "    </tr>\n",
       "  </tbody>\n",
       "</table>\n",
       "</div>"
      ],
      "text/plain": [
       "        date  sunrise  midday  sunset  duration difference  astro_sunrise  \\\n",
       "0 2019-01-01      542     762     982  07:19:58      +1:14            406   \n",
       "1 2019-01-02      542     762     983  07:21:19      +1:21            406   \n",
       "2 2019-01-03      541     763     984  07:22:46      +1:27            406   \n",
       "3 2019-01-04      541     763     985  07:24:21      +1:35            406   \n",
       "4 2019-01-05      541     764     987  07:26:03      +1:42            406   \n",
       "\n",
       "   navigational_sunrise  civil_sunrise  civil_sunset  navigational_sunset  \\\n",
       "0                   450            497          1027                 1074   \n",
       "1                   450            497          1028                 1074   \n",
       "2                   450            497          1029                 1075   \n",
       "3                   450            497          1030                 1077   \n",
       "4                   450            497          1031                 1078   \n",
       "\n",
       "   astro_sunset  civil_day  day_duration  \n",
       "0          1117        530           440  \n",
       "1          1118        531           441  \n",
       "2          1119        532           443  \n",
       "3          1120        533           444  \n",
       "4          1121        534           446  "
      ]
     },
     "execution_count": 740,
     "metadata": {},
     "output_type": "execute_result"
    }
   ],
   "source": [
    "# все числа даны в минутах от начала суток\n",
    "daylight_df.head()"
   ]
  },
  {
   "cell_type": "code",
   "execution_count": 741,
   "id": "3c22de42",
   "metadata": {},
   "outputs": [],
   "source": [
    "daylight_columns_for_merge = ['date', 'sunrise', 'midday', 'sunset', 'day_duration', 'civil_day']\n",
    "train_ds = train_ds.merge(daylight_df[daylight_columns_for_merge], on='date')"
   ]
  },
  {
   "cell_type": "code",
   "execution_count": 742,
   "id": "6a56f76c",
   "metadata": {},
   "outputs": [
    {
     "data": {
      "text/plain": [
       "Index(['date', 'time', 'target', 'temp', 'temp_pred', 'weather_pred',\n",
       "       'weather_fact', 'year', 'month', 'day_of_week', 'day', 'day_of_year',\n",
       "       'cloudy', 'rainy', 'windy', 'clear', 'rain_probability',\n",
       "       'has_rain_probability', 'sunrise', 'midday', 'sunset', 'day_duration',\n",
       "       'civil_day'],\n",
       "      dtype='object')"
      ]
     },
     "execution_count": 742,
     "metadata": {},
     "output_type": "execute_result"
    }
   ],
   "source": [
    "train_ds.columns"
   ]
  },
  {
   "cell_type": "code",
   "execution_count": 743,
   "id": "cd1eef86",
   "metadata": {},
   "outputs": [
    {
     "data": {
      "text/html": [
       "<div>\n",
       "<style scoped>\n",
       "    .dataframe tbody tr th:only-of-type {\n",
       "        vertical-align: middle;\n",
       "    }\n",
       "\n",
       "    .dataframe tbody tr th {\n",
       "        vertical-align: top;\n",
       "    }\n",
       "\n",
       "    .dataframe thead th {\n",
       "        text-align: right;\n",
       "    }\n",
       "</style>\n",
       "<table border=\"1\" class=\"dataframe\">\n",
       "  <thead>\n",
       "    <tr style=\"text-align: right;\">\n",
       "      <th></th>\n",
       "      <th>date</th>\n",
       "      <th>time</th>\n",
       "      <th>target</th>\n",
       "      <th>temp</th>\n",
       "      <th>temp_pred</th>\n",
       "      <th>weather_pred</th>\n",
       "      <th>weather_fact</th>\n",
       "      <th>year</th>\n",
       "      <th>month</th>\n",
       "      <th>day_of_week</th>\n",
       "      <th>...</th>\n",
       "      <th>rainy</th>\n",
       "      <th>windy</th>\n",
       "      <th>clear</th>\n",
       "      <th>rain_probability</th>\n",
       "      <th>has_rain_probability</th>\n",
       "      <th>sunrise</th>\n",
       "      <th>midday</th>\n",
       "      <th>sunset</th>\n",
       "      <th>day_duration</th>\n",
       "      <th>civil_day</th>\n",
       "    </tr>\n",
       "  </thead>\n",
       "  <tbody>\n",
       "    <tr>\n",
       "      <th>0</th>\n",
       "      <td>2019-01-01</td>\n",
       "      <td>0</td>\n",
       "      <td>481.510</td>\n",
       "      <td>2.9</td>\n",
       "      <td>2.0</td>\n",
       "      <td>пасм, ветер</td>\n",
       "      <td>ветер</td>\n",
       "      <td>2019</td>\n",
       "      <td>1</td>\n",
       "      <td>1</td>\n",
       "      <td>...</td>\n",
       "      <td>0</td>\n",
       "      <td>1</td>\n",
       "      <td>0</td>\n",
       "      <td>0</td>\n",
       "      <td>1</td>\n",
       "      <td>542</td>\n",
       "      <td>762</td>\n",
       "      <td>982</td>\n",
       "      <td>440</td>\n",
       "      <td>530</td>\n",
       "    </tr>\n",
       "    <tr>\n",
       "      <th>1</th>\n",
       "      <td>2019-01-01</td>\n",
       "      <td>1</td>\n",
       "      <td>462.872</td>\n",
       "      <td>2.9</td>\n",
       "      <td>2.0</td>\n",
       "      <td>пасм, ветер</td>\n",
       "      <td>ветер</td>\n",
       "      <td>2019</td>\n",
       "      <td>1</td>\n",
       "      <td>1</td>\n",
       "      <td>...</td>\n",
       "      <td>0</td>\n",
       "      <td>1</td>\n",
       "      <td>0</td>\n",
       "      <td>0</td>\n",
       "      <td>1</td>\n",
       "      <td>542</td>\n",
       "      <td>762</td>\n",
       "      <td>982</td>\n",
       "      <td>440</td>\n",
       "      <td>530</td>\n",
       "    </tr>\n",
       "    <tr>\n",
       "      <th>2</th>\n",
       "      <td>2019-01-01</td>\n",
       "      <td>2</td>\n",
       "      <td>449.718</td>\n",
       "      <td>2.9</td>\n",
       "      <td>2.0</td>\n",
       "      <td>пасм, ветер</td>\n",
       "      <td>ветер</td>\n",
       "      <td>2019</td>\n",
       "      <td>1</td>\n",
       "      <td>1</td>\n",
       "      <td>...</td>\n",
       "      <td>0</td>\n",
       "      <td>1</td>\n",
       "      <td>0</td>\n",
       "      <td>0</td>\n",
       "      <td>1</td>\n",
       "      <td>542</td>\n",
       "      <td>762</td>\n",
       "      <td>982</td>\n",
       "      <td>440</td>\n",
       "      <td>530</td>\n",
       "    </tr>\n",
       "    <tr>\n",
       "      <th>3</th>\n",
       "      <td>2019-01-01</td>\n",
       "      <td>3</td>\n",
       "      <td>430.908</td>\n",
       "      <td>4.3</td>\n",
       "      <td>2.0</td>\n",
       "      <td>пасм, ветер</td>\n",
       "      <td>ветер, пасм</td>\n",
       "      <td>2019</td>\n",
       "      <td>1</td>\n",
       "      <td>1</td>\n",
       "      <td>...</td>\n",
       "      <td>0</td>\n",
       "      <td>1</td>\n",
       "      <td>0</td>\n",
       "      <td>0</td>\n",
       "      <td>1</td>\n",
       "      <td>542</td>\n",
       "      <td>762</td>\n",
       "      <td>982</td>\n",
       "      <td>440</td>\n",
       "      <td>530</td>\n",
       "    </tr>\n",
       "    <tr>\n",
       "      <th>4</th>\n",
       "      <td>2019-01-01</td>\n",
       "      <td>4</td>\n",
       "      <td>415.163</td>\n",
       "      <td>4.3</td>\n",
       "      <td>2.0</td>\n",
       "      <td>пасм, ветер</td>\n",
       "      <td>ветер, пасм</td>\n",
       "      <td>2019</td>\n",
       "      <td>1</td>\n",
       "      <td>1</td>\n",
       "      <td>...</td>\n",
       "      <td>0</td>\n",
       "      <td>1</td>\n",
       "      <td>0</td>\n",
       "      <td>0</td>\n",
       "      <td>1</td>\n",
       "      <td>542</td>\n",
       "      <td>762</td>\n",
       "      <td>982</td>\n",
       "      <td>440</td>\n",
       "      <td>530</td>\n",
       "    </tr>\n",
       "  </tbody>\n",
       "</table>\n",
       "<p>5 rows × 23 columns</p>\n",
       "</div>"
      ],
      "text/plain": [
       "        date  time   target  temp  temp_pred weather_pred weather_fact  year  \\\n",
       "0 2019-01-01     0  481.510   2.9        2.0  пасм, ветер        ветер  2019   \n",
       "1 2019-01-01     1  462.872   2.9        2.0  пасм, ветер        ветер  2019   \n",
       "2 2019-01-01     2  449.718   2.9        2.0  пасм, ветер        ветер  2019   \n",
       "3 2019-01-01     3  430.908   4.3        2.0  пасм, ветер  ветер, пасм  2019   \n",
       "4 2019-01-01     4  415.163   4.3        2.0  пасм, ветер  ветер, пасм  2019   \n",
       "\n",
       "   month  day_of_week  ...  rainy  windy  clear  rain_probability  \\\n",
       "0      1            1  ...      0      1      0                 0   \n",
       "1      1            1  ...      0      1      0                 0   \n",
       "2      1            1  ...      0      1      0                 0   \n",
       "3      1            1  ...      0      1      0                 0   \n",
       "4      1            1  ...      0      1      0                 0   \n",
       "\n",
       "   has_rain_probability  sunrise  midday  sunset  day_duration  civil_day  \n",
       "0                     1      542     762     982           440        530  \n",
       "1                     1      542     762     982           440        530  \n",
       "2                     1      542     762     982           440        530  \n",
       "3                     1      542     762     982           440        530  \n",
       "4                     1      542     762     982           440        530  \n",
       "\n",
       "[5 rows x 23 columns]"
      ]
     },
     "execution_count": 743,
     "metadata": {},
     "output_type": "execute_result"
    }
   ],
   "source": [
    "train_ds.head()"
   ]
  },
  {
   "cell_type": "code",
   "execution_count": 744,
   "id": "3005553a",
   "metadata": {},
   "outputs": [],
   "source": [
    "df_holidays = pd.read_csv('data/holidays.csv')\n",
    "df_holidays['date'] = pd.to_datetime(df_holidays['date'])"
   ]
  },
  {
   "cell_type": "code",
   "execution_count": 745,
   "id": "03029389",
   "metadata": {},
   "outputs": [],
   "source": [
    "# Assuming df_holidays and train_ds are your dataframes\n",
    "train_ds = pd.merge(train_ds, df_holidays, on='date', how='left')\n",
    "\n",
    "# Fill NaN values with 0\n",
    "train_ds['holidays'].fillna(0, inplace=True)\n",
    "train_ds['preholidays'].fillna(0, inplace=True)\n",
    "\n",
    "# Convert to int\n",
    "train_ds['holidays'] = train_ds['holidays'].astype(int)\n",
    "train_ds['preholidays'] = train_ds['preholidays'].astype(int)"
   ]
  },
  {
   "cell_type": "code",
   "execution_count": 746,
   "id": "75da73d2",
   "metadata": {},
   "outputs": [
    {
     "data": {
      "text/html": [
       "<div>\n",
       "<style scoped>\n",
       "    .dataframe tbody tr th:only-of-type {\n",
       "        vertical-align: middle;\n",
       "    }\n",
       "\n",
       "    .dataframe tbody tr th {\n",
       "        vertical-align: top;\n",
       "    }\n",
       "\n",
       "    .dataframe thead th {\n",
       "        text-align: right;\n",
       "    }\n",
       "</style>\n",
       "<table border=\"1\" class=\"dataframe\">\n",
       "  <thead>\n",
       "    <tr style=\"text-align: right;\">\n",
       "      <th></th>\n",
       "      <th>date</th>\n",
       "      <th>time</th>\n",
       "      <th>target</th>\n",
       "      <th>temp</th>\n",
       "      <th>temp_pred</th>\n",
       "      <th>weather_pred</th>\n",
       "      <th>weather_fact</th>\n",
       "      <th>year</th>\n",
       "      <th>month</th>\n",
       "      <th>day_of_week</th>\n",
       "      <th>...</th>\n",
       "      <th>clear</th>\n",
       "      <th>rain_probability</th>\n",
       "      <th>has_rain_probability</th>\n",
       "      <th>sunrise</th>\n",
       "      <th>midday</th>\n",
       "      <th>sunset</th>\n",
       "      <th>day_duration</th>\n",
       "      <th>civil_day</th>\n",
       "      <th>holidays</th>\n",
       "      <th>preholidays</th>\n",
       "    </tr>\n",
       "  </thead>\n",
       "  <tbody>\n",
       "    <tr>\n",
       "      <th>0</th>\n",
       "      <td>2019-01-01</td>\n",
       "      <td>0</td>\n",
       "      <td>481.510</td>\n",
       "      <td>2.9</td>\n",
       "      <td>2.0</td>\n",
       "      <td>пасм, ветер</td>\n",
       "      <td>ветер</td>\n",
       "      <td>2019</td>\n",
       "      <td>1</td>\n",
       "      <td>1</td>\n",
       "      <td>...</td>\n",
       "      <td>0</td>\n",
       "      <td>0</td>\n",
       "      <td>1</td>\n",
       "      <td>542</td>\n",
       "      <td>762</td>\n",
       "      <td>982</td>\n",
       "      <td>440</td>\n",
       "      <td>530</td>\n",
       "      <td>0</td>\n",
       "      <td>0</td>\n",
       "    </tr>\n",
       "    <tr>\n",
       "      <th>1</th>\n",
       "      <td>2019-01-01</td>\n",
       "      <td>1</td>\n",
       "      <td>462.872</td>\n",
       "      <td>2.9</td>\n",
       "      <td>2.0</td>\n",
       "      <td>пасм, ветер</td>\n",
       "      <td>ветер</td>\n",
       "      <td>2019</td>\n",
       "      <td>1</td>\n",
       "      <td>1</td>\n",
       "      <td>...</td>\n",
       "      <td>0</td>\n",
       "      <td>0</td>\n",
       "      <td>1</td>\n",
       "      <td>542</td>\n",
       "      <td>762</td>\n",
       "      <td>982</td>\n",
       "      <td>440</td>\n",
       "      <td>530</td>\n",
       "      <td>0</td>\n",
       "      <td>0</td>\n",
       "    </tr>\n",
       "    <tr>\n",
       "      <th>2</th>\n",
       "      <td>2019-01-01</td>\n",
       "      <td>2</td>\n",
       "      <td>449.718</td>\n",
       "      <td>2.9</td>\n",
       "      <td>2.0</td>\n",
       "      <td>пасм, ветер</td>\n",
       "      <td>ветер</td>\n",
       "      <td>2019</td>\n",
       "      <td>1</td>\n",
       "      <td>1</td>\n",
       "      <td>...</td>\n",
       "      <td>0</td>\n",
       "      <td>0</td>\n",
       "      <td>1</td>\n",
       "      <td>542</td>\n",
       "      <td>762</td>\n",
       "      <td>982</td>\n",
       "      <td>440</td>\n",
       "      <td>530</td>\n",
       "      <td>0</td>\n",
       "      <td>0</td>\n",
       "    </tr>\n",
       "    <tr>\n",
       "      <th>3</th>\n",
       "      <td>2019-01-01</td>\n",
       "      <td>3</td>\n",
       "      <td>430.908</td>\n",
       "      <td>4.3</td>\n",
       "      <td>2.0</td>\n",
       "      <td>пасм, ветер</td>\n",
       "      <td>ветер, пасм</td>\n",
       "      <td>2019</td>\n",
       "      <td>1</td>\n",
       "      <td>1</td>\n",
       "      <td>...</td>\n",
       "      <td>0</td>\n",
       "      <td>0</td>\n",
       "      <td>1</td>\n",
       "      <td>542</td>\n",
       "      <td>762</td>\n",
       "      <td>982</td>\n",
       "      <td>440</td>\n",
       "      <td>530</td>\n",
       "      <td>0</td>\n",
       "      <td>0</td>\n",
       "    </tr>\n",
       "    <tr>\n",
       "      <th>4</th>\n",
       "      <td>2019-01-01</td>\n",
       "      <td>4</td>\n",
       "      <td>415.163</td>\n",
       "      <td>4.3</td>\n",
       "      <td>2.0</td>\n",
       "      <td>пасм, ветер</td>\n",
       "      <td>ветер, пасм</td>\n",
       "      <td>2019</td>\n",
       "      <td>1</td>\n",
       "      <td>1</td>\n",
       "      <td>...</td>\n",
       "      <td>0</td>\n",
       "      <td>0</td>\n",
       "      <td>1</td>\n",
       "      <td>542</td>\n",
       "      <td>762</td>\n",
       "      <td>982</td>\n",
       "      <td>440</td>\n",
       "      <td>530</td>\n",
       "      <td>0</td>\n",
       "      <td>0</td>\n",
       "    </tr>\n",
       "  </tbody>\n",
       "</table>\n",
       "<p>5 rows × 25 columns</p>\n",
       "</div>"
      ],
      "text/plain": [
       "        date  time   target  temp  temp_pred weather_pred weather_fact  year  \\\n",
       "0 2019-01-01     0  481.510   2.9        2.0  пасм, ветер        ветер  2019   \n",
       "1 2019-01-01     1  462.872   2.9        2.0  пасм, ветер        ветер  2019   \n",
       "2 2019-01-01     2  449.718   2.9        2.0  пасм, ветер        ветер  2019   \n",
       "3 2019-01-01     3  430.908   4.3        2.0  пасм, ветер  ветер, пасм  2019   \n",
       "4 2019-01-01     4  415.163   4.3        2.0  пасм, ветер  ветер, пасм  2019   \n",
       "\n",
       "   month  day_of_week  ...  clear  rain_probability  has_rain_probability  \\\n",
       "0      1            1  ...      0                 0                     1   \n",
       "1      1            1  ...      0                 0                     1   \n",
       "2      1            1  ...      0                 0                     1   \n",
       "3      1            1  ...      0                 0                     1   \n",
       "4      1            1  ...      0                 0                     1   \n",
       "\n",
       "   sunrise  midday  sunset  day_duration  civil_day  holidays  preholidays  \n",
       "0      542     762     982           440        530         0            0  \n",
       "1      542     762     982           440        530         0            0  \n",
       "2      542     762     982           440        530         0            0  \n",
       "3      542     762     982           440        530         0            0  \n",
       "4      542     762     982           440        530         0            0  \n",
       "\n",
       "[5 rows x 25 columns]"
      ]
     },
     "execution_count": 746,
     "metadata": {},
     "output_type": "execute_result"
    }
   ],
   "source": [
    "train_ds.head()"
   ]
  },
  {
   "cell_type": "code",
   "execution_count": 747,
   "id": "91cfdcd1",
   "metadata": {},
   "outputs": [],
   "source": [
    "# создаем столбец 'temp_last_day'\n",
    "train_ds['temp_last_day'] = train_ds['temp'].shift(24)\n",
    "\n",
    "# заполняем пропущенные значения в 'temp_last_day'\n",
    "train_ds['temp_last_day'].fillna(method='bfill', inplace=True)\n",
    "\n",
    "# создаем столбцы с временными лагами для 'target'\n",
    "lags = [24, 48, 72, 7*24, 14*24]\n",
    "for lag in lags:\n",
    "    train_ds[f'target_lag_{lag}'] = train_ds['target'].shift(lag)\n",
    "\n",
    "# заполняем пропущенные значения в столбцах с лагами\n",
    "for lag in lags:\n",
    "    train_ds[f'target_lag_{lag}'].fillna(0, inplace=True)"
   ]
  },
  {
   "cell_type": "code",
   "execution_count": 748,
   "id": "eb89990e",
   "metadata": {},
   "outputs": [
    {
     "name": "stdout",
     "output_type": "stream",
     "text": [
      "42816\n",
      "42816\n",
      "<class 'pandas.core.frame.DataFrame'>\n",
      "Int64Index: 42816 entries, 0 to 42815\n",
      "Data columns (total 31 columns):\n",
      " #   Column                Non-Null Count  Dtype         \n",
      "---  ------                --------------  -----         \n",
      " 0   date                  42816 non-null  datetime64[ns]\n",
      " 1   time                  42816 non-null  int64         \n",
      " 2   target                42816 non-null  float64       \n",
      " 3   temp                  42816 non-null  float64       \n",
      " 4   temp_pred             42704 non-null  float64       \n",
      " 5   weather_pred          42816 non-null  object        \n",
      " 6   weather_fact          42815 non-null  object        \n",
      " 7   year                  42816 non-null  int64         \n",
      " 8   month                 42816 non-null  int64         \n",
      " 9   day_of_week           42816 non-null  int64         \n",
      " 10  day                   42816 non-null  int64         \n",
      " 11  day_of_year           42816 non-null  int64         \n",
      " 12  cloudy                42816 non-null  int64         \n",
      " 13  rainy                 42816 non-null  int64         \n",
      " 14  windy                 42816 non-null  int64         \n",
      " 15  clear                 42816 non-null  int64         \n",
      " 16  rain_probability      42816 non-null  int64         \n",
      " 17  has_rain_probability  42816 non-null  int64         \n",
      " 18  sunrise               42816 non-null  int64         \n",
      " 19  midday                42816 non-null  int64         \n",
      " 20  sunset                42816 non-null  int64         \n",
      " 21  day_duration          42816 non-null  int64         \n",
      " 22  civil_day             42816 non-null  int64         \n",
      " 23  holidays              42816 non-null  int32         \n",
      " 24  preholidays           42816 non-null  int32         \n",
      " 25  temp_last_day         42816 non-null  float64       \n",
      " 26  target_lag_24         42816 non-null  float64       \n",
      " 27  target_lag_48         42816 non-null  float64       \n",
      " 28  target_lag_72         42816 non-null  float64       \n",
      " 29  target_lag_168        42816 non-null  float64       \n",
      " 30  target_lag_336        42816 non-null  float64       \n",
      "dtypes: datetime64[ns](1), float64(9), int32(2), int64(17), object(2)\n",
      "memory usage: 10.1+ MB\n"
     ]
    }
   ],
   "source": [
    "# создаем столбец 'temp_last_day'\n",
    "#train_ds['avg_temp_last_day'] = train_ds.groupby(by='date')['temp_pred'].transform('mean')\n",
    "#train_ds['max_temp_last_day'] = train_ds.groupby(by='date')['temp_pred'].transform('max')\n",
    "#train_ds['min_temp_last_day'] = train_ds.groupby(by='date')['temp_pred'].transform('min')\n",
    "#df.groupby('dummy')['returns'].agg(Mean='mean', Sum='sum')\n",
    "print(len(train_ds))\n",
    "#date_temp = train_ds.groupby(by='date')['temp'].agg(avg_temp_last_day='mean', max_temp_last_day='max', min_temp_last_day='min').shift(1)\n",
    "date_temp = train_ds.groupby(by='date')['temp'].agg(max_temp_last_day='max', min_temp_last_day='min').shift(1)\n",
    "#train_ds = train_ds.merge(date_temp, on='date')[train_ds['date']>'2019-01-01']\n",
    "print(len(train_ds))\n",
    "train_ds.info()"
   ]
  },
  {
   "cell_type": "code",
   "execution_count": 749,
   "id": "d3e41dd3",
   "metadata": {},
   "outputs": [],
   "source": [
    "def add_vvp(dataframe, col_date ='date', file_source = 'data/VVP.csv'):\n",
    "    \"\"\"\n",
    "    передаем датафрейм и название колонки с датой, к которой идет привязка ВВП\n",
    "    формат колонки с датой должен быть datetime64 и с часами\n",
    "    \"\"\"\n",
    "    # читаем файл с динамикой ВВП\n",
    "    vvp = pd.read_csv(file_source)\n",
    "    # преобразуем дату файла-источника в формат datetime64 и дропнем один столбик\n",
    "    vvp['date'] = pd.to_datetime(vvp['date'], format ='%Y-%m-%d %H:%M:%S')\n",
    "    vvp.drop('for_month',axis=1,inplace=True) \n",
    "    # соединяем основной фрейм и ВВП по дате объявления показтеля ВВП\n",
    "    result = pd.merge(dataframe,vvp,how ='left', on='date')\n",
    "    # считаем, что пока нет новостей, то берем старые данные\n",
    "    result['VVP_perc'].fillna(method = 'ffill',inplace=True)\n",
    "    # для начала датасета берем показатель ВВП из 2018 года вручную\n",
    "    result['VVP_perc'].fillna(value = vvp['VVP_perc'].iloc[-1]\n",
    "                              ,inplace=True  )\n",
    "    # возращаем новый датасет \n",
    "    return result"
   ]
  },
  {
   "cell_type": "code",
   "execution_count": 750,
   "id": "fe4d46e1",
   "metadata": {},
   "outputs": [],
   "source": [
    "# пример работы\n",
    "#data = pd.read_csv('data/train_dataset.csv')\n",
    "#data['date'] = pd.to_datetime(data['date'], format = '%Y-%m-%d' )\n",
    "# соединяем дату и часы в один datatime \n",
    "def date_plus_hours_to_index(data):\n",
    "    data = data.copy()\n",
    "    data['date'] = data['date'] + pd.to_timedelta(data['time'] , 'H')\n",
    "    data = data.set_index('date')\n",
    "    return data\n",
    "# применяем функцию добавления ВВП\n",
    "train_ds = add_vvp(train_ds,'date')"
   ]
  },
  {
   "cell_type": "code",
   "execution_count": 751,
   "id": "f75b3ab7",
   "metadata": {},
   "outputs": [
    {
     "data": {
      "text/html": [
       "<div>\n",
       "<style scoped>\n",
       "    .dataframe tbody tr th:only-of-type {\n",
       "        vertical-align: middle;\n",
       "    }\n",
       "\n",
       "    .dataframe tbody tr th {\n",
       "        vertical-align: top;\n",
       "    }\n",
       "\n",
       "    .dataframe thead th {\n",
       "        text-align: right;\n",
       "    }\n",
       "</style>\n",
       "<table border=\"1\" class=\"dataframe\">\n",
       "  <thead>\n",
       "    <tr style=\"text-align: right;\">\n",
       "      <th></th>\n",
       "      <th>date_tw</th>\n",
       "      <th>P</th>\n",
       "      <th>U</th>\n",
       "      <th>WW</th>\n",
       "      <th>Td</th>\n",
       "      <th>N</th>\n",
       "      <th>S</th>\n",
       "      <th>W</th>\n",
       "      <th>E</th>\n",
       "    </tr>\n",
       "  </thead>\n",
       "  <tbody>\n",
       "    <tr>\n",
       "      <th>0</th>\n",
       "      <td>NaT</td>\n",
       "      <td>NaN</td>\n",
       "      <td>NaN</td>\n",
       "      <td>NaN</td>\n",
       "      <td>NaN</td>\n",
       "      <td>NaN</td>\n",
       "      <td>NaN</td>\n",
       "      <td>NaN</td>\n",
       "      <td>NaN</td>\n",
       "    </tr>\n",
       "    <tr>\n",
       "      <th>1</th>\n",
       "      <td>NaT</td>\n",
       "      <td>NaN</td>\n",
       "      <td>NaN</td>\n",
       "      <td>NaN</td>\n",
       "      <td>NaN</td>\n",
       "      <td>NaN</td>\n",
       "      <td>NaN</td>\n",
       "      <td>NaN</td>\n",
       "      <td>NaN</td>\n",
       "    </tr>\n",
       "    <tr>\n",
       "      <th>2</th>\n",
       "      <td>NaT</td>\n",
       "      <td>NaN</td>\n",
       "      <td>NaN</td>\n",
       "      <td>NaN</td>\n",
       "      <td>NaN</td>\n",
       "      <td>NaN</td>\n",
       "      <td>NaN</td>\n",
       "      <td>NaN</td>\n",
       "      <td>NaN</td>\n",
       "    </tr>\n",
       "    <tr>\n",
       "      <th>3</th>\n",
       "      <td>NaT</td>\n",
       "      <td>NaN</td>\n",
       "      <td>NaN</td>\n",
       "      <td>NaN</td>\n",
       "      <td>NaN</td>\n",
       "      <td>NaN</td>\n",
       "      <td>NaN</td>\n",
       "      <td>NaN</td>\n",
       "      <td>NaN</td>\n",
       "    </tr>\n",
       "    <tr>\n",
       "      <th>4</th>\n",
       "      <td>NaT</td>\n",
       "      <td>NaN</td>\n",
       "      <td>NaN</td>\n",
       "      <td>NaN</td>\n",
       "      <td>NaN</td>\n",
       "      <td>NaN</td>\n",
       "      <td>NaN</td>\n",
       "      <td>NaN</td>\n",
       "      <td>NaN</td>\n",
       "    </tr>\n",
       "    <tr>\n",
       "      <th>...</th>\n",
       "      <td>...</td>\n",
       "      <td>...</td>\n",
       "      <td>...</td>\n",
       "      <td>...</td>\n",
       "      <td>...</td>\n",
       "      <td>...</td>\n",
       "      <td>...</td>\n",
       "      <td>...</td>\n",
       "      <td>...</td>\n",
       "    </tr>\n",
       "    <tr>\n",
       "      <th>82146</th>\n",
       "      <td>2023-09-29 21:30:00</td>\n",
       "      <td>761.2</td>\n",
       "      <td>78.0</td>\n",
       "      <td>0.0</td>\n",
       "      <td>15.0</td>\n",
       "      <td>0.0</td>\n",
       "      <td>0.5</td>\n",
       "      <td>1.0</td>\n",
       "      <td>0.0</td>\n",
       "    </tr>\n",
       "    <tr>\n",
       "      <th>82147</th>\n",
       "      <td>2023-09-29 22:00:00</td>\n",
       "      <td>761.2</td>\n",
       "      <td>88.0</td>\n",
       "      <td>0.0</td>\n",
       "      <td>16.0</td>\n",
       "      <td>0.0</td>\n",
       "      <td>0.5</td>\n",
       "      <td>1.0</td>\n",
       "      <td>0.0</td>\n",
       "    </tr>\n",
       "    <tr>\n",
       "      <th>82148</th>\n",
       "      <td>2023-09-29 22:30:00</td>\n",
       "      <td>761.2</td>\n",
       "      <td>88.0</td>\n",
       "      <td>2.0</td>\n",
       "      <td>16.0</td>\n",
       "      <td>0.0</td>\n",
       "      <td>1.0</td>\n",
       "      <td>0.0</td>\n",
       "      <td>0.0</td>\n",
       "    </tr>\n",
       "    <tr>\n",
       "      <th>82149</th>\n",
       "      <td>2023-09-29 23:00:00</td>\n",
       "      <td>761.2</td>\n",
       "      <td>88.0</td>\n",
       "      <td>2.0</td>\n",
       "      <td>16.0</td>\n",
       "      <td>0.0</td>\n",
       "      <td>1.0</td>\n",
       "      <td>0.0</td>\n",
       "      <td>0.0</td>\n",
       "    </tr>\n",
       "    <tr>\n",
       "      <th>82150</th>\n",
       "      <td>2023-09-29 23:30:00</td>\n",
       "      <td>761.2</td>\n",
       "      <td>88.0</td>\n",
       "      <td>2.0</td>\n",
       "      <td>16.0</td>\n",
       "      <td>0.0</td>\n",
       "      <td>1.0</td>\n",
       "      <td>0.0</td>\n",
       "      <td>0.0</td>\n",
       "    </tr>\n",
       "  </tbody>\n",
       "</table>\n",
       "<p>82151 rows × 9 columns</p>\n",
       "</div>"
      ],
      "text/plain": [
       "                  date_tw      P     U   WW    Td    N    S    W    E\n",
       "0                     NaT    NaN   NaN  NaN   NaN  NaN  NaN  NaN  NaN\n",
       "1                     NaT    NaN   NaN  NaN   NaN  NaN  NaN  NaN  NaN\n",
       "2                     NaT    NaN   NaN  NaN   NaN  NaN  NaN  NaN  NaN\n",
       "3                     NaT    NaN   NaN  NaN   NaN  NaN  NaN  NaN  NaN\n",
       "4                     NaT    NaN   NaN  NaN   NaN  NaN  NaN  NaN  NaN\n",
       "...                   ...    ...   ...  ...   ...  ...  ...  ...  ...\n",
       "82146 2023-09-29 21:30:00  761.2  78.0  0.0  15.0  0.0  0.5  1.0  0.0\n",
       "82147 2023-09-29 22:00:00  761.2  88.0  0.0  16.0  0.0  0.5  1.0  0.0\n",
       "82148 2023-09-29 22:30:00  761.2  88.0  2.0  16.0  0.0  1.0  0.0  0.0\n",
       "82149 2023-09-29 23:00:00  761.2  88.0  2.0  16.0  0.0  1.0  0.0  0.0\n",
       "82150 2023-09-29 23:30:00  761.2  88.0  2.0  16.0  0.0  1.0  0.0  0.0\n",
       "\n",
       "[82151 rows x 9 columns]"
      ]
     },
     "execution_count": 751,
     "metadata": {},
     "output_type": "execute_result"
    }
   ],
   "source": [
    "df_true_weather"
   ]
  },
  {
   "cell_type": "code",
   "execution_count": 752,
   "id": "d52730e2",
   "metadata": {},
   "outputs": [],
   "source": [
    "def true_weather_WW_replace(ww):\n",
    "    if ww=='нет осадков':\n",
    "        return 0\n",
    "    elif ww=='слабый дождь':\n",
    "        return 1\n",
    "    elif (ww=='сильный дождь') or (ww=='снег'):\n",
    "        return 2\n",
    "    else:\n",
    "        return 3\n",
    "#df_true_weather['WW'].unique()"
   ]
  },
  {
   "cell_type": "code",
   "execution_count": 753,
   "id": "2ef58531",
   "metadata": {},
   "outputs": [],
   "source": [
    "def row_plus_hours_to_index(row):\n",
    "    return row['date'] + pd.to_timedelta(row['time'] , 'H')\n",
    "\n",
    "# Функция для сдвига на суткм (в скаченном датасете разбивка по 30 мин, по этому timeshift=48)\n",
    "def shift_features_fact(df, timeshift=48):\n",
    "    list_fact_columns=list([df.columns])\n",
    "    new_df = df.copy()\n",
    "    for column in list_fact_columns:\n",
    "        new_df[column] = new_df[column].shift(timeshift)\n",
    "\n",
    "    return new_df\n",
    "\n",
    "df_true_weather = pd.read_csv('data/preprocessing_loaded_table.csv')\n",
    "df_true_weather['WW'] = df_true_weather['WW'].apply(true_weather_WW_replace)\n",
    "df_true_weather['date'] = pd.to_datetime(df_true_weather['date'])\n",
    "df_true_weather = df_true_weather.rename(columns={'date':'date_tw'})\n",
    "df_true_weather = shift_features_fact(df_true_weather)\n",
    "train_ds['date_hours'] = train_ds.apply(row_plus_hours_to_index, axis=1)\n",
    "train_ds = train_ds.merge(df_true_weather, left_on='date_hours', right_on='date_tw')\n",
    "train_ds = train_ds.drop(['date_hours', 'date_tw'], axis=1)"
   ]
  },
  {
   "cell_type": "code",
   "execution_count": 754,
   "id": "a939b60f",
   "metadata": {},
   "outputs": [
    {
     "data": {
      "text/plain": [
       "Index(['date', 'time', 'target', 'temp', 'temp_pred', 'weather_pred',\n",
       "       'weather_fact', 'year', 'month', 'day_of_week', 'day', 'day_of_year',\n",
       "       'cloudy', 'rainy', 'windy', 'clear', 'rain_probability',\n",
       "       'has_rain_probability', 'sunrise', 'midday', 'sunset', 'day_duration',\n",
       "       'civil_day', 'holidays', 'preholidays', 'temp_last_day',\n",
       "       'target_lag_24', 'target_lag_48', 'target_lag_72', 'target_lag_168',\n",
       "       'target_lag_336', 'VVP_perc', 'P', 'U', 'WW', 'Td', 'N', 'S', 'W', 'E'],\n",
       "      dtype='object')"
      ]
     },
     "execution_count": 754,
     "metadata": {},
     "output_type": "execute_result"
    }
   ],
   "source": [
    "train_ds.columns"
   ]
  },
  {
   "cell_type": "code",
   "execution_count": 755,
   "id": "71f5a2ab",
   "metadata": {},
   "outputs": [
    {
     "data": {
      "text/html": [
       "<div>\n",
       "<style scoped>\n",
       "    .dataframe tbody tr th:only-of-type {\n",
       "        vertical-align: middle;\n",
       "    }\n",
       "\n",
       "    .dataframe tbody tr th {\n",
       "        vertical-align: top;\n",
       "    }\n",
       "\n",
       "    .dataframe thead th {\n",
       "        text-align: right;\n",
       "    }\n",
       "</style>\n",
       "<table border=\"1\" class=\"dataframe\">\n",
       "  <thead>\n",
       "    <tr style=\"text-align: right;\">\n",
       "      <th></th>\n",
       "      <th>date_tw</th>\n",
       "      <th>P</th>\n",
       "      <th>U</th>\n",
       "      <th>WW</th>\n",
       "      <th>Td</th>\n",
       "      <th>N</th>\n",
       "      <th>S</th>\n",
       "      <th>W</th>\n",
       "      <th>E</th>\n",
       "    </tr>\n",
       "  </thead>\n",
       "  <tbody>\n",
       "    <tr>\n",
       "      <th>0</th>\n",
       "      <td>NaT</td>\n",
       "      <td>NaN</td>\n",
       "      <td>NaN</td>\n",
       "      <td>NaN</td>\n",
       "      <td>NaN</td>\n",
       "      <td>NaN</td>\n",
       "      <td>NaN</td>\n",
       "      <td>NaN</td>\n",
       "      <td>NaN</td>\n",
       "    </tr>\n",
       "    <tr>\n",
       "      <th>1</th>\n",
       "      <td>NaT</td>\n",
       "      <td>NaN</td>\n",
       "      <td>NaN</td>\n",
       "      <td>NaN</td>\n",
       "      <td>NaN</td>\n",
       "      <td>NaN</td>\n",
       "      <td>NaN</td>\n",
       "      <td>NaN</td>\n",
       "      <td>NaN</td>\n",
       "    </tr>\n",
       "    <tr>\n",
       "      <th>2</th>\n",
       "      <td>NaT</td>\n",
       "      <td>NaN</td>\n",
       "      <td>NaN</td>\n",
       "      <td>NaN</td>\n",
       "      <td>NaN</td>\n",
       "      <td>NaN</td>\n",
       "      <td>NaN</td>\n",
       "      <td>NaN</td>\n",
       "      <td>NaN</td>\n",
       "    </tr>\n",
       "    <tr>\n",
       "      <th>3</th>\n",
       "      <td>NaT</td>\n",
       "      <td>NaN</td>\n",
       "      <td>NaN</td>\n",
       "      <td>NaN</td>\n",
       "      <td>NaN</td>\n",
       "      <td>NaN</td>\n",
       "      <td>NaN</td>\n",
       "      <td>NaN</td>\n",
       "      <td>NaN</td>\n",
       "    </tr>\n",
       "    <tr>\n",
       "      <th>4</th>\n",
       "      <td>NaT</td>\n",
       "      <td>NaN</td>\n",
       "      <td>NaN</td>\n",
       "      <td>NaN</td>\n",
       "      <td>NaN</td>\n",
       "      <td>NaN</td>\n",
       "      <td>NaN</td>\n",
       "      <td>NaN</td>\n",
       "      <td>NaN</td>\n",
       "    </tr>\n",
       "    <tr>\n",
       "      <th>...</th>\n",
       "      <td>...</td>\n",
       "      <td>...</td>\n",
       "      <td>...</td>\n",
       "      <td>...</td>\n",
       "      <td>...</td>\n",
       "      <td>...</td>\n",
       "      <td>...</td>\n",
       "      <td>...</td>\n",
       "      <td>...</td>\n",
       "    </tr>\n",
       "    <tr>\n",
       "      <th>82146</th>\n",
       "      <td>2023-09-29 21:30:00</td>\n",
       "      <td>761.2</td>\n",
       "      <td>78.0</td>\n",
       "      <td>0.0</td>\n",
       "      <td>15.0</td>\n",
       "      <td>0.0</td>\n",
       "      <td>0.5</td>\n",
       "      <td>1.0</td>\n",
       "      <td>0.0</td>\n",
       "    </tr>\n",
       "    <tr>\n",
       "      <th>82147</th>\n",
       "      <td>2023-09-29 22:00:00</td>\n",
       "      <td>761.2</td>\n",
       "      <td>88.0</td>\n",
       "      <td>0.0</td>\n",
       "      <td>16.0</td>\n",
       "      <td>0.0</td>\n",
       "      <td>0.5</td>\n",
       "      <td>1.0</td>\n",
       "      <td>0.0</td>\n",
       "    </tr>\n",
       "    <tr>\n",
       "      <th>82148</th>\n",
       "      <td>2023-09-29 22:30:00</td>\n",
       "      <td>761.2</td>\n",
       "      <td>88.0</td>\n",
       "      <td>2.0</td>\n",
       "      <td>16.0</td>\n",
       "      <td>0.0</td>\n",
       "      <td>1.0</td>\n",
       "      <td>0.0</td>\n",
       "      <td>0.0</td>\n",
       "    </tr>\n",
       "    <tr>\n",
       "      <th>82149</th>\n",
       "      <td>2023-09-29 23:00:00</td>\n",
       "      <td>761.2</td>\n",
       "      <td>88.0</td>\n",
       "      <td>2.0</td>\n",
       "      <td>16.0</td>\n",
       "      <td>0.0</td>\n",
       "      <td>1.0</td>\n",
       "      <td>0.0</td>\n",
       "      <td>0.0</td>\n",
       "    </tr>\n",
       "    <tr>\n",
       "      <th>82150</th>\n",
       "      <td>2023-09-29 23:30:00</td>\n",
       "      <td>761.2</td>\n",
       "      <td>88.0</td>\n",
       "      <td>2.0</td>\n",
       "      <td>16.0</td>\n",
       "      <td>0.0</td>\n",
       "      <td>1.0</td>\n",
       "      <td>0.0</td>\n",
       "      <td>0.0</td>\n",
       "    </tr>\n",
       "  </tbody>\n",
       "</table>\n",
       "<p>82151 rows × 9 columns</p>\n",
       "</div>"
      ],
      "text/plain": [
       "                  date_tw      P     U   WW    Td    N    S    W    E\n",
       "0                     NaT    NaN   NaN  NaN   NaN  NaN  NaN  NaN  NaN\n",
       "1                     NaT    NaN   NaN  NaN   NaN  NaN  NaN  NaN  NaN\n",
       "2                     NaT    NaN   NaN  NaN   NaN  NaN  NaN  NaN  NaN\n",
       "3                     NaT    NaN   NaN  NaN   NaN  NaN  NaN  NaN  NaN\n",
       "4                     NaT    NaN   NaN  NaN   NaN  NaN  NaN  NaN  NaN\n",
       "...                   ...    ...   ...  ...   ...  ...  ...  ...  ...\n",
       "82146 2023-09-29 21:30:00  761.2  78.0  0.0  15.0  0.0  0.5  1.0  0.0\n",
       "82147 2023-09-29 22:00:00  761.2  88.0  0.0  16.0  0.0  0.5  1.0  0.0\n",
       "82148 2023-09-29 22:30:00  761.2  88.0  2.0  16.0  0.0  1.0  0.0  0.0\n",
       "82149 2023-09-29 23:00:00  761.2  88.0  2.0  16.0  0.0  1.0  0.0  0.0\n",
       "82150 2023-09-29 23:30:00  761.2  88.0  2.0  16.0  0.0  1.0  0.0  0.0\n",
       "\n",
       "[82151 rows x 9 columns]"
      ]
     },
     "execution_count": 755,
     "metadata": {},
     "output_type": "execute_result"
    }
   ],
   "source": [
    "df_true_weather"
   ]
  },
  {
   "cell_type": "code",
   "execution_count": 756,
   "id": "f51e77ef",
   "metadata": {},
   "outputs": [
    {
     "data": {
      "text/html": [
       "<div>\n",
       "<style scoped>\n",
       "    .dataframe tbody tr th:only-of-type {\n",
       "        vertical-align: middle;\n",
       "    }\n",
       "\n",
       "    .dataframe tbody tr th {\n",
       "        vertical-align: top;\n",
       "    }\n",
       "\n",
       "    .dataframe thead th {\n",
       "        text-align: right;\n",
       "    }\n",
       "</style>\n",
       "<table border=\"1\" class=\"dataframe\">\n",
       "  <thead>\n",
       "    <tr style=\"text-align: right;\">\n",
       "      <th></th>\n",
       "      <th>date</th>\n",
       "      <th>time</th>\n",
       "      <th>target</th>\n",
       "      <th>temp</th>\n",
       "      <th>temp_pred</th>\n",
       "      <th>weather_pred</th>\n",
       "      <th>weather_fact</th>\n",
       "      <th>year</th>\n",
       "      <th>month</th>\n",
       "      <th>day_of_week</th>\n",
       "      <th>...</th>\n",
       "      <th>target_lag_336</th>\n",
       "      <th>VVP_perc</th>\n",
       "      <th>P</th>\n",
       "      <th>U</th>\n",
       "      <th>WW</th>\n",
       "      <th>Td</th>\n",
       "      <th>N</th>\n",
       "      <th>S</th>\n",
       "      <th>W</th>\n",
       "      <th>E</th>\n",
       "    </tr>\n",
       "  </thead>\n",
       "  <tbody>\n",
       "    <tr>\n",
       "      <th>0</th>\n",
       "      <td>2019-01-01</td>\n",
       "      <td>0</td>\n",
       "      <td>481.510</td>\n",
       "      <td>2.9</td>\n",
       "      <td>2.0</td>\n",
       "      <td>пасм, ветер</td>\n",
       "      <td>ветер</td>\n",
       "      <td>2019</td>\n",
       "      <td>1</td>\n",
       "      <td>1</td>\n",
       "      <td>...</td>\n",
       "      <td>0.0</td>\n",
       "      <td>1.8</td>\n",
       "      <td>765.0</td>\n",
       "      <td>87.0</td>\n",
       "      <td>0.0</td>\n",
       "      <td>0.0</td>\n",
       "      <td>0.0</td>\n",
       "      <td>1.0</td>\n",
       "      <td>0.5</td>\n",
       "      <td>0.0</td>\n",
       "    </tr>\n",
       "    <tr>\n",
       "      <th>1</th>\n",
       "      <td>2019-01-01</td>\n",
       "      <td>1</td>\n",
       "      <td>462.872</td>\n",
       "      <td>2.9</td>\n",
       "      <td>2.0</td>\n",
       "      <td>пасм, ветер</td>\n",
       "      <td>ветер</td>\n",
       "      <td>2019</td>\n",
       "      <td>1</td>\n",
       "      <td>1</td>\n",
       "      <td>...</td>\n",
       "      <td>0.0</td>\n",
       "      <td>1.8</td>\n",
       "      <td>763.5</td>\n",
       "      <td>81.0</td>\n",
       "      <td>0.0</td>\n",
       "      <td>0.0</td>\n",
       "      <td>0.0</td>\n",
       "      <td>1.0</td>\n",
       "      <td>1.0</td>\n",
       "      <td>0.0</td>\n",
       "    </tr>\n",
       "    <tr>\n",
       "      <th>2</th>\n",
       "      <td>2019-01-01</td>\n",
       "      <td>2</td>\n",
       "      <td>449.718</td>\n",
       "      <td>2.9</td>\n",
       "      <td>2.0</td>\n",
       "      <td>пасм, ветер</td>\n",
       "      <td>ветер</td>\n",
       "      <td>2019</td>\n",
       "      <td>1</td>\n",
       "      <td>1</td>\n",
       "      <td>...</td>\n",
       "      <td>0.0</td>\n",
       "      <td>1.8</td>\n",
       "      <td>762.8</td>\n",
       "      <td>87.0</td>\n",
       "      <td>1.0</td>\n",
       "      <td>1.0</td>\n",
       "      <td>0.0</td>\n",
       "      <td>1.0</td>\n",
       "      <td>1.0</td>\n",
       "      <td>0.0</td>\n",
       "    </tr>\n",
       "    <tr>\n",
       "      <th>3</th>\n",
       "      <td>2019-01-01</td>\n",
       "      <td>3</td>\n",
       "      <td>430.908</td>\n",
       "      <td>4.3</td>\n",
       "      <td>2.0</td>\n",
       "      <td>пасм, ветер</td>\n",
       "      <td>ветер, пасм</td>\n",
       "      <td>2019</td>\n",
       "      <td>1</td>\n",
       "      <td>1</td>\n",
       "      <td>...</td>\n",
       "      <td>0.0</td>\n",
       "      <td>1.8</td>\n",
       "      <td>761.2</td>\n",
       "      <td>93.0</td>\n",
       "      <td>1.0</td>\n",
       "      <td>2.0</td>\n",
       "      <td>0.0</td>\n",
       "      <td>1.0</td>\n",
       "      <td>1.0</td>\n",
       "      <td>0.0</td>\n",
       "    </tr>\n",
       "    <tr>\n",
       "      <th>4</th>\n",
       "      <td>2019-01-01</td>\n",
       "      <td>4</td>\n",
       "      <td>415.163</td>\n",
       "      <td>4.3</td>\n",
       "      <td>2.0</td>\n",
       "      <td>пасм, ветер</td>\n",
       "      <td>ветер, пасм</td>\n",
       "      <td>2019</td>\n",
       "      <td>1</td>\n",
       "      <td>1</td>\n",
       "      <td>...</td>\n",
       "      <td>0.0</td>\n",
       "      <td>1.8</td>\n",
       "      <td>759.7</td>\n",
       "      <td>93.0</td>\n",
       "      <td>1.0</td>\n",
       "      <td>3.0</td>\n",
       "      <td>0.0</td>\n",
       "      <td>1.0</td>\n",
       "      <td>1.0</td>\n",
       "      <td>0.0</td>\n",
       "    </tr>\n",
       "  </tbody>\n",
       "</table>\n",
       "<p>5 rows × 40 columns</p>\n",
       "</div>"
      ],
      "text/plain": [
       "        date  time   target  temp  temp_pred weather_pred weather_fact  year  \\\n",
       "0 2019-01-01     0  481.510   2.9        2.0  пасм, ветер        ветер  2019   \n",
       "1 2019-01-01     1  462.872   2.9        2.0  пасм, ветер        ветер  2019   \n",
       "2 2019-01-01     2  449.718   2.9        2.0  пасм, ветер        ветер  2019   \n",
       "3 2019-01-01     3  430.908   4.3        2.0  пасм, ветер  ветер, пасм  2019   \n",
       "4 2019-01-01     4  415.163   4.3        2.0  пасм, ветер  ветер, пасм  2019   \n",
       "\n",
       "   month  day_of_week  ...  target_lag_336  VVP_perc      P     U   WW   Td  \\\n",
       "0      1            1  ...             0.0       1.8  765.0  87.0  0.0  0.0   \n",
       "1      1            1  ...             0.0       1.8  763.5  81.0  0.0  0.0   \n",
       "2      1            1  ...             0.0       1.8  762.8  87.0  1.0  1.0   \n",
       "3      1            1  ...             0.0       1.8  761.2  93.0  1.0  2.0   \n",
       "4      1            1  ...             0.0       1.8  759.7  93.0  1.0  3.0   \n",
       "\n",
       "     N    S    W    E  \n",
       "0  0.0  1.0  0.5  0.0  \n",
       "1  0.0  1.0  1.0  0.0  \n",
       "2  0.0  1.0  1.0  0.0  \n",
       "3  0.0  1.0  1.0  0.0  \n",
       "4  0.0  1.0  1.0  0.0  \n",
       "\n",
       "[5 rows x 40 columns]"
      ]
     },
     "execution_count": 756,
     "metadata": {},
     "output_type": "execute_result"
    }
   ],
   "source": [
    "train_ds.head()"
   ]
  },
  {
   "cell_type": "code",
   "execution_count": 829,
   "id": "65d6619d",
   "metadata": {},
   "outputs": [
    {
     "data": {
      "text/plain": [
       "['date',\n",
       " 'time',\n",
       " 'temp_pred',\n",
       " 'year',\n",
       " 'month',\n",
       " 'day_of_week',\n",
       " 'day',\n",
       " 'cloudy',\n",
       " 'rainy',\n",
       " 'windy',\n",
       " 'clear',\n",
       " 'rain_probability',\n",
       " 'has_rain_probability',\n",
       " 'holidays',\n",
       " 'preholidays',\n",
       " 'temp_last_day',\n",
       " 'target_lag_24',\n",
       " 'target_lag_72',\n",
       " 'VVP_perc',\n",
       " 'P',\n",
       " 'U',\n",
       " 'WW',\n",
       " 'Td',\n",
       " 'N',\n",
       " 'S',\n",
       " 'W',\n",
       " 'E']"
      ]
     },
     "execution_count": 829,
     "metadata": {},
     "output_type": "execute_result"
    }
   ],
   "source": [
    "feature_cols = list(train_ds.columns)\n",
    "#daylight_columns_for_merge = ['date', 'sunrise', 'midday', 'sunset', 'day_duration', 'civil_day']\n",
    "#drop_list = ['target', 'date', 'day_of_year', 'weather_pred', 'weather_fact', 'temp', 'sunrise', 'midday', 'sunset']\n",
    "\n",
    "#выбрасываем взгляд в прошлое и расшифрованную погоду\n",
    "drop_list = ['target', 'day_of_year', 'weather_pred', 'weather_fact', 'temp']\n",
    "\n",
    "#выбрасываем световой день, с ним не получилось\n",
    "drop_list = drop_list+ ['sunrise', 'midday', 'sunset', 'day_duration', 'civil_day']\n",
    "\n",
    "#выбрасываем признаки, найденные процедурно\n",
    "drop_list = drop_list + ['target_lag_48', 'target_lag_168', 'target_lag_336'] \n",
    "\n",
    "for name in drop_list:\n",
    "    feature_cols.remove(name)\n",
    "\n",
    "feature_cols"
   ]
  },
  {
   "cell_type": "code",
   "execution_count": 830,
   "id": "50d574dc",
   "metadata": {},
   "outputs": [],
   "source": [
    "features = train_ds[feature_cols]\n",
    "target = train_ds['target']"
   ]
  },
  {
   "cell_type": "code",
   "execution_count": 831,
   "id": "1bf3304e",
   "metadata": {},
   "outputs": [
    {
     "data": {
      "text/html": [
       "<div>\n",
       "<style scoped>\n",
       "    .dataframe tbody tr th:only-of-type {\n",
       "        vertical-align: middle;\n",
       "    }\n",
       "\n",
       "    .dataframe tbody tr th {\n",
       "        vertical-align: top;\n",
       "    }\n",
       "\n",
       "    .dataframe thead th {\n",
       "        text-align: right;\n",
       "    }\n",
       "</style>\n",
       "<table border=\"1\" class=\"dataframe\">\n",
       "  <thead>\n",
       "    <tr style=\"text-align: right;\">\n",
       "      <th></th>\n",
       "      <th>date</th>\n",
       "      <th>time</th>\n",
       "      <th>temp_pred</th>\n",
       "      <th>year</th>\n",
       "      <th>month</th>\n",
       "      <th>day_of_week</th>\n",
       "      <th>day</th>\n",
       "      <th>cloudy</th>\n",
       "      <th>rainy</th>\n",
       "      <th>windy</th>\n",
       "      <th>...</th>\n",
       "      <th>target_lag_72</th>\n",
       "      <th>VVP_perc</th>\n",
       "      <th>P</th>\n",
       "      <th>U</th>\n",
       "      <th>WW</th>\n",
       "      <th>Td</th>\n",
       "      <th>N</th>\n",
       "      <th>S</th>\n",
       "      <th>W</th>\n",
       "      <th>E</th>\n",
       "    </tr>\n",
       "  </thead>\n",
       "  <tbody>\n",
       "    <tr>\n",
       "      <th>0</th>\n",
       "      <td>2019-01-01</td>\n",
       "      <td>0</td>\n",
       "      <td>2.0</td>\n",
       "      <td>2019</td>\n",
       "      <td>1</td>\n",
       "      <td>1</td>\n",
       "      <td>1</td>\n",
       "      <td>2</td>\n",
       "      <td>0</td>\n",
       "      <td>1</td>\n",
       "      <td>...</td>\n",
       "      <td>0.0</td>\n",
       "      <td>1.8</td>\n",
       "      <td>765.0</td>\n",
       "      <td>87.0</td>\n",
       "      <td>0.0</td>\n",
       "      <td>0.0</td>\n",
       "      <td>0.0</td>\n",
       "      <td>1.0</td>\n",
       "      <td>0.5</td>\n",
       "      <td>0.0</td>\n",
       "    </tr>\n",
       "    <tr>\n",
       "      <th>1</th>\n",
       "      <td>2019-01-01</td>\n",
       "      <td>1</td>\n",
       "      <td>2.0</td>\n",
       "      <td>2019</td>\n",
       "      <td>1</td>\n",
       "      <td>1</td>\n",
       "      <td>1</td>\n",
       "      <td>2</td>\n",
       "      <td>0</td>\n",
       "      <td>1</td>\n",
       "      <td>...</td>\n",
       "      <td>0.0</td>\n",
       "      <td>1.8</td>\n",
       "      <td>763.5</td>\n",
       "      <td>81.0</td>\n",
       "      <td>0.0</td>\n",
       "      <td>0.0</td>\n",
       "      <td>0.0</td>\n",
       "      <td>1.0</td>\n",
       "      <td>1.0</td>\n",
       "      <td>0.0</td>\n",
       "    </tr>\n",
       "    <tr>\n",
       "      <th>2</th>\n",
       "      <td>2019-01-01</td>\n",
       "      <td>2</td>\n",
       "      <td>2.0</td>\n",
       "      <td>2019</td>\n",
       "      <td>1</td>\n",
       "      <td>1</td>\n",
       "      <td>1</td>\n",
       "      <td>2</td>\n",
       "      <td>0</td>\n",
       "      <td>1</td>\n",
       "      <td>...</td>\n",
       "      <td>0.0</td>\n",
       "      <td>1.8</td>\n",
       "      <td>762.8</td>\n",
       "      <td>87.0</td>\n",
       "      <td>1.0</td>\n",
       "      <td>1.0</td>\n",
       "      <td>0.0</td>\n",
       "      <td>1.0</td>\n",
       "      <td>1.0</td>\n",
       "      <td>0.0</td>\n",
       "    </tr>\n",
       "    <tr>\n",
       "      <th>3</th>\n",
       "      <td>2019-01-01</td>\n",
       "      <td>3</td>\n",
       "      <td>2.0</td>\n",
       "      <td>2019</td>\n",
       "      <td>1</td>\n",
       "      <td>1</td>\n",
       "      <td>1</td>\n",
       "      <td>2</td>\n",
       "      <td>0</td>\n",
       "      <td>1</td>\n",
       "      <td>...</td>\n",
       "      <td>0.0</td>\n",
       "      <td>1.8</td>\n",
       "      <td>761.2</td>\n",
       "      <td>93.0</td>\n",
       "      <td>1.0</td>\n",
       "      <td>2.0</td>\n",
       "      <td>0.0</td>\n",
       "      <td>1.0</td>\n",
       "      <td>1.0</td>\n",
       "      <td>0.0</td>\n",
       "    </tr>\n",
       "    <tr>\n",
       "      <th>4</th>\n",
       "      <td>2019-01-01</td>\n",
       "      <td>4</td>\n",
       "      <td>2.0</td>\n",
       "      <td>2019</td>\n",
       "      <td>1</td>\n",
       "      <td>1</td>\n",
       "      <td>1</td>\n",
       "      <td>2</td>\n",
       "      <td>0</td>\n",
       "      <td>1</td>\n",
       "      <td>...</td>\n",
       "      <td>0.0</td>\n",
       "      <td>1.8</td>\n",
       "      <td>759.7</td>\n",
       "      <td>93.0</td>\n",
       "      <td>1.0</td>\n",
       "      <td>3.0</td>\n",
       "      <td>0.0</td>\n",
       "      <td>1.0</td>\n",
       "      <td>1.0</td>\n",
       "      <td>0.0</td>\n",
       "    </tr>\n",
       "  </tbody>\n",
       "</table>\n",
       "<p>5 rows × 27 columns</p>\n",
       "</div>"
      ],
      "text/plain": [
       "        date  time  temp_pred  year  month  day_of_week  day  cloudy  rainy  \\\n",
       "0 2019-01-01     0        2.0  2019      1            1    1       2      0   \n",
       "1 2019-01-01     1        2.0  2019      1            1    1       2      0   \n",
       "2 2019-01-01     2        2.0  2019      1            1    1       2      0   \n",
       "3 2019-01-01     3        2.0  2019      1            1    1       2      0   \n",
       "4 2019-01-01     4        2.0  2019      1            1    1       2      0   \n",
       "\n",
       "   windy  ...  target_lag_72  VVP_perc      P     U   WW   Td    N    S    W  \\\n",
       "0      1  ...            0.0       1.8  765.0  87.0  0.0  0.0  0.0  1.0  0.5   \n",
       "1      1  ...            0.0       1.8  763.5  81.0  0.0  0.0  0.0  1.0  1.0   \n",
       "2      1  ...            0.0       1.8  762.8  87.0  1.0  1.0  0.0  1.0  1.0   \n",
       "3      1  ...            0.0       1.8  761.2  93.0  1.0  2.0  0.0  1.0  1.0   \n",
       "4      1  ...            0.0       1.8  759.7  93.0  1.0  3.0  0.0  1.0  1.0   \n",
       "\n",
       "     E  \n",
       "0  0.0  \n",
       "1  0.0  \n",
       "2  0.0  \n",
       "3  0.0  \n",
       "4  0.0  \n",
       "\n",
       "[5 rows x 27 columns]"
      ]
     },
     "execution_count": 831,
     "metadata": {},
     "output_type": "execute_result"
    }
   ],
   "source": [
    "features.head()"
   ]
  },
  {
   "cell_type": "code",
   "execution_count": 876,
   "id": "8bbc7220",
   "metadata": {},
   "outputs": [
    {
     "data": {
      "text/html": [
       "<div>\n",
       "<style scoped>\n",
       "    .dataframe tbody tr th:only-of-type {\n",
       "        vertical-align: middle;\n",
       "    }\n",
       "\n",
       "    .dataframe tbody tr th {\n",
       "        vertical-align: top;\n",
       "    }\n",
       "\n",
       "    .dataframe thead th {\n",
       "        text-align: right;\n",
       "    }\n",
       "</style>\n",
       "<table border=\"1\" class=\"dataframe\">\n",
       "  <thead>\n",
       "    <tr style=\"text-align: right;\">\n",
       "      <th></th>\n",
       "      <th>date</th>\n",
       "      <th>time</th>\n",
       "      <th>temp_pred</th>\n",
       "      <th>year</th>\n",
       "      <th>month</th>\n",
       "      <th>day_of_week</th>\n",
       "      <th>day</th>\n",
       "      <th>cloudy</th>\n",
       "      <th>rainy</th>\n",
       "      <th>windy</th>\n",
       "      <th>...</th>\n",
       "      <th>target_lag_72</th>\n",
       "      <th>VVP_perc</th>\n",
       "      <th>P</th>\n",
       "      <th>U</th>\n",
       "      <th>WW</th>\n",
       "      <th>Td</th>\n",
       "      <th>N</th>\n",
       "      <th>S</th>\n",
       "      <th>W</th>\n",
       "      <th>E</th>\n",
       "    </tr>\n",
       "  </thead>\n",
       "  <tbody>\n",
       "    <tr>\n",
       "      <th>96</th>\n",
       "      <td>2019-01-05</td>\n",
       "      <td>0</td>\n",
       "      <td>3.0</td>\n",
       "      <td>2019</td>\n",
       "      <td>1</td>\n",
       "      <td>5</td>\n",
       "      <td>5</td>\n",
       "      <td>2</td>\n",
       "      <td>1</td>\n",
       "      <td>0</td>\n",
       "      <td>...</td>\n",
       "      <td>465.381</td>\n",
       "      <td>1.8</td>\n",
       "      <td>756.9</td>\n",
       "      <td>100.0</td>\n",
       "      <td>1.0</td>\n",
       "      <td>3.0</td>\n",
       "      <td>0.0</td>\n",
       "      <td>0.0</td>\n",
       "      <td>1.0</td>\n",
       "      <td>0.0</td>\n",
       "    </tr>\n",
       "    <tr>\n",
       "      <th>97</th>\n",
       "      <td>2019-01-05</td>\n",
       "      <td>1</td>\n",
       "      <td>3.0</td>\n",
       "      <td>2019</td>\n",
       "      <td>1</td>\n",
       "      <td>5</td>\n",
       "      <td>5</td>\n",
       "      <td>2</td>\n",
       "      <td>1</td>\n",
       "      <td>0</td>\n",
       "      <td>...</td>\n",
       "      <td>437.692</td>\n",
       "      <td>1.8</td>\n",
       "      <td>756.9</td>\n",
       "      <td>93.0</td>\n",
       "      <td>1.0</td>\n",
       "      <td>3.0</td>\n",
       "      <td>0.5</td>\n",
       "      <td>0.0</td>\n",
       "      <td>1.0</td>\n",
       "      <td>0.0</td>\n",
       "    </tr>\n",
       "    <tr>\n",
       "      <th>98</th>\n",
       "      <td>2019-01-05</td>\n",
       "      <td>2</td>\n",
       "      <td>3.0</td>\n",
       "      <td>2019</td>\n",
       "      <td>1</td>\n",
       "      <td>5</td>\n",
       "      <td>5</td>\n",
       "      <td>2</td>\n",
       "      <td>1</td>\n",
       "      <td>0</td>\n",
       "      <td>...</td>\n",
       "      <td>416.416</td>\n",
       "      <td>1.8</td>\n",
       "      <td>756.2</td>\n",
       "      <td>100.0</td>\n",
       "      <td>1.0</td>\n",
       "      <td>4.0</td>\n",
       "      <td>0.5</td>\n",
       "      <td>0.0</td>\n",
       "      <td>1.0</td>\n",
       "      <td>0.0</td>\n",
       "    </tr>\n",
       "    <tr>\n",
       "      <th>99</th>\n",
       "      <td>2019-01-05</td>\n",
       "      <td>3</td>\n",
       "      <td>4.0</td>\n",
       "      <td>2019</td>\n",
       "      <td>1</td>\n",
       "      <td>5</td>\n",
       "      <td>5</td>\n",
       "      <td>2</td>\n",
       "      <td>1</td>\n",
       "      <td>0</td>\n",
       "      <td>...</td>\n",
       "      <td>401.808</td>\n",
       "      <td>1.8</td>\n",
       "      <td>756.2</td>\n",
       "      <td>93.0</td>\n",
       "      <td>1.0</td>\n",
       "      <td>3.0</td>\n",
       "      <td>0.5</td>\n",
       "      <td>0.0</td>\n",
       "      <td>1.0</td>\n",
       "      <td>0.0</td>\n",
       "    </tr>\n",
       "    <tr>\n",
       "      <th>100</th>\n",
       "      <td>2019-01-05</td>\n",
       "      <td>4</td>\n",
       "      <td>4.0</td>\n",
       "      <td>2019</td>\n",
       "      <td>1</td>\n",
       "      <td>5</td>\n",
       "      <td>5</td>\n",
       "      <td>2</td>\n",
       "      <td>1</td>\n",
       "      <td>0</td>\n",
       "      <td>...</td>\n",
       "      <td>394.554</td>\n",
       "      <td>1.8</td>\n",
       "      <td>755.4</td>\n",
       "      <td>93.0</td>\n",
       "      <td>1.0</td>\n",
       "      <td>3.0</td>\n",
       "      <td>1.0</td>\n",
       "      <td>0.0</td>\n",
       "      <td>0.5</td>\n",
       "      <td>1.0</td>\n",
       "    </tr>\n",
       "    <tr>\n",
       "      <th>...</th>\n",
       "      <td>...</td>\n",
       "      <td>...</td>\n",
       "      <td>...</td>\n",
       "      <td>...</td>\n",
       "      <td>...</td>\n",
       "      <td>...</td>\n",
       "      <td>...</td>\n",
       "      <td>...</td>\n",
       "      <td>...</td>\n",
       "      <td>...</td>\n",
       "      <td>...</td>\n",
       "      <td>...</td>\n",
       "      <td>...</td>\n",
       "      <td>...</td>\n",
       "      <td>...</td>\n",
       "      <td>...</td>\n",
       "      <td>...</td>\n",
       "      <td>...</td>\n",
       "      <td>...</td>\n",
       "      <td>...</td>\n",
       "      <td>...</td>\n",
       "    </tr>\n",
       "    <tr>\n",
       "      <th>42683</th>\n",
       "      <td>2023-07-23</td>\n",
       "      <td>19</td>\n",
       "      <td>18.0</td>\n",
       "      <td>2023</td>\n",
       "      <td>7</td>\n",
       "      <td>6</td>\n",
       "      <td>23</td>\n",
       "      <td>2</td>\n",
       "      <td>1</td>\n",
       "      <td>0</td>\n",
       "      <td>...</td>\n",
       "      <td>443.907</td>\n",
       "      <td>-3.6</td>\n",
       "      <td>756.2</td>\n",
       "      <td>94.0</td>\n",
       "      <td>2.0</td>\n",
       "      <td>16.0</td>\n",
       "      <td>0.5</td>\n",
       "      <td>0.0</td>\n",
       "      <td>1.0</td>\n",
       "      <td>0.0</td>\n",
       "    </tr>\n",
       "    <tr>\n",
       "      <th>42684</th>\n",
       "      <td>2023-07-23</td>\n",
       "      <td>20</td>\n",
       "      <td>18.0</td>\n",
       "      <td>2023</td>\n",
       "      <td>7</td>\n",
       "      <td>6</td>\n",
       "      <td>23</td>\n",
       "      <td>2</td>\n",
       "      <td>1</td>\n",
       "      <td>0</td>\n",
       "      <td>...</td>\n",
       "      <td>437.656</td>\n",
       "      <td>-3.6</td>\n",
       "      <td>756.2</td>\n",
       "      <td>94.0</td>\n",
       "      <td>2.0</td>\n",
       "      <td>16.0</td>\n",
       "      <td>0.5</td>\n",
       "      <td>0.0</td>\n",
       "      <td>1.0</td>\n",
       "      <td>0.0</td>\n",
       "    </tr>\n",
       "    <tr>\n",
       "      <th>42685</th>\n",
       "      <td>2023-07-23</td>\n",
       "      <td>21</td>\n",
       "      <td>18.0</td>\n",
       "      <td>2023</td>\n",
       "      <td>7</td>\n",
       "      <td>6</td>\n",
       "      <td>23</td>\n",
       "      <td>2</td>\n",
       "      <td>1</td>\n",
       "      <td>0</td>\n",
       "      <td>...</td>\n",
       "      <td>432.884</td>\n",
       "      <td>-3.6</td>\n",
       "      <td>756.2</td>\n",
       "      <td>94.0</td>\n",
       "      <td>2.0</td>\n",
       "      <td>15.0</td>\n",
       "      <td>0.0</td>\n",
       "      <td>0.0</td>\n",
       "      <td>1.0</td>\n",
       "      <td>0.0</td>\n",
       "    </tr>\n",
       "    <tr>\n",
       "      <th>42686</th>\n",
       "      <td>2023-07-23</td>\n",
       "      <td>22</td>\n",
       "      <td>18.0</td>\n",
       "      <td>2023</td>\n",
       "      <td>7</td>\n",
       "      <td>6</td>\n",
       "      <td>23</td>\n",
       "      <td>2</td>\n",
       "      <td>1</td>\n",
       "      <td>0</td>\n",
       "      <td>...</td>\n",
       "      <td>442.715</td>\n",
       "      <td>-3.6</td>\n",
       "      <td>756.2</td>\n",
       "      <td>100.0</td>\n",
       "      <td>2.0</td>\n",
       "      <td>15.0</td>\n",
       "      <td>0.0</td>\n",
       "      <td>0.0</td>\n",
       "      <td>0.0</td>\n",
       "      <td>0.0</td>\n",
       "    </tr>\n",
       "    <tr>\n",
       "      <th>42687</th>\n",
       "      <td>2023-07-23</td>\n",
       "      <td>23</td>\n",
       "      <td>18.0</td>\n",
       "      <td>2023</td>\n",
       "      <td>7</td>\n",
       "      <td>6</td>\n",
       "      <td>23</td>\n",
       "      <td>2</td>\n",
       "      <td>1</td>\n",
       "      <td>0</td>\n",
       "      <td>...</td>\n",
       "      <td>422.545</td>\n",
       "      <td>-3.6</td>\n",
       "      <td>756.2</td>\n",
       "      <td>100.0</td>\n",
       "      <td>1.0</td>\n",
       "      <td>15.0</td>\n",
       "      <td>0.0</td>\n",
       "      <td>1.0</td>\n",
       "      <td>0.0</td>\n",
       "      <td>0.0</td>\n",
       "    </tr>\n",
       "  </tbody>\n",
       "</table>\n",
       "<p>13897 rows × 27 columns</p>\n",
       "</div>"
      ],
      "text/plain": [
       "            date  time  temp_pred  year  month  day_of_week  day  cloudy  \\\n",
       "96    2019-01-05     0        3.0  2019      1            5    5       2   \n",
       "97    2019-01-05     1        3.0  2019      1            5    5       2   \n",
       "98    2019-01-05     2        3.0  2019      1            5    5       2   \n",
       "99    2019-01-05     3        4.0  2019      1            5    5       2   \n",
       "100   2019-01-05     4        4.0  2019      1            5    5       2   \n",
       "...          ...   ...        ...   ...    ...          ...  ...     ...   \n",
       "42683 2023-07-23    19       18.0  2023      7            6   23       2   \n",
       "42684 2023-07-23    20       18.0  2023      7            6   23       2   \n",
       "42685 2023-07-23    21       18.0  2023      7            6   23       2   \n",
       "42686 2023-07-23    22       18.0  2023      7            6   23       2   \n",
       "42687 2023-07-23    23       18.0  2023      7            6   23       2   \n",
       "\n",
       "       rainy  windy  ...  target_lag_72  VVP_perc      P      U   WW    Td  \\\n",
       "96         1      0  ...        465.381       1.8  756.9  100.0  1.0   3.0   \n",
       "97         1      0  ...        437.692       1.8  756.9   93.0  1.0   3.0   \n",
       "98         1      0  ...        416.416       1.8  756.2  100.0  1.0   4.0   \n",
       "99         1      0  ...        401.808       1.8  756.2   93.0  1.0   3.0   \n",
       "100        1      0  ...        394.554       1.8  755.4   93.0  1.0   3.0   \n",
       "...      ...    ...  ...            ...       ...    ...    ...  ...   ...   \n",
       "42683      1      0  ...        443.907      -3.6  756.2   94.0  2.0  16.0   \n",
       "42684      1      0  ...        437.656      -3.6  756.2   94.0  2.0  16.0   \n",
       "42685      1      0  ...        432.884      -3.6  756.2   94.0  2.0  15.0   \n",
       "42686      1      0  ...        442.715      -3.6  756.2  100.0  2.0  15.0   \n",
       "42687      1      0  ...        422.545      -3.6  756.2  100.0  1.0  15.0   \n",
       "\n",
       "         N    S    W    E  \n",
       "96     0.0  0.0  1.0  0.0  \n",
       "97     0.5  0.0  1.0  0.0  \n",
       "98     0.5  0.0  1.0  0.0  \n",
       "99     0.5  0.0  1.0  0.0  \n",
       "100    1.0  0.0  0.5  1.0  \n",
       "...    ...  ...  ...  ...  \n",
       "42683  0.5  0.0  1.0  0.0  \n",
       "42684  0.5  0.0  1.0  0.0  \n",
       "42685  0.0  0.0  1.0  0.0  \n",
       "42686  0.0  0.0  0.0  0.0  \n",
       "42687  0.0  1.0  0.0  0.0  \n",
       "\n",
       "[13897 rows x 27 columns]"
      ]
     },
     "execution_count": 876,
     "metadata": {},
     "output_type": "execute_result"
    }
   ],
   "source": [
    "features[ features['day_of_week']>=5 ]"
   ]
  },
  {
   "cell_type": "code",
   "execution_count": 879,
   "id": "1d217661",
   "metadata": {},
   "outputs": [],
   "source": [
    "def features_split(features, target, date):\n",
    "    features_train = features[features['date']<date]\n",
    "    target_train = target[features_train.index]\n",
    "    features_valid = features[features['date']>=date]\n",
    "    target_valid = target[features_valid.index]\n",
    "    features_train = features_train.drop('date', axis=1)\n",
    "    features_valid = features_valid.drop('date', axis=1)\n",
    "    return features_train, features_valid, target_train, target_valid\n"
   ]
  },
  {
   "cell_type": "code",
   "execution_count": 880,
   "id": "c5b4c4e7",
   "metadata": {},
   "outputs": [],
   "source": [
    "def features_interval(features, target, date1, date2):\n",
    "    features_interval = features[ (features['date']>=date1) & (features['date']<date2) ]\n",
    "    target_interval = target[features_interval.index]\n",
    "    features_interval = features_interval.drop('date', axis=1)\n",
    "    return features_interval, target_interval"
   ]
  },
  {
   "cell_type": "code",
   "execution_count": 878,
   "id": "939feb0e",
   "metadata": {},
   "outputs": [],
   "source": [
    "def features_interval_augment(features, target, date1, date2, add_weekends = 0):\n",
    "    features_interval = features[ (features['date']>=date1) & (features['date']<date2) ]\n",
    "    weekends = features_interval[ features_interval['day_of_week']>=5 ]\n",
    "    features_interval = pd.concat([features_interval]+[weekends]*add_weekends)\n",
    "    target_interval = target[features_interval.index]\n",
    "    features_interval = features_interval.drop('date', axis=1)\n",
    "    return features_interval, target_interval"
   ]
  },
  {
   "cell_type": "code",
   "execution_count": 869,
   "id": "5a2b8078",
   "metadata": {},
   "outputs": [],
   "source": [
    "features_train, target_train = features_interval(features, target, '2019-01-01', '2022-01-01')\n",
    "features_valid, target_valid = features_interval(features, target, '2022-01-01', '2023-01-01')"
   ]
  },
  {
   "cell_type": "code",
   "execution_count": 837,
   "id": "6fe0981d",
   "metadata": {},
   "outputs": [],
   "source": [
    "dates = ['2022-01-01', '2022-04-01', '2022-07-01', '2022-10-01', '2023-01-01']\n",
    "quarters = []\n",
    "for i in range(4):\n",
    "    f, t, d = features_interval(features, target, dates[i], dates[i+1])\n",
    "    quarters.append({'features':f, 'target':t, 'date':d})"
   ]
  },
  {
   "cell_type": "code",
   "execution_count": 838,
   "id": "e8985f3e",
   "metadata": {},
   "outputs": [],
   "source": [
    "def mae_day(y_true, y_pred):\n",
    "    y_true_copy = pd.DataFrame(y_true).reset_index(drop=True)\n",
    "    y_true_copy['day'] = y_true_copy.index // 24\n",
    "    y_true_grouped = y_true_copy.groupby(by='day').sum()   \n",
    "    y_pred_copy = pd.DataFrame(y_pred).reset_index(drop=True)\n",
    "    y_pred_copy['day'] = y_pred_copy.index // 24\n",
    "    y_pred_grouped = y_pred_copy.groupby(by='day').sum()\n",
    "    \n",
    "    return mean_absolute_error(y_true_grouped, y_pred_grouped)"
   ]
  },
  {
   "cell_type": "code",
   "execution_count": 839,
   "id": "5dbcff28",
   "metadata": {},
   "outputs": [],
   "source": [
    "# класс предлагается инициализировать, затем брать значения параметра из current_value \n",
    "# и регистрировать значения метрики методом add_metric_value, пока add_metric_value не вернет True\n",
    "\n",
    "# параметры инициализации: \n",
    "# initial_values - начальный вектор значений параметра, может быть любой длины\n",
    "# stop_relation - целевое отношение соседних значений параметра для остановки поиска\n",
    "# step_method - способ формирования трех точек для первой параболы дугой вниз\n",
    "# step_method = 'geometric' - делим или умножаем значение с минимальной метрикой на geometric_step\n",
    "# step_method = 'dichotomy' - делим интервал с минимальной метрикой на границах пополам\n",
    "# step_method = 'geometric_dichotomy' - делим интервал с минимальной метрикой на границах средним геометрическим\n",
    "\n",
    "class one_parameter_parabolic_optimizer:\n",
    "    def __init__(self, initial_values, stop_relation=1.1, step_method='nothing', geometric_step=2):      \n",
    "        self.data = pd.DataFrame(columns=('parameter','metric','x2','x','1'), dtype='float')\n",
    "        self.parabolic_mode = False\n",
    "        self.parabolic_error = False\n",
    "        self.stop_relation_log = np.log(stop_relation)\n",
    "        self.initial_values = initial_values            \n",
    "        self.step_method = step_method                              \n",
    "        self.geometric_step = geometric_step\n",
    "        self.initial_counter = 0\n",
    "        self.current_value = self.initial_values[0]\n",
    "        \n",
    "    def best_value(self):\n",
    "        return self.data.loc[self.data['metric'].idxmin(), 'parameter']\n",
    "    \n",
    "# строим параболу через точку с минимальной метрикой и две соседние и ищем ее минимум\n",
    "    def next_parabolic(self):                      \n",
    "        self.data['x2'] = self.data['parameter']**2\n",
    "        self.data['x'] = self.data['parameter']\n",
    "        self.data['1'] = 1\n",
    "        self.data = self.data.astype(float).sort_values(by='parameter', ascending=True).reset_index(drop=True)\n",
    "        index_min = self.data['metric'].idxmin()\n",
    "        matrix = self.data[['x2','x','1']][index_min-1:index_min+2]\n",
    "        y = self.data['metric'][index_min-1:index_min+2]\n",
    "        vector_abc = np.linalg.inv(matrix) @ y\n",
    "        return -vector_abc[1]/vector_abc[0]/2\n",
    "\n",
    "    def next_geometric(self):\n",
    "        index_min = self.data['metric'].idxmin()\n",
    "        if index_min==0:\n",
    "            return self.data.loc[index_min, 'parameter']/self.geometric_step\n",
    "        else:\n",
    "            return self.data.loc[index_min, 'parameter']*self.geometric_step\n",
    "        \n",
    "    def next_dichotomy(self):\n",
    "        index_min = self.data['metric'].idxmin()\n",
    "        if index_min==0:\n",
    "            return (self.data.loc[index_min, 'parameter'] + self.data.loc[index_min+1, 'parameter'])/2\n",
    "        else:\n",
    "            return (self.data.loc[index_min, 'parameter'] + self.data.loc[index_min-1, 'parameter'])/2\n",
    "        \n",
    "    def next_geometric_dichotomy(self):\n",
    "        index_min = self.data['metric'].idxmin()\n",
    "        if index_min==0:\n",
    "            return (self.data.loc[index_min, 'parameter'] * self.data.loc[index_min+1, 'parameter'])**0.5\n",
    "        else:\n",
    "            return (self.data.loc[index_min, 'parameter'] * self.data.loc[index_min-1, 'parameter'])**0.5\n",
    "    \n",
    "    def add_metric_value(self, metric_value):\n",
    "        if self.parabolic_error:           # записана ошибка, выход\n",
    "                return True\n",
    "        self.data.loc[self.data.shape[0]] = [self.current_value, metric_value, 0, 0, 0]   # новое значение в таблицу\n",
    "        if self.initial_counter+1 < len(self.initial_values) :              # если начальные значения не закончились,\n",
    "            self.initial_counter+=1                                         # то считаем метрику в них\n",
    "            self.current_value = self.initial_values[self.initial_counter]\n",
    "            return False\n",
    "        self.data = self.data.astype(float).sort_values(by='parameter', ascending=True).reset_index(drop=True)\n",
    "        index_min = self.data['metric'].idxmin()         # ищем минимальную метрику\n",
    "        parabolic_ready = (index_min!=0) and (index_min!=self.data.shape[0]-1)      # и выясняем, на краю ли она таблицы\n",
    "        if parabolic_ready:\n",
    "            self.parabolic_mode = True                               # если не на краю, дальше считаем параболой                  \n",
    "            self.current_value = self.next_parabolic()\n",
    "            loglog = abs(np.array([np.log(self.data.loc[index_min-1,'parameter'])-np.log(self.data.loc[index_min,'parameter']),\n",
    "                              np.log(self.data.loc[index_min+1,'parameter']) -np.log(self.data.loc[index_min,'parameter'])]))            \n",
    "            return loglog.min() < self.stop_relation_log   # пока не выполним критерий\n",
    "        elif self.parabolic_mode:    # если уже была парабола, а теперь не получается, то пишем ошибку: метод расходится\n",
    "            return True\n",
    "        elif self.step_method == 'geometric': # если еще нет точек для параболы и задана геометрическая прогрессия\n",
    "            self.current_value = self.next_geometric()\n",
    "            return False\n",
    "        elif self.step_method == 'dichotomy': # если еще нет точек для параболы и задана дихотомия \n",
    "            self.current_value = self.next_dichotomy()\n",
    "            return False\n",
    "        elif self.step_method == 'geometric_dichotomy': # если еще нет точек для параболы и задана geometric_dichotomy \n",
    "            self.current_value = self.next_geometric_dichotomy()\n",
    "            return False\n",
    "        else: # если еще нет точек для параболы и метод поиска не задан, завершаем\n",
    "            return True"
   ]
  },
  {
   "cell_type": "code",
   "execution_count": 840,
   "id": "ba67b03b",
   "metadata": {
    "scrolled": true
   },
   "outputs": [
    {
     "name": "stderr",
     "output_type": "stream",
     "text": [
      "c:\\ProgramData\\Anaconda3\\lib\\site-packages\\lightgbm\\engine.py:177: UserWarning: Found `num_iterations` in params. Will use it instead of argument\n",
      "  _log_warning(f\"Found `{alias}` in params. Will use it instead of argument\")\n"
     ]
    },
    {
     "name": "stdout",
     "output_type": "stream",
     "text": [
      "learning rate = 0.01000 mae = 176.6\n"
     ]
    },
    {
     "name": "stderr",
     "output_type": "stream",
     "text": [
      "c:\\ProgramData\\Anaconda3\\lib\\site-packages\\lightgbm\\engine.py:177: UserWarning: Found `num_iterations` in params. Will use it instead of argument\n",
      "  _log_warning(f\"Found `{alias}` in params. Will use it instead of argument\")\n"
     ]
    },
    {
     "name": "stdout",
     "output_type": "stream",
     "text": [
      "learning rate = 0.00500 mae = 172.8\n"
     ]
    },
    {
     "name": "stderr",
     "output_type": "stream",
     "text": [
      "c:\\ProgramData\\Anaconda3\\lib\\site-packages\\lightgbm\\engine.py:177: UserWarning: Found `num_iterations` in params. Will use it instead of argument\n",
      "  _log_warning(f\"Found `{alias}` in params. Will use it instead of argument\")\n"
     ]
    },
    {
     "name": "stdout",
     "output_type": "stream",
     "text": [
      "learning rate = 0.00250 mae = 172.4\n"
     ]
    },
    {
     "name": "stderr",
     "output_type": "stream",
     "text": [
      "c:\\ProgramData\\Anaconda3\\lib\\site-packages\\lightgbm\\engine.py:177: UserWarning: Found `num_iterations` in params. Will use it instead of argument\n",
      "  _log_warning(f\"Found `{alias}` in params. Will use it instead of argument\")\n"
     ]
    },
    {
     "name": "stdout",
     "output_type": "stream",
     "text": [
      "learning rate = 0.00125 mae = 174.9\n"
     ]
    },
    {
     "name": "stderr",
     "output_type": "stream",
     "text": [
      "c:\\ProgramData\\Anaconda3\\lib\\site-packages\\lightgbm\\engine.py:177: UserWarning: Found `num_iterations` in params. Will use it instead of argument\n",
      "  _log_warning(f\"Found `{alias}` in params. Will use it instead of argument\")\n"
     ]
    },
    {
     "name": "stdout",
     "output_type": "stream",
     "text": [
      "learning rate = 0.00363 mae = 175.7\n"
     ]
    },
    {
     "name": "stderr",
     "output_type": "stream",
     "text": [
      "c:\\ProgramData\\Anaconda3\\lib\\site-packages\\lightgbm\\engine.py:177: UserWarning: Found `num_iterations` in params. Will use it instead of argument\n",
      "  _log_warning(f\"Found `{alias}` in params. Will use it instead of argument\")\n"
     ]
    },
    {
     "name": "stdout",
     "output_type": "stream",
     "text": [
      "learning rate = 0.00236 mae = 177.7\n"
     ]
    },
    {
     "name": "stderr",
     "output_type": "stream",
     "text": [
      "c:\\ProgramData\\Anaconda3\\lib\\site-packages\\lightgbm\\engine.py:177: UserWarning: Found `num_iterations` in params. Will use it instead of argument\n",
      "  _log_warning(f\"Found `{alias}` in params. Will use it instead of argument\")\n"
     ]
    },
    {
     "name": "stdout",
     "output_type": "stream",
     "text": [
      "learning rate = 0.00302 mae = 170.8\n"
     ]
    },
    {
     "name": "stderr",
     "output_type": "stream",
     "text": [
      "c:\\ProgramData\\Anaconda3\\lib\\site-packages\\lightgbm\\engine.py:177: UserWarning: Found `num_iterations` in params. Will use it instead of argument\n",
      "  _log_warning(f\"Found `{alias}` in params. Will use it instead of argument\")\n"
     ]
    },
    {
     "name": "stdout",
     "output_type": "stream",
     "text": [
      "learning rate = 0.00292 mae = 170.5\n"
     ]
    },
    {
     "name": "stderr",
     "output_type": "stream",
     "text": [
      "c:\\ProgramData\\Anaconda3\\lib\\site-packages\\lightgbm\\engine.py:177: UserWarning: Found `num_iterations` in params. Will use it instead of argument\n",
      "  _log_warning(f\"Found `{alias}` in params. Will use it instead of argument\")\n"
     ]
    },
    {
     "name": "stdout",
     "output_type": "stream",
     "text": [
      "learning rate = 0.00287 mae = 164.6\n",
      "CPU times: total: 3min 35s\n",
      "Wall time: 1min 46s\n"
     ]
    }
   ],
   "source": [
    "%%time\n",
    "optimizer = one_parameter_parabolic_optimizer([0.01], 1.03, step_method='geometric')\n",
    "for i in range(10):\n",
    "    learning_rate = optimizer.current_value\n",
    "    lgbm_model = lgb.LGBMRegressor(num_leaves=15, learning_rate=learning_rate, num_iterations=5000, random_state=random_state, objective='regression_l1', n_jobs=-1)\n",
    "    lgbm_model.fit(features_train, target_train)\n",
    "    mae = mae_day(target_valid, lgbm_model.predict(features_valid))\n",
    "    print(f'learning rate = {learning_rate:.5f} mae = {mae:.1f}')\n",
    "    if optimizer.add_metric_value(mae):\n",
    "        break\n",
    "best_learning_rate_1000 = optimizer.best_value()"
   ]
  },
  {
   "cell_type": "code",
   "execution_count": 841,
   "id": "93ec3f21",
   "metadata": {},
   "outputs": [
    {
     "name": "stdout",
     "output_type": "stream",
     "text": [
      "[LightGBM] [Warning] feature_fraction is set=0.2, colsample_bytree=1.0 will be ignored. Current value: feature_fraction=0.2\n"
     ]
    },
    {
     "name": "stderr",
     "output_type": "stream",
     "text": [
      "c:\\ProgramData\\Anaconda3\\lib\\site-packages\\lightgbm\\engine.py:177: UserWarning: Found `num_iterations` in params. Will use it instead of argument\n",
      "  _log_warning(f\"Found `{alias}` in params. Will use it instead of argument\")\n"
     ]
    },
    {
     "name": "stdout",
     "output_type": "stream",
     "text": [
      "feature_fraction = 0.20000 mae = 270.6\n",
      "[LightGBM] [Warning] feature_fraction is set=1, colsample_bytree=1.0 will be ignored. Current value: feature_fraction=1\n"
     ]
    },
    {
     "name": "stderr",
     "output_type": "stream",
     "text": [
      "c:\\ProgramData\\Anaconda3\\lib\\site-packages\\lightgbm\\engine.py:177: UserWarning: Found `num_iterations` in params. Will use it instead of argument\n",
      "  _log_warning(f\"Found `{alias}` in params. Will use it instead of argument\")\n"
     ]
    },
    {
     "name": "stdout",
     "output_type": "stream",
     "text": [
      "feature_fraction = 1.00000 mae = 164.6\n",
      "[LightGBM] [Warning] feature_fraction is set=0.6, colsample_bytree=1.0 will be ignored. Current value: feature_fraction=0.6\n"
     ]
    },
    {
     "name": "stderr",
     "output_type": "stream",
     "text": [
      "c:\\ProgramData\\Anaconda3\\lib\\site-packages\\lightgbm\\engine.py:177: UserWarning: Found `num_iterations` in params. Will use it instead of argument\n",
      "  _log_warning(f\"Found `{alias}` in params. Will use it instead of argument\")\n"
     ]
    },
    {
     "name": "stdout",
     "output_type": "stream",
     "text": [
      "feature_fraction = 0.60000 mae = 167.6\n",
      "[LightGBM] [Warning] feature_fraction is set=0.8, colsample_bytree=1.0 will be ignored. Current value: feature_fraction=0.8\n"
     ]
    },
    {
     "name": "stderr",
     "output_type": "stream",
     "text": [
      "c:\\ProgramData\\Anaconda3\\lib\\site-packages\\lightgbm\\engine.py:177: UserWarning: Found `num_iterations` in params. Will use it instead of argument\n",
      "  _log_warning(f\"Found `{alias}` in params. Will use it instead of argument\")\n"
     ]
    },
    {
     "name": "stdout",
     "output_type": "stream",
     "text": [
      "feature_fraction = 0.80000 mae = 168.5\n",
      "[LightGBM] [Warning] feature_fraction is set=0.9, colsample_bytree=1.0 will be ignored. Current value: feature_fraction=0.9\n"
     ]
    },
    {
     "name": "stderr",
     "output_type": "stream",
     "text": [
      "c:\\ProgramData\\Anaconda3\\lib\\site-packages\\lightgbm\\engine.py:177: UserWarning: Found `num_iterations` in params. Will use it instead of argument\n",
      "  _log_warning(f\"Found `{alias}` in params. Will use it instead of argument\")\n"
     ]
    },
    {
     "name": "stdout",
     "output_type": "stream",
     "text": [
      "feature_fraction = 0.90000 mae = 178.2\n",
      "[LightGBM] [Warning] feature_fraction is set=0.95, colsample_bytree=1.0 will be ignored. Current value: feature_fraction=0.95\n"
     ]
    },
    {
     "name": "stderr",
     "output_type": "stream",
     "text": [
      "c:\\ProgramData\\Anaconda3\\lib\\site-packages\\lightgbm\\engine.py:177: UserWarning: Found `num_iterations` in params. Will use it instead of argument\n",
      "  _log_warning(f\"Found `{alias}` in params. Will use it instead of argument\")\n"
     ]
    },
    {
     "name": "stdout",
     "output_type": "stream",
     "text": [
      "feature_fraction = 0.95000 mae = 168.6\n",
      "[LightGBM] [Warning] feature_fraction is set=0.975, colsample_bytree=1.0 will be ignored. Current value: feature_fraction=0.975\n"
     ]
    },
    {
     "name": "stderr",
     "output_type": "stream",
     "text": [
      "c:\\ProgramData\\Anaconda3\\lib\\site-packages\\lightgbm\\engine.py:177: UserWarning: Found `num_iterations` in params. Will use it instead of argument\n",
      "  _log_warning(f\"Found `{alias}` in params. Will use it instead of argument\")\n"
     ]
    },
    {
     "name": "stdout",
     "output_type": "stream",
     "text": [
      "feature_fraction = 0.97500 mae = 168.6\n",
      "[LightGBM] [Warning] feature_fraction is set=0.9875, colsample_bytree=1.0 will be ignored. Current value: feature_fraction=0.9875\n"
     ]
    },
    {
     "name": "stderr",
     "output_type": "stream",
     "text": [
      "c:\\ProgramData\\Anaconda3\\lib\\site-packages\\lightgbm\\engine.py:177: UserWarning: Found `num_iterations` in params. Will use it instead of argument\n",
      "  _log_warning(f\"Found `{alias}` in params. Will use it instead of argument\")\n"
     ]
    },
    {
     "name": "stdout",
     "output_type": "stream",
     "text": [
      "feature_fraction = 0.98750 mae = 164.6\n",
      "CPU times: total: 3min 19s\n",
      "Wall time: 1min 25s\n"
     ]
    }
   ],
   "source": [
    "%%time\n",
    "optimizer = one_parameter_parabolic_optimizer([0.2, 1], 1.03, step_method='dichotomy')\n",
    "for i in range(10):\n",
    "    feature_fraction = optimizer.current_value\n",
    "    lgbm_model = lgb.LGBMRegressor(num_leaves=15, learning_rate=best_learning_rate_1000,  \n",
    "                               num_iterations=5000, \n",
    "                               feature_fraction=feature_fraction, random_state=random_state, \n",
    "                               objective='regression_l1', n_jobs=-1)\n",
    "    lgbm_model.fit(features_train, target_train)\n",
    "    mae = mae_day(target_valid, lgbm_model.predict(features_valid))\n",
    "    print(f'feature_fraction = {feature_fraction:.5f} mae = {mae:.1f}')\n",
    "    if optimizer.add_metric_value(mae):\n",
    "        break\n",
    "best_feature_fraction = optimizer.best_value()"
   ]
  },
  {
   "cell_type": "code",
   "execution_count": 842,
   "id": "547bb673",
   "metadata": {},
   "outputs": [],
   "source": [
    "#%%time\n",
    "#optimizer = one_parameter_parabolic_optimizer([7, 55], 1.03, step_method='geometric_dichotomy')\n",
    "#for i in range(10):\n",
    "#    num_leaves = int(optimizer.current_value)\n",
    "#    lgbm_model = lgb.LGBMRegressor(num_leaves=num_leaves, learning_rate=best_learning_rate_1000,  \n",
    "#                               num_iterations=5000, \n",
    "#                               feature_fraction=best_feature_fraction, random_state=random_state, \n",
    "#                               objective='regression_l1', n_jobs=-1)\n",
    "#    lgbm_model.fit(features_train, target_train)\n",
    "#    mae = mae_day(target_valid, lgbm_model.predict(features_valid))\n",
    "#    print(f'num_leaves = {num_leaves:.5f} mae = {mae:.1f}')\n",
    "#    if optimizer.add_metric_value(mae):\n",
    "#        break\n",
    "#best_num_leaves = optimizer.best_value()"
   ]
  },
  {
   "cell_type": "code",
   "execution_count": 843,
   "id": "73bc8d25",
   "metadata": {},
   "outputs": [
    {
     "name": "stdout",
     "output_type": "stream",
     "text": [
      "[LightGBM] [Warning] feature_fraction is set=0.9875, colsample_bytree=1.0 will be ignored. Current value: feature_fraction=0.9875\n"
     ]
    },
    {
     "name": "stderr",
     "output_type": "stream",
     "text": [
      "c:\\ProgramData\\Anaconda3\\lib\\site-packages\\lightgbm\\engine.py:177: UserWarning: Found `num_iterations` in params. Will use it instead of argument\n",
      "  _log_warning(f\"Found `{alias}` in params. Will use it instead of argument\")\n"
     ]
    },
    {
     "data": {
      "text/plain": [
       "LGBMRegressor(feature_fraction=0.9875, learning_rate=0.0028674413299018555,\n",
       "              num_iterations=10000, num_leaves=15, objective='regression_l1',\n",
       "              random_state=12345)"
      ]
     },
     "execution_count": 843,
     "metadata": {},
     "output_type": "execute_result"
    }
   ],
   "source": [
    "lgbm_model = lgb.LGBMRegressor(num_leaves=15, learning_rate=best_learning_rate_1000, num_iterations=10000, \n",
    "                               feature_fraction=best_feature_fraction, random_state=random_state, objective='regression_l1', n_jobs=-1)\n",
    "lgbm_model.fit(features_train, target_train)"
   ]
  },
  {
   "cell_type": "code",
   "execution_count": 844,
   "id": "9bb2c894",
   "metadata": {},
   "outputs": [
    {
     "name": "stdout",
     "output_type": "stream",
     "text": [
      "mae_of_the_day - 163.9949585444689\n",
      "mae of the hour - 9.28067000282859\n"
     ]
    }
   ],
   "source": [
    "y_pred = lgbm_model.predict(features_valid)\n",
    "mae = mae_day(target_valid, y_pred)\n",
    "print(f'mae_of_the_day - {mae}')\n",
    "print(f'mae of the hour - {mean_absolute_error(target_valid, y_pred)}')"
   ]
  },
  {
   "cell_type": "code",
   "execution_count": 845,
   "id": "c90e3a77",
   "metadata": {},
   "outputs": [],
   "source": [
    "y_true_copy = pd.DataFrame(target_valid).reset_index(drop=True)\n",
    "y_true_copy['day'] = y_true_copy.index // 24\n",
    "y_true_grouped = y_true_copy.groupby(by='day').sum()   \n",
    "y_true_grouped\n",
    "y_pred_copy = pd.DataFrame(y_pred).reset_index(drop=True)\n",
    "y_pred_copy['day'] = y_pred_copy.index // 24\n",
    "y_pred_grouped = y_pred_copy.groupby(by='day').sum()"
   ]
  },
  {
   "cell_type": "code",
   "execution_count": 846,
   "id": "7dccde5a",
   "metadata": {},
   "outputs": [
    {
     "data": {
      "text/plain": [
       "<AxesSubplot:xlabel='day'>"
      ]
     },
     "execution_count": 846,
     "metadata": {},
     "output_type": "execute_result"
    },
    {
     "data": {
      "image/png": "[encoded data removed]",
      "text/plain": [
       "<Figure size 1296x360 with 1 Axes>"
      ]
     },
     "metadata": {
      "needs_background": "light"
     },
     "output_type": "display_data"
    }
   ],
   "source": [
    "y_true_grouped.plot(figsize=(18,5))\n",
    "ax=plt.gca()\n",
    "y_pred_grouped.plot(ax=ax)"
   ]
  },
  {
   "cell_type": "code",
   "execution_count": 871,
   "id": "b26e3f28",
   "metadata": {},
   "outputs": [
    {
     "data": {
      "text/plain": [
       "<AxesSubplot:xlabel='date'>"
      ]
     },
     "execution_count": 871,
     "metadata": {},
     "output_type": "execute_result"
    },
    {
     "data": {
      "image/png": "[encoded data removed]",
      "text/plain": [
       "<Figure size 1296x360 with 1 Axes>"
      ]
     },
     "metadata": {
      "needs_background": "light"
     },
     "output_type": "display_data"
    }
   ],
   "source": [
    "#pd.DataFrame(date_valid)\n",
    "tmpdf = pd.DataFrame(train_ds.loc[features_valid.index,:]['date']).groupby(by='date').count().reset_index().join(y_true_grouped)\n",
    "tmpdf.plot(x='date', y='target', figsize=(18,5))\n",
    "ax=plt.gca()\n",
    "tmpdf = pd.DataFrame(train_ds.loc[features_valid.index,:]['date']).groupby(by='date').count().reset_index().join(y_pred_grouped)\n",
    "tmpdf.plot(ax=ax, x='date', y=0)"
   ]
  },
  {
   "cell_type": "code",
   "execution_count": 848,
   "id": "df9b4216",
   "metadata": {},
   "outputs": [
    {
     "name": "stdout",
     "output_type": "stream",
     "text": [
      "mae_of_the_day - 185.9088506981327\n",
      "mae_of_the_day - 156.63501254873384\n",
      "mae_of_the_day - 163.91881822317887\n",
      "mae_of_the_day - 148.10670005666242\n"
     ]
    }
   ],
   "source": [
    "for quarter in quarters:\n",
    "    mae = mae_day(quarter['target'], lgbm_model.predict(quarter['features']))\n",
    "    print(f'mae_of_the_day - {mae}')"
   ]
  },
  {
   "cell_type": "code",
   "execution_count": 849,
   "id": "931f1498",
   "metadata": {},
   "outputs": [
    {
     "name": "stdout",
     "output_type": "stream",
     "text": [
      "mae_of_the_day - 150.09591094767686\n"
     ]
    }
   ],
   "source": [
    "features_2023, target_2023 = features_interval(features, target, '2023-01-01', '2023-04-01')\n",
    "mae = mae_day(target_2023, lgbm_model.predict(features_2023))\n",
    "print(f'mae_of_the_day - {mae}')"
   ]
  },
  {
   "cell_type": "code",
   "execution_count": 850,
   "id": "57e6e4c9",
   "metadata": {},
   "outputs": [
    {
     "name": "stdout",
     "output_type": "stream",
     "text": [
      "[LightGBM] [Warning] feature_fraction is set=0.9875, colsample_bytree=1.0 will be ignored. Current value: feature_fraction=0.9875\n"
     ]
    },
    {
     "name": "stderr",
     "output_type": "stream",
     "text": [
      "c:\\ProgramData\\Anaconda3\\lib\\site-packages\\lightgbm\\engine.py:177: UserWarning: Found `num_iterations` in params. Will use it instead of argument\n",
      "  _log_warning(f\"Found `{alias}` in params. Will use it instead of argument\")\n"
     ]
    },
    {
     "name": "stdout",
     "output_type": "stream",
     "text": [
      "mae_of_the_day - 142.90470238629524\n"
     ]
    }
   ],
   "source": [
    "features_2022, target_2022 = features_interval(features, target, '2019-01-01', '2023-01-01')\n",
    "lgbm_model_2022 = lgb.LGBMRegressor(num_leaves=15, learning_rate=best_learning_rate_1000, num_iterations=10000, \n",
    "                               feature_fraction=best_feature_fraction, random_state=random_state, objective='regression_l1', n_jobs=-1)\n",
    "lgbm_model_2022.fit(features_2022, target_2022)\n",
    "mae = mae_day(target_2023, lgbm_model_2022.predict(features_2023))\n",
    "print(f'mae_of_the_day - {mae}')\n",
    "mae_base = mae"
   ]
  },
  {
   "cell_type": "code",
   "execution_count": 851,
   "id": "a1789ff1",
   "metadata": {},
   "outputs": [
    {
     "name": "stdout",
     "output_type": "stream",
     "text": [
      "[LightGBM] [Warning] feature_fraction is set=0.9875, colsample_bytree=1.0 will be ignored. Current value: feature_fraction=0.9875\n"
     ]
    },
    {
     "name": "stderr",
     "output_type": "stream",
     "text": [
      "c:\\ProgramData\\Anaconda3\\lib\\site-packages\\lightgbm\\engine.py:177: UserWarning: Found `num_iterations` in params. Will use it instead of argument\n",
      "  _log_warning(f\"Found `{alias}` in params. Will use it instead of argument\")\n"
     ]
    },
    {
     "name": "stdout",
     "output_type": "stream",
     "text": [
      "mae_of_the_day - 121.93029658228129\n"
     ]
    }
   ],
   "source": [
    "features_all_train, target_all_train, date_all_train = features_interval(features, target, '2019-01-01', '2023-04-01')\n",
    "lgbm_model_all_train = lgb.LGBMRegressor(num_leaves=15, learning_rate=best_learning_rate_1000, num_iterations=10000, \n",
    "                               feature_fraction=best_feature_fraction, random_state=random_state, objective='regression_l1', n_jobs=-1)\n",
    "lgbm_model_all_train.fit(features_all_train, target_all_train)\n",
    "\n",
    "\n",
    "features_test, target_test, date_test = features_interval(features, target, '2023-04-01', '2023-08-01')\n",
    "mae = mae_day(target_test, lgbm_model_all_train.predict(features_test))\n",
    "print(f'mae_of_the_day - {mae}')"
   ]
  },
  {
   "cell_type": "code",
   "execution_count": 852,
   "id": "162448d4",
   "metadata": {},
   "outputs": [
    {
     "name": "stdout",
     "output_type": "stream",
     "text": [
      "[LightGBM] [Warning] feature_fraction is set=0.9875, colsample_bytree=1.0 will be ignored. Current value: feature_fraction=0.9875\n"
     ]
    },
    {
     "name": "stderr",
     "output_type": "stream",
     "text": [
      "c:\\ProgramData\\Anaconda3\\lib\\site-packages\\lightgbm\\engine.py:177: UserWarning: Found `num_iterations` in params. Will use it instead of argument\n",
      "  _log_warning(f\"Found `{alias}` in params. Will use it instead of argument\")\n"
     ]
    },
    {
     "name": "stdout",
     "output_type": "stream",
     "text": [
      "dropped time ----------> mae = 200.28556265369625\n",
      "[LightGBM] [Warning] feature_fraction is set=0.9875, colsample_bytree=1.0 will be ignored. Current value: feature_fraction=0.9875\n"
     ]
    },
    {
     "name": "stderr",
     "output_type": "stream",
     "text": [
      "c:\\ProgramData\\Anaconda3\\lib\\site-packages\\lightgbm\\engine.py:177: UserWarning: Found `num_iterations` in params. Will use it instead of argument\n",
      "  _log_warning(f\"Found `{alias}` in params. Will use it instead of argument\")\n"
     ]
    },
    {
     "name": "stdout",
     "output_type": "stream",
     "text": [
      "dropped temp_pred ----------> mae = 145.7560202510432\n",
      "[LightGBM] [Warning] feature_fraction is set=0.9875, colsample_bytree=1.0 will be ignored. Current value: feature_fraction=0.9875\n"
     ]
    },
    {
     "name": "stderr",
     "output_type": "stream",
     "text": [
      "c:\\ProgramData\\Anaconda3\\lib\\site-packages\\lightgbm\\engine.py:177: UserWarning: Found `num_iterations` in params. Will use it instead of argument\n",
      "  _log_warning(f\"Found `{alias}` in params. Will use it instead of argument\")\n"
     ]
    },
    {
     "name": "stdout",
     "output_type": "stream",
     "text": [
      "dropped year ----------> mae = 143.1509201246466\n",
      "[LightGBM] [Warning] feature_fraction is set=0.9875, colsample_bytree=1.0 will be ignored. Current value: feature_fraction=0.9875\n"
     ]
    },
    {
     "name": "stderr",
     "output_type": "stream",
     "text": [
      "c:\\ProgramData\\Anaconda3\\lib\\site-packages\\lightgbm\\engine.py:177: UserWarning: Found `num_iterations` in params. Will use it instead of argument\n",
      "  _log_warning(f\"Found `{alias}` in params. Will use it instead of argument\")\n"
     ]
    },
    {
     "name": "stdout",
     "output_type": "stream",
     "text": [
      "dropped month ----------> mae = 150.45846197935043\n",
      "[LightGBM] [Warning] feature_fraction is set=0.9875, colsample_bytree=1.0 will be ignored. Current value: feature_fraction=0.9875\n"
     ]
    },
    {
     "name": "stderr",
     "output_type": "stream",
     "text": [
      "c:\\ProgramData\\Anaconda3\\lib\\site-packages\\lightgbm\\engine.py:177: UserWarning: Found `num_iterations` in params. Will use it instead of argument\n",
      "  _log_warning(f\"Found `{alias}` in params. Will use it instead of argument\")\n"
     ]
    },
    {
     "name": "stdout",
     "output_type": "stream",
     "text": [
      "dropped day_of_week ----------> mae = 274.7660306200836\n",
      "[LightGBM] [Warning] feature_fraction is set=0.9875, colsample_bytree=1.0 will be ignored. Current value: feature_fraction=0.9875\n"
     ]
    },
    {
     "name": "stderr",
     "output_type": "stream",
     "text": [
      "c:\\ProgramData\\Anaconda3\\lib\\site-packages\\lightgbm\\engine.py:177: UserWarning: Found `num_iterations` in params. Will use it instead of argument\n",
      "  _log_warning(f\"Found `{alias}` in params. Will use it instead of argument\")\n"
     ]
    },
    {
     "name": "stdout",
     "output_type": "stream",
     "text": [
      "dropped day ----------> mae = 151.84902429352638\n",
      "[LightGBM] [Warning] feature_fraction is set=0.9875, colsample_bytree=1.0 will be ignored. Current value: feature_fraction=0.9875\n"
     ]
    },
    {
     "name": "stderr",
     "output_type": "stream",
     "text": [
      "c:\\ProgramData\\Anaconda3\\lib\\site-packages\\lightgbm\\engine.py:177: UserWarning: Found `num_iterations` in params. Will use it instead of argument\n",
      "  _log_warning(f\"Found `{alias}` in params. Will use it instead of argument\")\n"
     ]
    },
    {
     "name": "stdout",
     "output_type": "stream",
     "text": [
      "dropped cloudy ----------> mae = 144.1314822965989\n",
      "[LightGBM] [Warning] feature_fraction is set=0.9875, colsample_bytree=1.0 will be ignored. Current value: feature_fraction=0.9875\n"
     ]
    },
    {
     "name": "stderr",
     "output_type": "stream",
     "text": [
      "c:\\ProgramData\\Anaconda3\\lib\\site-packages\\lightgbm\\engine.py:177: UserWarning: Found `num_iterations` in params. Will use it instead of argument\n",
      "  _log_warning(f\"Found `{alias}` in params. Will use it instead of argument\")\n"
     ]
    },
    {
     "name": "stdout",
     "output_type": "stream",
     "text": [
      "dropped rainy ----------> mae = 144.70616295882445\n",
      "[LightGBM] [Warning] feature_fraction is set=0.9875, colsample_bytree=1.0 will be ignored. Current value: feature_fraction=0.9875\n"
     ]
    },
    {
     "name": "stderr",
     "output_type": "stream",
     "text": [
      "c:\\ProgramData\\Anaconda3\\lib\\site-packages\\lightgbm\\engine.py:177: UserWarning: Found `num_iterations` in params. Will use it instead of argument\n",
      "  _log_warning(f\"Found `{alias}` in params. Will use it instead of argument\")\n"
     ]
    },
    {
     "name": "stdout",
     "output_type": "stream",
     "text": [
      "dropped windy ----------> mae = 141.20069705652716\n",
      "[LightGBM] [Warning] feature_fraction is set=0.9875, colsample_bytree=1.0 will be ignored. Current value: feature_fraction=0.9875\n"
     ]
    },
    {
     "name": "stderr",
     "output_type": "stream",
     "text": [
      "c:\\ProgramData\\Anaconda3\\lib\\site-packages\\lightgbm\\engine.py:177: UserWarning: Found `num_iterations` in params. Will use it instead of argument\n",
      "  _log_warning(f\"Found `{alias}` in params. Will use it instead of argument\")\n"
     ]
    },
    {
     "name": "stdout",
     "output_type": "stream",
     "text": [
      "dropped clear ----------> mae = 144.50094421970078\n",
      "[LightGBM] [Warning] feature_fraction is set=0.9875, colsample_bytree=1.0 will be ignored. Current value: feature_fraction=0.9875\n"
     ]
    },
    {
     "name": "stderr",
     "output_type": "stream",
     "text": [
      "c:\\ProgramData\\Anaconda3\\lib\\site-packages\\lightgbm\\engine.py:177: UserWarning: Found `num_iterations` in params. Will use it instead of argument\n",
      "  _log_warning(f\"Found `{alias}` in params. Will use it instead of argument\")\n"
     ]
    },
    {
     "name": "stdout",
     "output_type": "stream",
     "text": [
      "dropped rain_probability ----------> mae = 142.4404649553024\n",
      "[LightGBM] [Warning] feature_fraction is set=0.9875, colsample_bytree=1.0 will be ignored. Current value: feature_fraction=0.9875\n"
     ]
    },
    {
     "name": "stderr",
     "output_type": "stream",
     "text": [
      "c:\\ProgramData\\Anaconda3\\lib\\site-packages\\lightgbm\\engine.py:177: UserWarning: Found `num_iterations` in params. Will use it instead of argument\n",
      "  _log_warning(f\"Found `{alias}` in params. Will use it instead of argument\")\n"
     ]
    },
    {
     "name": "stdout",
     "output_type": "stream",
     "text": [
      "dropped has_rain_probability ----------> mae = 142.7375727156344\n",
      "[LightGBM] [Warning] feature_fraction is set=0.9875, colsample_bytree=1.0 will be ignored. Current value: feature_fraction=0.9875\n"
     ]
    },
    {
     "name": "stderr",
     "output_type": "stream",
     "text": [
      "c:\\ProgramData\\Anaconda3\\lib\\site-packages\\lightgbm\\engine.py:177: UserWarning: Found `num_iterations` in params. Will use it instead of argument\n",
      "  _log_warning(f\"Found `{alias}` in params. Will use it instead of argument\")\n"
     ]
    },
    {
     "name": "stdout",
     "output_type": "stream",
     "text": [
      "dropped holidays ----------> mae = 146.2219012478547\n",
      "[LightGBM] [Warning] feature_fraction is set=0.9875, colsample_bytree=1.0 will be ignored. Current value: feature_fraction=0.9875\n"
     ]
    },
    {
     "name": "stderr",
     "output_type": "stream",
     "text": [
      "c:\\ProgramData\\Anaconda3\\lib\\site-packages\\lightgbm\\engine.py:177: UserWarning: Found `num_iterations` in params. Will use it instead of argument\n",
      "  _log_warning(f\"Found `{alias}` in params. Will use it instead of argument\")\n"
     ]
    },
    {
     "name": "stdout",
     "output_type": "stream",
     "text": [
      "dropped preholidays ----------> mae = 142.67158641704174\n",
      "[LightGBM] [Warning] feature_fraction is set=0.9875, colsample_bytree=1.0 will be ignored. Current value: feature_fraction=0.9875\n"
     ]
    },
    {
     "name": "stderr",
     "output_type": "stream",
     "text": [
      "c:\\ProgramData\\Anaconda3\\lib\\site-packages\\lightgbm\\engine.py:177: UserWarning: Found `num_iterations` in params. Will use it instead of argument\n",
      "  _log_warning(f\"Found `{alias}` in params. Will use it instead of argument\")\n"
     ]
    },
    {
     "name": "stdout",
     "output_type": "stream",
     "text": [
      "dropped temp_last_day ----------> mae = 148.4378352620158\n",
      "[LightGBM] [Warning] feature_fraction is set=0.9875, colsample_bytree=1.0 will be ignored. Current value: feature_fraction=0.9875\n"
     ]
    },
    {
     "name": "stderr",
     "output_type": "stream",
     "text": [
      "c:\\ProgramData\\Anaconda3\\lib\\site-packages\\lightgbm\\engine.py:177: UserWarning: Found `num_iterations` in params. Will use it instead of argument\n",
      "  _log_warning(f\"Found `{alias}` in params. Will use it instead of argument\")\n"
     ]
    },
    {
     "name": "stdout",
     "output_type": "stream",
     "text": [
      "dropped target_lag_24 ----------> mae = 228.767237551167\n",
      "[LightGBM] [Warning] feature_fraction is set=0.9875, colsample_bytree=1.0 will be ignored. Current value: feature_fraction=0.9875\n"
     ]
    },
    {
     "name": "stderr",
     "output_type": "stream",
     "text": [
      "c:\\ProgramData\\Anaconda3\\lib\\site-packages\\lightgbm\\engine.py:177: UserWarning: Found `num_iterations` in params. Will use it instead of argument\n",
      "  _log_warning(f\"Found `{alias}` in params. Will use it instead of argument\")\n"
     ]
    },
    {
     "name": "stdout",
     "output_type": "stream",
     "text": [
      "dropped target_lag_72 ----------> mae = 140.00574421732688\n",
      "[LightGBM] [Warning] feature_fraction is set=0.9875, colsample_bytree=1.0 will be ignored. Current value: feature_fraction=0.9875\n"
     ]
    },
    {
     "name": "stderr",
     "output_type": "stream",
     "text": [
      "c:\\ProgramData\\Anaconda3\\lib\\site-packages\\lightgbm\\engine.py:177: UserWarning: Found `num_iterations` in params. Will use it instead of argument\n",
      "  _log_warning(f\"Found `{alias}` in params. Will use it instead of argument\")\n"
     ]
    },
    {
     "name": "stdout",
     "output_type": "stream",
     "text": [
      "dropped VVP_perc ----------> mae = 150.33666023516122\n",
      "[LightGBM] [Warning] feature_fraction is set=0.9875, colsample_bytree=1.0 will be ignored. Current value: feature_fraction=0.9875\n"
     ]
    },
    {
     "name": "stderr",
     "output_type": "stream",
     "text": [
      "c:\\ProgramData\\Anaconda3\\lib\\site-packages\\lightgbm\\engine.py:177: UserWarning: Found `num_iterations` in params. Will use it instead of argument\n",
      "  _log_warning(f\"Found `{alias}` in params. Will use it instead of argument\")\n"
     ]
    },
    {
     "name": "stdout",
     "output_type": "stream",
     "text": [
      "dropped P ----------> mae = 144.28023132069845\n",
      "[LightGBM] [Warning] feature_fraction is set=0.9875, colsample_bytree=1.0 will be ignored. Current value: feature_fraction=0.9875\n"
     ]
    },
    {
     "name": "stderr",
     "output_type": "stream",
     "text": [
      "c:\\ProgramData\\Anaconda3\\lib\\site-packages\\lightgbm\\engine.py:177: UserWarning: Found `num_iterations` in params. Will use it instead of argument\n",
      "  _log_warning(f\"Found `{alias}` in params. Will use it instead of argument\")\n"
     ]
    },
    {
     "name": "stdout",
     "output_type": "stream",
     "text": [
      "dropped U ----------> mae = 150.38539536820417\n",
      "[LightGBM] [Warning] feature_fraction is set=0.9875, colsample_bytree=1.0 will be ignored. Current value: feature_fraction=0.9875\n"
     ]
    },
    {
     "name": "stderr",
     "output_type": "stream",
     "text": [
      "c:\\ProgramData\\Anaconda3\\lib\\site-packages\\lightgbm\\engine.py:177: UserWarning: Found `num_iterations` in params. Will use it instead of argument\n",
      "  _log_warning(f\"Found `{alias}` in params. Will use it instead of argument\")\n"
     ]
    },
    {
     "name": "stdout",
     "output_type": "stream",
     "text": [
      "dropped WW ----------> mae = 144.9407774638709\n",
      "[LightGBM] [Warning] feature_fraction is set=0.9875, colsample_bytree=1.0 will be ignored. Current value: feature_fraction=0.9875\n"
     ]
    },
    {
     "name": "stderr",
     "output_type": "stream",
     "text": [
      "c:\\ProgramData\\Anaconda3\\lib\\site-packages\\lightgbm\\engine.py:177: UserWarning: Found `num_iterations` in params. Will use it instead of argument\n",
      "  _log_warning(f\"Found `{alias}` in params. Will use it instead of argument\")\n"
     ]
    },
    {
     "name": "stdout",
     "output_type": "stream",
     "text": [
      "dropped Td ----------> mae = 154.45172381422515\n",
      "[LightGBM] [Warning] feature_fraction is set=0.9875, colsample_bytree=1.0 will be ignored. Current value: feature_fraction=0.9875\n"
     ]
    },
    {
     "name": "stderr",
     "output_type": "stream",
     "text": [
      "c:\\ProgramData\\Anaconda3\\lib\\site-packages\\lightgbm\\engine.py:177: UserWarning: Found `num_iterations` in params. Will use it instead of argument\n",
      "  _log_warning(f\"Found `{alias}` in params. Will use it instead of argument\")\n"
     ]
    },
    {
     "name": "stdout",
     "output_type": "stream",
     "text": [
      "dropped N ----------> mae = 141.16903069509019\n",
      "[LightGBM] [Warning] feature_fraction is set=0.9875, colsample_bytree=1.0 will be ignored. Current value: feature_fraction=0.9875\n"
     ]
    },
    {
     "name": "stderr",
     "output_type": "stream",
     "text": [
      "c:\\ProgramData\\Anaconda3\\lib\\site-packages\\lightgbm\\engine.py:177: UserWarning: Found `num_iterations` in params. Will use it instead of argument\n",
      "  _log_warning(f\"Found `{alias}` in params. Will use it instead of argument\")\n"
     ]
    },
    {
     "name": "stdout",
     "output_type": "stream",
     "text": [
      "dropped S ----------> mae = 143.04569282792767\n",
      "[LightGBM] [Warning] feature_fraction is set=0.9875, colsample_bytree=1.0 will be ignored. Current value: feature_fraction=0.9875\n"
     ]
    },
    {
     "name": "stderr",
     "output_type": "stream",
     "text": [
      "c:\\ProgramData\\Anaconda3\\lib\\site-packages\\lightgbm\\engine.py:177: UserWarning: Found `num_iterations` in params. Will use it instead of argument\n",
      "  _log_warning(f\"Found `{alias}` in params. Will use it instead of argument\")\n"
     ]
    },
    {
     "name": "stdout",
     "output_type": "stream",
     "text": [
      "dropped W ----------> mae = 145.6937424940376\n",
      "[LightGBM] [Warning] feature_fraction is set=0.9875, colsample_bytree=1.0 will be ignored. Current value: feature_fraction=0.9875\n"
     ]
    },
    {
     "name": "stderr",
     "output_type": "stream",
     "text": [
      "c:\\ProgramData\\Anaconda3\\lib\\site-packages\\lightgbm\\engine.py:177: UserWarning: Found `num_iterations` in params. Will use it instead of argument\n",
      "  _log_warning(f\"Found `{alias}` in params. Will use it instead of argument\")\n"
     ]
    },
    {
     "name": "stdout",
     "output_type": "stream",
     "text": [
      "dropped E ----------> mae = 143.35167438179838\n"
     ]
    }
   ],
   "source": [
    "feature_cols_no_date = feature_cols.copy()\n",
    "feature_cols_no_date.remove('date')\n",
    "feature_drop_list = []\n",
    "for feature_name in feature_cols_no_date:\n",
    "    tmp_train, tmp_valid = features_2022.copy(), features_2023.copy()\n",
    "    tmp_train = tmp_train.drop(feature_name, axis=1)\n",
    "    tmp_valid = tmp_valid.drop(feature_name, axis=1)\n",
    "    lgbm_model_feature_drop = lgb.LGBMRegressor(num_leaves=15, learning_rate=best_learning_rate_1000, num_iterations=10000, \n",
    "                               feature_fraction=best_feature_fraction, random_state=random_state, objective='regression_l1', n_jobs=-1)\n",
    "    lgbm_model_feature_drop.fit(tmp_train, target_2022)\n",
    "    mae = mae_day(target_2023, lgbm_model_feature_drop.predict(tmp_valid))\n",
    "    feature_drop_list.append([feature_name, mae])\n",
    "    print(f'dropped {feature_name} ----------> mae = {mae}')"
   ]
  },
  {
   "cell_type": "code",
   "execution_count": 853,
   "id": "914ac13c",
   "metadata": {},
   "outputs": [
    {
     "data": {
      "text/html": [
       "<div>\n",
       "<style scoped>\n",
       "    .dataframe tbody tr th:only-of-type {\n",
       "        vertical-align: middle;\n",
       "    }\n",
       "\n",
       "    .dataframe tbody tr th {\n",
       "        vertical-align: top;\n",
       "    }\n",
       "\n",
       "    .dataframe thead th {\n",
       "        text-align: right;\n",
       "    }\n",
       "</style>\n",
       "<table border=\"1\" class=\"dataframe\">\n",
       "  <thead>\n",
       "    <tr style=\"text-align: right;\">\n",
       "      <th></th>\n",
       "      <th>feature_name</th>\n",
       "      <th>mae_improvement</th>\n",
       "    </tr>\n",
       "  </thead>\n",
       "  <tbody>\n",
       "    <tr>\n",
       "      <th>16</th>\n",
       "      <td>target_lag_72</td>\n",
       "      <td>2.898958</td>\n",
       "    </tr>\n",
       "    <tr>\n",
       "      <th>22</th>\n",
       "      <td>N</td>\n",
       "      <td>1.735672</td>\n",
       "    </tr>\n",
       "    <tr>\n",
       "      <th>8</th>\n",
       "      <td>windy</td>\n",
       "      <td>1.704005</td>\n",
       "    </tr>\n",
       "    <tr>\n",
       "      <th>10</th>\n",
       "      <td>rain_probability</td>\n",
       "      <td>0.464237</td>\n",
       "    </tr>\n",
       "    <tr>\n",
       "      <th>13</th>\n",
       "      <td>preholidays</td>\n",
       "      <td>0.233116</td>\n",
       "    </tr>\n",
       "  </tbody>\n",
       "</table>\n",
       "</div>"
      ],
      "text/plain": [
       "        feature_name  mae_improvement\n",
       "16     target_lag_72         2.898958\n",
       "22                 N         1.735672\n",
       "8              windy         1.704005\n",
       "10  rain_probability         0.464237\n",
       "13       preholidays         0.233116"
      ]
     },
     "execution_count": 853,
     "metadata": {},
     "output_type": "execute_result"
    }
   ],
   "source": [
    "feature_drop_list_df = pd.DataFrame( feature_drop_list, columns=['feature_name','mae_improvement']).sort_values(by='mae_improvement')\n",
    "feature_drop_list_df['mae_improvement'] = mae_base - feature_drop_list_df['mae_improvement']\n",
    "feature_drop_list_df.head()"
   ]
  },
  {
   "cell_type": "code",
   "execution_count": 854,
   "id": "45686f74",
   "metadata": {},
   "outputs": [
    {
     "name": "stdout",
     "output_type": "stream",
     "text": [
      "learning_rate =  0.0028674413299018555\n",
      "feature_fraction =  0.9875\n"
     ]
    }
   ],
   "source": [
    "print('learning_rate = ', best_learning_rate_1000)\n",
    "print('feature_fraction = ', best_feature_fraction)"
   ]
  },
  {
   "cell_type": "code",
   "execution_count": 855,
   "id": "3a96cc92",
   "metadata": {},
   "outputs": [],
   "source": [
    "# this was at 2 drops\n",
    "# learning_rate =  0.00387870312757062\n",
    "# feature_fraction =  0.9875\n",
    "# base mae = 148.72177561808167\n",
    "# test mae = 121.41877699631416"
   ]
  },
  {
   "cell_type": "code",
   "execution_count": 856,
   "id": "9ba84f54",
   "metadata": {},
   "outputs": [
    {
     "data": {
      "text/plain": [
       "<AxesSubplot:ylabel='0'>"
      ]
     },
     "execution_count": 856,
     "metadata": {},
     "output_type": "execute_result"
    },
    {
     "data": {
      "image/png": "[encoded data removed]",
      "text/plain": [
       "<Figure size 1296x576 with 1 Axes>"
      ]
     },
     "metadata": {
      "needs_background": "light"
     },
     "output_type": "display_data"
    }
   ],
   "source": [
    "tmp_feature_cols = feature_cols.copy()\n",
    "tmp_feature_cols.remove('date')\n",
    "feature_importances = pd.DataFrame([tmp_feature_cols, lgbm_model.feature_importances_]).T.sort_values(by = 1)\n",
    "feature_importances.plot(kind='barh', x=0, y=1, figsize=(18, 8))"
   ]
  }
 ],
 "metadata": {
  "kernelspec": {
   "display_name": "Python 3 (ipykernel)",
   "language": "python",
   "name": "python3"
  },
  "language_info": {
   "codemirror_mode": {
    "name": "ipython",
    "version": 3
   },
   "file_extension": ".py",
   "mimetype": "text/x-python",
   "name": "python",
   "nbconvert_exporter": "python",
   "pygments_lexer": "ipython3",
   "version": "3.9.12"
  }
 },
 "nbformat": 4,
 "nbformat_minor": 5
}
