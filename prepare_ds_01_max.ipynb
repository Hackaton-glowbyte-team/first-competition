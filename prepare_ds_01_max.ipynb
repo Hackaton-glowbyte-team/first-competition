{
 "cells": [
  {
   "cell_type": "code",
   "execution_count": 273,
   "id": "e4351135",
   "metadata": {},
   "outputs": [],
   "source": [
    "import numpy as np\n",
    "import pandas as pd\n",
    "import matplotlib.pyplot as plt\n",
    "import datetime\n",
    "\n",
    "import lightgbm as lgb\n",
    "from sklearn.model_selection import train_test_split\n",
    "from sklearn.metrics import mean_absolute_error\n",
    "\n",
    "import re\n",
    "\n",
    "from tqdm import tqdm\n",
    "\n",
    "random_state = 12345\n",
    "\n",
    "import json\n",
    "import os"
   ]
  },
  {
   "cell_type": "code",
   "execution_count": 274,
   "id": "98a4ce10",
   "metadata": {},
   "outputs": [
    {
     "name": "stdout",
     "output_type": "stream",
     "text": [
      "<class 'pandas.core.frame.DataFrame'>\n",
      "RangeIndex: 37224 entries, 0 to 37223\n",
      "Data columns (total 7 columns):\n",
      " #   Column        Non-Null Count  Dtype  \n",
      "---  ------        --------------  -----  \n",
      " 0   date          37224 non-null  object \n",
      " 1   time          37224 non-null  int64  \n",
      " 2   target        37224 non-null  float64\n",
      " 3   temp          37224 non-null  float64\n",
      " 4   temp_pred     37136 non-null  float64\n",
      " 5   weather_pred  37136 non-null  object \n",
      " 6   weather_fact  37223 non-null  object \n",
      "dtypes: float64(3), int64(1), object(3)\n",
      "memory usage: 2.0+ MB\n"
     ]
    }
   ],
   "source": [
    "train_ds = pd.read_csv('data/train_dataset.csv')\n",
    "train_ds.info()"
   ]
  },
  {
   "cell_type": "code",
   "execution_count": 275,
   "id": "16090ac1",
   "metadata": {},
   "outputs": [],
   "source": [
    "train_ds['date'] = pd.to_datetime(train_ds['date'])\n",
    "train_ds['year'] = train_ds['date'].dt.year\n",
    "train_ds['month'] = train_ds['date'].dt.month\n",
    "train_ds['day_of_week'] = train_ds['date'].dt.dayofweek\n",
    "train_ds['day'] = train_ds['date'].dt.day\n",
    "train_ds['day_of_year'] = train_ds['date'].dt.dayofyear"
   ]
  },
  {
   "cell_type": "code",
   "execution_count": 276,
   "id": "42c7f979",
   "metadata": {},
   "outputs": [],
   "source": [
    "# функция формирует колонки 'cloudy', 'rainy', 'windy', 'clear', 'some_number'\n",
    "# в колонках число, которое 0 при отсутсвии упоминания явления в weather_pred или степень упоминания\n",
    "# функция дает в колонках номер первого списка, элемент которого есть в строке плюс 1\n",
    "# списки cloudy_list, rainy_list, windy_list, clear_list можно модифицировать\n",
    "# соответственно, можно экспериментировать с расположением значений в списках\n",
    "# например, сейчас 'дождь', 'снег', 'д+сн' - первая степень  дождя, а 'гроз', 'ливень' - вторая\n",
    "# а можно сделать снег второй, а грозу с ливнем убрать в третью\n",
    "# также сделал отдельный список для \"ясности\", чтобы выделить 'ясно' и 'солнечно'\n",
    "\n",
    "def in_what_list(weather, big_list):\n",
    "    for list_number, small_list in enumerate(big_list):\n",
    "        if any(word in weather for word in small_list):\n",
    "            return list_number+1\n",
    "    return 0\n",
    "\n",
    "def weather_split2(row):\n",
    "    weather = row['weather_pred']\n",
    "    cloudy_list = [['проясн', 'пер.об.', 'п/об'], ['пасм', 'обл']]\n",
    "    rainy_list = [['дождь', 'снег', 'д+сн'], ['гроз', 'ливень']]\n",
    "    windy_list = [['вет'],['штор']]\n",
    "    clear_list = [['проясн'], ['ясно'], ['солнеч']]\n",
    "    numbers = re.findall(r'\\d+', weather)\n",
    "    cloudy = in_what_list(weather, cloudy_list)\n",
    "    rainy = in_what_list(weather, rainy_list)\n",
    "    windy = in_what_list(weather, windy_list)\n",
    "    clear = in_what_list(weather, clear_list)\n",
    "    rain_probability = 0 if len(numbers)==0 else int(numbers[0])\n",
    "    has_rain_probability = int(len(numbers)==0)\n",
    "    return cloudy, rainy, windy, clear, rain_probability, has_rain_probability\n",
    "\n",
    "def fill_weather_columns(df):\n",
    "    df['weather_pred'] = df['weather_pred'].fillna('')\n",
    "    df['cloudy'], df['rainy'], df['windy'], df['clear'], df['rain_probability'], df['has_rain_probability'] = \\\n",
    "                zip(*df.apply(weather_split2, axis=1))\n",
    "    return df\n",
    "\n",
    "train_ds = fill_weather_columns(train_ds)\n",
    "\n"
   ]
  },
  {
   "cell_type": "code",
   "execution_count": 277,
   "id": "68e0243c",
   "metadata": {},
   "outputs": [],
   "source": [
    "def sunrise(df):\n",
    "    latitude = 54.7065\n",
    "    longitude = 20.511\n",
    "\n",
    "    sun = Sun(latitude, longitude)\n",
    "\n",
    "    df['day'] = df.index\n",
    "    df['sunrise'] = ('2019-01-01 00:00:00')\n",
    "    df['sunset'] = ('2019-01-01 00:00:00')\n",
    "\n",
    "    for i in range(len(df_train_orig['day'])):\n",
    "        df['sunrise'][i] = (sun.get_local_sunrise_time(datetime.date(df['day'][i])) \n",
    "                                        - timedelta(hours=1)).strftime('%Y-%m-%dZ%H:%M:%S')\n",
    "        df['sunset'][i] = (sun.get_local_sunset_time(datetime.date(df['day'][i])) \n",
    "                                        - timedelta(hours=1)).strftime('%Y-%m-%dZ%H:%M:%S')\n",
    "    \n",
    "    df = df.drop(['day'], axis= 1)\n",
    "\n",
    "    df['sunset'] = pd.to_datetime(df['sunset'], format='%Y-%m-%dZ%H:%M:%S')\n",
    "    df['sunrise'] = pd.to_datetime(df['sunrise'], format='%Y-%m-%dZ%H:%M:%S')\n",
    "    df['sun_time'] = df['sunset'] - df['sunrise']\n",
    "         \n",
    "    return df"
   ]
  },
  {
   "cell_type": "code",
   "execution_count": 278,
   "id": "fb5383e2",
   "metadata": {},
   "outputs": [
    {
     "name": "stdout",
     "output_type": "stream",
     "text": [
      "<class 'pandas.core.frame.DataFrame'>\n",
      "RangeIndex: 366 entries, 0 to 365\n",
      "Data columns (total 12 columns):\n",
      " #   Column                          Non-Null Count  Dtype  \n",
      "---  ------                          --------------  -----  \n",
      " 0   index                           366 non-null    float64\n",
      " 1   Восход                          366 non-null    object \n",
      " 2   Зенит                           366 non-null    object \n",
      " 3   Закат                           366 non-null    object \n",
      " 4   Долгота дня                     366 non-null    object \n",
      " 5   Unnamed: 4                      366 non-null    object \n",
      " 6   Начало астрономических сумерек  366 non-null    object \n",
      " 7   Начало навигационных сумерек    366 non-null    object \n",
      " 8   Начало гражданских сумерек      366 non-null    object \n",
      " 9   Конец гражданских сумерек       366 non-null    object \n",
      " 10  Конец навигационных сумерек     366 non-null    object \n",
      " 11  Конец астрономических сумерек   366 non-null    object \n",
      "dtypes: float64(1), object(11)\n",
      "memory usage: 34.4+ KB\n"
     ]
    }
   ],
   "source": [
    "daylight_2020 = pd.read_csv('data/daylight_data_2020.csv', sep=';').reset_index()\n",
    "daylight_2020.head(10)\n",
    "daylight_2020.info()"
   ]
  },
  {
   "cell_type": "code",
   "execution_count": 279,
   "id": "bdda03de",
   "metadata": {},
   "outputs": [
    {
     "data": {
      "text/plain": [
       "Timedelta('0 days 10:10:00')"
      ]
     },
     "execution_count": 279,
     "metadata": {},
     "output_type": "execute_result"
    }
   ],
   "source": [
    "def split_hm_time(s):\n",
    "    v = s.split(':')\n",
    "    #return( pd.to_timedelta(int(v[0]), unit='h') + pd.to_timedelta(int(v[1]), unit='m'))\n",
    "    return( int(v[0])*60 + int(v[1]))\n",
    "\n",
    "def split_time(s, units):\n",
    "    v = s.split(':')\n",
    "    return( sum( [ pd.to_timedelta(int(val), unit=units[i]) for i,val in enumerate(v) ], datetime.timedelta() ) )\n",
    "\n",
    "split_time('10:10', 'hm')"
   ]
  },
  {
   "cell_type": "code",
   "execution_count": 280,
   "id": "5f66eca6",
   "metadata": {},
   "outputs": [
    {
     "name": "stdout",
     "output_type": "stream",
     "text": [
      "<class 'pandas.core.frame.DataFrame'>\n",
      "Int64Index: 1665 entries, 0 to 203\n",
      "Data columns (total 14 columns):\n",
      " #   Column                Non-Null Count  Dtype         \n",
      "---  ------                --------------  -----         \n",
      " 0   date                  1665 non-null   datetime64[ns]\n",
      " 1   sunrise               1665 non-null   int64         \n",
      " 2   midday                1665 non-null   int64         \n",
      " 3   sunset                1665 non-null   int64         \n",
      " 4   duration              1665 non-null   object        \n",
      " 5   difference            1665 non-null   object        \n",
      " 6   astro_sunrise         1665 non-null   int64         \n",
      " 7   navigational_sunrise  1665 non-null   int64         \n",
      " 8   civil_sunrise         1665 non-null   int64         \n",
      " 9   civil_sunset          1665 non-null   int64         \n",
      " 10  navigational_sunset   1665 non-null   int64         \n",
      " 11  astro_sunset          1665 non-null   int64         \n",
      " 12  civil_day             1665 non-null   int64         \n",
      " 13  day_duration          1665 non-null   int64         \n",
      "dtypes: datetime64[ns](1), int64(11), object(2)\n",
      "memory usage: 195.1+ KB\n"
     ]
    }
   ],
   "source": [
    "years = [2019, 2020, 2021, 2022, 2023]\n",
    "daylight_column_names = ['date', 'sunrise', 'midday', 'sunset', 'duration', 'difference', \n",
    "                         'astro_sunrise', 'navigational_sunrise', 'civil_sunrise',\n",
    "                         'civil_sunset', 'navigational_sunset', 'astro_sunset']\n",
    "daylight_non_hm_names = ['date', 'duration', 'difference']\n",
    "daylight_hm_names = daylight_column_names.copy()\n",
    "for name in daylight_non_hm_names:\n",
    "    daylight_hm_names.remove(name)\n",
    "daylight_table = []\n",
    "for i, year in enumerate(years):\n",
    "    daylight_table.append(pd.read_csv(f'data/daylight_data_{year}.csv', sep=';').reset_index())\n",
    "    daylight_table[i].columns = daylight_column_names\n",
    "    daylight_table[i]['date'] = daylight_table[i]['date'].apply(lambda x: '{0:04d}-{1:02d}-{2:02d}'.format(year, round( (x % 1)*100), int(x)))\n",
    "    daylight_table[i]['date'] = pd.to_datetime(daylight_table[i]['date'])\n",
    "    #for column in daylight_column_names[1:]:\n",
    "        #daylight_table[i][column] = pd.to_timedelta(daylight_table[i][column])\n",
    "    #daylight_table[i]['sunrise'] = pd.to_timedelta(daylight_table[i]['sunrise'], unit='m')\n",
    "\n",
    "    #daylight_table[i]['sunrise'] = daylight_table[i]['sunrise'].apply(split_hm_time)\n",
    "    for name in daylight_hm_names:\n",
    "        daylight_table[i][name] = daylight_table[i][name].where(daylight_table[i][name]!='—', '0:0').apply(split_hm_time)\n",
    "\n",
    "daylight_df = pd.concat(daylight_table)\n",
    "\n",
    "daylight_df['civil_day'] = daylight_df['civil_sunset'] - daylight_df['civil_sunrise']\n",
    "daylight_df['day_duration'] = daylight_df['sunset'] - daylight_df['sunrise']\n",
    "\n",
    "daylight_df.info()"
   ]
  },
  {
   "cell_type": "code",
   "execution_count": 281,
   "id": "28abcba9",
   "metadata": {},
   "outputs": [
    {
     "data": {
      "text/html": [
       "<div>\n",
       "<style scoped>\n",
       "    .dataframe tbody tr th:only-of-type {\n",
       "        vertical-align: middle;\n",
       "    }\n",
       "\n",
       "    .dataframe tbody tr th {\n",
       "        vertical-align: top;\n",
       "    }\n",
       "\n",
       "    .dataframe thead th {\n",
       "        text-align: right;\n",
       "    }\n",
       "</style>\n",
       "<table border=\"1\" class=\"dataframe\">\n",
       "  <thead>\n",
       "    <tr style=\"text-align: right;\">\n",
       "      <th></th>\n",
       "      <th>date</th>\n",
       "      <th>sunrise</th>\n",
       "      <th>midday</th>\n",
       "      <th>sunset</th>\n",
       "      <th>duration</th>\n",
       "      <th>difference</th>\n",
       "      <th>astro_sunrise</th>\n",
       "      <th>navigational_sunrise</th>\n",
       "      <th>civil_sunrise</th>\n",
       "      <th>civil_sunset</th>\n",
       "      <th>navigational_sunset</th>\n",
       "      <th>astro_sunset</th>\n",
       "      <th>civil_day</th>\n",
       "      <th>day_duration</th>\n",
       "    </tr>\n",
       "  </thead>\n",
       "  <tbody>\n",
       "    <tr>\n",
       "      <th>0</th>\n",
       "      <td>2019-01-01</td>\n",
       "      <td>542</td>\n",
       "      <td>762</td>\n",
       "      <td>982</td>\n",
       "      <td>07:19:58</td>\n",
       "      <td>+1:14</td>\n",
       "      <td>406</td>\n",
       "      <td>450</td>\n",
       "      <td>497</td>\n",
       "      <td>1027</td>\n",
       "      <td>1074</td>\n",
       "      <td>1117</td>\n",
       "      <td>530</td>\n",
       "      <td>440</td>\n",
       "    </tr>\n",
       "    <tr>\n",
       "      <th>1</th>\n",
       "      <td>2019-01-02</td>\n",
       "      <td>542</td>\n",
       "      <td>762</td>\n",
       "      <td>983</td>\n",
       "      <td>07:21:19</td>\n",
       "      <td>+1:21</td>\n",
       "      <td>406</td>\n",
       "      <td>450</td>\n",
       "      <td>497</td>\n",
       "      <td>1028</td>\n",
       "      <td>1074</td>\n",
       "      <td>1118</td>\n",
       "      <td>531</td>\n",
       "      <td>441</td>\n",
       "    </tr>\n",
       "    <tr>\n",
       "      <th>2</th>\n",
       "      <td>2019-01-03</td>\n",
       "      <td>541</td>\n",
       "      <td>763</td>\n",
       "      <td>984</td>\n",
       "      <td>07:22:46</td>\n",
       "      <td>+1:27</td>\n",
       "      <td>406</td>\n",
       "      <td>450</td>\n",
       "      <td>497</td>\n",
       "      <td>1029</td>\n",
       "      <td>1075</td>\n",
       "      <td>1119</td>\n",
       "      <td>532</td>\n",
       "      <td>443</td>\n",
       "    </tr>\n",
       "    <tr>\n",
       "      <th>3</th>\n",
       "      <td>2019-01-04</td>\n",
       "      <td>541</td>\n",
       "      <td>763</td>\n",
       "      <td>985</td>\n",
       "      <td>07:24:21</td>\n",
       "      <td>+1:35</td>\n",
       "      <td>406</td>\n",
       "      <td>450</td>\n",
       "      <td>497</td>\n",
       "      <td>1030</td>\n",
       "      <td>1077</td>\n",
       "      <td>1120</td>\n",
       "      <td>533</td>\n",
       "      <td>444</td>\n",
       "    </tr>\n",
       "    <tr>\n",
       "      <th>4</th>\n",
       "      <td>2019-01-05</td>\n",
       "      <td>541</td>\n",
       "      <td>764</td>\n",
       "      <td>987</td>\n",
       "      <td>07:26:03</td>\n",
       "      <td>+1:42</td>\n",
       "      <td>406</td>\n",
       "      <td>450</td>\n",
       "      <td>497</td>\n",
       "      <td>1031</td>\n",
       "      <td>1078</td>\n",
       "      <td>1121</td>\n",
       "      <td>534</td>\n",
       "      <td>446</td>\n",
       "    </tr>\n",
       "  </tbody>\n",
       "</table>\n",
       "</div>"
      ],
      "text/plain": [
       "        date  sunrise  midday  sunset  duration difference  astro_sunrise  \\\n",
       "0 2019-01-01      542     762     982  07:19:58      +1:14            406   \n",
       "1 2019-01-02      542     762     983  07:21:19      +1:21            406   \n",
       "2 2019-01-03      541     763     984  07:22:46      +1:27            406   \n",
       "3 2019-01-04      541     763     985  07:24:21      +1:35            406   \n",
       "4 2019-01-05      541     764     987  07:26:03      +1:42            406   \n",
       "\n",
       "   navigational_sunrise  civil_sunrise  civil_sunset  navigational_sunset  \\\n",
       "0                   450            497          1027                 1074   \n",
       "1                   450            497          1028                 1074   \n",
       "2                   450            497          1029                 1075   \n",
       "3                   450            497          1030                 1077   \n",
       "4                   450            497          1031                 1078   \n",
       "\n",
       "   astro_sunset  civil_day  day_duration  \n",
       "0          1117        530           440  \n",
       "1          1118        531           441  \n",
       "2          1119        532           443  \n",
       "3          1120        533           444  \n",
       "4          1121        534           446  "
      ]
     },
     "execution_count": 281,
     "metadata": {},
     "output_type": "execute_result"
    }
   ],
   "source": [
    "# все числа даны в минутах от начала суток\n",
    "daylight_df.head()"
   ]
  },
  {
   "cell_type": "code",
   "execution_count": 282,
   "id": "3c22de42",
   "metadata": {},
   "outputs": [],
   "source": [
    "daylight_columns_for_merge = ['date', 'sunrise', 'midday', 'sunset', 'day_duration', 'civil_day']\n",
    "train_ds = train_ds.merge(daylight_df[daylight_columns_for_merge], on='date')"
   ]
  },
  {
   "cell_type": "code",
   "execution_count": 283,
   "id": "6a56f76c",
   "metadata": {},
   "outputs": [
    {
     "data": {
      "text/plain": [
       "Index(['date', 'time', 'target', 'temp', 'temp_pred', 'weather_pred',\n",
       "       'weather_fact', 'year', 'month', 'day_of_week', 'day', 'day_of_year',\n",
       "       'cloudy', 'rainy', 'windy', 'clear', 'rain_probability',\n",
       "       'has_rain_probability', 'sunrise', 'midday', 'sunset', 'day_duration',\n",
       "       'civil_day'],\n",
       "      dtype='object')"
      ]
     },
     "execution_count": 283,
     "metadata": {},
     "output_type": "execute_result"
    }
   ],
   "source": [
    "train_ds.columns"
   ]
  },
  {
   "cell_type": "code",
   "execution_count": 284,
   "id": "cd1eef86",
   "metadata": {},
   "outputs": [
    {
     "data": {
      "text/html": [
       "<div>\n",
       "<style scoped>\n",
       "    .dataframe tbody tr th:only-of-type {\n",
       "        vertical-align: middle;\n",
       "    }\n",
       "\n",
       "    .dataframe tbody tr th {\n",
       "        vertical-align: top;\n",
       "    }\n",
       "\n",
       "    .dataframe thead th {\n",
       "        text-align: right;\n",
       "    }\n",
       "</style>\n",
       "<table border=\"1\" class=\"dataframe\">\n",
       "  <thead>\n",
       "    <tr style=\"text-align: right;\">\n",
       "      <th></th>\n",
       "      <th>date</th>\n",
       "      <th>time</th>\n",
       "      <th>target</th>\n",
       "      <th>temp</th>\n",
       "      <th>temp_pred</th>\n",
       "      <th>weather_pred</th>\n",
       "      <th>weather_fact</th>\n",
       "      <th>year</th>\n",
       "      <th>month</th>\n",
       "      <th>day_of_week</th>\n",
       "      <th>...</th>\n",
       "      <th>rainy</th>\n",
       "      <th>windy</th>\n",
       "      <th>clear</th>\n",
       "      <th>rain_probability</th>\n",
       "      <th>has_rain_probability</th>\n",
       "      <th>sunrise</th>\n",
       "      <th>midday</th>\n",
       "      <th>sunset</th>\n",
       "      <th>day_duration</th>\n",
       "      <th>civil_day</th>\n",
       "    </tr>\n",
       "  </thead>\n",
       "  <tbody>\n",
       "    <tr>\n",
       "      <th>0</th>\n",
       "      <td>2019-01-01</td>\n",
       "      <td>0</td>\n",
       "      <td>481.510</td>\n",
       "      <td>2.9</td>\n",
       "      <td>2.0</td>\n",
       "      <td>пасм, ветер</td>\n",
       "      <td>ветер</td>\n",
       "      <td>2019</td>\n",
       "      <td>1</td>\n",
       "      <td>1</td>\n",
       "      <td>...</td>\n",
       "      <td>0</td>\n",
       "      <td>1</td>\n",
       "      <td>0</td>\n",
       "      <td>0</td>\n",
       "      <td>1</td>\n",
       "      <td>542</td>\n",
       "      <td>762</td>\n",
       "      <td>982</td>\n",
       "      <td>440</td>\n",
       "      <td>530</td>\n",
       "    </tr>\n",
       "    <tr>\n",
       "      <th>1</th>\n",
       "      <td>2019-01-01</td>\n",
       "      <td>1</td>\n",
       "      <td>462.872</td>\n",
       "      <td>2.9</td>\n",
       "      <td>2.0</td>\n",
       "      <td>пасм, ветер</td>\n",
       "      <td>ветер</td>\n",
       "      <td>2019</td>\n",
       "      <td>1</td>\n",
       "      <td>1</td>\n",
       "      <td>...</td>\n",
       "      <td>0</td>\n",
       "      <td>1</td>\n",
       "      <td>0</td>\n",
       "      <td>0</td>\n",
       "      <td>1</td>\n",
       "      <td>542</td>\n",
       "      <td>762</td>\n",
       "      <td>982</td>\n",
       "      <td>440</td>\n",
       "      <td>530</td>\n",
       "    </tr>\n",
       "    <tr>\n",
       "      <th>2</th>\n",
       "      <td>2019-01-01</td>\n",
       "      <td>2</td>\n",
       "      <td>449.718</td>\n",
       "      <td>2.9</td>\n",
       "      <td>2.0</td>\n",
       "      <td>пасм, ветер</td>\n",
       "      <td>ветер</td>\n",
       "      <td>2019</td>\n",
       "      <td>1</td>\n",
       "      <td>1</td>\n",
       "      <td>...</td>\n",
       "      <td>0</td>\n",
       "      <td>1</td>\n",
       "      <td>0</td>\n",
       "      <td>0</td>\n",
       "      <td>1</td>\n",
       "      <td>542</td>\n",
       "      <td>762</td>\n",
       "      <td>982</td>\n",
       "      <td>440</td>\n",
       "      <td>530</td>\n",
       "    </tr>\n",
       "    <tr>\n",
       "      <th>3</th>\n",
       "      <td>2019-01-01</td>\n",
       "      <td>3</td>\n",
       "      <td>430.908</td>\n",
       "      <td>4.3</td>\n",
       "      <td>2.0</td>\n",
       "      <td>пасм, ветер</td>\n",
       "      <td>ветер, пасм</td>\n",
       "      <td>2019</td>\n",
       "      <td>1</td>\n",
       "      <td>1</td>\n",
       "      <td>...</td>\n",
       "      <td>0</td>\n",
       "      <td>1</td>\n",
       "      <td>0</td>\n",
       "      <td>0</td>\n",
       "      <td>1</td>\n",
       "      <td>542</td>\n",
       "      <td>762</td>\n",
       "      <td>982</td>\n",
       "      <td>440</td>\n",
       "      <td>530</td>\n",
       "    </tr>\n",
       "    <tr>\n",
       "      <th>4</th>\n",
       "      <td>2019-01-01</td>\n",
       "      <td>4</td>\n",
       "      <td>415.163</td>\n",
       "      <td>4.3</td>\n",
       "      <td>2.0</td>\n",
       "      <td>пасм, ветер</td>\n",
       "      <td>ветер, пасм</td>\n",
       "      <td>2019</td>\n",
       "      <td>1</td>\n",
       "      <td>1</td>\n",
       "      <td>...</td>\n",
       "      <td>0</td>\n",
       "      <td>1</td>\n",
       "      <td>0</td>\n",
       "      <td>0</td>\n",
       "      <td>1</td>\n",
       "      <td>542</td>\n",
       "      <td>762</td>\n",
       "      <td>982</td>\n",
       "      <td>440</td>\n",
       "      <td>530</td>\n",
       "    </tr>\n",
       "  </tbody>\n",
       "</table>\n",
       "<p>5 rows × 23 columns</p>\n",
       "</div>"
      ],
      "text/plain": [
       "        date  time   target  temp  temp_pred weather_pred weather_fact  year  \\\n",
       "0 2019-01-01     0  481.510   2.9        2.0  пасм, ветер        ветер  2019   \n",
       "1 2019-01-01     1  462.872   2.9        2.0  пасм, ветер        ветер  2019   \n",
       "2 2019-01-01     2  449.718   2.9        2.0  пасм, ветер        ветер  2019   \n",
       "3 2019-01-01     3  430.908   4.3        2.0  пасм, ветер  ветер, пасм  2019   \n",
       "4 2019-01-01     4  415.163   4.3        2.0  пасм, ветер  ветер, пасм  2019   \n",
       "\n",
       "   month  day_of_week  ...  rainy  windy  clear  rain_probability  \\\n",
       "0      1            1  ...      0      1      0                 0   \n",
       "1      1            1  ...      0      1      0                 0   \n",
       "2      1            1  ...      0      1      0                 0   \n",
       "3      1            1  ...      0      1      0                 0   \n",
       "4      1            1  ...      0      1      0                 0   \n",
       "\n",
       "   has_rain_probability  sunrise  midday  sunset  day_duration  civil_day  \n",
       "0                     1      542     762     982           440        530  \n",
       "1                     1      542     762     982           440        530  \n",
       "2                     1      542     762     982           440        530  \n",
       "3                     1      542     762     982           440        530  \n",
       "4                     1      542     762     982           440        530  \n",
       "\n",
       "[5 rows x 23 columns]"
      ]
     },
     "execution_count": 284,
     "metadata": {},
     "output_type": "execute_result"
    }
   ],
   "source": [
    "train_ds.head()"
   ]
  },
  {
   "cell_type": "code",
   "execution_count": 285,
   "id": "3005553a",
   "metadata": {},
   "outputs": [],
   "source": [
    "df_holidays = pd.read_csv('data/holidays.csv')\n",
    "df_holidays['date'] = pd.to_datetime(df_holidays['date'])"
   ]
  },
  {
   "cell_type": "code",
   "execution_count": 286,
   "id": "03029389",
   "metadata": {},
   "outputs": [],
   "source": [
    "# Assuming df_holidays and train_ds are your dataframes\n",
    "train_ds = pd.merge(train_ds, df_holidays, on='date', how='left')\n",
    "\n",
    "# Fill NaN values with 0\n",
    "train_ds['holidays'].fillna(0, inplace=True)\n",
    "train_ds['preholidays'].fillna(0, inplace=True)\n",
    "\n",
    "# Convert to int\n",
    "train_ds['holidays'] = train_ds['holidays'].astype(int)\n",
    "train_ds['preholidays'] = train_ds['preholidays'].astype(int)"
   ]
  },
  {
   "cell_type": "code",
   "execution_count": 287,
   "id": "75da73d2",
   "metadata": {},
   "outputs": [
    {
     "data": {
      "text/html": [
       "<div>\n",
       "<style scoped>\n",
       "    .dataframe tbody tr th:only-of-type {\n",
       "        vertical-align: middle;\n",
       "    }\n",
       "\n",
       "    .dataframe tbody tr th {\n",
       "        vertical-align: top;\n",
       "    }\n",
       "\n",
       "    .dataframe thead th {\n",
       "        text-align: right;\n",
       "    }\n",
       "</style>\n",
       "<table border=\"1\" class=\"dataframe\">\n",
       "  <thead>\n",
       "    <tr style=\"text-align: right;\">\n",
       "      <th></th>\n",
       "      <th>date</th>\n",
       "      <th>time</th>\n",
       "      <th>target</th>\n",
       "      <th>temp</th>\n",
       "      <th>temp_pred</th>\n",
       "      <th>weather_pred</th>\n",
       "      <th>weather_fact</th>\n",
       "      <th>year</th>\n",
       "      <th>month</th>\n",
       "      <th>day_of_week</th>\n",
       "      <th>...</th>\n",
       "      <th>clear</th>\n",
       "      <th>rain_probability</th>\n",
       "      <th>has_rain_probability</th>\n",
       "      <th>sunrise</th>\n",
       "      <th>midday</th>\n",
       "      <th>sunset</th>\n",
       "      <th>day_duration</th>\n",
       "      <th>civil_day</th>\n",
       "      <th>holidays</th>\n",
       "      <th>preholidays</th>\n",
       "    </tr>\n",
       "  </thead>\n",
       "  <tbody>\n",
       "    <tr>\n",
       "      <th>0</th>\n",
       "      <td>2019-01-01</td>\n",
       "      <td>0</td>\n",
       "      <td>481.510</td>\n",
       "      <td>2.9</td>\n",
       "      <td>2.0</td>\n",
       "      <td>пасм, ветер</td>\n",
       "      <td>ветер</td>\n",
       "      <td>2019</td>\n",
       "      <td>1</td>\n",
       "      <td>1</td>\n",
       "      <td>...</td>\n",
       "      <td>0</td>\n",
       "      <td>0</td>\n",
       "      <td>1</td>\n",
       "      <td>542</td>\n",
       "      <td>762</td>\n",
       "      <td>982</td>\n",
       "      <td>440</td>\n",
       "      <td>530</td>\n",
       "      <td>0</td>\n",
       "      <td>0</td>\n",
       "    </tr>\n",
       "    <tr>\n",
       "      <th>1</th>\n",
       "      <td>2019-01-01</td>\n",
       "      <td>1</td>\n",
       "      <td>462.872</td>\n",
       "      <td>2.9</td>\n",
       "      <td>2.0</td>\n",
       "      <td>пасм, ветер</td>\n",
       "      <td>ветер</td>\n",
       "      <td>2019</td>\n",
       "      <td>1</td>\n",
       "      <td>1</td>\n",
       "      <td>...</td>\n",
       "      <td>0</td>\n",
       "      <td>0</td>\n",
       "      <td>1</td>\n",
       "      <td>542</td>\n",
       "      <td>762</td>\n",
       "      <td>982</td>\n",
       "      <td>440</td>\n",
       "      <td>530</td>\n",
       "      <td>0</td>\n",
       "      <td>0</td>\n",
       "    </tr>\n",
       "    <tr>\n",
       "      <th>2</th>\n",
       "      <td>2019-01-01</td>\n",
       "      <td>2</td>\n",
       "      <td>449.718</td>\n",
       "      <td>2.9</td>\n",
       "      <td>2.0</td>\n",
       "      <td>пасм, ветер</td>\n",
       "      <td>ветер</td>\n",
       "      <td>2019</td>\n",
       "      <td>1</td>\n",
       "      <td>1</td>\n",
       "      <td>...</td>\n",
       "      <td>0</td>\n",
       "      <td>0</td>\n",
       "      <td>1</td>\n",
       "      <td>542</td>\n",
       "      <td>762</td>\n",
       "      <td>982</td>\n",
       "      <td>440</td>\n",
       "      <td>530</td>\n",
       "      <td>0</td>\n",
       "      <td>0</td>\n",
       "    </tr>\n",
       "    <tr>\n",
       "      <th>3</th>\n",
       "      <td>2019-01-01</td>\n",
       "      <td>3</td>\n",
       "      <td>430.908</td>\n",
       "      <td>4.3</td>\n",
       "      <td>2.0</td>\n",
       "      <td>пасм, ветер</td>\n",
       "      <td>ветер, пасм</td>\n",
       "      <td>2019</td>\n",
       "      <td>1</td>\n",
       "      <td>1</td>\n",
       "      <td>...</td>\n",
       "      <td>0</td>\n",
       "      <td>0</td>\n",
       "      <td>1</td>\n",
       "      <td>542</td>\n",
       "      <td>762</td>\n",
       "      <td>982</td>\n",
       "      <td>440</td>\n",
       "      <td>530</td>\n",
       "      <td>0</td>\n",
       "      <td>0</td>\n",
       "    </tr>\n",
       "    <tr>\n",
       "      <th>4</th>\n",
       "      <td>2019-01-01</td>\n",
       "      <td>4</td>\n",
       "      <td>415.163</td>\n",
       "      <td>4.3</td>\n",
       "      <td>2.0</td>\n",
       "      <td>пасм, ветер</td>\n",
       "      <td>ветер, пасм</td>\n",
       "      <td>2019</td>\n",
       "      <td>1</td>\n",
       "      <td>1</td>\n",
       "      <td>...</td>\n",
       "      <td>0</td>\n",
       "      <td>0</td>\n",
       "      <td>1</td>\n",
       "      <td>542</td>\n",
       "      <td>762</td>\n",
       "      <td>982</td>\n",
       "      <td>440</td>\n",
       "      <td>530</td>\n",
       "      <td>0</td>\n",
       "      <td>0</td>\n",
       "    </tr>\n",
       "  </tbody>\n",
       "</table>\n",
       "<p>5 rows × 25 columns</p>\n",
       "</div>"
      ],
      "text/plain": [
       "        date  time   target  temp  temp_pred weather_pred weather_fact  year  \\\n",
       "0 2019-01-01     0  481.510   2.9        2.0  пасм, ветер        ветер  2019   \n",
       "1 2019-01-01     1  462.872   2.9        2.0  пасм, ветер        ветер  2019   \n",
       "2 2019-01-01     2  449.718   2.9        2.0  пасм, ветер        ветер  2019   \n",
       "3 2019-01-01     3  430.908   4.3        2.0  пасм, ветер  ветер, пасм  2019   \n",
       "4 2019-01-01     4  415.163   4.3        2.0  пасм, ветер  ветер, пасм  2019   \n",
       "\n",
       "   month  day_of_week  ...  clear  rain_probability  has_rain_probability  \\\n",
       "0      1            1  ...      0                 0                     1   \n",
       "1      1            1  ...      0                 0                     1   \n",
       "2      1            1  ...      0                 0                     1   \n",
       "3      1            1  ...      0                 0                     1   \n",
       "4      1            1  ...      0                 0                     1   \n",
       "\n",
       "   sunrise  midday  sunset  day_duration  civil_day  holidays  preholidays  \n",
       "0      542     762     982           440        530         0            0  \n",
       "1      542     762     982           440        530         0            0  \n",
       "2      542     762     982           440        530         0            0  \n",
       "3      542     762     982           440        530         0            0  \n",
       "4      542     762     982           440        530         0            0  \n",
       "\n",
       "[5 rows x 25 columns]"
      ]
     },
     "execution_count": 287,
     "metadata": {},
     "output_type": "execute_result"
    }
   ],
   "source": [
    "train_ds.head()"
   ]
  },
  {
   "cell_type": "code",
   "execution_count": 288,
   "id": "91cfdcd1",
   "metadata": {},
   "outputs": [],
   "source": [
    "# создаем столбец 'temp_last_day'\n",
    "train_ds['temp_last_day'] = train_ds['temp'].shift(24)\n",
    "\n",
    "# заполняем пропущенные значения в 'temp_last_day'\n",
    "train_ds['temp_last_day'].fillna(method='bfill', inplace=True)\n",
    "\n",
    "# создаем столбцы с временными лагами для 'target'\n",
    "lags = [24, 48, 72, 7*24, 14*24]\n",
    "for lag in lags:\n",
    "    train_ds[f'target_lag_{lag}'] = train_ds['target'].shift(lag)\n",
    "\n",
    "# заполняем пропущенные значения в столбцах с лагами\n",
    "for lag in lags:\n",
    "    train_ds[f'target_lag_{lag}'].fillna(0, inplace=True)"
   ]
  },
  {
   "cell_type": "code",
   "execution_count": 289,
   "id": "eb89990e",
   "metadata": {},
   "outputs": [
    {
     "name": "stdout",
     "output_type": "stream",
     "text": [
      "40080\n",
      "40080\n",
      "<class 'pandas.core.frame.DataFrame'>\n",
      "Int64Index: 40080 entries, 0 to 40079\n",
      "Data columns (total 31 columns):\n",
      " #   Column                Non-Null Count  Dtype         \n",
      "---  ------                --------------  -----         \n",
      " 0   date                  40080 non-null  datetime64[ns]\n",
      " 1   time                  40080 non-null  int64         \n",
      " 2   target                40080 non-null  float64       \n",
      " 3   temp                  40080 non-null  float64       \n",
      " 4   temp_pred             39992 non-null  float64       \n",
      " 5   weather_pred          40080 non-null  object        \n",
      " 6   weather_fact          40079 non-null  object        \n",
      " 7   year                  40080 non-null  int64         \n",
      " 8   month                 40080 non-null  int64         \n",
      " 9   day_of_week           40080 non-null  int64         \n",
      " 10  day                   40080 non-null  int64         \n",
      " 11  day_of_year           40080 non-null  int64         \n",
      " 12  cloudy                40080 non-null  int64         \n",
      " 13  rainy                 40080 non-null  int64         \n",
      " 14  windy                 40080 non-null  int64         \n",
      " 15  clear                 40080 non-null  int64         \n",
      " 16  rain_probability      40080 non-null  int64         \n",
      " 17  has_rain_probability  40080 non-null  int64         \n",
      " 18  sunrise               40080 non-null  int64         \n",
      " 19  midday                40080 non-null  int64         \n",
      " 20  sunset                40080 non-null  int64         \n",
      " 21  day_duration          40080 non-null  int64         \n",
      " 22  civil_day             40080 non-null  int64         \n",
      " 23  holidays              40080 non-null  int32         \n",
      " 24  preholidays           40080 non-null  int32         \n",
      " 25  temp_last_day         40080 non-null  float64       \n",
      " 26  target_lag_24         40080 non-null  float64       \n",
      " 27  target_lag_48         40080 non-null  float64       \n",
      " 28  target_lag_72         40080 non-null  float64       \n",
      " 29  target_lag_168        40080 non-null  float64       \n",
      " 30  target_lag_336        40080 non-null  float64       \n",
      "dtypes: datetime64[ns](1), float64(9), int32(2), int64(17), object(2)\n",
      "memory usage: 9.5+ MB\n"
     ]
    }
   ],
   "source": [
    "# создаем столбец 'temp_last_day'\n",
    "#train_ds['avg_temp_last_day'] = train_ds.groupby(by='date')['temp_pred'].transform('mean')\n",
    "#train_ds['max_temp_last_day'] = train_ds.groupby(by='date')['temp_pred'].transform('max')\n",
    "#train_ds['min_temp_last_day'] = train_ds.groupby(by='date')['temp_pred'].transform('min')\n",
    "#df.groupby('dummy')['returns'].agg(Mean='mean', Sum='sum')\n",
    "print(len(train_ds))\n",
    "#date_temp = train_ds.groupby(by='date')['temp'].agg(avg_temp_last_day='mean', max_temp_last_day='max', min_temp_last_day='min').shift(1)\n",
    "date_temp = train_ds.groupby(by='date')['temp'].agg(max_temp_last_day='max', min_temp_last_day='min').shift(1)\n",
    "#train_ds = train_ds.merge(date_temp, on='date')[train_ds['date']>'2019-01-01']\n",
    "print(len(train_ds))\n",
    "train_ds.info()"
   ]
  },
  {
   "cell_type": "code",
   "execution_count": 402,
   "id": "d3e41dd3",
   "metadata": {},
   "outputs": [],
   "source": [
    "def add_vvp(dataframe, col_date ='date', file_source = 'data/VVP.csv'):\n",
    "    \"\"\"\n",
    "    передаем датафрейм и название колонки с датой, к которой идет привязка ВВП\n",
    "    формат колонки с датой должен быть datetime64 и с часами\n",
    "    \"\"\"\n",
    "    # читаем файл с динамикой ВВП\n",
    "    vvp = pd.read_csv(file_source)\n",
    "    # преобразуем дату файла-источника в формат datetime64 и дропнем один столбик\n",
    "    vvp['date'] = pd.to_datetime(vvp['date'], format ='%Y-%m-%d %H:%M:%S')\n",
    "    vvp.drop('for_month',axis=1,inplace=True) \n",
    "    # соединяем основной фрейм и ВВП по дате объявления показтеля ВВП\n",
    "    result = pd.merge(dataframe,vvp,how ='left', on='date')\n",
    "    # считаем, что пока нет новостей, то берем старые данные\n",
    "    result['VVP_perc'].fillna(method = 'ffill',inplace=True)\n",
    "    # для начала датасета берем показатель ВВП из 2018 года вручную\n",
    "    result['VVP_perc'].fillna(value = vvp['VVP_perc'].iloc[-1]\n",
    "                              ,inplace=True  )\n",
    "    # возращаем новый датасет \n",
    "    return result"
   ]
  },
  {
   "cell_type": "code",
   "execution_count": 403,
   "id": "fe4d46e1",
   "metadata": {},
   "outputs": [],
   "source": [
    "# пример работы\n",
    "#data = pd.read_csv('data/train_dataset.csv')\n",
    "#data['date'] = pd.to_datetime(data['date'], format = '%Y-%m-%d' )\n",
    "# соединяем дату и часы в один datatime \n",
    "def date_plus_hours_to_index(data):\n",
    "    data = data.copy()\n",
    "    data['date'] = data['date'] + pd.to_timedelta(data['time'] , 'H')\n",
    "    data = data.set_index('date')\n",
    "    return data\n",
    "# применяем функцию добавления ВВП\n",
    "train_ds = add_vvp(train_ds,'date')"
   ]
  },
  {
   "cell_type": "code",
   "execution_count": 404,
   "id": "f51e77ef",
   "metadata": {},
   "outputs": [
    {
     "data": {
      "text/html": [
       "<div>\n",
       "<style scoped>\n",
       "    .dataframe tbody tr th:only-of-type {\n",
       "        vertical-align: middle;\n",
       "    }\n",
       "\n",
       "    .dataframe tbody tr th {\n",
       "        vertical-align: top;\n",
       "    }\n",
       "\n",
       "    .dataframe thead th {\n",
       "        text-align: right;\n",
       "    }\n",
       "</style>\n",
       "<table border=\"1\" class=\"dataframe\">\n",
       "  <thead>\n",
       "    <tr style=\"text-align: right;\">\n",
       "      <th></th>\n",
       "      <th>date</th>\n",
       "      <th>time</th>\n",
       "      <th>target</th>\n",
       "      <th>temp</th>\n",
       "      <th>temp_pred</th>\n",
       "      <th>weather_pred</th>\n",
       "      <th>weather_fact</th>\n",
       "      <th>year</th>\n",
       "      <th>month</th>\n",
       "      <th>day_of_week</th>\n",
       "      <th>...</th>\n",
       "      <th>civil_day</th>\n",
       "      <th>holidays</th>\n",
       "      <th>preholidays</th>\n",
       "      <th>temp_last_day</th>\n",
       "      <th>target_lag_24</th>\n",
       "      <th>target_lag_48</th>\n",
       "      <th>target_lag_72</th>\n",
       "      <th>target_lag_168</th>\n",
       "      <th>target_lag_336</th>\n",
       "      <th>VVP_perc</th>\n",
       "    </tr>\n",
       "  </thead>\n",
       "  <tbody>\n",
       "    <tr>\n",
       "      <th>0</th>\n",
       "      <td>2019-01-01</td>\n",
       "      <td>0</td>\n",
       "      <td>481.510</td>\n",
       "      <td>2.9</td>\n",
       "      <td>2.0</td>\n",
       "      <td>пасм, ветер</td>\n",
       "      <td>ветер</td>\n",
       "      <td>2019</td>\n",
       "      <td>1</td>\n",
       "      <td>1</td>\n",
       "      <td>...</td>\n",
       "      <td>530</td>\n",
       "      <td>0</td>\n",
       "      <td>0</td>\n",
       "      <td>2.9</td>\n",
       "      <td>0.0</td>\n",
       "      <td>0.0</td>\n",
       "      <td>0.0</td>\n",
       "      <td>0.0</td>\n",
       "      <td>0.0</td>\n",
       "      <td>1.8</td>\n",
       "    </tr>\n",
       "    <tr>\n",
       "      <th>1</th>\n",
       "      <td>2019-01-01</td>\n",
       "      <td>1</td>\n",
       "      <td>462.872</td>\n",
       "      <td>2.9</td>\n",
       "      <td>2.0</td>\n",
       "      <td>пасм, ветер</td>\n",
       "      <td>ветер</td>\n",
       "      <td>2019</td>\n",
       "      <td>1</td>\n",
       "      <td>1</td>\n",
       "      <td>...</td>\n",
       "      <td>530</td>\n",
       "      <td>0</td>\n",
       "      <td>0</td>\n",
       "      <td>2.9</td>\n",
       "      <td>0.0</td>\n",
       "      <td>0.0</td>\n",
       "      <td>0.0</td>\n",
       "      <td>0.0</td>\n",
       "      <td>0.0</td>\n",
       "      <td>1.8</td>\n",
       "    </tr>\n",
       "    <tr>\n",
       "      <th>2</th>\n",
       "      <td>2019-01-01</td>\n",
       "      <td>2</td>\n",
       "      <td>449.718</td>\n",
       "      <td>2.9</td>\n",
       "      <td>2.0</td>\n",
       "      <td>пасм, ветер</td>\n",
       "      <td>ветер</td>\n",
       "      <td>2019</td>\n",
       "      <td>1</td>\n",
       "      <td>1</td>\n",
       "      <td>...</td>\n",
       "      <td>530</td>\n",
       "      <td>0</td>\n",
       "      <td>0</td>\n",
       "      <td>2.9</td>\n",
       "      <td>0.0</td>\n",
       "      <td>0.0</td>\n",
       "      <td>0.0</td>\n",
       "      <td>0.0</td>\n",
       "      <td>0.0</td>\n",
       "      <td>1.8</td>\n",
       "    </tr>\n",
       "    <tr>\n",
       "      <th>3</th>\n",
       "      <td>2019-01-01</td>\n",
       "      <td>3</td>\n",
       "      <td>430.908</td>\n",
       "      <td>4.3</td>\n",
       "      <td>2.0</td>\n",
       "      <td>пасм, ветер</td>\n",
       "      <td>ветер, пасм</td>\n",
       "      <td>2019</td>\n",
       "      <td>1</td>\n",
       "      <td>1</td>\n",
       "      <td>...</td>\n",
       "      <td>530</td>\n",
       "      <td>0</td>\n",
       "      <td>0</td>\n",
       "      <td>2.9</td>\n",
       "      <td>0.0</td>\n",
       "      <td>0.0</td>\n",
       "      <td>0.0</td>\n",
       "      <td>0.0</td>\n",
       "      <td>0.0</td>\n",
       "      <td>1.8</td>\n",
       "    </tr>\n",
       "    <tr>\n",
       "      <th>4</th>\n",
       "      <td>2019-01-01</td>\n",
       "      <td>4</td>\n",
       "      <td>415.163</td>\n",
       "      <td>4.3</td>\n",
       "      <td>2.0</td>\n",
       "      <td>пасм, ветер</td>\n",
       "      <td>ветер, пасм</td>\n",
       "      <td>2019</td>\n",
       "      <td>1</td>\n",
       "      <td>1</td>\n",
       "      <td>...</td>\n",
       "      <td>530</td>\n",
       "      <td>0</td>\n",
       "      <td>0</td>\n",
       "      <td>2.9</td>\n",
       "      <td>0.0</td>\n",
       "      <td>0.0</td>\n",
       "      <td>0.0</td>\n",
       "      <td>0.0</td>\n",
       "      <td>0.0</td>\n",
       "      <td>1.8</td>\n",
       "    </tr>\n",
       "  </tbody>\n",
       "</table>\n",
       "<p>5 rows × 32 columns</p>\n",
       "</div>"
      ],
      "text/plain": [
       "        date  time   target  temp  temp_pred weather_pred weather_fact  year  \\\n",
       "0 2019-01-01     0  481.510   2.9        2.0  пасм, ветер        ветер  2019   \n",
       "1 2019-01-01     1  462.872   2.9        2.0  пасм, ветер        ветер  2019   \n",
       "2 2019-01-01     2  449.718   2.9        2.0  пасм, ветер        ветер  2019   \n",
       "3 2019-01-01     3  430.908   4.3        2.0  пасм, ветер  ветер, пасм  2019   \n",
       "4 2019-01-01     4  415.163   4.3        2.0  пасм, ветер  ветер, пасм  2019   \n",
       "\n",
       "   month  day_of_week  ...  civil_day  holidays  preholidays  temp_last_day  \\\n",
       "0      1            1  ...        530         0            0            2.9   \n",
       "1      1            1  ...        530         0            0            2.9   \n",
       "2      1            1  ...        530         0            0            2.9   \n",
       "3      1            1  ...        530         0            0            2.9   \n",
       "4      1            1  ...        530         0            0            2.9   \n",
       "\n",
       "   target_lag_24  target_lag_48  target_lag_72  target_lag_168  \\\n",
       "0            0.0            0.0            0.0             0.0   \n",
       "1            0.0            0.0            0.0             0.0   \n",
       "2            0.0            0.0            0.0             0.0   \n",
       "3            0.0            0.0            0.0             0.0   \n",
       "4            0.0            0.0            0.0             0.0   \n",
       "\n",
       "   target_lag_336  VVP_perc  \n",
       "0             0.0       1.8  \n",
       "1             0.0       1.8  \n",
       "2             0.0       1.8  \n",
       "3             0.0       1.8  \n",
       "4             0.0       1.8  \n",
       "\n",
       "[5 rows x 32 columns]"
      ]
     },
     "execution_count": 404,
     "metadata": {},
     "output_type": "execute_result"
    }
   ],
   "source": [
    "train_ds.head()"
   ]
  },
  {
   "cell_type": "code",
   "execution_count": 405,
   "id": "65d6619d",
   "metadata": {},
   "outputs": [
    {
     "data": {
      "text/plain": [
       "['date',\n",
       " 'time',\n",
       " 'temp_pred',\n",
       " 'year',\n",
       " 'month',\n",
       " 'day_of_week',\n",
       " 'day',\n",
       " 'cloudy',\n",
       " 'rainy',\n",
       " 'windy',\n",
       " 'clear',\n",
       " 'rain_probability',\n",
       " 'has_rain_probability',\n",
       " 'holidays',\n",
       " 'preholidays',\n",
       " 'temp_last_day',\n",
       " 'target_lag_24',\n",
       " 'target_lag_48',\n",
       " 'target_lag_72',\n",
       " 'target_lag_168',\n",
       " 'target_lag_336',\n",
       " 'VVP_perc']"
      ]
     },
     "execution_count": 405,
     "metadata": {},
     "output_type": "execute_result"
    }
   ],
   "source": [
    "feature_cols = list(train_ds.columns)\n",
    "#daylight_columns_for_merge = ['date', 'sunrise', 'midday', 'sunset', 'day_duration', 'civil_day']\n",
    "#drop_list = ['target', 'date', 'day_of_year', 'weather_pred', 'weather_fact', 'temp', 'sunrise', 'midday', 'sunset']\n",
    "drop_list = ['target', 'day_of_year', 'weather_pred', 'weather_fact', 'temp'] + ['sunrise', 'midday', 'sunset', 'day_duration', 'civil_day']\n",
    "#drop_list = ['target', 'date', 'day', 'month', 'weather_pred', 'weather_fact', 'temp'] + ['sunrise', 'midday', 'sunset', 'day_duration', 'civil_day']\n",
    "for name in drop_list:\n",
    "    feature_cols.remove(name)\n",
    "\n",
    "feature_cols"
   ]
  },
  {
   "cell_type": "code",
   "execution_count": 406,
   "id": "50d574dc",
   "metadata": {},
   "outputs": [],
   "source": [
    "features = train_ds[feature_cols]\n",
    "target = train_ds['target']"
   ]
  },
  {
   "cell_type": "code",
   "execution_count": 407,
   "id": "1bf3304e",
   "metadata": {},
   "outputs": [
    {
     "data": {
      "text/html": [
       "<div>\n",
       "<style scoped>\n",
       "    .dataframe tbody tr th:only-of-type {\n",
       "        vertical-align: middle;\n",
       "    }\n",
       "\n",
       "    .dataframe tbody tr th {\n",
       "        vertical-align: top;\n",
       "    }\n",
       "\n",
       "    .dataframe thead th {\n",
       "        text-align: right;\n",
       "    }\n",
       "</style>\n",
       "<table border=\"1\" class=\"dataframe\">\n",
       "  <thead>\n",
       "    <tr style=\"text-align: right;\">\n",
       "      <th></th>\n",
       "      <th>date</th>\n",
       "      <th>time</th>\n",
       "      <th>temp_pred</th>\n",
       "      <th>year</th>\n",
       "      <th>month</th>\n",
       "      <th>day_of_week</th>\n",
       "      <th>day</th>\n",
       "      <th>cloudy</th>\n",
       "      <th>rainy</th>\n",
       "      <th>windy</th>\n",
       "      <th>...</th>\n",
       "      <th>has_rain_probability</th>\n",
       "      <th>holidays</th>\n",
       "      <th>preholidays</th>\n",
       "      <th>temp_last_day</th>\n",
       "      <th>target_lag_24</th>\n",
       "      <th>target_lag_48</th>\n",
       "      <th>target_lag_72</th>\n",
       "      <th>target_lag_168</th>\n",
       "      <th>target_lag_336</th>\n",
       "      <th>VVP_perc</th>\n",
       "    </tr>\n",
       "  </thead>\n",
       "  <tbody>\n",
       "    <tr>\n",
       "      <th>0</th>\n",
       "      <td>2019-01-01</td>\n",
       "      <td>0</td>\n",
       "      <td>2.0</td>\n",
       "      <td>2019</td>\n",
       "      <td>1</td>\n",
       "      <td>1</td>\n",
       "      <td>1</td>\n",
       "      <td>2</td>\n",
       "      <td>0</td>\n",
       "      <td>1</td>\n",
       "      <td>...</td>\n",
       "      <td>1</td>\n",
       "      <td>0</td>\n",
       "      <td>0</td>\n",
       "      <td>2.9</td>\n",
       "      <td>0.0</td>\n",
       "      <td>0.0</td>\n",
       "      <td>0.0</td>\n",
       "      <td>0.0</td>\n",
       "      <td>0.0</td>\n",
       "      <td>1.8</td>\n",
       "    </tr>\n",
       "    <tr>\n",
       "      <th>1</th>\n",
       "      <td>2019-01-01</td>\n",
       "      <td>1</td>\n",
       "      <td>2.0</td>\n",
       "      <td>2019</td>\n",
       "      <td>1</td>\n",
       "      <td>1</td>\n",
       "      <td>1</td>\n",
       "      <td>2</td>\n",
       "      <td>0</td>\n",
       "      <td>1</td>\n",
       "      <td>...</td>\n",
       "      <td>1</td>\n",
       "      <td>0</td>\n",
       "      <td>0</td>\n",
       "      <td>2.9</td>\n",
       "      <td>0.0</td>\n",
       "      <td>0.0</td>\n",
       "      <td>0.0</td>\n",
       "      <td>0.0</td>\n",
       "      <td>0.0</td>\n",
       "      <td>1.8</td>\n",
       "    </tr>\n",
       "    <tr>\n",
       "      <th>2</th>\n",
       "      <td>2019-01-01</td>\n",
       "      <td>2</td>\n",
       "      <td>2.0</td>\n",
       "      <td>2019</td>\n",
       "      <td>1</td>\n",
       "      <td>1</td>\n",
       "      <td>1</td>\n",
       "      <td>2</td>\n",
       "      <td>0</td>\n",
       "      <td>1</td>\n",
       "      <td>...</td>\n",
       "      <td>1</td>\n",
       "      <td>0</td>\n",
       "      <td>0</td>\n",
       "      <td>2.9</td>\n",
       "      <td>0.0</td>\n",
       "      <td>0.0</td>\n",
       "      <td>0.0</td>\n",
       "      <td>0.0</td>\n",
       "      <td>0.0</td>\n",
       "      <td>1.8</td>\n",
       "    </tr>\n",
       "    <tr>\n",
       "      <th>3</th>\n",
       "      <td>2019-01-01</td>\n",
       "      <td>3</td>\n",
       "      <td>2.0</td>\n",
       "      <td>2019</td>\n",
       "      <td>1</td>\n",
       "      <td>1</td>\n",
       "      <td>1</td>\n",
       "      <td>2</td>\n",
       "      <td>0</td>\n",
       "      <td>1</td>\n",
       "      <td>...</td>\n",
       "      <td>1</td>\n",
       "      <td>0</td>\n",
       "      <td>0</td>\n",
       "      <td>2.9</td>\n",
       "      <td>0.0</td>\n",
       "      <td>0.0</td>\n",
       "      <td>0.0</td>\n",
       "      <td>0.0</td>\n",
       "      <td>0.0</td>\n",
       "      <td>1.8</td>\n",
       "    </tr>\n",
       "    <tr>\n",
       "      <th>4</th>\n",
       "      <td>2019-01-01</td>\n",
       "      <td>4</td>\n",
       "      <td>2.0</td>\n",
       "      <td>2019</td>\n",
       "      <td>1</td>\n",
       "      <td>1</td>\n",
       "      <td>1</td>\n",
       "      <td>2</td>\n",
       "      <td>0</td>\n",
       "      <td>1</td>\n",
       "      <td>...</td>\n",
       "      <td>1</td>\n",
       "      <td>0</td>\n",
       "      <td>0</td>\n",
       "      <td>2.9</td>\n",
       "      <td>0.0</td>\n",
       "      <td>0.0</td>\n",
       "      <td>0.0</td>\n",
       "      <td>0.0</td>\n",
       "      <td>0.0</td>\n",
       "      <td>1.8</td>\n",
       "    </tr>\n",
       "  </tbody>\n",
       "</table>\n",
       "<p>5 rows × 22 columns</p>\n",
       "</div>"
      ],
      "text/plain": [
       "        date  time  temp_pred  year  month  day_of_week  day  cloudy  rainy  \\\n",
       "0 2019-01-01     0        2.0  2019      1            1    1       2      0   \n",
       "1 2019-01-01     1        2.0  2019      1            1    1       2      0   \n",
       "2 2019-01-01     2        2.0  2019      1            1    1       2      0   \n",
       "3 2019-01-01     3        2.0  2019      1            1    1       2      0   \n",
       "4 2019-01-01     4        2.0  2019      1            1    1       2      0   \n",
       "\n",
       "   windy  ...  has_rain_probability  holidays  preholidays  temp_last_day  \\\n",
       "0      1  ...                     1         0            0            2.9   \n",
       "1      1  ...                     1         0            0            2.9   \n",
       "2      1  ...                     1         0            0            2.9   \n",
       "3      1  ...                     1         0            0            2.9   \n",
       "4      1  ...                     1         0            0            2.9   \n",
       "\n",
       "   target_lag_24  target_lag_48  target_lag_72  target_lag_168  \\\n",
       "0            0.0            0.0            0.0             0.0   \n",
       "1            0.0            0.0            0.0             0.0   \n",
       "2            0.0            0.0            0.0             0.0   \n",
       "3            0.0            0.0            0.0             0.0   \n",
       "4            0.0            0.0            0.0             0.0   \n",
       "\n",
       "   target_lag_336  VVP_perc  \n",
       "0             0.0       1.8  \n",
       "1             0.0       1.8  \n",
       "2             0.0       1.8  \n",
       "3             0.0       1.8  \n",
       "4             0.0       1.8  \n",
       "\n",
       "[5 rows x 22 columns]"
      ]
     },
     "execution_count": 407,
     "metadata": {},
     "output_type": "execute_result"
    }
   ],
   "source": [
    "features.head()"
   ]
  },
  {
   "cell_type": "code",
   "execution_count": 408,
   "id": "1d217661",
   "metadata": {},
   "outputs": [],
   "source": [
    "def features_split(features, target, date):\n",
    "    date_train = features[features['date']<date]['date']\n",
    "    features_train = features[features['date']<date]\n",
    "    target_train = target[features_train.index]\n",
    "\n",
    "    date_valid = features[features['date']>=date]['date']\n",
    "    features_valid = features[features['date']>=date]\n",
    "    target_valid = target[features_valid.index]\n",
    "    features_train = features_train.drop('date', axis=1)\n",
    "    features_valid = features_valid.drop('date', axis=1)\n",
    "    return features_train, features_valid, target_train, target_valid, date_train, date_valid\n"
   ]
  },
  {
   "cell_type": "code",
   "execution_count": 409,
   "id": "c5b4c4e7",
   "metadata": {},
   "outputs": [],
   "source": [
    "def features_interval(features, target, date1, date2):\n",
    "    features_interval = features[ (features['date']>=date1) & (features['date']<date2) ]\n",
    "    target_interval = target[features_interval.index]\n",
    "    date_interval = features[ (features['date']>=date1) & (features['date']<date2) ]['date']\n",
    "    features_interval = features_interval.drop('date', axis=1)\n",
    "    return features_interval, target_interval, date_interval"
   ]
  },
  {
   "cell_type": "code",
   "execution_count": 410,
   "id": "93c4e2e1",
   "metadata": {},
   "outputs": [],
   "source": [
    "#features_train = features[features['year']<2023]\n",
    "#target_train = target[features_train.index]\n",
    "#features_valid = features[features['year']==2023]\n",
    "#target_valid = target[features_valid.index]"
   ]
  },
  {
   "cell_type": "code",
   "execution_count": 411,
   "id": "4fce6f9d",
   "metadata": {},
   "outputs": [],
   "source": [
    "#features_train = features[features['year']<2022]\n",
    "#target_train = target[features_train.index]\n",
    "#features_valid = features[features['year']==2022]\n",
    "#target_valid = target[features_valid.index]"
   ]
  },
  {
   "cell_type": "code",
   "execution_count": 412,
   "id": "5a2b8078",
   "metadata": {},
   "outputs": [],
   "source": [
    "#features_train, features_valid, target_train, target_valid, date_train, date_valid = features_split(features, target, '2022-01-01')\n",
    "features_train, target_train, date_train = features_interval(features, target, '2019-01-01', '2022-01-01')\n",
    "features_valid, target_valid, date_valid = features_interval(features, target, '2022-01-01', '2023-01-01')"
   ]
  },
  {
   "cell_type": "code",
   "execution_count": 413,
   "id": "6fe0981d",
   "metadata": {},
   "outputs": [],
   "source": [
    "dates = ['2022-01-01', '2022-04-01', '2022-07-01', '2022-10-01', '2023-01-01']\n",
    "quarters = []\n",
    "for i in range(4):\n",
    "    f, t, d = features_interval(features, target, dates[i], dates[i+1])\n",
    "    quarters.append({'features':f, 'target':t, 'date':d})"
   ]
  },
  {
   "cell_type": "code",
   "execution_count": 414,
   "id": "e8985f3e",
   "metadata": {},
   "outputs": [],
   "source": [
    "def mae_day(y_true, y_pred):\n",
    "    y_true_copy = pd.DataFrame(y_true).reset_index(drop=True)\n",
    "    y_true_copy['day'] = y_true_copy.index // 24\n",
    "    y_true_grouped = y_true_copy.groupby(by='day').sum()   \n",
    "    y_pred_copy = pd.DataFrame(y_pred).reset_index(drop=True)\n",
    "    y_pred_copy['day'] = y_pred_copy.index // 24\n",
    "    y_pred_grouped = y_pred_copy.groupby(by='day').sum()\n",
    "    \n",
    "    return mean_absolute_error(y_true_grouped, y_pred_grouped)"
   ]
  },
  {
   "cell_type": "code",
   "execution_count": 415,
   "id": "5dbcff28",
   "metadata": {},
   "outputs": [],
   "source": [
    "# класс предлагается инициализировать, затем брать значения параметра из current_value \n",
    "# и регистрировать значения метрики методом add_metric_value, пока add_metric_value не вернет True\n",
    "\n",
    "# параметры инициализации: \n",
    "# initial_values - начальный вектор значений параметра, может быть любой длины\n",
    "# stop_relation - целевое отношение соседних значений параметра для остановки поиска\n",
    "# step_method - способ формирования трех точек для первой параболы дугой вниз\n",
    "# step_method = 'geometric' - делим или умножаем значение с минимальной метрикой на geometric_step\n",
    "# step_method = 'dichotomy' - делим интервал с минимальной метрикой на границах пополам\n",
    "# step_method = 'geometric_dichotomy' - делим интервал с минимальной метрикой на границах средним геометрическим\n",
    "\n",
    "class one_parameter_parabolic_optimizer:\n",
    "    def __init__(self, initial_values, stop_relation=1.1, step_method='nothing', geometric_step=2):      \n",
    "        self.data = pd.DataFrame(columns=('parameter','metric','x2','x','1'), dtype='float')\n",
    "        self.parabolic_mode = False\n",
    "        self.parabolic_error = False\n",
    "        self.stop_relation_log = np.log(stop_relation)\n",
    "        self.initial_values = initial_values            \n",
    "        self.step_method = step_method                              \n",
    "        self.geometric_step = geometric_step\n",
    "        self.initial_counter = 0\n",
    "        self.current_value = self.initial_values[0]\n",
    "        \n",
    "    def best_value(self):\n",
    "        return self.data.loc[self.data['metric'].idxmin(), 'parameter']\n",
    "    \n",
    "# строим параболу через точку с минимальной метрикой и две соседние и ищем ее минимум\n",
    "    def next_parabolic(self):                      \n",
    "        self.data['x2'] = self.data['parameter']**2\n",
    "        self.data['x'] = self.data['parameter']\n",
    "        self.data['1'] = 1\n",
    "        self.data = self.data.astype(float).sort_values(by='parameter', ascending=True).reset_index(drop=True)\n",
    "        index_min = self.data['metric'].idxmin()\n",
    "        matrix = self.data[['x2','x','1']][index_min-1:index_min+2]\n",
    "        y = self.data['metric'][index_min-1:index_min+2]\n",
    "        vector_abc = np.linalg.inv(matrix) @ y\n",
    "        return -vector_abc[1]/vector_abc[0]/2\n",
    "\n",
    "    def next_geometric(self):\n",
    "        index_min = self.data['metric'].idxmin()\n",
    "        if index_min==0:\n",
    "            return self.data.loc[index_min, 'parameter']/self.geometric_step\n",
    "        else:\n",
    "            return self.data.loc[index_min, 'parameter']*self.geometric_step\n",
    "        \n",
    "    def next_dichotomy(self):\n",
    "        index_min = self.data['metric'].idxmin()\n",
    "        if index_min==0:\n",
    "            return (self.data.loc[index_min, 'parameter'] + self.data.loc[index_min+1, 'parameter'])/2\n",
    "        else:\n",
    "            return (self.data.loc[index_min, 'parameter'] + self.data.loc[index_min-1, 'parameter'])/2\n",
    "        \n",
    "    def next_geometric_dichotomy(self):\n",
    "        index_min = self.data['metric'].idxmin()\n",
    "        if index_min==0:\n",
    "            return (self.data.loc[index_min, 'parameter'] * self.data.loc[index_min+1, 'parameter'])**0.5\n",
    "        else:\n",
    "            return (self.data.loc[index_min, 'parameter'] * self.data.loc[index_min-1, 'parameter'])**0.5\n",
    "    \n",
    "    def add_metric_value(self, metric_value):\n",
    "        if self.parabolic_error:           # записана ошибка, выход\n",
    "                return True\n",
    "        self.data.loc[self.data.shape[0]] = [self.current_value, metric_value, 0, 0, 0]   # новое значение в таблицу\n",
    "        if self.initial_counter+1 < len(self.initial_values) :              # если начальные значения не закончились,\n",
    "            self.initial_counter+=1                                         # то считаем метрику в них\n",
    "            self.current_value = self.initial_values[self.initial_counter]\n",
    "            return False\n",
    "        self.data = self.data.astype(float).sort_values(by='parameter', ascending=True).reset_index(drop=True)\n",
    "        index_min = self.data['metric'].idxmin()         # ищем минимальную метрику\n",
    "        parabolic_ready = (index_min!=0) and (index_min!=self.data.shape[0]-1)      # и выясняем, на краю ли она таблицы\n",
    "        if parabolic_ready:\n",
    "            self.parabolic_mode = True                               # если не на краю, дальше считаем параболой                  \n",
    "            self.current_value = self.next_parabolic()\n",
    "            loglog = abs(np.array([np.log(self.data.loc[index_min-1,'parameter'])-np.log(self.data.loc[index_min,'parameter']),\n",
    "                              np.log(self.data.loc[index_min+1,'parameter']) -np.log(self.data.loc[index_min,'parameter'])]))            \n",
    "            return loglog.min() < self.stop_relation_log   # пока не выполним критерий\n",
    "        elif self.parabolic_mode:    # если уже была парабола, а теперь не получается, то пишем ошибку: метод расходится\n",
    "            return True\n",
    "        elif self.step_method == 'geometric': # если еще нет точек для параболы и задана геометрическая прогрессия\n",
    "            self.current_value = self.next_geometric()\n",
    "            return False\n",
    "        elif self.step_method == 'dichotomy': # если еще нет точек для параболы и задана дихотомия \n",
    "            self.current_value = self.next_dichotomy()\n",
    "            return False\n",
    "        elif self.step_method == 'geometric_dichotomy': # если еще нет точек для параболы и задана geometric_dichotomy \n",
    "            self.current_value = self.next_geometric_dichotomy()\n",
    "            return False\n",
    "        else: # если еще нет точек для параболы и метод поиска не задан, завершаем\n",
    "            return True"
   ]
  },
  {
   "cell_type": "code",
   "execution_count": 416,
   "id": "ba67b03b",
   "metadata": {
    "scrolled": true
   },
   "outputs": [
    {
     "name": "stderr",
     "output_type": "stream",
     "text": [
      "c:\\ProgramData\\Anaconda3\\lib\\site-packages\\lightgbm\\engine.py:177: UserWarning: Found `num_iterations` in params. Will use it instead of argument\n",
      "  _log_warning(f\"Found `{alias}` in params. Will use it instead of argument\")\n"
     ]
    },
    {
     "name": "stdout",
     "output_type": "stream",
     "text": [
      "learning rate = 0.01000 mae = 153.6\n"
     ]
    },
    {
     "name": "stderr",
     "output_type": "stream",
     "text": [
      "c:\\ProgramData\\Anaconda3\\lib\\site-packages\\lightgbm\\engine.py:177: UserWarning: Found `num_iterations` in params. Will use it instead of argument\n",
      "  _log_warning(f\"Found `{alias}` in params. Will use it instead of argument\")\n"
     ]
    },
    {
     "name": "stdout",
     "output_type": "stream",
     "text": [
      "learning rate = 0.00500 mae = 155.8\n"
     ]
    },
    {
     "name": "stderr",
     "output_type": "stream",
     "text": [
      "c:\\ProgramData\\Anaconda3\\lib\\site-packages\\lightgbm\\engine.py:177: UserWarning: Found `num_iterations` in params. Will use it instead of argument\n",
      "  _log_warning(f\"Found `{alias}` in params. Will use it instead of argument\")\n"
     ]
    },
    {
     "name": "stdout",
     "output_type": "stream",
     "text": [
      "learning rate = 0.02000 mae = 156.9\n"
     ]
    },
    {
     "name": "stderr",
     "output_type": "stream",
     "text": [
      "c:\\ProgramData\\Anaconda3\\lib\\site-packages\\lightgbm\\engine.py:177: UserWarning: Found `num_iterations` in params. Will use it instead of argument\n",
      "  _log_warning(f\"Found `{alias}` in params. Will use it instead of argument\")\n"
     ]
    },
    {
     "name": "stdout",
     "output_type": "stream",
     "text": [
      "learning rate = 0.01177 mae = 156.5\n"
     ]
    },
    {
     "name": "stderr",
     "output_type": "stream",
     "text": [
      "c:\\ProgramData\\Anaconda3\\lib\\site-packages\\lightgbm\\engine.py:177: UserWarning: Found `num_iterations` in params. Will use it instead of argument\n",
      "  _log_warning(f\"Found `{alias}` in params. Will use it instead of argument\")\n"
     ]
    },
    {
     "name": "stdout",
     "output_type": "stream",
     "text": [
      "learning rate = 0.00820 mae = 154.8\n"
     ]
    },
    {
     "name": "stderr",
     "output_type": "stream",
     "text": [
      "c:\\ProgramData\\Anaconda3\\lib\\site-packages\\lightgbm\\engine.py:177: UserWarning: Found `num_iterations` in params. Will use it instead of argument\n",
      "  _log_warning(f\"Found `{alias}` in params. Will use it instead of argument\")\n"
     ]
    },
    {
     "name": "stdout",
     "output_type": "stream",
     "text": [
      "learning rate = 0.00961 mae = 155.1\n"
     ]
    },
    {
     "name": "stderr",
     "output_type": "stream",
     "text": [
      "c:\\ProgramData\\Anaconda3\\lib\\site-packages\\lightgbm\\engine.py:177: UserWarning: Found `num_iterations` in params. Will use it instead of argument\n",
      "  _log_warning(f\"Found `{alias}` in params. Will use it instead of argument\")\n"
     ]
    },
    {
     "name": "stdout",
     "output_type": "stream",
     "text": [
      "learning rate = 0.01056 mae = 154.3\n"
     ]
    },
    {
     "name": "stderr",
     "output_type": "stream",
     "text": [
      "c:\\ProgramData\\Anaconda3\\lib\\site-packages\\lightgbm\\engine.py:177: UserWarning: Found `num_iterations` in params. Will use it instead of argument\n",
      "  _log_warning(f\"Found `{alias}` in params. Will use it instead of argument\")\n"
     ]
    },
    {
     "name": "stdout",
     "output_type": "stream",
     "text": [
      "learning rate = 0.01017 mae = 155.7\n",
      "CPU times: total: 2min 57s\n",
      "Wall time: 1min 20s\n"
     ]
    }
   ],
   "source": [
    "%%time\n",
    "optimizer = one_parameter_parabolic_optimizer([0.01], 1.03, step_method='geometric')\n",
    "for i in range(10):\n",
    "    learning_rate = optimizer.current_value\n",
    "    lgbm_model = lgb.LGBMRegressor(num_leaves=15, learning_rate=learning_rate, num_iterations=5000, random_state=random_state, objective='regression_l1', n_jobs=-1)\n",
    "    lgbm_model.fit(features_train, target_train)\n",
    "    mae = mae_day(target_valid, lgbm_model.predict(features_valid))\n",
    "    print(f'learning rate = {learning_rate:.5f} mae = {mae:.1f}')\n",
    "    if optimizer.add_metric_value(mae):\n",
    "        break\n",
    "best_learning_rate_1000 = optimizer.best_value()"
   ]
  },
  {
   "cell_type": "code",
   "execution_count": 417,
   "id": "93ec3f21",
   "metadata": {},
   "outputs": [
    {
     "name": "stdout",
     "output_type": "stream",
     "text": [
      "[LightGBM] [Warning] feature_fraction is set=0.2, colsample_bytree=1.0 will be ignored. Current value: feature_fraction=0.2\n"
     ]
    },
    {
     "name": "stderr",
     "output_type": "stream",
     "text": [
      "c:\\ProgramData\\Anaconda3\\lib\\site-packages\\lightgbm\\engine.py:177: UserWarning: Found `num_iterations` in params. Will use it instead of argument\n",
      "  _log_warning(f\"Found `{alias}` in params. Will use it instead of argument\")\n"
     ]
    },
    {
     "name": "stdout",
     "output_type": "stream",
     "text": [
      "feature_fraction = 0.20000 mae = 342.9\n",
      "[LightGBM] [Warning] feature_fraction is set=1, colsample_bytree=1.0 will be ignored. Current value: feature_fraction=1\n"
     ]
    },
    {
     "name": "stderr",
     "output_type": "stream",
     "text": [
      "c:\\ProgramData\\Anaconda3\\lib\\site-packages\\lightgbm\\engine.py:177: UserWarning: Found `num_iterations` in params. Will use it instead of argument\n",
      "  _log_warning(f\"Found `{alias}` in params. Will use it instead of argument\")\n"
     ]
    },
    {
     "name": "stdout",
     "output_type": "stream",
     "text": [
      "feature_fraction = 1.00000 mae = 153.6\n",
      "[LightGBM] [Warning] feature_fraction is set=0.6, colsample_bytree=1.0 will be ignored. Current value: feature_fraction=0.6\n"
     ]
    },
    {
     "name": "stderr",
     "output_type": "stream",
     "text": [
      "c:\\ProgramData\\Anaconda3\\lib\\site-packages\\lightgbm\\engine.py:177: UserWarning: Found `num_iterations` in params. Will use it instead of argument\n",
      "  _log_warning(f\"Found `{alias}` in params. Will use it instead of argument\")\n"
     ]
    },
    {
     "name": "stdout",
     "output_type": "stream",
     "text": [
      "feature_fraction = 0.60000 mae = 157.9\n",
      "[LightGBM] [Warning] feature_fraction is set=0.8, colsample_bytree=1.0 will be ignored. Current value: feature_fraction=0.8\n"
     ]
    },
    {
     "name": "stderr",
     "output_type": "stream",
     "text": [
      "c:\\ProgramData\\Anaconda3\\lib\\site-packages\\lightgbm\\engine.py:177: UserWarning: Found `num_iterations` in params. Will use it instead of argument\n",
      "  _log_warning(f\"Found `{alias}` in params. Will use it instead of argument\")\n"
     ]
    },
    {
     "name": "stdout",
     "output_type": "stream",
     "text": [
      "feature_fraction = 0.80000 mae = 157.7\n",
      "[LightGBM] [Warning] feature_fraction is set=0.9, colsample_bytree=1.0 will be ignored. Current value: feature_fraction=0.9\n"
     ]
    },
    {
     "name": "stderr",
     "output_type": "stream",
     "text": [
      "c:\\ProgramData\\Anaconda3\\lib\\site-packages\\lightgbm\\engine.py:177: UserWarning: Found `num_iterations` in params. Will use it instead of argument\n",
      "  _log_warning(f\"Found `{alias}` in params. Will use it instead of argument\")\n"
     ]
    },
    {
     "name": "stdout",
     "output_type": "stream",
     "text": [
      "feature_fraction = 0.90000 mae = 156.1\n",
      "[LightGBM] [Warning] feature_fraction is set=0.95, colsample_bytree=1.0 will be ignored. Current value: feature_fraction=0.95\n"
     ]
    },
    {
     "name": "stderr",
     "output_type": "stream",
     "text": [
      "c:\\ProgramData\\Anaconda3\\lib\\site-packages\\lightgbm\\engine.py:177: UserWarning: Found `num_iterations` in params. Will use it instead of argument\n",
      "  _log_warning(f\"Found `{alias}` in params. Will use it instead of argument\")\n"
     ]
    },
    {
     "name": "stdout",
     "output_type": "stream",
     "text": [
      "feature_fraction = 0.95000 mae = 156.3\n",
      "[LightGBM] [Warning] feature_fraction is set=0.975, colsample_bytree=1.0 will be ignored. Current value: feature_fraction=0.975\n"
     ]
    },
    {
     "name": "stderr",
     "output_type": "stream",
     "text": [
      "c:\\ProgramData\\Anaconda3\\lib\\site-packages\\lightgbm\\engine.py:177: UserWarning: Found `num_iterations` in params. Will use it instead of argument\n",
      "  _log_warning(f\"Found `{alias}` in params. Will use it instead of argument\")\n"
     ]
    },
    {
     "name": "stdout",
     "output_type": "stream",
     "text": [
      "feature_fraction = 0.97500 mae = 156.3\n",
      "[LightGBM] [Warning] feature_fraction is set=0.9875, colsample_bytree=1.0 will be ignored. Current value: feature_fraction=0.9875\n"
     ]
    },
    {
     "name": "stderr",
     "output_type": "stream",
     "text": [
      "c:\\ProgramData\\Anaconda3\\lib\\site-packages\\lightgbm\\engine.py:177: UserWarning: Found `num_iterations` in params. Will use it instead of argument\n",
      "  _log_warning(f\"Found `{alias}` in params. Will use it instead of argument\")\n"
     ]
    },
    {
     "name": "stdout",
     "output_type": "stream",
     "text": [
      "feature_fraction = 0.98750 mae = 153.6\n",
      "CPU times: total: 3min 1s\n",
      "Wall time: 1min 20s\n"
     ]
    }
   ],
   "source": [
    "%%time\n",
    "optimizer = one_parameter_parabolic_optimizer([0.2, 1], 1.03, step_method='dichotomy')\n",
    "for i in range(10):\n",
    "    feature_fraction = optimizer.current_value\n",
    "    lgbm_model = lgb.LGBMRegressor(num_leaves=15, learning_rate=best_learning_rate_1000,  \n",
    "                               num_iterations=5000, \n",
    "                               feature_fraction=feature_fraction, random_state=random_state, \n",
    "                               objective='regression_l1', n_jobs=-1)\n",
    "    lgbm_model.fit(features_train, target_train)\n",
    "    mae = mae_day(target_valid, lgbm_model.predict(features_valid))\n",
    "    print(f'feature_fraction = {feature_fraction:.5f} mae = {mae:.1f}')\n",
    "    if optimizer.add_metric_value(mae):\n",
    "        break\n",
    "best_feature_fraction = optimizer.best_value()"
   ]
  },
  {
   "cell_type": "code",
   "execution_count": 418,
   "id": "547bb673",
   "metadata": {},
   "outputs": [],
   "source": [
    "#%%time\n",
    "#optimizer = one_parameter_parabolic_optimizer([7, 55], 1.03, step_method='geometric_dichotomy')\n",
    "#for i in range(10):\n",
    "#    num_leaves = int(optimizer.current_value)\n",
    "#    lgbm_model = lgb.LGBMRegressor(num_leaves=num_leaves, learning_rate=best_learning_rate_1000,  \n",
    "#                               num_iterations=5000, \n",
    "#                               feature_fraction=best_feature_fraction, random_state=random_state, \n",
    "#                               objective='regression_l1', n_jobs=-1)\n",
    "#    lgbm_model.fit(features_train, target_train)\n",
    "#    mae = mae_day(target_valid, lgbm_model.predict(features_valid))\n",
    "#    print(f'num_leaves = {num_leaves:.5f} mae = {mae:.1f}')\n",
    "#    if optimizer.add_metric_value(mae):\n",
    "#        break\n",
    "#best_num_leaves = optimizer.best_value()"
   ]
  },
  {
   "cell_type": "code",
   "execution_count": 419,
   "id": "73bc8d25",
   "metadata": {},
   "outputs": [
    {
     "name": "stdout",
     "output_type": "stream",
     "text": [
      "[LightGBM] [Warning] feature_fraction is set=0.9875, colsample_bytree=1.0 will be ignored. Current value: feature_fraction=0.9875\n"
     ]
    },
    {
     "name": "stderr",
     "output_type": "stream",
     "text": [
      "c:\\ProgramData\\Anaconda3\\lib\\site-packages\\lightgbm\\engine.py:177: UserWarning: Found `num_iterations` in params. Will use it instead of argument\n",
      "  _log_warning(f\"Found `{alias}` in params. Will use it instead of argument\")\n"
     ]
    },
    {
     "data": {
      "text/plain": [
       "LGBMRegressor(feature_fraction=0.9875, learning_rate=0.01, num_iterations=10000,\n",
       "              num_leaves=15, objective='regression_l1', random_state=12345)"
      ]
     },
     "execution_count": 419,
     "metadata": {},
     "output_type": "execute_result"
    }
   ],
   "source": [
    "lgbm_model = lgb.LGBMRegressor(num_leaves=15, learning_rate=best_learning_rate_1000, num_iterations=10000, \n",
    "                               feature_fraction=best_feature_fraction, random_state=random_state, objective='regression_l1', n_jobs=-1)\n",
    "lgbm_model.fit(features_train, target_train)"
   ]
  },
  {
   "cell_type": "code",
   "execution_count": 420,
   "id": "9bb2c894",
   "metadata": {},
   "outputs": [
    {
     "name": "stdout",
     "output_type": "stream",
     "text": [
      "mae_of_the_day - 153.74616438179908\n",
      "mae of the hour - 8.89188630315398\n"
     ]
    }
   ],
   "source": [
    "y_pred = lgbm_model.predict(features_valid)\n",
    "mae = mae_day(target_valid, y_pred)\n",
    "print(f'mae_of_the_day - {mae}')\n",
    "print(f'mae of the hour - {mean_absolute_error(target_valid, y_pred)}')"
   ]
  },
  {
   "cell_type": "code",
   "execution_count": 421,
   "id": "c90e3a77",
   "metadata": {},
   "outputs": [],
   "source": [
    "y_true_copy = pd.DataFrame(target_valid).reset_index(drop=True)\n",
    "y_true_copy['day'] = y_true_copy.index // 24\n",
    "y_true_grouped = y_true_copy.groupby(by='day').sum()   \n",
    "y_true_grouped\n",
    "y_pred_copy = pd.DataFrame(y_pred).reset_index(drop=True)\n",
    "y_pred_copy['day'] = y_pred_copy.index // 24\n",
    "y_pred_grouped = y_pred_copy.groupby(by='day').sum()"
   ]
  },
  {
   "cell_type": "code",
   "execution_count": 422,
   "id": "7dccde5a",
   "metadata": {},
   "outputs": [
    {
     "data": {
      "text/plain": [
       "<AxesSubplot:xlabel='day'>"
      ]
     },
     "execution_count": 422,
     "metadata": {},
     "output_type": "execute_result"
    },
    {
     "data": {
      "image/png": "[encoded data removed]",
      "text/plain": [
       "<Figure size 1296x360 with 1 Axes>"
      ]
     },
     "metadata": {
      "needs_background": "light"
     },
     "output_type": "display_data"
    }
   ],
   "source": [
    "y_true_grouped.plot(figsize=(18,5))\n",
    "ax=plt.gca()\n",
    "y_pred_grouped.plot(ax=ax)"
   ]
  },
  {
   "cell_type": "code",
   "execution_count": 444,
   "id": "b26e3f28",
   "metadata": {},
   "outputs": [
    {
     "data": {
      "text/plain": [
       "<AxesSubplot:xlabel='date'>"
      ]
     },
     "execution_count": 444,
     "metadata": {},
     "output_type": "execute_result"
    },
    {
     "data": {
      "image/png": "[encoded data removed]",
      "text/plain": [
       "<Figure size 1296x360 with 1 Axes>"
      ]
     },
     "metadata": {
      "needs_background": "light"
     },
     "output_type": "display_data"
    }
   ],
   "source": [
    "#pd.DataFrame(date_valid)\n",
    "date_valid.unique()\n",
    "tmpdf = pd.DataFrame(date_valid).groupby(by='date').count().reset_index().join(y_true_grouped)\n",
    "tmpdf.plot(x='date', y='target', figsize=(18,5))\n",
    "ax=plt.gca()\n",
    "tmpdf = pd.DataFrame(date_valid).groupby(by='date').count().reset_index().join(y_pred_grouped)\n",
    "tmpdf.plot(ax=ax, x='date', y=0)"
   ]
  },
  {
   "cell_type": "code",
   "execution_count": 423,
   "id": "df9b4216",
   "metadata": {},
   "outputs": [
    {
     "name": "stdout",
     "output_type": "stream",
     "text": [
      "mae_of_the_day - 193.3934847288365\n",
      "mae_of_the_day - 141.4897920788712\n",
      "mae_of_the_day - 134.42755420896637\n",
      "mae_of_the_day - 146.40250334086082\n"
     ]
    }
   ],
   "source": [
    "for quarter in quarters:\n",
    "    mae = mae_day(quarter['target'], lgbm_model.predict(quarter['features']))\n",
    "    print(f'mae_of_the_day - {mae}')"
   ]
  },
  {
   "cell_type": "code",
   "execution_count": 424,
   "id": "931f1498",
   "metadata": {},
   "outputs": [
    {
     "name": "stdout",
     "output_type": "stream",
     "text": [
      "mae_of_the_day - 162.09542863308627\n"
     ]
    }
   ],
   "source": [
    "features_2023, target_2023, date_2023 = features_interval(features, target, '2023-01-01', '2024-01-01')\n",
    "mae = mae_day(target_2023, lgbm_model.predict(features_2023))\n",
    "print(f'mae_of_the_day - {mae}')"
   ]
  },
  {
   "cell_type": "code",
   "execution_count": 425,
   "id": "28db5953",
   "metadata": {},
   "outputs": [
    {
     "data": {
      "text/plain": [
       "12734.276"
      ]
     },
     "execution_count": 425,
     "metadata": {},
     "output_type": "execute_result"
    }
   ],
   "source": [
    "y_true_grouped['target'][1]"
   ]
  },
  {
   "cell_type": "code",
   "execution_count": 450,
   "id": "9ba84f54",
   "metadata": {},
   "outputs": [
    {
     "data": {
      "text/plain": [
       "<AxesSubplot:ylabel='0'>"
      ]
     },
     "execution_count": 450,
     "metadata": {},
     "output_type": "execute_result"
    },
    {
     "data": {
      "image/png": "[encoded data removed]",
      "text/plain": [
       "<Figure size 1296x432 with 1 Axes>"
      ]
     },
     "metadata": {
      "needs_background": "light"
     },
     "output_type": "display_data"
    }
   ],
   "source": [
    "tmp_feature_cols = feature_cols.copy()\n",
    "tmp_feature_cols.remove('date')\n",
    "feature_importances = pd.DataFrame([tmp_feature_cols, lgbm_model.feature_importances_]).T.sort_values(by = 1)\n",
    "feature_importances.plot(kind='barh', x=0, y=1, figsize=(18, 6))"
   ]
  }
 ],
 "metadata": {
  "kernelspec": {
   "display_name": "Python 3 (ipykernel)",
   "language": "python",
   "name": "python3"
  },
  "language_info": {
   "codemirror_mode": {
    "name": "ipython",
    "version": 3
   },
   "file_extension": ".py",
   "mimetype": "text/x-python",
   "name": "python",
   "nbconvert_exporter": "python",
   "pygments_lexer": "ipython3",
   "version": "3.9.12"
  }
 },
 "nbformat": 4,
 "nbformat_minor": 5
}
