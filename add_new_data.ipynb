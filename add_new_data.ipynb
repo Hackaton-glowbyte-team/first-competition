{
 "cells": [
  {
   "cell_type": "code",
   "execution_count": 4,
   "metadata": {},
   "outputs": [],
   "source": [
    "import pandas as pd"
   ]
  },
  {
   "cell_type": "code",
   "execution_count": 5,
   "metadata": {},
   "outputs": [],
   "source": [
    "def add_light_work(data):\n",
    "    \"\"\"\n",
    "    Функция добавляет данные о времени включения света из файла 'time_city_light.csv'\n",
    "    подаем на вход c сырой датой\n",
    "    \"\"\"\n",
    "    # обработаем файл с временем вкл освящения\n",
    "    light = pd.read_csv('data/time_city_light.csv')\n",
    "    light['turn_on'] = pd.to_datetime(light['on'], format='%H-%M').dt.time\n",
    "    light['turn_off'] = pd.to_datetime(light['off'], format='%H-%M').dt.time\n",
    "    light.drop(['on','off'], inplace=True, axis=1) \n",
    "        \n",
    "    # обработаем основной фрейм - создадим столбец времени, который потом удалим\n",
    "    data['date_temp'] = pd.to_datetime(data['date'], format = '%Y-%m-%d' )\n",
    "    data['date_temp'] = data['date_temp'] + pd.to_timedelta(data['time'] , 'H')\n",
    "\n",
    "    def is_light(input_dt):\n",
    "        \"\"\"\n",
    "        Функция сравнивает значения с временем вкл. света.\n",
    "        если освещение включено, возвращает 1. \n",
    "        \"\"\"\n",
    "        # извлекаем месяц и день из входящей даты\n",
    "        month = input_dt.month\n",
    "        day = input_dt.day\n",
    "        # находим график работы освещения в справочном файле\n",
    "        row = light.loc[(month==light['month'])  & (light['day']<=day),:].tail(1)\n",
    "\n",
    "        # извлекаем время из timestamp и сравниваем \n",
    "        tm = input_dt.time()\n",
    "        if tm<row.turn_off.values or tm>row.turn_on.values:\n",
    "            return 1\n",
    "        else:\n",
    "            return 0\n",
    "    \n",
    "        \n",
    "    data['is_light'] = data['date_temp'].map(is_light)\n",
    "    data.drop('date_temp',axis=1,inplace=True)\n",
    "       \n",
    "    return data"
   ]
  },
  {
   "cell_type": "code",
   "execution_count": 85,
   "metadata": {},
   "outputs": [],
   "source": [
    "def add_euro(df):\n",
    "    \"\"\"\n",
    "    Функция добавляет данные о курсе ЕВРО, которые устанавливает ЦБ РФ \n",
    "    на завтрашний день из файла 'euro_info.csv'\n",
    "    подаем на вход c сырой датой\n",
    "    \"\"\"\n",
    "    # обработаем файл с курсом\n",
    "    euro = pd.read_csv('data/euro_info.csv',)\n",
    "    euro['curs'] = euro['curs'].astype('int')\n",
    "    euro['data'] = pd.to_datetime(euro['data'], format = '%d.%m.%Y')\n",
    "\n",
    "    df['date_temp'] = pd.to_datetime(df['date'], format = '%Y-%m-%d' )\n",
    "    # берем последнее значение из 2018 года \n",
    "    last_value_2018 = euro[euro['data'].dt.year==2018].head(1).curs.values\n",
    "    # соединяем фреймы\n",
    "    result = pd.merge(df,euro,how='left',left_on='date_temp',right_on='data')\n",
    "    # в начале года берем инфу из 2018\n",
    "    result['curs'].iloc[0] = last_value_2018\n",
    "    # заполняем пропуски на выходных и т.д.\n",
    "    result['curs'].fillna(method='ffill',inplace=True)\n",
    "    result.drop(['date_temp','data'],inplace=True,axis=1)\n",
    "    return result"
   ]
  },
  {
   "cell_type": "code",
   "execution_count": 147,
   "metadata": {},
   "outputs": [],
   "source": [
    "def add_stock(df):\n",
    "    \"\"\"\n",
    "    Функция добавляет данные торгов на бирже на момент закрытия \n",
    "    из файла 'stock.csv'\n",
    "    подаем на вход c сырой датой\n",
    "    \"\"\"\n",
    "    # обработаем файл сырой для создания времени сопряжения\n",
    "    df['date_temp'] = pd.to_datetime(df['date'], format = '%Y-%m-%d' )\n",
    "    # обработаем файл с исходными данными\n",
    "    stock = pd.read_csv('data/stock.csv')\n",
    "    stock['TRADEDATE'] = pd.to_datetime(stock['TRADEDATE'], format = '%d.%m.%Y' )\n",
    "    \n",
    "\n",
    "    last_MOEX_2018 = stock[stock['TRADEDATE'].dt.year==2018].head(1).MOEX.values\n",
    "    last_RTSI_2018 = stock[stock['TRADEDATE'].dt.year==2018].head(1).RTSI.values\n",
    "    # соединяем фреймы\n",
    "    result = pd.merge(df,stock,how='left',left_on='date_temp',right_on='TRADEDATE')\n",
    "    # в начале года берем инфу из 2018\n",
    "    result['MOEX'].iloc[0] = last_MOEX_2018\n",
    "    result['RTSI'].iloc[0] = last_RTSI_2018\n",
    "    # заполняем пропуски на выходных и т.д.\n",
    "    result['MOEX'].fillna(method='ffill',inplace=True)\n",
    "    result['RTSI'].fillna(method='ffill',inplace=True)\n",
    "    # удаляем временные и лишние столбцы\n",
    "    result.drop(['date_temp','TRADEDATE'],inplace=True, axis=1)\n",
    "    return result"
   ]
  },
  {
   "cell_type": "code",
   "execution_count": 149,
   "metadata": {},
   "outputs": [
    {
     "name": "stderr",
     "output_type": "stream",
     "text": [
      "/tmp/ipykernel_46865/4131353078.py:18: SettingWithCopyWarning: \n",
      "A value is trying to be set on a copy of a slice from a DataFrame\n",
      "\n",
      "See the caveats in the documentation: https://pandas.pydata.org/pandas-docs/stable/user_guide/indexing.html#returning-a-view-versus-a-copy\n",
      "  result['curs'].iloc[0] = last_value_2018\n",
      "/tmp/ipykernel_46865/4131353078.py:20: FutureWarning: Series.fillna with 'method' is deprecated and will raise in a future version. Use obj.ffill() or obj.bfill() instead.\n",
      "  result['curs'].fillna(method='ffill',inplace=True)\n",
      "/tmp/ipykernel_46865/305057058.py:19: SettingWithCopyWarning: \n",
      "A value is trying to be set on a copy of a slice from a DataFrame\n",
      "\n",
      "See the caveats in the documentation: https://pandas.pydata.org/pandas-docs/stable/user_guide/indexing.html#returning-a-view-versus-a-copy\n",
      "  result['MOEX'].iloc[0] = last_MOEX_2018\n",
      "/tmp/ipykernel_46865/305057058.py:20: SettingWithCopyWarning: \n",
      "A value is trying to be set on a copy of a slice from a DataFrame\n",
      "\n",
      "See the caveats in the documentation: https://pandas.pydata.org/pandas-docs/stable/user_guide/indexing.html#returning-a-view-versus-a-copy\n",
      "  result['RTSI'].iloc[0] = last_RTSI_2018\n",
      "/tmp/ipykernel_46865/305057058.py:22: FutureWarning: Series.fillna with 'method' is deprecated and will raise in a future version. Use obj.ffill() or obj.bfill() instead.\n",
      "  result['MOEX'].fillna(method='ffill',inplace=True)\n",
      "/tmp/ipykernel_46865/305057058.py:23: FutureWarning: Series.fillna with 'method' is deprecated and will raise in a future version. Use obj.ffill() or obj.bfill() instead.\n",
      "  result['RTSI'].fillna(method='ffill',inplace=True)\n"
     ]
    }
   ],
   "source": [
    "\n",
    "df = pd.read_csv(\"data/train_dataset.csv\")\n",
    "df = add_euro(df)\n",
    "df = add_light_work(df)\n",
    "df = add_stock(df)"
   ]
  }
 ],
 "metadata": {
  "kernelspec": {
   "display_name": "myenv",
   "language": "python",
   "name": "python3"
  },
  "language_info": {
   "codemirror_mode": {
    "name": "ipython",
    "version": 3
   },
   "file_extension": ".py",
   "mimetype": "text/x-python",
   "name": "python",
   "nbconvert_exporter": "python",
   "pygments_lexer": "ipython3",
   "version": "3.11.5"
  }
 },
 "nbformat": 4,
 "nbformat_minor": 2
}
