{
 "cells": [
  {
   "cell_type": "code",
   "execution_count": 127,
   "metadata": {},
   "outputs": [],
   "source": [
    "import pandas as pd"
   ]
  },
  {
   "cell_type": "code",
   "execution_count": 123,
   "metadata": {},
   "outputs": [],
   "source": [
    "def add_light_work(data):\n",
    "    \"\"\"\n",
    "    Функция добавляет данные о времени включения света из файла 'time_city_light.csv'\n",
    "    сырой датафрем подаем на вход\n",
    "    \"\"\"\n",
    "    # обработаем файл с динамикой ВВП\n",
    "    light = pd.read_csv('data/time_city_light.csv')\n",
    "    light['turn_on'] = pd.to_datetime(light['on'], format='%H-%M').dt.time\n",
    "    light['turn_off'] = pd.to_datetime(light['off'], format='%H-%M').dt.time\n",
    "    light.drop(['on','off'], inplace=True, axis=1) \n",
    "        \n",
    "    # обработаем основной фрейм - создадим столбец времени, который потом удалим\n",
    "    data['date_temp'] = pd.to_datetime(data['date'], format = '%Y-%m-%d' )\n",
    "    data['date_temp'] = data['date_temp'] + pd.to_timedelta(data['time'] , 'H')\n",
    "\n",
    "    def is_light(input_dt):\n",
    "        \"\"\"\n",
    "        Функция сравнивает значения с временем вкл. света.\n",
    "        если освещение включено, возвращает 1. \n",
    "        \"\"\"\n",
    "        # извлекаем месяц и день из входящей даты\n",
    "        month = input_dt.month\n",
    "        day = input_dt.day\n",
    "        # находим график работы освещения в справочном файле\n",
    "        row = light.loc[(month==light['month'])  & (light['day']<=day),:].tail(1)\n",
    "\n",
    "        # извлекаем время из timestamp и сравниваем \n",
    "        tm = input_dt.time()\n",
    "        if tm<row.turn_off.values or tm>row.turn_on.values:\n",
    "            return 1\n",
    "        else:\n",
    "            return 0\n",
    "    \n",
    "        \n",
    "    data['is_light'] = data['date_temp'].map(is_light)\n",
    "    data.drop('date_temp',axis=1,inplace=True)\n",
    "       \n",
    "    return data"
   ]
  }
 ],
 "metadata": {
  "kernelspec": {
   "display_name": "myenv",
   "language": "python",
   "name": "python3"
  },
  "language_info": {
   "codemirror_mode": {
    "name": "ipython",
    "version": 3
   },
   "file_extension": ".py",
   "mimetype": "text/x-python",
   "name": "python",
   "nbconvert_exporter": "python",
   "pygments_lexer": "ipython3",
   "version": "3.11.5"
  }
 },
 "nbformat": 4,
 "nbformat_minor": 2
}
