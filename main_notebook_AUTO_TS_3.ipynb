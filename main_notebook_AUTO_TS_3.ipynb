{
 "cells": [
  {
   "cell_type": "markdown",
   "id": "f5606014",
   "metadata": {},
   "source": [
    "## Энергетический оракул\n",
    "Ноутбук команды #12\n",
    "\n",
    "Работа выполнена на основе модели LightGBM\n",
    "\n",
    "\n",
    "### 1. Подготовка данных"
   ]
  },
  {
   "cell_type": "code",
   "execution_count": 7,
   "id": "e4351135",
   "metadata": {},
   "outputs": [],
   "source": [
    "import numpy as np\n",
    "import pandas as pd\n",
    "import matplotlib.pyplot as plt\n",
    "\n",
    "import lightgbm as lgb\n",
    "from sklearn.metrics import mean_absolute_error\n",
    "from sklearn.metrics import mean_absolute_percentage_error\n",
    "from sklearn.metrics import r2_score\n",
    "\n",
    "import re\n",
    "\n",
    "from tqdm import tqdm\n",
    "\n",
    "from data_preprocess import DataTransformer\n",
    "random_state = 12345\n",
    "NUM_ITERATIONS = 5000"
   ]
  },
  {
   "cell_type": "code",
   "execution_count": 8,
   "id": "c5eb669e",
   "metadata": {},
   "outputs": [],
   "source": [
    "# Функция для вычисления метрики mae по дням из почасовых массивов данных\n",
    "\n",
    "def mae_day(y_true, y_pred):\n",
    "    y_true_copy = pd.DataFrame(y_true).reset_index(drop=True)\n",
    "    y_true_copy['day'] = y_true_copy.index // 24\n",
    "    y_true_grouped = y_true_copy.groupby(by='day').sum()   \n",
    "    y_pred_copy = pd.DataFrame(y_pred).reset_index(drop=True)\n",
    "    y_pred_copy['day'] = y_pred_copy.index // 24\n",
    "    y_pred_grouped = y_pred_copy.groupby(by='day').sum()\n",
    "    \n",
    "    return mean_absolute_error(y_true_grouped, y_pred_grouped)\n",
    "# Функция для вычисления метрик по дням из почасовых массивов данных\n",
    "\n",
    "def metrics_day(y_true, y_pred):\n",
    "    y_true_copy = pd.DataFrame(y_true).reset_index(drop=True)\n",
    "    y_true_copy['day'] = y_true_copy.index // 24\n",
    "    y_true_grouped = y_true_copy.groupby(by='day').sum()   \n",
    "    y_pred_copy = pd.DataFrame(y_pred).reset_index(drop=True)\n",
    "    y_pred_copy['day'] = y_pred_copy.index // 24\n",
    "    y_pred_grouped = y_pred_copy.groupby(by='day').sum()\n",
    "    \n",
    "    mae = mean_absolute_error(y_true_grouped, y_pred_grouped)\n",
    "    mape = mean_absolute_percentage_error(y_true_grouped, y_pred_grouped)\n",
    "    r2 = r2_score(y_true_grouped, y_pred_grouped)\n",
    "    return mae, mape, r2"
   ]
  },
  {
   "cell_type": "markdown",
   "id": "7808c109",
   "metadata": {},
   "source": [
    "#### 1.5 Чтение файлов с данными\n",
    "Данные объединяются в один датасет"
   ]
  },
  {
   "cell_type": "code",
   "execution_count": 9,
   "id": "39a9902d",
   "metadata": {},
   "outputs": [],
   "source": [
    "path = 'data'\n",
    "transformer = DataTransformer() #инициализируем трансформер"
   ]
  },
  {
   "cell_type": "code",
   "execution_count": 10,
   "id": "7ced4dcf",
   "metadata": {},
   "outputs": [
    {
     "name": "stdout",
     "output_type": "stream",
     "text": [
      "начало открытого теста: 2023-04-01 00:00:00     конец открытого теста: 2023-08-01 00:00:00\n"
     ]
    }
   ],
   "source": [
    "all_ds, test_begin, test_end = transformer.open_file() #оставляем поле пустым что бы использовать открытый датасет"
   ]
  },
  {
   "cell_type": "code",
   "execution_count": 11,
   "id": "f3340c7f",
   "metadata": {},
   "outputs": [
    {
     "name": "stdout",
     "output_type": "stream",
     "text": [
      "(40152, 7)\n"
     ]
    }
   ],
   "source": [
    "print(all_ds.shape)"
   ]
  },
  {
   "cell_type": "code",
   "execution_count": 12,
   "id": "563ce304",
   "metadata": {},
   "outputs": [
    {
     "name": "stdout",
     "output_type": "stream",
     "text": [
      "date:  0\n",
      "fill_weather_columns:  0\n",
      "Index(['date', 'time', 'target', 'temp', 'temp_pred', 'weather_pred',\n",
      "       'weather_fact', 'cloudy', 'rainy', 'windy', 'clear', 'rain_probability',\n",
      "       'has_rain_probability', 'holidays', 'preholidays'],\n",
      "      dtype='object')\n",
      "holydays:  0\n",
      "create_lags:  0\n",
      "VVP:  0\n",
      "true weather:  0\n"
     ]
    }
   ],
   "source": [
    "all_ds = transformer.transform(all_ds)"
   ]
  },
  {
   "cell_type": "code",
   "execution_count": 13,
   "id": "38179a50",
   "metadata": {},
   "outputs": [
    {
     "name": "stdout",
     "output_type": "stream",
     "text": [
      "(40152, 30)\n"
     ]
    }
   ],
   "source": [
    "print(all_ds.shape)"
   ]
  },
  {
   "cell_type": "code",
   "execution_count": 14,
   "id": "ae8d2b8a",
   "metadata": {},
   "outputs": [
    {
     "data": {
      "text/plain": [
       "0"
      ]
     },
     "execution_count": 14,
     "metadata": {},
     "output_type": "execute_result"
    }
   ],
   "source": [
    "duplicates = all_ds.duplicated()\n",
    "\n",
    "duplicates.sum()"
   ]
  },
  {
   "cell_type": "markdown",
   "id": "66cc76ee",
   "metadata": {},
   "source": [
    "#### 1.10 Демонстрация сформированного датасета"
   ]
  },
  {
   "cell_type": "code",
   "execution_count": 15,
   "id": "a939b60f",
   "metadata": {},
   "outputs": [
    {
     "data": {
      "text/plain": [
       "Index(['date', 'time', 'target', 'temp', 'temp_pred', 'weather_pred',\n",
       "       'weather_fact', 'cloudy', 'rainy', 'windy', 'clear', 'rain_probability',\n",
       "       'has_rain_probability', 'holidays', 'preholidays', 'temp_last_day',\n",
       "       'target_lag_24', 'target_lag_48', 'target_lag_72', 'target_lag_168',\n",
       "       'target_lag_336', 'VVP', 'P', 'U', 'WW', 'Td', 'N', 'S', 'W', 'E'],\n",
       "      dtype='object')"
      ]
     },
     "execution_count": 15,
     "metadata": {},
     "output_type": "execute_result"
    }
   ],
   "source": [
    "# Итоговый набор колонок\n",
    "all_ds.columns"
   ]
  },
  {
   "cell_type": "code",
   "execution_count": 16,
   "id": "f51e77ef",
   "metadata": {},
   "outputs": [
    {
     "data": {
      "text/html": [
       "<div>\n",
       "<style scoped>\n",
       "    .dataframe tbody tr th:only-of-type {\n",
       "        vertical-align: middle;\n",
       "    }\n",
       "\n",
       "    .dataframe tbody tr th {\n",
       "        vertical-align: top;\n",
       "    }\n",
       "\n",
       "    .dataframe thead th {\n",
       "        text-align: right;\n",
       "    }\n",
       "</style>\n",
       "<table border=\"1\" class=\"dataframe\">\n",
       "  <thead>\n",
       "    <tr style=\"text-align: right;\">\n",
       "      <th></th>\n",
       "      <th>date</th>\n",
       "      <th>time</th>\n",
       "      <th>target</th>\n",
       "      <th>temp</th>\n",
       "      <th>temp_pred</th>\n",
       "      <th>weather_pred</th>\n",
       "      <th>weather_fact</th>\n",
       "      <th>cloudy</th>\n",
       "      <th>rainy</th>\n",
       "      <th>windy</th>\n",
       "      <th>...</th>\n",
       "      <th>target_lag_336</th>\n",
       "      <th>VVP</th>\n",
       "      <th>P</th>\n",
       "      <th>U</th>\n",
       "      <th>WW</th>\n",
       "      <th>Td</th>\n",
       "      <th>N</th>\n",
       "      <th>S</th>\n",
       "      <th>W</th>\n",
       "      <th>E</th>\n",
       "    </tr>\n",
       "  </thead>\n",
       "  <tbody>\n",
       "    <tr>\n",
       "      <th>0</th>\n",
       "      <td>2019-01-01</td>\n",
       "      <td>0</td>\n",
       "      <td>481.510</td>\n",
       "      <td>2.9</td>\n",
       "      <td>2.0</td>\n",
       "      <td>пасм, ветер</td>\n",
       "      <td>ветер</td>\n",
       "      <td>2</td>\n",
       "      <td>0</td>\n",
       "      <td>1</td>\n",
       "      <td>...</td>\n",
       "      <td>0.0</td>\n",
       "      <td>1.8</td>\n",
       "      <td>763.5</td>\n",
       "      <td>100.0</td>\n",
       "      <td>1.0</td>\n",
       "      <td>2.0</td>\n",
       "      <td>1.0</td>\n",
       "      <td>0.0</td>\n",
       "      <td>0.0</td>\n",
       "      <td>0.0</td>\n",
       "    </tr>\n",
       "    <tr>\n",
       "      <th>1</th>\n",
       "      <td>2019-01-01</td>\n",
       "      <td>1</td>\n",
       "      <td>462.872</td>\n",
       "      <td>2.9</td>\n",
       "      <td>2.0</td>\n",
       "      <td>пасм, ветер</td>\n",
       "      <td>ветер</td>\n",
       "      <td>2</td>\n",
       "      <td>0</td>\n",
       "      <td>1</td>\n",
       "      <td>...</td>\n",
       "      <td>0.0</td>\n",
       "      <td>1.8</td>\n",
       "      <td>764.3</td>\n",
       "      <td>93.0</td>\n",
       "      <td>1.0</td>\n",
       "      <td>1.0</td>\n",
       "      <td>1.0</td>\n",
       "      <td>0.0</td>\n",
       "      <td>0.0</td>\n",
       "      <td>0.0</td>\n",
       "    </tr>\n",
       "    <tr>\n",
       "      <th>2</th>\n",
       "      <td>2019-01-01</td>\n",
       "      <td>2</td>\n",
       "      <td>449.718</td>\n",
       "      <td>2.9</td>\n",
       "      <td>2.0</td>\n",
       "      <td>пасм, ветер</td>\n",
       "      <td>ветер</td>\n",
       "      <td>2</td>\n",
       "      <td>0</td>\n",
       "      <td>1</td>\n",
       "      <td>...</td>\n",
       "      <td>0.0</td>\n",
       "      <td>1.8</td>\n",
       "      <td>765.0</td>\n",
       "      <td>93.0</td>\n",
       "      <td>0.0</td>\n",
       "      <td>2.0</td>\n",
       "      <td>1.0</td>\n",
       "      <td>0.0</td>\n",
       "      <td>0.0</td>\n",
       "      <td>0.0</td>\n",
       "    </tr>\n",
       "    <tr>\n",
       "      <th>3</th>\n",
       "      <td>2019-01-01</td>\n",
       "      <td>3</td>\n",
       "      <td>430.908</td>\n",
       "      <td>4.3</td>\n",
       "      <td>2.0</td>\n",
       "      <td>пасм, ветер</td>\n",
       "      <td>ветер, пасм</td>\n",
       "      <td>2</td>\n",
       "      <td>0</td>\n",
       "      <td>1</td>\n",
       "      <td>...</td>\n",
       "      <td>0.0</td>\n",
       "      <td>1.8</td>\n",
       "      <td>765.8</td>\n",
       "      <td>87.0</td>\n",
       "      <td>0.0</td>\n",
       "      <td>1.0</td>\n",
       "      <td>1.0</td>\n",
       "      <td>0.0</td>\n",
       "      <td>0.0</td>\n",
       "      <td>0.0</td>\n",
       "    </tr>\n",
       "    <tr>\n",
       "      <th>4</th>\n",
       "      <td>2019-01-01</td>\n",
       "      <td>4</td>\n",
       "      <td>415.163</td>\n",
       "      <td>4.3</td>\n",
       "      <td>2.0</td>\n",
       "      <td>пасм, ветер</td>\n",
       "      <td>ветер, пасм</td>\n",
       "      <td>2</td>\n",
       "      <td>0</td>\n",
       "      <td>1</td>\n",
       "      <td>...</td>\n",
       "      <td>0.0</td>\n",
       "      <td>1.8</td>\n",
       "      <td>766.6</td>\n",
       "      <td>87.0</td>\n",
       "      <td>0.0</td>\n",
       "      <td>1.0</td>\n",
       "      <td>1.0</td>\n",
       "      <td>0.0</td>\n",
       "      <td>0.0</td>\n",
       "      <td>0.0</td>\n",
       "    </tr>\n",
       "  </tbody>\n",
       "</table>\n",
       "<p>5 rows × 30 columns</p>\n",
       "</div>"
      ],
      "text/plain": [
       "        date  time   target  temp  temp_pred weather_pred weather_fact  \\\n",
       "0 2019-01-01     0  481.510   2.9        2.0  пасм, ветер        ветер   \n",
       "1 2019-01-01     1  462.872   2.9        2.0  пасм, ветер        ветер   \n",
       "2 2019-01-01     2  449.718   2.9        2.0  пасм, ветер        ветер   \n",
       "3 2019-01-01     3  430.908   4.3        2.0  пасм, ветер  ветер, пасм   \n",
       "4 2019-01-01     4  415.163   4.3        2.0  пасм, ветер  ветер, пасм   \n",
       "\n",
       "   cloudy  rainy  windy  ...  target_lag_336  VVP      P      U   WW   Td  \\\n",
       "0       2      0      1  ...             0.0  1.8  763.5  100.0  1.0  2.0   \n",
       "1       2      0      1  ...             0.0  1.8  764.3   93.0  1.0  1.0   \n",
       "2       2      0      1  ...             0.0  1.8  765.0   93.0  0.0  2.0   \n",
       "3       2      0      1  ...             0.0  1.8  765.8   87.0  0.0  1.0   \n",
       "4       2      0      1  ...             0.0  1.8  766.6   87.0  0.0  1.0   \n",
       "\n",
       "     N    S    W    E  \n",
       "0  1.0  0.0  0.0  0.0  \n",
       "1  1.0  0.0  0.0  0.0  \n",
       "2  1.0  0.0  0.0  0.0  \n",
       "3  1.0  0.0  0.0  0.0  \n",
       "4  1.0  0.0  0.0  0.0  \n",
       "\n",
       "[5 rows x 30 columns]"
      ]
     },
     "execution_count": 16,
     "metadata": {},
     "output_type": "execute_result"
    }
   ],
   "source": [
    "all_ds.head()"
   ]
  },
  {
   "cell_type": "code",
   "execution_count": 17,
   "id": "7758cea2",
   "metadata": {},
   "outputs": [
    {
     "data": {
      "text/html": [
       "<div>\n",
       "<style scoped>\n",
       "    .dataframe tbody tr th:only-of-type {\n",
       "        vertical-align: middle;\n",
       "    }\n",
       "\n",
       "    .dataframe tbody tr th {\n",
       "        vertical-align: top;\n",
       "    }\n",
       "\n",
       "    .dataframe thead th {\n",
       "        text-align: right;\n",
       "    }\n",
       "</style>\n",
       "<table border=\"1\" class=\"dataframe\">\n",
       "  <thead>\n",
       "    <tr style=\"text-align: right;\">\n",
       "      <th></th>\n",
       "      <th>date</th>\n",
       "      <th>time</th>\n",
       "      <th>target</th>\n",
       "      <th>temp</th>\n",
       "      <th>temp_pred</th>\n",
       "      <th>weather_pred</th>\n",
       "      <th>weather_fact</th>\n",
       "      <th>cloudy</th>\n",
       "      <th>rainy</th>\n",
       "      <th>windy</th>\n",
       "      <th>...</th>\n",
       "      <th>target_lag_336</th>\n",
       "      <th>VVP</th>\n",
       "      <th>P</th>\n",
       "      <th>U</th>\n",
       "      <th>WW</th>\n",
       "      <th>Td</th>\n",
       "      <th>N</th>\n",
       "      <th>S</th>\n",
       "      <th>W</th>\n",
       "      <th>E</th>\n",
       "    </tr>\n",
       "  </thead>\n",
       "  <tbody>\n",
       "  </tbody>\n",
       "</table>\n",
       "<p>0 rows × 30 columns</p>\n",
       "</div>"
      ],
      "text/plain": [
       "Empty DataFrame\n",
       "Columns: [date, time, target, temp, temp_pred, weather_pred, weather_fact, cloudy, rainy, windy, clear, rain_probability, has_rain_probability, holidays, preholidays, temp_last_day, target_lag_24, target_lag_48, target_lag_72, target_lag_168, target_lag_336, VVP, P, U, WW, Td, N, S, W, E]\n",
       "Index: []\n",
       "\n",
       "[0 rows x 30 columns]"
      ]
     },
     "execution_count": 17,
     "metadata": {},
     "output_type": "execute_result"
    }
   ],
   "source": [
    "all_ds[duplicates].sort_values(['date','time']).tail(56)"
   ]
  },
  {
   "cell_type": "markdown",
   "id": "c69383cb",
   "metadata": {},
   "source": [
    "#### 1.11 Исключение лишних колонок"
   ]
  },
  {
   "cell_type": "code",
   "execution_count": 18,
   "id": "65d6619d",
   "metadata": {},
   "outputs": [
    {
     "data": {
      "text/plain": [
       "['date', 'time', 'temp_last_day']"
      ]
     },
     "execution_count": 18,
     "metadata": {},
     "output_type": "execute_result"
    }
   ],
   "source": [
    "# Отбираем признаки. Все лишние колонки здесь отбрасываем, кроме 'date', которую уберем позже \n",
    "\n",
    "feature_cols = list(all_ds.columns)\n",
    "\n",
    "# выбрасываем взгляд в прошлое и расшифрованную погоду\n",
    "drop_list = ['target', 'weather_pred', 'weather_fact', 'temp']\n",
    "\n",
    "# выбрасываем признаки, найденные процедурно в процессе оптимизации\n",
    "# КОМАНДЕ: здесь можно добавлять признаки на выброс с целью оптимизации\n",
    "drop_list = drop_list + ['target_lag_48', 'target_lag_168', 'target_lag_336',\n",
    "                        'target_lag_24', 'windy', 'clear',\n",
    "                        'target_lag_72','has_rain_probability', #'temp_last_day',\n",
    "                        'N', 'S', 'W', 'E', 'P','U', 'WW', 'Td', 'preholidays',  'cloudy',\n",
    " 'rainy',\n",
    " 'rain_probability','temp_pred', 'holidays', 'VVP'] \n",
    "\n",
    "for name in drop_list:\n",
    "    feature_cols.remove(name)\n",
    "\n",
    "# Итоговый список признаков\n",
    "feature_cols"
   ]
  },
  {
   "cell_type": "markdown",
   "id": "d8f34c90",
   "metadata": {},
   "source": [
    "#### 1.12 Выделение наборов данных для обучения, валидации и тестирования\n",
    "\n",
    "Выделялось два набора данных для обучения и валидации:\n",
    "1. Обучение на данных с 2019 по 2021 с валидацией на 2022\n",
    "2. Обучение на данных с 2019 по 2022 с валидацией на первом квартале 2023\n",
    "\n",
    "Первый набор позволяет оценить влияние сезонности на обучение и предсказания, второй позволяет обучить модель на большем объеме данных и на более актуальных данных."
   ]
  },
  {
   "cell_type": "code",
   "execution_count": 19,
   "id": "5a2b8078",
   "metadata": {},
   "outputs": [
    {
     "name": "stderr",
     "output_type": "stream",
     "text": [
      "/var/folders/4y/zccbjjq17fgd73999h5g3ltr0000gn/T/ipykernel_69652/3202848139.py:14: SettingWithCopyWarning: \n",
      "A value is trying to be set on a copy of a slice from a DataFrame.\n",
      "Try using .loc[row_indexer,col_indexer] = value instead\n",
      "\n",
      "See the caveats in the documentation: https://pandas.pydata.org/pandas-docs/stable/user_guide/indexing.html#returning-a-view-versus-a-copy\n",
      "  features_interval.loc[:, 'date'] = pd.to_datetime(features_interval['date'])\n",
      "/var/folders/4y/zccbjjq17fgd73999h5g3ltr0000gn/T/ipykernel_69652/3202848139.py:14: DeprecationWarning: In a future version, `df.iloc[:, i] = newvals` will attempt to set the values inplace instead of always setting a new array. To retain the old behavior, use either `df[df.columns[i]] = newvals` or, if columns are non-unique, `df.isetitem(i, newvals)`\n",
      "  features_interval.loc[:, 'date'] = pd.to_datetime(features_interval['date'])\n",
      "/var/folders/4y/zccbjjq17fgd73999h5g3ltr0000gn/T/ipykernel_69652/3202848139.py:17: SettingWithCopyWarning: \n",
      "A value is trying to be set on a copy of a slice from a DataFrame.\n",
      "Try using .loc[row_indexer,col_indexer] = value instead\n",
      "\n",
      "See the caveats in the documentation: https://pandas.pydata.org/pandas-docs/stable/user_guide/indexing.html#returning-a-view-versus-a-copy\n",
      "  features_interval.loc[:, 'time'] = pd.to_timedelta(features_interval['time'], unit='h')\n",
      "/var/folders/4y/zccbjjq17fgd73999h5g3ltr0000gn/T/ipykernel_69652/3202848139.py:20: SettingWithCopyWarning: \n",
      "A value is trying to be set on a copy of a slice from a DataFrame.\n",
      "Try using .loc[row_indexer,col_indexer] = value instead\n",
      "\n",
      "See the caveats in the documentation: https://pandas.pydata.org/pandas-docs/stable/user_guide/indexing.html#returning-a-view-versus-a-copy\n",
      "  features_interval.loc[:, 'datetime'] = features_interval['date'] + features_interval['time']\n",
      "/var/folders/4y/zccbjjq17fgd73999h5g3ltr0000gn/T/ipykernel_69652/3202848139.py:14: SettingWithCopyWarning: \n",
      "A value is trying to be set on a copy of a slice from a DataFrame.\n",
      "Try using .loc[row_indexer,col_indexer] = value instead\n",
      "\n",
      "See the caveats in the documentation: https://pandas.pydata.org/pandas-docs/stable/user_guide/indexing.html#returning-a-view-versus-a-copy\n",
      "  features_interval.loc[:, 'date'] = pd.to_datetime(features_interval['date'])\n",
      "/var/folders/4y/zccbjjq17fgd73999h5g3ltr0000gn/T/ipykernel_69652/3202848139.py:14: DeprecationWarning: In a future version, `df.iloc[:, i] = newvals` will attempt to set the values inplace instead of always setting a new array. To retain the old behavior, use either `df[df.columns[i]] = newvals` or, if columns are non-unique, `df.isetitem(i, newvals)`\n",
      "  features_interval.loc[:, 'date'] = pd.to_datetime(features_interval['date'])\n",
      "/var/folders/4y/zccbjjq17fgd73999h5g3ltr0000gn/T/ipykernel_69652/3202848139.py:17: SettingWithCopyWarning: \n",
      "A value is trying to be set on a copy of a slice from a DataFrame.\n",
      "Try using .loc[row_indexer,col_indexer] = value instead\n",
      "\n",
      "See the caveats in the documentation: https://pandas.pydata.org/pandas-docs/stable/user_guide/indexing.html#returning-a-view-versus-a-copy\n",
      "  features_interval.loc[:, 'time'] = pd.to_timedelta(features_interval['time'], unit='h')\n",
      "/var/folders/4y/zccbjjq17fgd73999h5g3ltr0000gn/T/ipykernel_69652/3202848139.py:20: SettingWithCopyWarning: \n",
      "A value is trying to be set on a copy of a slice from a DataFrame.\n",
      "Try using .loc[row_indexer,col_indexer] = value instead\n",
      "\n",
      "See the caveats in the documentation: https://pandas.pydata.org/pandas-docs/stable/user_guide/indexing.html#returning-a-view-versus-a-copy\n",
      "  features_interval.loc[:, 'datetime'] = features_interval['date'] + features_interval['time']\n"
     ]
    }
   ],
   "source": [
    "# Формируем набор датасетов для обучения и проверки\n",
    "\n",
    "features = all_ds[feature_cols]\n",
    "target = all_ds['target']\n",
    "\n",
    "# Функция для выделения временных интервалов из таблиц признаков и целей\n",
    "# на этом этапе отбрасываем колонку 'date'\n",
    "def features_interval(features, target, date1, date2):\n",
    "    \n",
    "    features_interval = features[ (features['date']>=date1) & (features['date']<date2) ]\n",
    "    target_interval = target[features_interval.index]\n",
    "    \n",
    "\n",
    "    features_interval.loc[:, 'date'] = pd.to_datetime(features_interval['date'])\n",
    "\n",
    "    # Преобразование столбца 'time' в timedelta\n",
    "    features_interval.loc[:, 'time'] = pd.to_timedelta(features_interval['time'], unit='h')\n",
    "\n",
    "    # Создание нового столбца 'datetime', объединяющего 'date' и 'time'\n",
    "    features_interval.loc[:, 'datetime'] = features_interval['date'] + features_interval['time']\n",
    "\n",
    "    # Установка столбца 'datetime' в качестве индекса\n",
    "    features_interval.set_index('datetime', inplace=True)\n",
    "\n",
    "    features_interval = features_interval.drop('date', axis=1)\n",
    "    features_interval = features_interval.drop('time', axis=1)\n",
    "    target_interval.index = features_interval.index\n",
    "\n",
    "    return features_interval, target_interval\n",
    "\n",
    "\n",
    "# для проверки на тестовой выборке будем учиться на всем тренировочном датасете\n",
    "features_all_train, target_all_train = features_interval(features, target, '2019-01-01', test_begin)\n",
    "features_open_test, target_open_test = features_interval(features, target, test_begin, test_end )\n"
   ]
  },
  {
   "cell_type": "code",
   "execution_count": 20,
   "id": "899b3f6b",
   "metadata": {},
   "outputs": [
    {
     "data": {
      "text/html": [
       "<div>\n",
       "<style scoped>\n",
       "    .dataframe tbody tr th:only-of-type {\n",
       "        vertical-align: middle;\n",
       "    }\n",
       "\n",
       "    .dataframe tbody tr th {\n",
       "        vertical-align: top;\n",
       "    }\n",
       "\n",
       "    .dataframe thead th {\n",
       "        text-align: right;\n",
       "    }\n",
       "</style>\n",
       "<table border=\"1\" class=\"dataframe\">\n",
       "  <thead>\n",
       "    <tr style=\"text-align: right;\">\n",
       "      <th></th>\n",
       "      <th>temp_last_day</th>\n",
       "    </tr>\n",
       "    <tr>\n",
       "      <th>datetime</th>\n",
       "      <th></th>\n",
       "    </tr>\n",
       "  </thead>\n",
       "  <tbody>\n",
       "    <tr>\n",
       "      <th>2019-01-01 00:00:00</th>\n",
       "      <td>2.0</td>\n",
       "    </tr>\n",
       "    <tr>\n",
       "      <th>2019-01-01 01:00:00</th>\n",
       "      <td>2.0</td>\n",
       "    </tr>\n",
       "    <tr>\n",
       "      <th>2019-01-01 02:00:00</th>\n",
       "      <td>2.0</td>\n",
       "    </tr>\n",
       "    <tr>\n",
       "      <th>2019-01-01 03:00:00</th>\n",
       "      <td>2.0</td>\n",
       "    </tr>\n",
       "    <tr>\n",
       "      <th>2019-01-01 04:00:00</th>\n",
       "      <td>2.0</td>\n",
       "    </tr>\n",
       "  </tbody>\n",
       "</table>\n",
       "</div>"
      ],
      "text/plain": [
       "                     temp_last_day\n",
       "datetime                          \n",
       "2019-01-01 00:00:00            2.0\n",
       "2019-01-01 01:00:00            2.0\n",
       "2019-01-01 02:00:00            2.0\n",
       "2019-01-01 03:00:00            2.0\n",
       "2019-01-01 04:00:00            2.0"
      ]
     },
     "execution_count": 20,
     "metadata": {},
     "output_type": "execute_result"
    }
   ],
   "source": [
    "features_all_train.head(5)"
   ]
  },
  {
   "cell_type": "code",
   "execution_count": 21,
   "id": "131f9ac1",
   "metadata": {},
   "outputs": [
    {
     "data": {
      "text/plain": [
       "0"
      ]
     },
     "execution_count": 21,
     "metadata": {},
     "output_type": "execute_result"
    }
   ],
   "source": [
    "duplicates_f = features_all_train.index.duplicated()\n",
    "\n",
    "duplicates_f.sum()"
   ]
  },
  {
   "cell_type": "code",
   "execution_count": 22,
   "id": "b706c447",
   "metadata": {},
   "outputs": [
    {
     "name": "stdout",
     "output_type": "stream",
     "text": [
      "(37224,)\n"
     ]
    }
   ],
   "source": [
    "print(duplicates_f.shape)"
   ]
  },
  {
   "cell_type": "code",
   "execution_count": 23,
   "id": "1b537cb2",
   "metadata": {},
   "outputs": [
    {
     "data": {
      "text/html": [
       "<div>\n",
       "<style scoped>\n",
       "    .dataframe tbody tr th:only-of-type {\n",
       "        vertical-align: middle;\n",
       "    }\n",
       "\n",
       "    .dataframe tbody tr th {\n",
       "        vertical-align: top;\n",
       "    }\n",
       "\n",
       "    .dataframe thead th {\n",
       "        text-align: right;\n",
       "    }\n",
       "</style>\n",
       "<table border=\"1\" class=\"dataframe\">\n",
       "  <thead>\n",
       "    <tr style=\"text-align: right;\">\n",
       "      <th></th>\n",
       "      <th>temp_last_day</th>\n",
       "    </tr>\n",
       "    <tr>\n",
       "      <th>datetime</th>\n",
       "      <th></th>\n",
       "    </tr>\n",
       "  </thead>\n",
       "  <tbody>\n",
       "  </tbody>\n",
       "</table>\n",
       "</div>"
      ],
      "text/plain": [
       "Empty DataFrame\n",
       "Columns: [temp_last_day]\n",
       "Index: []"
      ]
     },
     "execution_count": 23,
     "metadata": {},
     "output_type": "execute_result"
    }
   ],
   "source": [
    "features_all_train[duplicates_f].sort_values('datetime').head(56)"
   ]
  },
  {
   "cell_type": "code",
   "execution_count": null,
   "id": "08709d39",
   "metadata": {},
   "outputs": [],
   "source": []
  },
  {
   "cell_type": "code",
   "execution_count": 24,
   "id": "ddd9b35a",
   "metadata": {},
   "outputs": [
    {
     "data": {
      "text/html": [
       "<div>\n",
       "<style scoped>\n",
       "    .dataframe tbody tr th:only-of-type {\n",
       "        vertical-align: middle;\n",
       "    }\n",
       "\n",
       "    .dataframe tbody tr th {\n",
       "        vertical-align: top;\n",
       "    }\n",
       "\n",
       "    .dataframe thead th {\n",
       "        text-align: right;\n",
       "    }\n",
       "</style>\n",
       "<table border=\"1\" class=\"dataframe\">\n",
       "  <thead>\n",
       "    <tr style=\"text-align: right;\">\n",
       "      <th></th>\n",
       "      <th>temp_last_day</th>\n",
       "    </tr>\n",
       "    <tr>\n",
       "      <th>datetime</th>\n",
       "      <th></th>\n",
       "    </tr>\n",
       "  </thead>\n",
       "  <tbody>\n",
       "    <tr>\n",
       "      <th>2023-04-01 00:00:00</th>\n",
       "      <td>7.2</td>\n",
       "    </tr>\n",
       "    <tr>\n",
       "      <th>2023-04-01 01:00:00</th>\n",
       "      <td>7.2</td>\n",
       "    </tr>\n",
       "    <tr>\n",
       "      <th>2023-04-01 02:00:00</th>\n",
       "      <td>7.2</td>\n",
       "    </tr>\n",
       "    <tr>\n",
       "      <th>2023-04-01 03:00:00</th>\n",
       "      <td>7.9</td>\n",
       "    </tr>\n",
       "    <tr>\n",
       "      <th>2023-04-01 04:00:00</th>\n",
       "      <td>7.9</td>\n",
       "    </tr>\n",
       "  </tbody>\n",
       "</table>\n",
       "</div>"
      ],
      "text/plain": [
       "                     temp_last_day\n",
       "datetime                          \n",
       "2023-04-01 00:00:00            7.2\n",
       "2023-04-01 01:00:00            7.2\n",
       "2023-04-01 02:00:00            7.2\n",
       "2023-04-01 03:00:00            7.9\n",
       "2023-04-01 04:00:00            7.9"
      ]
     },
     "execution_count": 24,
     "metadata": {},
     "output_type": "execute_result"
    }
   ],
   "source": [
    "features_open_test.head(5)"
   ]
  },
  {
   "cell_type": "markdown",
   "id": "45da3e16",
   "metadata": {},
   "source": [
    "## AUTO TS"
   ]
  },
  {
   "cell_type": "code",
   "execution_count": 25,
   "id": "1c04d83a",
   "metadata": {},
   "outputs": [],
   "source": [
    "from autots import AutoTS, load_daily, load_hourly, load_live_daily, create_regressor\n",
    "from autots.models.model_list import model_lists\n",
    "import tensorflow as tf\n"
   ]
  },
  {
   "cell_type": "code",
   "execution_count": 26,
   "id": "0c8fc77e",
   "metadata": {},
   "outputs": [],
   "source": [
    "from pytorch_lightning.core.module import LightningModule\n"
   ]
  },
  {
   "cell_type": "code",
   "execution_count": 27,
   "id": "7c75fce7",
   "metadata": {},
   "outputs": [],
   "source": [
    "import holidays"
   ]
  },
  {
   "cell_type": "code",
   "execution_count": 28,
   "id": "5fd48ccd",
   "metadata": {},
   "outputs": [],
   "source": [
    "russian = holidays.RU()"
   ]
  },
  {
   "cell_type": "markdown",
   "id": "cc64dbe7",
   "metadata": {},
   "source": [
    "from sklearn.metrics import pairwise\n",
    "#import neuralprophet\n",
    "import scipy\n",
    "from arch import arch_model\n",
    "import pytorch_forecasting \n",
    "from neuralprophet import NeuralProphet\n",
    "from scipy.spatial.distance import cdist\n",
    "from sklearn.preprocessing import StandardScaler\n",
    "import gluonts.model\n",
    "from prophet import Prophet\n",
    "import statsmodels.api as sm"
   ]
  },
  {
   "cell_type": "code",
   "execution_count": 29,
   "id": "0b5cf018",
   "metadata": {},
   "outputs": [
    {
     "name": "stdout",
     "output_type": "stream",
     "text": [
      "dict_keys(['all', 'default', 'fast', 'superfast', 'parallel', 'fast_parallel', 'fast_parallel_no_arima', 'probabilistic', 'multivariate', 'univariate', 'no_params', 'recombination_approved', 'no_shared', 'no_shared_fast', 'experimental', 'slow', 'gpu', 'regressor', 'best', 'motifs', 'all_result_path', 'regressions', 'all_pragmatic', 'update_fit'])\n"
     ]
    }
   ],
   "source": [
    "print(model_lists.keys())"
   ]
  },
  {
   "cell_type": "code",
   "execution_count": 30,
   "id": "c8f4e717",
   "metadata": {},
   "outputs": [],
   "source": [
    "df_train_autots = pd.concat([target_all_train, features_all_train ], axis=1)"
   ]
  },
  {
   "cell_type": "code",
   "execution_count": 31,
   "id": "5851a638",
   "metadata": {},
   "outputs": [
    {
     "data": {
      "text/html": [
       "<div>\n",
       "<style scoped>\n",
       "    .dataframe tbody tr th:only-of-type {\n",
       "        vertical-align: middle;\n",
       "    }\n",
       "\n",
       "    .dataframe tbody tr th {\n",
       "        vertical-align: top;\n",
       "    }\n",
       "\n",
       "    .dataframe thead th {\n",
       "        text-align: right;\n",
       "    }\n",
       "</style>\n",
       "<table border=\"1\" class=\"dataframe\">\n",
       "  <thead>\n",
       "    <tr style=\"text-align: right;\">\n",
       "      <th></th>\n",
       "      <th>target</th>\n",
       "      <th>temp_last_day</th>\n",
       "    </tr>\n",
       "    <tr>\n",
       "      <th>datetime</th>\n",
       "      <th></th>\n",
       "      <th></th>\n",
       "    </tr>\n",
       "  </thead>\n",
       "  <tbody>\n",
       "    <tr>\n",
       "      <th>2019-01-01 00:00:00</th>\n",
       "      <td>481.510</td>\n",
       "      <td>2.0</td>\n",
       "    </tr>\n",
       "    <tr>\n",
       "      <th>2019-01-01 01:00:00</th>\n",
       "      <td>462.872</td>\n",
       "      <td>2.0</td>\n",
       "    </tr>\n",
       "    <tr>\n",
       "      <th>2019-01-01 02:00:00</th>\n",
       "      <td>449.718</td>\n",
       "      <td>2.0</td>\n",
       "    </tr>\n",
       "    <tr>\n",
       "      <th>2019-01-01 03:00:00</th>\n",
       "      <td>430.908</td>\n",
       "      <td>2.0</td>\n",
       "    </tr>\n",
       "    <tr>\n",
       "      <th>2019-01-01 04:00:00</th>\n",
       "      <td>415.163</td>\n",
       "      <td>2.0</td>\n",
       "    </tr>\n",
       "  </tbody>\n",
       "</table>\n",
       "</div>"
      ],
      "text/plain": [
       "                      target  temp_last_day\n",
       "datetime                                   \n",
       "2019-01-01 00:00:00  481.510            2.0\n",
       "2019-01-01 01:00:00  462.872            2.0\n",
       "2019-01-01 02:00:00  449.718            2.0\n",
       "2019-01-01 03:00:00  430.908            2.0\n",
       "2019-01-01 04:00:00  415.163            2.0"
      ]
     },
     "execution_count": 31,
     "metadata": {},
     "output_type": "execute_result"
    }
   ],
   "source": [
    "df_train_autots.head()"
   ]
  },
  {
   "cell_type": "code",
   "execution_count": 32,
   "id": "688a6a98",
   "metadata": {},
   "outputs": [
    {
     "data": {
      "text/plain": [
       "0"
      ]
     },
     "execution_count": 32,
     "metadata": {},
     "output_type": "execute_result"
    }
   ],
   "source": [
    "duplicates = df_train_autots.index.duplicated()\n",
    "\n",
    "duplicates.sum()"
   ]
  },
  {
   "cell_type": "code",
   "execution_count": 33,
   "id": "089c72b2",
   "metadata": {},
   "outputs": [
    {
     "data": {
      "text/html": [
       "<div>\n",
       "<style scoped>\n",
       "    .dataframe tbody tr th:only-of-type {\n",
       "        vertical-align: middle;\n",
       "    }\n",
       "\n",
       "    .dataframe tbody tr th {\n",
       "        vertical-align: top;\n",
       "    }\n",
       "\n",
       "    .dataframe thead th {\n",
       "        text-align: right;\n",
       "    }\n",
       "</style>\n",
       "<table border=\"1\" class=\"dataframe\">\n",
       "  <thead>\n",
       "    <tr style=\"text-align: right;\">\n",
       "      <th></th>\n",
       "      <th>target</th>\n",
       "      <th>temp_last_day</th>\n",
       "    </tr>\n",
       "    <tr>\n",
       "      <th>datetime</th>\n",
       "      <th></th>\n",
       "      <th></th>\n",
       "    </tr>\n",
       "  </thead>\n",
       "  <tbody>\n",
       "    <tr>\n",
       "      <th>2023-04-01 00:00:00</th>\n",
       "      <td>479.282</td>\n",
       "      <td>7.2</td>\n",
       "    </tr>\n",
       "    <tr>\n",
       "      <th>2023-04-01 01:00:00</th>\n",
       "      <td>445.182</td>\n",
       "      <td>7.2</td>\n",
       "    </tr>\n",
       "    <tr>\n",
       "      <th>2023-04-01 02:00:00</th>\n",
       "      <td>424.225</td>\n",
       "      <td>7.2</td>\n",
       "    </tr>\n",
       "  </tbody>\n",
       "</table>\n",
       "</div>"
      ],
      "text/plain": [
       "                      target  temp_last_day\n",
       "datetime                                   \n",
       "2023-04-01 00:00:00  479.282            7.2\n",
       "2023-04-01 01:00:00  445.182            7.2\n",
       "2023-04-01 02:00:00  424.225            7.2"
      ]
     },
     "execution_count": 33,
     "metadata": {},
     "output_type": "execute_result"
    }
   ],
   "source": [
    "df_test_autots = pd.concat([target_open_test, features_open_test ], axis=1)\n",
    "df_test_autots.head(3)"
   ]
  },
  {
   "cell_type": "code",
   "execution_count": 34,
   "id": "6279aab6",
   "metadata": {},
   "outputs": [],
   "source": [
    "#Config\n",
    "forecast_length=24\n",
    "frequency='infer'\n",
    "drop_most_recent=0"
   ]
  },
  {
   "cell_type": "code",
   "execution_count": 35,
   "id": "e3f46458",
   "metadata": {},
   "outputs": [],
   "source": [
    "regr_train, regr_fcst = create_regressor(\n",
    "    df_train_autots,\n",
    "    forecast_length=forecast_length,\n",
    "    frequency=frequency,\n",
    "    drop_most_recent=drop_most_recent,\n",
    "    scale=True,\n",
    "    summarize=\"auto\",\n",
    "    backfill=\"bfill\",\n",
    "    fill_na=\"spline\",\n",
    "    holiday_countries=\"RU\",  # requires holidays package\n",
    "    encode_holiday_type=True,\n",
    "    # datepart_method=\"simple_2\",\n",
    ")"
   ]
  },
  {
   "cell_type": "code",
   "execution_count": 36,
   "id": "bf8dc052",
   "metadata": {},
   "outputs": [
    {
     "name": "stdout",
     "output_type": "stream",
     "text": [
      "Using 7 cpus for n_jobs.\n"
     ]
    }
   ],
   "source": [
    "metric_weighting = {\n",
    "    'mae_weighting': 5,\n",
    "    'mape_weighting': 3,\n",
    "    'rmse_weighting': 2,\n",
    "#    'made_weighting': 0.5,\n",
    "#    'mage_weighting': 1,\n",
    "#    'mle_weighting': 0,\n",
    "    'imle_weighting': 0,\n",
    "#    'spl_weighting': 3,\n",
    "    'containment_weighting': 0,\n",
    "    'contour_weighting': 1,\n",
    "    'runtime_weighting': 0.05,\n",
    "}\n",
    "model = AutoTS(\n",
    "    forecast_length=forecast_length,\n",
    "    frequency='infer',\n",
    "    prediction_interval=0.95,\n",
    "    ensemble='simple',\n",
    "    model_list=\"regressor\", #model_list_2,  \"superfast\", \"default\", \"fast_parallel\", 'fast'\n",
    "    transformer_list=\"fast\",  # \"superfast\",\n",
    "    metric_weighting=metric_weighting,\n",
    "    drop_most_recent=0,\n",
    "    max_generations=1,\n",
    "    n_jobs='auto',\n",
    "    num_validations=0,\n",
    "    validation_method=\"backwards\",\n",
    "    verbose=1,\n",
    "    #holiday_country = \"RU\"\n",
    ")"
   ]
  },
  {
   "cell_type": "code",
   "execution_count": 37,
   "id": "d5b1aa7b",
   "metadata": {},
   "outputs": [
    {
     "name": "stdout",
     "output_type": "stream",
     "text": [
      "Overwrite template is:                                   ID     Model  \\\n",
      "0   59f8660c21af31e81236bfb207cd4e6c       VAR   \n",
      "1   21882579696863510de95cb7849c625d  Ensemble   \n",
      "3   be9857cfc62cc2a24af22e54ad383d2b  Ensemble   \n",
      "4   59745a15bfcbebdbbaae29149f5938f5  Ensemble   \n",
      "5   f8628013aa1db35c5718b8c83863954f       VAR   \n",
      "6   ff2cc3abb24d54d70d5baf7596d16148       VAR   \n",
      "8   e6568724f566881fab25f14213b3a1a7  Ensemble   \n",
      "10  07c6da17e3eaae923ba3bbe2078792e2  Ensemble   \n",
      "11  0e67dd0b6c295b24bd2fa8a9f29667f3  Ensemble   \n",
      "13  24632f162fbd5799802a67b19616c396  Ensemble   \n",
      "\n",
      "                                      ModelParameters  \\\n",
      "0   {\"regression_type\": null, \"maxlags\": null, \"ic...   \n",
      "1   {\"model_name\": \"BestN\", \"model_count\": 3, \"mod...   \n",
      "3   {\"model_name\": \"BestN\", \"model_count\": 5, \"mod...   \n",
      "4   {\"model_name\": \"BestN\", \"model_count\": 3, \"mod...   \n",
      "5   {\"regression_type\": null, \"maxlags\": null, \"ic...   \n",
      "6   {\"regression_type\": null, \"maxlags\": null, \"ic...   \n",
      "8   {\"model_name\": \"BestN\", \"model_count\": 3, \"mod...   \n",
      "10  {\"model_name\": \"BestN\", \"model_count\": 3, \"mod...   \n",
      "11  {\"model_name\": \"BestN\", \"model_count\": 3, \"mod...   \n",
      "13  {\"model_name\": \"BestN\", \"model_count\": 5, \"mod...   \n",
      "\n",
      "                             TransformationParameters  Ensemble  \n",
      "0   {\"fillna\": \"akima\", \"transformations\": {\"0\": \"...         0  \n",
      "1                                                  {}         1  \n",
      "3                                                  {}         1  \n",
      "4                                                  {}         1  \n",
      "5   {\"fillna\": \"ffill\", \"transformations\": {\"0\": \"...         0  \n",
      "6   {\"fillna\": \"ffill\", \"transformations\": {\"0\": \"...         0  \n",
      "8                                                  {}         1  \n",
      "10                                                 {}         1  \n",
      "11                                                 {}         1  \n",
      "13                                                 {}         1  \n"
     ]
    }
   ],
   "source": [
    "\n",
    "model = model.import_template('AutoTS_best_models_n7.csv', method='only',  include_ensemble=True) # method='add on'\n",
    "print(\"Overwrite template is: {}\".format(str(model.initial_template)))"
   ]
  },
  {
   "cell_type": "code",
   "execution_count": 38,
   "id": "3ae761aa",
   "metadata": {},
   "outputs": [
    {
     "name": "stdout",
     "output_type": "stream",
     "text": [
      "Data frequency is: H, used frequency is: H\n",
      "Model Number: 1 with model VAR in generation 0 of 1\n",
      "Model Number: 2 with model Ensemble in generation 0 of 1\n",
      "Model Number: 3 with model Ensemble in generation 0 of 1\n",
      "Model Number: 4 with model Ensemble in generation 0 of 1\n",
      "Model Number: 5 with model VAR in generation 0 of 1\n",
      "Model Number: 6 with model VAR in generation 0 of 1\n",
      "Model Number: 7 with model Ensemble in generation 0 of 1\n",
      "Model Number: 8 with model Ensemble in generation 0 of 1\n",
      "Model Number: 9 with model Ensemble in generation 0 of 1\n",
      "Model Number: 10 with model Ensemble in generation 0 of 1\n",
      "Model Number: 11 with model SeasonalNaive in generation 0 of 1\n",
      "Model Number: 12 with model UnivariateMotif in generation 0 of 1\n",
      "Model Number: 13 with model MultivariateMotif in generation 0 of 1\n",
      "Model Number: 14 with model MetricMotif in generation 0 of 1\n",
      "New Generation: 1 of 1\n",
      "Model Number: 15 with model VAR in generation 1 of 1\n",
      "Template Eval Error: Exception('Transformer AlignLastValue failed on inverse') in model 15 in generation 1: VAR\n",
      "Model Number: 16 with model VAR in generation 1 of 1\n",
      "Model Number: 17 with model VAR in generation 1 of 1\n",
      "Model Number: 18 with model VAR in generation 1 of 1\n",
      "Model Number: 19 with model VAR in generation 1 of 1\n",
      "Model Number: 20 with model SeasonalNaive in generation 1 of 1\n",
      "Model Number: 21 with model SeasonalNaive in generation 1 of 1\n",
      "Model Number: 22 with model SeasonalNaive in generation 1 of 1\n",
      "Model Number: 23 with model UnivariateMotif in generation 1 of 1\n",
      "Model Number: 24 with model UnivariateMotif in generation 1 of 1\n",
      "Model Number: 25 with model MultivariateMotif in generation 1 of 1\n",
      "Template Eval Error: Exception('Transformer AlignLastValue failed on inverse') in model 25 in generation 1: MultivariateMotif\n",
      "Model Number: 26 with model MultivariateMotif in generation 1 of 1\n",
      "Model Number: 27 with model MetricMotif in generation 1 of 1\n",
      "Model Number: 28 with model MetricMotif in generation 1 of 1\n",
      "Template Eval Error: Exception('Transformer AlignLastValue failed on inverse') in model 28 in generation 1: MetricMotif\n",
      "Model Number: 29 with model Ensemble in generation 2 of Ensembles\n",
      "Model Number: 30 with model Ensemble in generation 2 of Ensembles\n",
      "Model Number: 31 with model Ensemble in generation 2 of Ensembles\n",
      "Model Number: 32 with model Ensemble in generation 2 of Ensembles\n",
      "Model Number: 33 with model Ensemble in generation 2 of Ensembles\n",
      "Model Number: 34 with model Ensemble in generation 2 of Ensembles\n",
      "Model Number: 35 with model Ensemble in generation 2 of Ensembles\n",
      "Model Number: 36 with model Ensemble in generation 2 of Ensembles\n"
     ]
    }
   ],
   "source": [
    "\n",
    "model = model.fit(\n",
    "    df_train_autots,\n",
    "    weights={'target': 20}, future_regressor=regr_train\n",
    "    \n",
    ")"
   ]
  },
  {
   "cell_type": "code",
   "execution_count": 39,
   "id": "8f327e8b",
   "metadata": {},
   "outputs": [],
   "source": [
    "import joblib\n",
    "#joblib.dump(model, 'Autots_best_model_1.pkl')\n",
    "#model = joblib.load('Autots_regr_temp_target.pkl')"
   ]
  },
  {
   "cell_type": "code",
   "execution_count": 40,
   "id": "5e3bf7e8",
   "metadata": {},
   "outputs": [],
   "source": [
    "auto_ts_model = \"AutoTS_best_models_n7_2.csv\"  # .csv/.json\n",
    "model.export_template(auto_ts_model, models='best',\n",
    "                      n=7, max_per_model_class=3)"
   ]
  },
  {
   "cell_type": "code",
   "execution_count": 41,
   "id": "25fa40f9",
   "metadata": {},
   "outputs": [
    {
     "data": {
      "text/plain": [
       "<Axes: title={'center': 'target with model VAR'}>"
      ]
     },
     "execution_count": 41,
     "metadata": {},
     "output_type": "execute_result"
    },
    {
     "data": {
      "image/png": "[encoded data removed]",
      "text/plain": [
       "<Figure size 640x480 with 1 Axes>"
      ]
     },
     "metadata": {},
     "output_type": "display_data"
    }
   ],
   "source": [
    "prediction = model.predict()\n",
    "# plot a sample\n",
    "prediction.plot(model.df_wide_numeric,\n",
    "                series=model.df_wide_numeric.columns[0],\n",
    "                )"
   ]
  },
  {
   "cell_type": "code",
   "execution_count": 42,
   "id": "89a1e789",
   "metadata": {},
   "outputs": [
    {
     "name": "stdout",
     "output_type": "stream",
     "text": [
      "Prediction object: \n",
      "Return .forecast, \n",
      " .upper_forecast, \n",
      " .lower_forecast \n",
      " .model_parameters \n",
      " .transformation_parameters\n"
     ]
    }
   ],
   "source": [
    "print(prediction)"
   ]
  },
  {
   "cell_type": "code",
   "execution_count": 43,
   "id": "75cee82f",
   "metadata": {},
   "outputs": [
    {
     "data": {
      "text/html": [
       "<div>\n",
       "<style scoped>\n",
       "    .dataframe tbody tr th:only-of-type {\n",
       "        vertical-align: middle;\n",
       "    }\n",
       "\n",
       "    .dataframe tbody tr th {\n",
       "        vertical-align: top;\n",
       "    }\n",
       "\n",
       "    .dataframe thead th {\n",
       "        text-align: right;\n",
       "    }\n",
       "</style>\n",
       "<table border=\"1\" class=\"dataframe\">\n",
       "  <thead>\n",
       "    <tr style=\"text-align: right;\">\n",
       "      <th></th>\n",
       "      <th>target</th>\n",
       "      <th>temp_last_day</th>\n",
       "    </tr>\n",
       "  </thead>\n",
       "  <tbody>\n",
       "    <tr>\n",
       "      <th>2023-04-01 00:00:00</th>\n",
       "      <td>482.556551</td>\n",
       "      <td>5.736388</td>\n",
       "    </tr>\n",
       "    <tr>\n",
       "      <th>2023-04-01 01:00:00</th>\n",
       "      <td>448.968312</td>\n",
       "      <td>5.788188</td>\n",
       "    </tr>\n",
       "    <tr>\n",
       "      <th>2023-04-01 02:00:00</th>\n",
       "      <td>427.305928</td>\n",
       "      <td>5.845790</td>\n",
       "    </tr>\n",
       "    <tr>\n",
       "      <th>2023-04-01 03:00:00</th>\n",
       "      <td>416.523695</td>\n",
       "      <td>4.735177</td>\n",
       "    </tr>\n",
       "    <tr>\n",
       "      <th>2023-04-01 04:00:00</th>\n",
       "      <td>413.212822</td>\n",
       "      <td>4.808946</td>\n",
       "    </tr>\n",
       "    <tr>\n",
       "      <th>2023-04-01 05:00:00</th>\n",
       "      <td>416.137239</td>\n",
       "      <td>4.762461</td>\n",
       "    </tr>\n",
       "    <tr>\n",
       "      <th>2023-04-01 06:00:00</th>\n",
       "      <td>431.457744</td>\n",
       "      <td>6.189151</td>\n",
       "    </tr>\n",
       "    <tr>\n",
       "      <th>2023-04-01 07:00:00</th>\n",
       "      <td>458.123343</td>\n",
       "      <td>6.234212</td>\n",
       "    </tr>\n",
       "    <tr>\n",
       "      <th>2023-04-01 08:00:00</th>\n",
       "      <td>498.166951</td>\n",
       "      <td>6.248161</td>\n",
       "    </tr>\n",
       "    <tr>\n",
       "      <th>2023-04-01 09:00:00</th>\n",
       "      <td>547.693193</td>\n",
       "      <td>9.185674</td>\n",
       "    </tr>\n",
       "    <tr>\n",
       "      <th>2023-04-01 10:00:00</th>\n",
       "      <td>570.745015</td>\n",
       "      <td>9.080229</td>\n",
       "    </tr>\n",
       "    <tr>\n",
       "      <th>2023-04-01 11:00:00</th>\n",
       "      <td>577.809123</td>\n",
       "      <td>9.014764</td>\n",
       "    </tr>\n",
       "    <tr>\n",
       "      <th>2023-04-01 12:00:00</th>\n",
       "      <td>581.740032</td>\n",
       "      <td>10.539811</td>\n",
       "    </tr>\n",
       "    <tr>\n",
       "      <th>2023-04-01 13:00:00</th>\n",
       "      <td>573.584290</td>\n",
       "      <td>10.504971</td>\n",
       "    </tr>\n",
       "    <tr>\n",
       "      <th>2023-04-01 14:00:00</th>\n",
       "      <td>570.344801</td>\n",
       "      <td>10.464819</td>\n",
       "    </tr>\n",
       "    <tr>\n",
       "      <th>2023-04-01 15:00:00</th>\n",
       "      <td>567.194706</td>\n",
       "      <td>9.969631</td>\n",
       "    </tr>\n",
       "    <tr>\n",
       "      <th>2023-04-01 16:00:00</th>\n",
       "      <td>562.850652</td>\n",
       "      <td>9.953798</td>\n",
       "    </tr>\n",
       "    <tr>\n",
       "      <th>2023-04-01 17:00:00</th>\n",
       "      <td>554.276133</td>\n",
       "      <td>10.069807</td>\n",
       "    </tr>\n",
       "    <tr>\n",
       "      <th>2023-04-01 18:00:00</th>\n",
       "      <td>548.179256</td>\n",
       "      <td>7.908601</td>\n",
       "    </tr>\n",
       "    <tr>\n",
       "      <th>2023-04-01 19:00:00</th>\n",
       "      <td>550.686357</td>\n",
       "      <td>7.801532</td>\n",
       "    </tr>\n",
       "    <tr>\n",
       "      <th>2023-04-01 20:00:00</th>\n",
       "      <td>563.198858</td>\n",
       "      <td>7.810555</td>\n",
       "    </tr>\n",
       "    <tr>\n",
       "      <th>2023-04-01 21:00:00</th>\n",
       "      <td>558.349296</td>\n",
       "      <td>6.461181</td>\n",
       "    </tr>\n",
       "    <tr>\n",
       "      <th>2023-04-01 22:00:00</th>\n",
       "      <td>537.895783</td>\n",
       "      <td>6.342498</td>\n",
       "    </tr>\n",
       "    <tr>\n",
       "      <th>2023-04-01 23:00:00</th>\n",
       "      <td>516.428497</td>\n",
       "      <td>6.271614</td>\n",
       "    </tr>\n",
       "  </tbody>\n",
       "</table>\n",
       "</div>"
      ],
      "text/plain": [
       "                         target  temp_last_day\n",
       "2023-04-01 00:00:00  482.556551       5.736388\n",
       "2023-04-01 01:00:00  448.968312       5.788188\n",
       "2023-04-01 02:00:00  427.305928       5.845790\n",
       "2023-04-01 03:00:00  416.523695       4.735177\n",
       "2023-04-01 04:00:00  413.212822       4.808946\n",
       "2023-04-01 05:00:00  416.137239       4.762461\n",
       "2023-04-01 06:00:00  431.457744       6.189151\n",
       "2023-04-01 07:00:00  458.123343       6.234212\n",
       "2023-04-01 08:00:00  498.166951       6.248161\n",
       "2023-04-01 09:00:00  547.693193       9.185674\n",
       "2023-04-01 10:00:00  570.745015       9.080229\n",
       "2023-04-01 11:00:00  577.809123       9.014764\n",
       "2023-04-01 12:00:00  581.740032      10.539811\n",
       "2023-04-01 13:00:00  573.584290      10.504971\n",
       "2023-04-01 14:00:00  570.344801      10.464819\n",
       "2023-04-01 15:00:00  567.194706       9.969631\n",
       "2023-04-01 16:00:00  562.850652       9.953798\n",
       "2023-04-01 17:00:00  554.276133      10.069807\n",
       "2023-04-01 18:00:00  548.179256       7.908601\n",
       "2023-04-01 19:00:00  550.686357       7.801532\n",
       "2023-04-01 20:00:00  563.198858       7.810555\n",
       "2023-04-01 21:00:00  558.349296       6.461181\n",
       "2023-04-01 22:00:00  537.895783       6.342498\n",
       "2023-04-01 23:00:00  516.428497       6.271614"
      ]
     },
     "execution_count": 43,
     "metadata": {},
     "output_type": "execute_result"
    }
   ],
   "source": [
    "prediction.forecast"
   ]
  },
  {
   "cell_type": "code",
   "execution_count": 44,
   "id": "2bbd90ec",
   "metadata": {},
   "outputs": [],
   "source": [
    "# accuracy of all tried model results\n",
    "model_results = model.results()\n",
    "# and aggregated from cross validation\n",
    "validation_results = model.results(\"validation\")"
   ]
  },
  {
   "cell_type": "code",
   "execution_count": 45,
   "id": "08f2a220",
   "metadata": {},
   "outputs": [
    {
     "data": {
      "text/html": [
       "<div>\n",
       "<style scoped>\n",
       "    .dataframe tbody tr th:only-of-type {\n",
       "        vertical-align: middle;\n",
       "    }\n",
       "\n",
       "    .dataframe tbody tr th {\n",
       "        vertical-align: top;\n",
       "    }\n",
       "\n",
       "    .dataframe thead th {\n",
       "        text-align: right;\n",
       "    }\n",
       "</style>\n",
       "<table border=\"1\" class=\"dataframe\">\n",
       "  <thead>\n",
       "    <tr style=\"text-align: right;\">\n",
       "      <th></th>\n",
       "      <th>ID</th>\n",
       "      <th>Model</th>\n",
       "      <th>ModelParameters</th>\n",
       "      <th>TransformationParameters</th>\n",
       "      <th>Ensemble</th>\n",
       "      <th>Runs</th>\n",
       "      <th>smape</th>\n",
       "      <th>mae</th>\n",
       "      <th>rmse</th>\n",
       "      <th>made</th>\n",
       "      <th>...</th>\n",
       "      <th>uwmse_weighted</th>\n",
       "      <th>smoothness_weighted</th>\n",
       "      <th>containment_weighted</th>\n",
       "      <th>contour_weighted</th>\n",
       "      <th>TotalRuntimeSeconds</th>\n",
       "      <th>Score</th>\n",
       "      <th>lowest_series_mape</th>\n",
       "      <th>lowest_series_mape_name</th>\n",
       "      <th>highest_series_mape</th>\n",
       "      <th>highest_series_mape_name</th>\n",
       "    </tr>\n",
       "  </thead>\n",
       "  <tbody>\n",
       "    <tr>\n",
       "      <th>7</th>\n",
       "      <td>21882579696863510de95cb7849c625d</td>\n",
       "      <td>Ensemble</td>\n",
       "      <td>{\"model_name\": \"BestN\", \"model_count\": 3, \"mod...</td>\n",
       "      <td>{}</td>\n",
       "      <td>1</td>\n",
       "      <td>1</td>\n",
       "      <td>15.528125</td>\n",
       "      <td>3.306332</td>\n",
       "      <td>4.261304</td>\n",
       "      <td>0.491706</td>\n",
       "      <td>...</td>\n",
       "      <td>3.118282</td>\n",
       "      <td>2.290127</td>\n",
       "      <td>1.0</td>\n",
       "      <td>0.948413</td>\n",
       "      <td>30.4040</td>\n",
       "      <td>9.287913</td>\n",
       "      <td>0.955406</td>\n",
       "      <td>target</td>\n",
       "      <td>22.765050</td>\n",
       "      <td>temp_last_day</td>\n",
       "    </tr>\n",
       "    <tr>\n",
       "      <th>4</th>\n",
       "      <td>0d530fd00cc66e6feb1301257420a3c1</td>\n",
       "      <td>Ensemble</td>\n",
       "      <td>{\"model_name\": \"BestN\", \"model_count\": 3, \"mod...</td>\n",
       "      <td>{}</td>\n",
       "      <td>1</td>\n",
       "      <td>1</td>\n",
       "      <td>17.337772</td>\n",
       "      <td>3.348946</td>\n",
       "      <td>4.299353</td>\n",
       "      <td>0.492401</td>\n",
       "      <td>...</td>\n",
       "      <td>3.282592</td>\n",
       "      <td>2.281806</td>\n",
       "      <td>1.0</td>\n",
       "      <td>0.990079</td>\n",
       "      <td>44.6748</td>\n",
       "      <td>9.192345</td>\n",
       "      <td>0.948665</td>\n",
       "      <td>target</td>\n",
       "      <td>24.112388</td>\n",
       "      <td>temp_last_day</td>\n",
       "    </tr>\n",
       "    <tr>\n",
       "      <th>18</th>\n",
       "      <td>743c492eb314159f38cfcd8537b0b67d</td>\n",
       "      <td>Ensemble</td>\n",
       "      <td>{\"model_name\": \"BestN\", \"model_count\": 3, \"mod...</td>\n",
       "      <td>{}</td>\n",
       "      <td>1</td>\n",
       "      <td>1</td>\n",
       "      <td>17.337772</td>\n",
       "      <td>3.348946</td>\n",
       "      <td>4.299353</td>\n",
       "      <td>0.492401</td>\n",
       "      <td>...</td>\n",
       "      <td>3.282592</td>\n",
       "      <td>2.281806</td>\n",
       "      <td>1.0</td>\n",
       "      <td>0.990079</td>\n",
       "      <td>47.8010</td>\n",
       "      <td>9.192345</td>\n",
       "      <td>0.948665</td>\n",
       "      <td>target</td>\n",
       "      <td>24.112388</td>\n",
       "      <td>temp_last_day</td>\n",
       "    </tr>\n",
       "    <tr>\n",
       "      <th>14</th>\n",
       "      <td>56ef1bf92d478a98aeb9ec4c3bb7a83d</td>\n",
       "      <td>Ensemble</td>\n",
       "      <td>{\"model_name\": \"BestN\", \"model_count\": 3, \"mod...</td>\n",
       "      <td>{}</td>\n",
       "      <td>1</td>\n",
       "      <td>1</td>\n",
       "      <td>17.337772</td>\n",
       "      <td>3.348946</td>\n",
       "      <td>4.299353</td>\n",
       "      <td>0.492401</td>\n",
       "      <td>...</td>\n",
       "      <td>3.282592</td>\n",
       "      <td>2.281806</td>\n",
       "      <td>1.0</td>\n",
       "      <td>0.990079</td>\n",
       "      <td>58.7782</td>\n",
       "      <td>9.192345</td>\n",
       "      <td>0.948665</td>\n",
       "      <td>target</td>\n",
       "      <td>24.112388</td>\n",
       "      <td>temp_last_day</td>\n",
       "    </tr>\n",
       "    <tr>\n",
       "      <th>28</th>\n",
       "      <td>e6568724f566881fab25f14213b3a1a7</td>\n",
       "      <td>Ensemble</td>\n",
       "      <td>{\"model_name\": \"BestN\", \"model_count\": 3, \"mod...</td>\n",
       "      <td>{}</td>\n",
       "      <td>1</td>\n",
       "      <td>1</td>\n",
       "      <td>7.207822</td>\n",
       "      <td>3.467891</td>\n",
       "      <td>4.449763</td>\n",
       "      <td>0.500140</td>\n",
       "      <td>...</td>\n",
       "      <td>3.456910</td>\n",
       "      <td>2.307183</td>\n",
       "      <td>1.0</td>\n",
       "      <td>0.950397</td>\n",
       "      <td>10.5695</td>\n",
       "      <td>10.819820</td>\n",
       "      <td>1.200133</td>\n",
       "      <td>target</td>\n",
       "      <td>12.924112</td>\n",
       "      <td>temp_last_day</td>\n",
       "    </tr>\n",
       "  </tbody>\n",
       "</table>\n",
       "<p>5 rows × 48 columns</p>\n",
       "</div>"
      ],
      "text/plain": [
       "                                  ID     Model  \\\n",
       "7   21882579696863510de95cb7849c625d  Ensemble   \n",
       "4   0d530fd00cc66e6feb1301257420a3c1  Ensemble   \n",
       "18  743c492eb314159f38cfcd8537b0b67d  Ensemble   \n",
       "14  56ef1bf92d478a98aeb9ec4c3bb7a83d  Ensemble   \n",
       "28  e6568724f566881fab25f14213b3a1a7  Ensemble   \n",
       "\n",
       "                                      ModelParameters  \\\n",
       "7   {\"model_name\": \"BestN\", \"model_count\": 3, \"mod...   \n",
       "4   {\"model_name\": \"BestN\", \"model_count\": 3, \"mod...   \n",
       "18  {\"model_name\": \"BestN\", \"model_count\": 3, \"mod...   \n",
       "14  {\"model_name\": \"BestN\", \"model_count\": 3, \"mod...   \n",
       "28  {\"model_name\": \"BestN\", \"model_count\": 3, \"mod...   \n",
       "\n",
       "   TransformationParameters  Ensemble  Runs      smape       mae      rmse  \\\n",
       "7                        {}         1     1  15.528125  3.306332  4.261304   \n",
       "4                        {}         1     1  17.337772  3.348946  4.299353   \n",
       "18                       {}         1     1  17.337772  3.348946  4.299353   \n",
       "14                       {}         1     1  17.337772  3.348946  4.299353   \n",
       "28                       {}         1     1   7.207822  3.467891  4.449763   \n",
       "\n",
       "        made  ...  uwmse_weighted  smoothness_weighted  containment_weighted  \\\n",
       "7   0.491706  ...        3.118282             2.290127                   1.0   \n",
       "4   0.492401  ...        3.282592             2.281806                   1.0   \n",
       "18  0.492401  ...        3.282592             2.281806                   1.0   \n",
       "14  0.492401  ...        3.282592             2.281806                   1.0   \n",
       "28  0.500140  ...        3.456910             2.307183                   1.0   \n",
       "\n",
       "    contour_weighted  TotalRuntimeSeconds      Score  lowest_series_mape  \\\n",
       "7           0.948413              30.4040   9.287913            0.955406   \n",
       "4           0.990079              44.6748   9.192345            0.948665   \n",
       "18          0.990079              47.8010   9.192345            0.948665   \n",
       "14          0.990079              58.7782   9.192345            0.948665   \n",
       "28          0.950397              10.5695  10.819820            1.200133   \n",
       "\n",
       "    lowest_series_mape_name  highest_series_mape  highest_series_mape_name  \n",
       "7                    target            22.765050             temp_last_day  \n",
       "4                    target            24.112388             temp_last_day  \n",
       "18                   target            24.112388             temp_last_day  \n",
       "14                   target            24.112388             temp_last_day  \n",
       "28                   target            12.924112             temp_last_day  \n",
       "\n",
       "[5 rows x 48 columns]"
      ]
     },
     "execution_count": 45,
     "metadata": {},
     "output_type": "execute_result"
    }
   ],
   "source": [
    "validation_results.sort_values('mae', ascending=True).head(5) #.to_csv('result_val_auto_ts_2.csv')"
   ]
  },
  {
   "cell_type": "code",
   "execution_count": 46,
   "id": "0181b74a",
   "metadata": {},
   "outputs": [
    {
     "name": "stdout",
     "output_type": "stream",
     "text": [
      "Initiated AutoTS object with best model: \n",
      "VAR\n",
      "{'fillna': 'akima', 'transformations': {'0': 'SeasonalDifference'}, 'transformation_params': {'0': {'lag_1': 12, 'method': 'Median'}}}\n",
      "{'regression_type': None, 'maxlags': None, 'ic': 'fpe'}\n",
      "Validation: 0\n",
      "SMAPE: 23.153035163670644\n",
      "MAE: 3.606499294938172\n",
      "SPL: 0.6403259555125416\n"
     ]
    }
   ],
   "source": [
    "print(model)"
   ]
  },
  {
   "cell_type": "code",
   "execution_count": 47,
   "id": "dcd44049",
   "metadata": {},
   "outputs": [
    {
     "data": {
      "text/plain": [
       "<Axes: title={'center': 'Validation Forecasts for temp_last_day'}, xlabel='datetime'>"
      ]
     },
     "execution_count": 47,
     "metadata": {},
     "output_type": "execute_result"
    },
    {
     "data": {
      "image/png": "[encoded data removed]",
      "text/plain": [
       "<Figure size 640x480 with 1 Axes>"
      ]
     },
     "metadata": {},
     "output_type": "display_data"
    }
   ],
   "source": [
    "model.plot_validations()"
   ]
  },
  {
   "cell_type": "code",
   "execution_count": 49,
   "id": "f9241ff4",
   "metadata": {},
   "outputs": [
    {
     "name": "stdout",
     "output_type": "stream",
     "text": [
      "                         target  temp_last_day\n",
      "2023-04-01 00:00:00  482.556551       5.736388\n",
      "2023-04-01 01:00:00  448.968312       5.788188\n",
      "2023-04-01 02:00:00  427.305928       5.845790\n",
      "2023-04-01 03:00:00  416.523695       4.735177\n",
      "2023-04-01 04:00:00  413.212822       4.808946\n",
      "2023-04-01 05:00:00  416.137239       4.762461\n",
      "2023-04-01 06:00:00  431.457744       6.189151\n",
      "2023-04-01 07:00:00  458.123343       6.234212\n",
      "2023-04-01 08:00:00  498.166951       6.248161\n",
      "2023-04-01 09:00:00  547.693193       9.185674\n",
      "2023-04-01 10:00:00  570.745015       9.080229\n",
      "2023-04-01 11:00:00  577.809123       9.014764\n",
      "2023-04-01 12:00:00  581.740032      10.539811\n",
      "2023-04-01 13:00:00  573.584290      10.504971\n",
      "2023-04-01 14:00:00  570.344801      10.464819\n",
      "2023-04-01 15:00:00  567.194706       9.969631\n",
      "2023-04-01 16:00:00  562.850652       9.953798\n",
      "2023-04-01 17:00:00  554.276133      10.069807\n",
      "2023-04-01 18:00:00  548.179256       7.908601\n",
      "2023-04-01 19:00:00  550.686357       7.801532\n",
      "2023-04-01 20:00:00  563.198858       7.810555\n",
      "2023-04-01 21:00:00  558.349296       6.461181\n",
      "2023-04-01 22:00:00  537.895783       6.342498\n",
      "2023-04-01 23:00:00  516.428497       6.271614\n"
     ]
    }
   ],
   "source": [
    "prediction = model.predict(\n",
    "    future_regressor=regr_fcst, verbose=2, fail_on_forecast_nan=True\n",
    ")\n",
    "\n",
    " \n",
    "out = prediction.forecast\n",
    "print(out)\n"
   ]
  },
  {
   "cell_type": "code",
   "execution_count": null,
   "id": "28916269",
   "metadata": {},
   "outputs": [],
   "source": []
  },
  {
   "cell_type": "code",
   "execution_count": 50,
   "id": "986eac22",
   "metadata": {},
   "outputs": [
    {
     "name": "stdout",
     "output_type": "stream",
     "text": [
      "Data frequency is: H, used frequency is: H\n",
      "Model Number: 37 with model VAR in generation 0 of 1\n",
      "Model Number: 38 with model Ensemble in generation 0 of 1\n",
      "Model Number: 39 with model Ensemble in generation 0 of 1\n"
     ]
    }
   ],
   "source": [
    "res_df = pd.DataFrame()\n",
    "#res_df = pd.concat([res_df, out])\n",
    "df_test_autots['date'] = df_test_autots.index.date\n",
    "temp_train = df_train_autots\n",
    "for date, df in df_test_autots.groupby('date'):\n",
    "    temp_train_df = df.drop(columns='date')\n",
    "    temp_train = pd.concat([temp_train, temp_train_df])\n",
    "    \n",
    "    \n",
    "    try:\n",
    "        model = model.fit(\n",
    "            temp_train\n",
    "        )\n",
    "        pred = model.predict(\n",
    "                future_regressor=regr_fcst, verbose=2, fail_on_forecast_nan=True\n",
    "                )\n",
    "        out = pred.forecast\n",
    "    \n",
    "        if out['target'].isnull().sum() != 0:\n",
    "            print('Missing forecast ', date)\n",
    "        \n",
    "    except:\n",
    "        print('Did not execute ', date)\n",
    "    res_df = pd.concat([res_df, out])\n",
    "df_test_autots.drop(columns='date')"
   ]
  },
  {
   "cell_type": "code",
   "execution_count": null,
   "id": "5e53116b",
   "metadata": {},
   "outputs": [],
   "source": [
    "\n"
   ]
  },
  {
   "cell_type": "code",
   "execution_count": null,
   "id": "88505c1f",
   "metadata": {},
   "outputs": [],
   "source": [
    "print(df_test_autots.shape, res_df.shape)"
   ]
  },
  {
   "cell_type": "code",
   "execution_count": null,
   "id": "68adaaf1",
   "metadata": {},
   "outputs": [],
   "source": [
    "mean_absolute_error(df_test_autots['target'], res_df['target'])"
   ]
  },
  {
   "cell_type": "code",
   "execution_count": null,
   "id": "5282a6cf",
   "metadata": {},
   "outputs": [],
   "source": [
    "        model = model.fit(\n",
    "            temp_train,\n",
    "            \n",
    "            weights={'target': 20} \n",
    "        )\n",
    "        pred = model.predict()\n",
    "        out = pred.forecast"
   ]
  },
  {
   "cell_type": "code",
   "execution_count": null,
   "id": "af9c2425",
   "metadata": {},
   "outputs": [],
   "source": [
    "df_test_autots.drop(columns='date')\n",
    "df_test_autots.head()"
   ]
  },
  {
   "cell_type": "code",
   "execution_count": null,
   "id": "3d1ade17",
   "metadata": {},
   "outputs": [],
   "source": [
    "print(model.best_model_name)"
   ]
  },
  {
   "cell_type": "code",
   "execution_count": null,
   "id": "dd530523",
   "metadata": {},
   "outputs": [],
   "source": [
    "print(model.best_model_params)"
   ]
  },
  {
   "cell_type": "code",
   "execution_count": null,
   "id": "de1bfc19",
   "metadata": {},
   "outputs": [],
   "source": [
    "\n",
    "print(model.best_model_transformation_params)"
   ]
  },
  {
   "cell_type": "markdown",
   "id": "cbbc8a63",
   "metadata": {},
   "source": [
    "### on new training\n",
    "model = AutoTS(forecast_length=forecast_length,\n",
    "               frequency='infer', max_generations=0,\n",
    "               num_validations=0, verbose=0)\n",
    "model = model.import_template(example_filename, method='only') # method='add on'\n",
    "print(\"Overwrite template is: {}\".format(str(model.initial_template)))\n"
   ]
  },
  {
   "cell_type": "code",
   "execution_count": null,
   "id": "b26e3f28",
   "metadata": {},
   "outputs": [],
   "source": [
    "# Рисуем графическое представление предсказания на 2022 год\n",
    "\n",
    "y_true_copy = pd.DataFrame(target_valid).reset_index(drop=True)\n",
    "y_true_copy['day'] = y_true_copy.index // 24\n",
    "y_true_grouped = y_true_copy.groupby(by='day').sum()   \n",
    "y_true_grouped\n",
    "y_pred_copy = pd.DataFrame(y_pred).reset_index(drop=True)\n",
    "y_pred_copy['day'] = y_pred_copy.index // 24\n",
    "y_pred_grouped = y_pred_copy.groupby(by='day').sum()\n",
    "\n",
    "#pd.DataFrame(date_valid)\n",
    "tmpdf = pd.DataFrame(train_ds.loc[features_valid.index,:]['date']).groupby(by='date').count().reset_index().join(y_true_grouped)\n",
    "tmpdf.plot(x='date', y='target', figsize=(18,5))\n",
    "ax=plt.gca()\n",
    "tmpdf = pd.DataFrame(train_ds.loc[features_valid.index,:]['date']).groupby(by='date').count().reset_index().join(y_pred_grouped)\n",
    "tmpdf.plot(ax=ax, x='date', y=0)"
   ]
  },
  {
   "cell_type": "code",
   "execution_count": null,
   "id": "931f1498",
   "metadata": {},
   "outputs": [],
   "source": [
    "# Предсказываем той же моделью (19-21) тренировочный кусок 2023 (первый квартал)\n",
    "mae = mae_day(target_2023, lgbm_model.predict(features_2023))\n",
    "print(f'mae = {mae}')"
   ]
  }
 ],
 "metadata": {
  "kernelspec": {
   "display_name": "Python 3 (ipykernel)",
   "language": "python",
   "name": "python3"
  },
  "language_info": {
   "codemirror_mode": {
    "name": "ipython",
    "version": 3
   },
   "file_extension": ".py",
   "mimetype": "text/x-python",
   "name": "python",
   "nbconvert_exporter": "python",
   "pygments_lexer": "ipython3",
   "version": "3.9.13"
  }
 },
 "nbformat": 4,
 "nbformat_minor": 5
}
