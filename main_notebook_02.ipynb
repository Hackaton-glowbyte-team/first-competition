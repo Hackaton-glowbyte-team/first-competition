{
 "cells": [
  {
   "cell_type": "code",
   "execution_count": 1,
   "id": "e4351135",
   "metadata": {},
   "outputs": [],
   "source": [
    "import numpy as np\n",
    "import pandas as pd\n",
    "\n",
    "import datetime\n",
    "\n",
    "import lightgbm as lgb\n",
    "from sklearn.metrics import mean_absolute_error\n",
    "import re\n",
    "\n",
    "from data_preprocess import DataTransformer\n",
    "random_state = 12345"
   ]
  },
  {
   "cell_type": "code",
   "execution_count": 2,
   "id": "626ccf5b",
   "metadata": {},
   "outputs": [],
   "source": [
    "\n",
    "\n",
    "def features_interval(features, target, date1, date2):\n",
    "    \"\"\"\n",
    "    Функция для выделения временных интервалов из таблиц признаков и целей\n",
    "    на этом этапе отбрасываем колонку 'date'\n",
    "    \"\"\"\n",
    "    features_interval = features[ (features['date']>=date1) & (features['date']<date2) ]\n",
    "    target_interval = target[features_interval.index]\n",
    "    features_interval = features_interval.drop('date', axis=1)\n",
    "    \n",
    "    return features_interval, target_interval"
   ]
  },
  {
   "cell_type": "code",
   "execution_count": 3,
   "id": "c5eb669e",
   "metadata": {},
   "outputs": [],
   "source": [
    "def mae_day(y_true, y_pred):\n",
    "    \"\"\"\n",
    "    Функция для вычисления метрики mae по дням из почасовых массивов данных\n",
    "    \"\"\"\n",
    "    y_true_copy = pd.DataFrame(y_true).reset_index(drop=True)\n",
    "    y_true_copy['day'] = y_true_copy.index // 24\n",
    "    y_true_grouped = y_true_copy.groupby(by='day').sum()   \n",
    "    y_pred_copy = pd.DataFrame(y_pred).reset_index(drop=True)\n",
    "    y_pred_copy['day'] = y_pred_copy.index // 24\n",
    "    y_pred_grouped = y_pred_copy.groupby(by='day').sum()\n",
    "    \n",
    "    return mean_absolute_error(y_true_grouped, y_pred_grouped)"
   ]
  },
  {
   "cell_type": "code",
   "execution_count": 4,
   "id": "ca162371",
   "metadata": {},
   "outputs": [],
   "source": [
    "transformer = DataTransformer()"
   ]
  },
  {
   "cell_type": "code",
   "execution_count": 5,
   "id": "1b8799d1",
   "metadata": {},
   "outputs": [
    {
     "name": "stdout",
     "output_type": "stream",
     "text": [
      "Файл не найден, попробуйте еще раз\n",
      "начало открытого теста: 2023-04-01 00:00:00     конец открытого теста: 2023-08-01 00:00:00\n"
     ]
    }
   ],
   "source": [
    "path = 'df_test_22222.csv'\n",
    "all_ds, test_begin, test_end = transformer.open_file()"
   ]
  },
  {
   "cell_type": "code",
   "execution_count": 6,
   "id": "16090ac1",
   "metadata": {},
   "outputs": [
    {
     "name": "stdout",
     "output_type": "stream",
     "text": [
      "В начале 2023-07-31\n",
      "В date_transform 2023-07-31 00:00:00\n",
      "В fill_weather_columns 2023-07-31 00:00:00\n",
      "В holydays 2023-07-31 00:00:00\n",
      "В create_lags 2023-07-31 00:00:00\n",
      "В add_vvp2 2023-07-31 00:00:00\n",
      "true wether before shift 2023-09-30 23:30:00\n",
      "P\n",
      "U\n",
      "WW\n",
      "Td\n",
      "N\n",
      "S\n",
      "W\n",
      "E\n",
      "true wether after shift 2023-09-30 23:30:00\n",
      "IS NAN 129\n",
      "В add_true_weather 2023-07-31 00:00:00\n"
     ]
    }
   ],
   "source": [
    "all_ds = transformer.transform(all_ds)"
   ]
  },
  {
   "cell_type": "code",
   "execution_count": null,
   "id": "65d6619d",
   "metadata": {},
   "outputs": [],
   "source": [
    "# Отбираем признаки. Все лишние колонки здесь отбрасываем, кроме 'date', которую уберем позже \n",
    "feature_cols = list(all_ds.columns)\n",
    "\n",
    "# выбрасываем взгляд в прошлое и расшифрованную погоду\n",
    "drop_list = ['target', 'day_of_year', 'weather_pred', 'weather_fact', 'temp']\n",
    "\n",
    "# выбрасываем признаки, найденные процедурно в процессе оптимизации\n",
    "drop_list = drop_list + ['target_lag_48', 'target_lag_168'] \n",
    "\n",
    "for name in drop_list:\n",
    "    feature_cols.remove(name)\n"
   ]
  },
  {
   "cell_type": "code",
   "execution_count": null,
   "id": "5a2b8078",
   "metadata": {},
   "outputs": [],
   "source": [
    "# Формируем набор датасетов для обучения и проверки\n",
    "\n",
    "features = all_ds[feature_cols]\n",
    "target = all_ds['target']\n",
    "\n",
    "# готовим учебный и тестовый датасеты\n",
    "features_all_train, target_all_train = features_interval(features, target, '2019-01-01', test_begin)\n",
    "features_test, target_test = features_interval(features, target, test_begin, test_end)"
   ]
  },
  {
   "cell_type": "code",
   "execution_count": null,
   "id": "d001870c",
   "metadata": {},
   "outputs": [],
   "source": [
    "\n",
    "# Здесь обучаем на всех данных, которые были нам предоставлены \n",
    "lgbm_model_all_train = lgb.LGBMRegressor(num_leaves=15, learning_rate=0.02, num_iterations=10000, \n",
    "                               feature_fraction=0.987, random_state=random_state, objective='regression_l1', n_jobs=-1)\n",
    "lgbm_model_all_train.fit(features_all_train, target_all_train)\n"
   ]
  },
  {
   "cell_type": "code",
   "execution_count": null,
   "id": "eed234ce",
   "metadata": {},
   "outputs": [],
   "source": [
    "predict = lgbm_model_all_train.predict(features_test)\n",
    "predict_result = pd.DataFrame( features.loc[features_test.index, 'date'] )\n",
    "predict_result['predict'] = predict\n",
    "predict_result = predict_result.groupby(by='date').sum().reset_index()"
   ]
  },
  {
   "cell_type": "code",
   "execution_count": null,
   "id": "70b65701",
   "metadata": {},
   "outputs": [],
   "source": [
    "mae_day(target_test, predict)"
   ]
  },
  {
   "cell_type": "code",
   "execution_count": null,
   "id": "621d86ac",
   "metadata": {},
   "outputs": [],
   "source": [
    "print(f'MAE = {mae_day}')"
   ]
  }
 ],
 "metadata": {
  "kernelspec": {
   "display_name": "Python 3 (ipykernel)",
   "language": "python",
   "name": "python3"
  },
  "language_info": {
   "codemirror_mode": {
    "name": "ipython",
    "version": 3
   },
   "file_extension": ".py",
   "mimetype": "text/x-python",
   "name": "python",
   "nbconvert_exporter": "python",
   "pygments_lexer": "ipython3",
   "version": "3.11.6"
  }
 },
 "nbformat": 4,
 "nbformat_minor": 5
}
