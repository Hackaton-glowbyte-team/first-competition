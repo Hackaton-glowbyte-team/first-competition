{
 "cells": [
  {
   "cell_type": "code",
   "execution_count": 32,
   "id": "e4351135",
   "metadata": {},
   "outputs": [],
   "source": [
    "import numpy as np\n",
    "import pandas as pd\n",
    "import matplotlib.pyplot as plt\n",
    "import datetime\n",
    "\n",
    "import lightgbm as lgb\n",
    "from sklearn.metrics import mean_absolute_error\n",
    "\n",
    "import re\n",
    "\n",
    "\n",
    "\n",
    "\n",
    "import json\n",
    "import os\n",
    "from data_preprocess import DataTransformer\n",
    "random_state = 12345"
   ]
  },
  {
   "cell_type": "code",
   "execution_count": 33,
   "id": "626ccf5b",
   "metadata": {},
   "outputs": [],
   "source": [
    "\n",
    "\n",
    "def features_interval(features, target, date1, date2):\n",
    "    \"\"\"\n",
    "    Функция для выделения временных интервалов из таблиц признаков и целей\n",
    "    на этом этапе отбрасываем колонку 'date'\n",
    "    \"\"\"\n",
    "    features_interval = features[ (features['date']>=date1) & (features['date']<date2) ]\n",
    "    target_interval = target[features_interval.index]\n",
    "    features_interval = features_interval.drop('date', axis=1)\n",
    "    \n",
    "    return features_interval, target_interval"
   ]
  },
  {
   "cell_type": "code",
   "execution_count": 34,
   "id": "c5eb669e",
   "metadata": {},
   "outputs": [],
   "source": [
    "def mae_day(y_true, y_pred):\n",
    "    \"\"\"\n",
    "    Функция для вычисления метрики mae по дням из почасовых массивов данных\n",
    "    \"\"\"\n",
    "    y_true_copy = pd.DataFrame(y_true).reset_index(drop=True)\n",
    "    y_true_copy['day'] = y_true_copy.index // 24\n",
    "    y_true_grouped = y_true_copy.groupby(by='day').sum()   \n",
    "    y_pred_copy = pd.DataFrame(y_pred).reset_index(drop=True)\n",
    "    y_pred_copy['day'] = y_pred_copy.index // 24\n",
    "    y_pred_grouped = y_pred_copy.groupby(by='day').sum()\n",
    "    \n",
    "    return mean_absolute_error(y_true_grouped, y_pred_grouped)"
   ]
  },
  {
   "cell_type": "code",
   "execution_count": 35,
   "id": "ca162371",
   "metadata": {},
   "outputs": [],
   "source": [
    "transformer = DataTransformer()"
   ]
  },
  {
   "cell_type": "code",
   "execution_count": 36,
   "id": "1b8799d1",
   "metadata": {},
   "outputs": [
    {
     "name": "stdout",
     "output_type": "stream",
     "text": [
      "начало закрытого теста: 2023-04-01 00:00:00     конец закрытого теста: 2023-08-01 00:00:00\n"
     ]
    }
   ],
   "source": [
    "path = 'data/test_dataset.csv'\n",
    "all_ds, open_test_begin, open_test_end = transformer.open_file(path)"
   ]
  },
  {
   "cell_type": "code",
   "execution_count": 37,
   "id": "16090ac1",
   "metadata": {},
   "outputs": [
    {
     "ename": "AttributeError",
     "evalue": "'NoneType' object has no attribute 'date'",
     "output_type": "error",
     "traceback": [
      "\u001b[0;31m---------------------------------------------------------------------------\u001b[0m",
      "\u001b[0;31mAttributeError\u001b[0m                            Traceback (most recent call last)",
      "\u001b[1;32m/Users/maxsemakov/Documents/glowbyte/first-competition-1/main_notebook_02.ipynb Ячейка 6\u001b[0m line \u001b[0;36m1\n\u001b[0;32m----> <a href='vscode-notebook-cell:/Users/maxsemakov/Documents/glowbyte/first-competition-1/main_notebook_02.ipynb#X10sZmlsZQ%3D%3D?line=0'>1</a>\u001b[0m all_ds \u001b[39m=\u001b[39m transformer\u001b[39m.\u001b[39;49mtransform(all_ds)\n",
      "File \u001b[0;32m~/Documents/glowbyte/first-competition-1/data_preprocess.py:179\u001b[0m, in \u001b[0;36mDataTransformer.transform\u001b[0;34m(self, data)\u001b[0m\n\u001b[1;32m    177\u001b[0m data \u001b[39m=\u001b[39m \u001b[39mself\u001b[39m\u001b[39m.\u001b[39mholydays(data)\n\u001b[1;32m    178\u001b[0m data \u001b[39m=\u001b[39m \u001b[39mself\u001b[39m\u001b[39m.\u001b[39mcreate_lags(data)\n\u001b[0;32m--> 179\u001b[0m data \u001b[39m=\u001b[39m \u001b[39mself\u001b[39;49m\u001b[39m.\u001b[39;49madd_vvp2(data)\n\u001b[1;32m    180\u001b[0m data \u001b[39m=\u001b[39m \u001b[39mself\u001b[39m\u001b[39m.\u001b[39madd_true_weather(data)\n\u001b[1;32m    182\u001b[0m \u001b[39mreturn\u001b[39;00m data\n",
      "File \u001b[0;32m~/Documents/glowbyte/first-competition-1/data_preprocess.py:122\u001b[0m, in \u001b[0;36mDataTransformer.add_vvp2\u001b[0;34m(self, data, file_source)\u001b[0m\n\u001b[1;32m    119\u001b[0m vvp\u001b[39m.\u001b[39mdrop(\u001b[39m'\u001b[39m\u001b[39mfor_month\u001b[39m\u001b[39m'\u001b[39m,axis\u001b[39m=\u001b[39m\u001b[39m1\u001b[39m,inplace\u001b[39m=\u001b[39m\u001b[39mTrue\u001b[39;00m) \n\u001b[1;32m    120\u001b[0m vvp\u001b[39m.\u001b[39mdate\u001b[39m=\u001b[39mpd\u001b[39m.\u001b[39mto_datetime(vvp\u001b[39m.\u001b[39mdate)\n\u001b[0;32m--> 122\u001b[0m data\u001b[39m.\u001b[39mdate\u001b[39m=\u001b[39mpd\u001b[39m.\u001b[39mto_datetime(data\u001b[39m.\u001b[39;49mdate)\n\u001b[1;32m    124\u001b[0m \u001b[39mfor\u001b[39;00m idx \u001b[39min\u001b[39;00m \u001b[39mreversed\u001b[39m(vvp\u001b[39m.\u001b[39mindex):\n\u001b[1;32m    125\u001b[0m     data\u001b[39m.\u001b[39mloc[data\u001b[39m.\u001b[39mdate \u001b[39m>\u001b[39m\u001b[39m=\u001b[39m vvp\u001b[39m.\u001b[39mdate[idx],\u001b[39m'\u001b[39m\u001b[39mVVP\u001b[39m\u001b[39m'\u001b[39m] \u001b[39m=\u001b[39m vvp\u001b[39m.\u001b[39mVVP_perc[idx]\n",
      "\u001b[0;31mAttributeError\u001b[0m: 'NoneType' object has no attribute 'date'"
     ]
    }
   ],
   "source": [
    "all_ds = transformer.transform(all_ds)"
   ]
  },
  {
   "cell_type": "code",
   "execution_count": null,
   "id": "79aa7c85",
   "metadata": {},
   "outputs": [],
   "source": [
    "# применяем функцию добавления ВВП\n",
    "all_ds = add_vvp2(all_ds)"
   ]
  },
  {
   "cell_type": "code",
   "execution_count": null,
   "id": "2ef58531",
   "metadata": {},
   "outputs": [],
   "source": [
    "all_ds = add_true_weather(all_ds)"
   ]
  },
  {
   "cell_type": "code",
   "execution_count": null,
   "id": "a939b60f",
   "metadata": {},
   "outputs": [],
   "source": [
    "# Итоговый набор колонок\n",
    "train_ds.columns"
   ]
  },
  {
   "cell_type": "code",
   "execution_count": null,
   "id": "f51e77ef",
   "metadata": {},
   "outputs": [],
   "source": [
    "train_ds.head()"
   ]
  },
  {
   "cell_type": "code",
   "execution_count": null,
   "id": "65d6619d",
   "metadata": {},
   "outputs": [],
   "source": [
    "# Отбираем признаки. Все лишние колонки здесь отбрасываем, кроме 'date', которую уберем позже \n",
    "\n",
    "feature_cols = list(train_ds.columns)\n",
    "\n",
    "# выбрасываем взгляд в прошлое и расшифрованную погоду\n",
    "drop_list = ['target', 'day_of_year', 'weather_pred', 'weather_fact', 'temp']\n",
    "\n",
    "# выбрасываем признаки, найденные процедурно в процессе оптимизации\n",
    "# КОМАНДЕ: здесь можно добавлять признаки на выброс с целью оптимизации\n",
    "drop_list = drop_list + ['target_lag_48', 'target_lag_168'] #, 'temp_pred'] #, 'target_lag_336'] \n",
    "\n",
    "for name in drop_list:\n",
    "    feature_cols.remove(name)\n",
    "\n",
    "# Итоговый список признаков\n",
    "feature_cols"
   ]
  },
  {
   "cell_type": "code",
   "execution_count": null,
   "id": "5a2b8078",
   "metadata": {},
   "outputs": [],
   "source": [
    "# Формируем набор датасетов для обучения и проверки\n",
    "\n",
    "features = train_ds[feature_cols]\n",
    "target = train_ds['target']\n",
    "\n",
    "# для первичного подбора гиперпараметров будем обучать на 19-21 годах, валидировать по 2022\n",
    "features_train, target_train = features_interval(features, target, '2019-01-01', '2022-01-01')\n",
    "features_valid, target_valid = features_interval(features, target, '2022-01-01', '2023-01-01')\n",
    "\n",
    "# отбор признаков будем производить, обучая на 19-22 и проверяя по первому кварталу 2023\n",
    "# с дополнительным контролем на вариантах из первичного обучения\n",
    "features_2022, target_2022 = features_interval(features, target, '2019-01-01', '2023-01-01')\n",
    "features_2023, target_2023 = features_interval(features, target, '2023-01-01', open_test_begin)\n",
    "\n",
    "# для проверки на тестовой выборке будем учиться на всем тренировочном датасете\n",
    "features_all_train, target_all_train = features_interval(features, target, '2019-01-01', open_test_begin)\n",
    "features_open_test, target_open_test = features_interval(features, target, open_test_begin, open_test_end)"
   ]
  },
  {
   "cell_type": "code",
   "execution_count": null,
   "id": "6fe0981d",
   "metadata": {},
   "outputs": [],
   "source": [
    "# формируем наборы данных по кварталам 2022 года, чтобы посмотреть по ним метрику отдельно\n",
    "dates = ['2022-01-01', '2022-04-01', '2022-07-01', '2022-10-01', '2023-01-01']\n",
    "quarters = []\n",
    "for i in range(4):\n",
    "    f, t = features_interval(features, target, dates[i], dates[i+1])\n",
    "    quarters.append({'features':f, 'target':t})"
   ]
  },
  {
   "cell_type": "markdown",
   "id": "98a874e9",
   "metadata": {},
   "source": [
    "# Здесь заканчивается формирование датасетов и начинается обучение"
   ]
  },
  {
   "cell_type": "code",
   "execution_count": null,
   "id": "d001870c",
   "metadata": {},
   "outputs": [],
   "source": [
    "# Проверка метрики лучшей модели на тестовом датасете\n",
    "# Здесь обучаем на всем тренировочном датасете\n",
    "\n",
    "lgbm_model_all_train = lgb.LGBMRegressor(num_leaves=15, learning_rate=0.02, num_iterations=10000, \n",
    "                               feature_fraction=0.987, random_state=random_state, objective='regression_l1', n_jobs=-1)\n",
    "lgbm_model_all_train.fit(features_all_train, target_all_train)\n",
    "\n",
    "mae = mae_day(target_open_test, lgbm_model_all_train.predict(features_open_test))\n",
    "print(f'mae_of_the_day - {mae}')"
   ]
  }
 ],
 "metadata": {
  "kernelspec": {
   "display_name": "Python 3 (ipykernel)",
   "language": "python",
   "name": "python3"
  },
  "language_info": {
   "codemirror_mode": {
    "name": "ipython",
    "version": 3
   },
   "file_extension": ".py",
   "mimetype": "text/x-python",
   "name": "python",
   "nbconvert_exporter": "python",
   "pygments_lexer": "ipython3",
   "version": "3.11.6"
  }
 },
 "nbformat": 4,
 "nbformat_minor": 5
}
