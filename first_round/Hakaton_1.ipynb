{
 "cells": [
  {
   "cell_type": "markdown",
   "id": "ead1d9a7",
   "metadata": {},
   "source": [
    "## Описание проекта"
   ]
  },
  {
   "cell_type": "markdown",
   "id": "868b835e",
   "metadata": {},
   "source": [
    "### Заказчик"
   ]
  },
  {
   "cell_type": "markdown",
   "id": "e2f677be",
   "metadata": {},
   "source": [
    "Компания GlowByte."
   ]
  },
  {
   "cell_type": "markdown",
   "id": "8e280259",
   "metadata": {},
   "source": []
  },
  {
   "cell_type": "markdown",
   "id": "73c00aad",
   "metadata": {},
   "source": [
    "### Описание проблемы"
   ]
  },
  {
   "cell_type": "markdown",
   "id": "b29e1ca6",
   "metadata": {},
   "source": [
    "Прогнозирование электропотребления представляет собой сложную задачу из-за нескольких ключевых проблем:\n",
    "\n",
    "- Неопределенность: Будущее поведение потребителей и их потребности в электроэнергии не всегда можно предсказать точно. Различные факторы, такие как экономические изменения, социокультурные тенденции, технологические прорывы и политические решения, могут существенно повлиять на потребление электроэнергии, и невозможно учесть все возможные варианты в прогнозах.\n",
    "\n",
    "- Сезонные и временные изменения: Электропотребление часто подвержено сезонным и временным колебаниям. Например, летом потребление может возрасти из-за использования кондиционеров, а в праздничные дни или выходные потребление может снизиться. Прогнозирование этих изменений требует учета множества факторов и данных.\n",
    "\n",
    "- Развивающиеся технологии: Быстрое развитие новых технологий, таких как электромобили, возобновляемые источники энергии и энергоэффективные устройства, меняет пейзаж потребления электроэнергии. Прогнозирование, как и когда эти технологии будут внедрены, представляет вызов для экспертов.\n",
    "\n",
    "- Энергетическая политика и регулирование: Политические решения и изменения в законодательстве в области энергетики могут существенно повлиять на спрос на электроэнергию.\n",
    "\n",
    "- Глобальные факторы: Электроэнергия является частью мировой экономики, и множество глобальных факторов, таких как изменения климата, геополитические конфликты и экономические кризисы, могут оказать влияние на ее потребление."
   ]
  },
  {
   "cell_type": "markdown",
   "id": "aa120ad0",
   "metadata": {},
   "source": [
    "### Цель"
   ]
  },
  {
   "cell_type": "markdown",
   "id": "df62c742",
   "metadata": {},
   "source": [
    "Разработать надежную и точную модель прогнозирования объема энергопотребления на сутки для Калининградской области с использованием доступных исторических данных и соответствующих переменных."
   ]
  },
  {
   "cell_type": "markdown",
   "id": "aeef7f62",
   "metadata": {},
   "source": [
    "### Задача"
   ]
  },
  {
   "cell_type": "markdown",
   "id": "e2ec67fe",
   "metadata": {},
   "source": [
    "Разработка модели прогнозирования общегоэнергопотребления региона на сутки, в МВт ч"
   ]
  },
  {
   "cell_type": "markdown",
   "id": "fabcd448",
   "metadata": {},
   "source": [
    "### Описание задачи"
   ]
  },
  {
   "cell_type": "markdown",
   "id": "00c1ba8f",
   "metadata": {},
   "source": [
    "В данной задаче необходимо разработать предиктивную модель, которая позволит прогнозировать энергопотребление региона на основе имеющихся данных о потреблении электроэнергии в прошлом и соответствующих факторах, влияющих на потребление энергии. Модель должна быть способна учесть сезонные, временные и другие зависимости для более точного прогноза.\n",
    "Модель должна предсказывать общее потребление региона на 1 сутки"
   ]
  },
  {
   "cell_type": "markdown",
   "id": "c539a979",
   "metadata": {},
   "source": [
    "## План выполнения проекта"
   ]
  },
  {
   "cell_type": "markdown",
   "id": "1f4db6f9",
   "metadata": {},
   "source": []
  },
  {
   "cell_type": "markdown",
   "id": "1fd5e34a",
   "metadata": {},
   "source": [
    "## Реализация проекта"
   ]
  },
  {
   "cell_type": "markdown",
   "id": "b52b0e7b",
   "metadata": {},
   "source": [
    "### Первичное знакомство с данными"
   ]
  },
  {
   "cell_type": "markdown",
   "id": "a62648e2",
   "metadata": {},
   "source": [
    "#### Загрузка данных"
   ]
  },
  {
   "cell_type": "markdown",
   "id": "df41b2c7",
   "metadata": {},
   "source": [
    "Загрузка библиотек"
   ]
  },
  {
   "cell_type": "code",
   "execution_count": 2,
   "id": "a13bc244",
   "metadata": {},
   "outputs": [],
   "source": [
    "import pandas as pd\n",
    "from os.path import join\n",
    "from pathlib import Path\n",
    "import os"
   ]
  },
  {
   "cell_type": "markdown",
   "id": "cc445266",
   "metadata": {},
   "source": [
    "Путь к данным"
   ]
  },
  {
   "cell_type": "code",
   "execution_count": 3,
   "id": "a7f55883",
   "metadata": {},
   "outputs": [],
   "source": [
    "dp = Path(\"C:/Users/79099/Desktop/Hakaton_GlowByte\")"
   ]
  },
  {
   "cell_type": "markdown",
   "id": "da3de022",
   "metadata": {},
   "source": [
    "Тренировочный датасет"
   ]
  },
  {
   "cell_type": "code",
   "execution_count": 16,
   "id": "528f8d83",
   "metadata": {},
   "outputs": [],
   "source": [
    "df_train = pd.read_csv(join(dp, 'train_dataset.csv'), index_col=[0], parse_dates=[0])\n",
    "df_train.sort_index(inplace=True)"
   ]
  },
  {
   "cell_type": "code",
   "execution_count": 17,
   "id": "c2a1432a",
   "metadata": {},
   "outputs": [
    {
     "data": {
      "text/html": [
       "<div>\n",
       "<style scoped>\n",
       "    .dataframe tbody tr th:only-of-type {\n",
       "        vertical-align: middle;\n",
       "    }\n",
       "\n",
       "    .dataframe tbody tr th {\n",
       "        vertical-align: top;\n",
       "    }\n",
       "\n",
       "    .dataframe thead th {\n",
       "        text-align: right;\n",
       "    }\n",
       "</style>\n",
       "<table border=\"1\" class=\"dataframe\">\n",
       "  <thead>\n",
       "    <tr style=\"text-align: right;\">\n",
       "      <th></th>\n",
       "      <th>time</th>\n",
       "      <th>target</th>\n",
       "      <th>temp</th>\n",
       "      <th>temp_pred</th>\n",
       "      <th>weather_pred</th>\n",
       "      <th>weather_fact</th>\n",
       "    </tr>\n",
       "    <tr>\n",
       "      <th>date</th>\n",
       "      <th></th>\n",
       "      <th></th>\n",
       "      <th></th>\n",
       "      <th></th>\n",
       "      <th></th>\n",
       "      <th></th>\n",
       "    </tr>\n",
       "  </thead>\n",
       "  <tbody>\n",
       "    <tr>\n",
       "      <th>2019-01-01</th>\n",
       "      <td>0</td>\n",
       "      <td>481.510</td>\n",
       "      <td>2.9</td>\n",
       "      <td>2.0</td>\n",
       "      <td>пасм, ветер</td>\n",
       "      <td>ветер</td>\n",
       "    </tr>\n",
       "    <tr>\n",
       "      <th>2019-01-01</th>\n",
       "      <td>1</td>\n",
       "      <td>462.872</td>\n",
       "      <td>2.9</td>\n",
       "      <td>2.0</td>\n",
       "      <td>пасм, ветер</td>\n",
       "      <td>ветер</td>\n",
       "    </tr>\n",
       "    <tr>\n",
       "      <th>2019-01-01</th>\n",
       "      <td>2</td>\n",
       "      <td>449.718</td>\n",
       "      <td>2.9</td>\n",
       "      <td>2.0</td>\n",
       "      <td>пасм, ветер</td>\n",
       "      <td>ветер</td>\n",
       "    </tr>\n",
       "    <tr>\n",
       "      <th>2019-01-01</th>\n",
       "      <td>3</td>\n",
       "      <td>430.908</td>\n",
       "      <td>4.3</td>\n",
       "      <td>2.0</td>\n",
       "      <td>пасм, ветер</td>\n",
       "      <td>ветер, пасм</td>\n",
       "    </tr>\n",
       "    <tr>\n",
       "      <th>2019-01-01</th>\n",
       "      <td>4</td>\n",
       "      <td>415.163</td>\n",
       "      <td>4.3</td>\n",
       "      <td>2.0</td>\n",
       "      <td>пасм, ветер</td>\n",
       "      <td>ветер, пасм</td>\n",
       "    </tr>\n",
       "  </tbody>\n",
       "</table>\n",
       "</div>"
      ],
      "text/plain": [
       "            time   target  temp  temp_pred weather_pred weather_fact\n",
       "date                                                                \n",
       "2019-01-01     0  481.510   2.9        2.0  пасм, ветер        ветер\n",
       "2019-01-01     1  462.872   2.9        2.0  пасм, ветер        ветер\n",
       "2019-01-01     2  449.718   2.9        2.0  пасм, ветер        ветер\n",
       "2019-01-01     3  430.908   4.3        2.0  пасм, ветер  ветер, пасм\n",
       "2019-01-01     4  415.163   4.3        2.0  пасм, ветер  ветер, пасм"
      ]
     },
     "execution_count": 17,
     "metadata": {},
     "output_type": "execute_result"
    }
   ],
   "source": [
    "df_train.head(5)"
   ]
  },
  {
   "cell_type": "markdown",
   "id": "204f021d",
   "metadata": {},
   "source": [
    "Тестовый датасет"
   ]
  },
  {
   "cell_type": "code",
   "execution_count": 18,
   "id": "f78dc843",
   "metadata": {},
   "outputs": [],
   "source": [
    "df_test = pd.read_csv(join(dp, 'test_dataset.csv'), index_col=[0], parse_dates=[0])\n",
    "df_test.sort_index(inplace=True)"
   ]
  },
  {
   "cell_type": "code",
   "execution_count": 19,
   "id": "b946eb54",
   "metadata": {},
   "outputs": [
    {
     "data": {
      "text/html": [
       "<div>\n",
       "<style scoped>\n",
       "    .dataframe tbody tr th:only-of-type {\n",
       "        vertical-align: middle;\n",
       "    }\n",
       "\n",
       "    .dataframe tbody tr th {\n",
       "        vertical-align: top;\n",
       "    }\n",
       "\n",
       "    .dataframe thead th {\n",
       "        text-align: right;\n",
       "    }\n",
       "</style>\n",
       "<table border=\"1\" class=\"dataframe\">\n",
       "  <thead>\n",
       "    <tr style=\"text-align: right;\">\n",
       "      <th></th>\n",
       "      <th>time</th>\n",
       "      <th>target</th>\n",
       "      <th>temp</th>\n",
       "      <th>temp_pred</th>\n",
       "      <th>weather_pred</th>\n",
       "      <th>weather_fact</th>\n",
       "    </tr>\n",
       "    <tr>\n",
       "      <th>date</th>\n",
       "      <th></th>\n",
       "      <th></th>\n",
       "      <th></th>\n",
       "      <th></th>\n",
       "      <th></th>\n",
       "      <th></th>\n",
       "    </tr>\n",
       "  </thead>\n",
       "  <tbody>\n",
       "    <tr>\n",
       "      <th>2023-04-01</th>\n",
       "      <td>0</td>\n",
       "      <td>479.282</td>\n",
       "      <td>5.7</td>\n",
       "      <td>5.0</td>\n",
       "      <td>пасм, 58%</td>\n",
       "      <td>пасм, морось</td>\n",
       "    </tr>\n",
       "    <tr>\n",
       "      <th>2023-04-01</th>\n",
       "      <td>1</td>\n",
       "      <td>445.182</td>\n",
       "      <td>5.7</td>\n",
       "      <td>5.0</td>\n",
       "      <td>пасм, 58%</td>\n",
       "      <td>пасм, морось</td>\n",
       "    </tr>\n",
       "    <tr>\n",
       "      <th>2023-04-01</th>\n",
       "      <td>2</td>\n",
       "      <td>424.225</td>\n",
       "      <td>5.7</td>\n",
       "      <td>5.0</td>\n",
       "      <td>пасм, 58%</td>\n",
       "      <td>пасм, морось</td>\n",
       "    </tr>\n",
       "    <tr>\n",
       "      <th>2023-04-01</th>\n",
       "      <td>3</td>\n",
       "      <td>413.866</td>\n",
       "      <td>5.0</td>\n",
       "      <td>4.0</td>\n",
       "      <td>пасм, 71% дождь</td>\n",
       "      <td>пасм, дымка</td>\n",
       "    </tr>\n",
       "    <tr>\n",
       "      <th>2023-04-01</th>\n",
       "      <td>4</td>\n",
       "      <td>408.146</td>\n",
       "      <td>5.0</td>\n",
       "      <td>4.0</td>\n",
       "      <td>пасм, 71% дождь</td>\n",
       "      <td>пасм, дымка</td>\n",
       "    </tr>\n",
       "  </tbody>\n",
       "</table>\n",
       "</div>"
      ],
      "text/plain": [
       "            time   target  temp  temp_pred     weather_pred  weather_fact\n",
       "date                                                                     \n",
       "2023-04-01     0  479.282   5.7        5.0        пасм, 58%  пасм, морось\n",
       "2023-04-01     1  445.182   5.7        5.0        пасм, 58%  пасм, морось\n",
       "2023-04-01     2  424.225   5.7        5.0        пасм, 58%  пасм, морось\n",
       "2023-04-01     3  413.866   5.0        4.0  пасм, 71% дождь   пасм, дымка\n",
       "2023-04-01     4  408.146   5.0        4.0  пасм, 71% дождь   пасм, дымка"
      ]
     },
     "execution_count": 19,
     "metadata": {},
     "output_type": "execute_result"
    }
   ],
   "source": [
    "df_test.head(5)"
   ]
  },
  {
   "cell_type": "markdown",
   "id": "ee329e83",
   "metadata": {},
   "source": [
    "**Вывод** \n",
    "\n",
    "Данные загрузились корректно\n",
    "\n",
    "- Тренировочный датасет содержит 7 столбцов и 37224 строки\n",
    "- Тестовый датасет содержит 7 столбцов и 2928 строк\n",
    "\n",
    "Описание данных:\n",
    "\n",
    "- date: дата\n",
    "- time: время, время представлено в диапазоне 0 – 23, что означает 24 часа в сутках\n",
    "- target: Фактическое потребление на указанную дату\n",
    "- temp: фактическая температура на указанную дату\n",
    "- temp_pred: прогноз температуры на указанную дату\n",
    "- weather_fact: фактическая погода на указанную дату\n",
    "- weather_pred: прогноз погоды на указанную дату"
   ]
  },
  {
   "cell_type": "markdown",
   "id": "6084c756",
   "metadata": {},
   "source": [
    "#### Формирование датафреймов"
   ]
  },
  {
   "cell_type": "markdown",
   "id": "c4b55107",
   "metadata": {},
   "source": []
  },
  {
   "cell_type": "code",
   "execution_count": 20,
   "id": "1ee9dbf4",
   "metadata": {},
   "outputs": [],
   "source": [
    "def groupe_temp_pred(df):\n",
    "    df_group = df.groupby('date')['temp_pred'].agg(['min', 'max', 'mean'])\n",
    "    df_group['differences'] = abs(df_group['max'] - df_group['min'])\n",
    "    df_group = df_group.rename(columns={'min': 'min_temp_pred', 'max': 'max_temp_pred', 'mean': 'mean_temp_pred',\n",
    "                                        'differences' : 'differences_temp_pred'})\n",
    "    return df_group\n",
    "    "
   ]
  },
  {
   "cell_type": "code",
   "execution_count": 21,
   "id": "1f5acabf",
   "metadata": {},
   "outputs": [],
   "source": [
    "def groupe_temp(df):\n",
    "    df_group = df.groupby('date')['temp'].agg(['min', 'max', 'mean'])\n",
    "    df_group['differences'] = abs(df_group['max'] - df_group['min'])\n",
    "    df_group = df_group.rename(columns={'min': 'min_temp', 'max': 'max_temp', 'mean': 'mean_temp',\n",
    "                                        'differences' : 'differences_temp'})\n",
    "    return df_group\n",
    "    "
   ]
  },
  {
   "cell_type": "code",
   "execution_count": 22,
   "id": "d4d6575e",
   "metadata": {},
   "outputs": [],
   "source": [
    "df_group_temp_pred_train = groupe_temp_pred(df_train)"
   ]
  },
  {
   "cell_type": "code",
   "execution_count": 23,
   "id": "d19728e1",
   "metadata": {},
   "outputs": [],
   "source": [
    "df_group_temp_train = groupe_temp(df_train)"
   ]
  },
  {
   "cell_type": "code",
   "execution_count": 24,
   "id": "f443618c",
   "metadata": {},
   "outputs": [
    {
     "data": {
      "text/html": [
       "<div>\n",
       "<style scoped>\n",
       "    .dataframe tbody tr th:only-of-type {\n",
       "        vertical-align: middle;\n",
       "    }\n",
       "\n",
       "    .dataframe tbody tr th {\n",
       "        vertical-align: top;\n",
       "    }\n",
       "\n",
       "    .dataframe thead th {\n",
       "        text-align: right;\n",
       "    }\n",
       "</style>\n",
       "<table border=\"1\" class=\"dataframe\">\n",
       "  <thead>\n",
       "    <tr style=\"text-align: right;\">\n",
       "      <th></th>\n",
       "      <th>min_temp</th>\n",
       "      <th>max_temp</th>\n",
       "      <th>mean_temp</th>\n",
       "      <th>differences_temp</th>\n",
       "    </tr>\n",
       "    <tr>\n",
       "      <th>date</th>\n",
       "      <th></th>\n",
       "      <th></th>\n",
       "      <th></th>\n",
       "      <th></th>\n",
       "    </tr>\n",
       "  </thead>\n",
       "  <tbody>\n",
       "    <tr>\n",
       "      <th>2019-01-01</th>\n",
       "      <td>2.9</td>\n",
       "      <td>6.1</td>\n",
       "      <td>4.8750</td>\n",
       "      <td>3.2</td>\n",
       "    </tr>\n",
       "    <tr>\n",
       "      <th>2019-01-02</th>\n",
       "      <td>0.2</td>\n",
       "      <td>3.2</td>\n",
       "      <td>1.3500</td>\n",
       "      <td>3.0</td>\n",
       "    </tr>\n",
       "    <tr>\n",
       "      <th>2019-01-03</th>\n",
       "      <td>-3.8</td>\n",
       "      <td>0.1</td>\n",
       "      <td>-1.1625</td>\n",
       "      <td>3.9</td>\n",
       "    </tr>\n",
       "    <tr>\n",
       "      <th>2019-01-04</th>\n",
       "      <td>-6.9</td>\n",
       "      <td>2.2</td>\n",
       "      <td>-1.5000</td>\n",
       "      <td>9.1</td>\n",
       "    </tr>\n",
       "    <tr>\n",
       "      <th>2019-01-05</th>\n",
       "      <td>-1.6</td>\n",
       "      <td>3.4</td>\n",
       "      <td>0.9375</td>\n",
       "      <td>5.0</td>\n",
       "    </tr>\n",
       "    <tr>\n",
       "      <th>...</th>\n",
       "      <td>...</td>\n",
       "      <td>...</td>\n",
       "      <td>...</td>\n",
       "      <td>...</td>\n",
       "    </tr>\n",
       "    <tr>\n",
       "      <th>2023-03-27</th>\n",
       "      <td>-2.4</td>\n",
       "      <td>3.9</td>\n",
       "      <td>1.4375</td>\n",
       "      <td>6.3</td>\n",
       "    </tr>\n",
       "    <tr>\n",
       "      <th>2023-03-28</th>\n",
       "      <td>-3.9</td>\n",
       "      <td>0.9</td>\n",
       "      <td>-1.3000</td>\n",
       "      <td>4.8</td>\n",
       "    </tr>\n",
       "    <tr>\n",
       "      <th>2023-03-29</th>\n",
       "      <td>-3.8</td>\n",
       "      <td>6.2</td>\n",
       "      <td>2.3750</td>\n",
       "      <td>10.0</td>\n",
       "    </tr>\n",
       "    <tr>\n",
       "      <th>2023-03-30</th>\n",
       "      <td>3.7</td>\n",
       "      <td>11.3</td>\n",
       "      <td>7.4375</td>\n",
       "      <td>7.6</td>\n",
       "    </tr>\n",
       "    <tr>\n",
       "      <th>2023-03-31</th>\n",
       "      <td>6.3</td>\n",
       "      <td>11.8</td>\n",
       "      <td>8.8125</td>\n",
       "      <td>5.5</td>\n",
       "    </tr>\n",
       "  </tbody>\n",
       "</table>\n",
       "<p>1551 rows × 4 columns</p>\n",
       "</div>"
      ],
      "text/plain": [
       "            min_temp  max_temp  mean_temp  differences_temp\n",
       "date                                                       \n",
       "2019-01-01       2.9       6.1     4.8750               3.2\n",
       "2019-01-02       0.2       3.2     1.3500               3.0\n",
       "2019-01-03      -3.8       0.1    -1.1625               3.9\n",
       "2019-01-04      -6.9       2.2    -1.5000               9.1\n",
       "2019-01-05      -1.6       3.4     0.9375               5.0\n",
       "...              ...       ...        ...               ...\n",
       "2023-03-27      -2.4       3.9     1.4375               6.3\n",
       "2023-03-28      -3.9       0.9    -1.3000               4.8\n",
       "2023-03-29      -3.8       6.2     2.3750              10.0\n",
       "2023-03-30       3.7      11.3     7.4375               7.6\n",
       "2023-03-31       6.3      11.8     8.8125               5.5\n",
       "\n",
       "[1551 rows x 4 columns]"
      ]
     },
     "execution_count": 24,
     "metadata": {},
     "output_type": "execute_result"
    }
   ],
   "source": [
    "df_group_temp_train"
   ]
  },
  {
   "cell_type": "code",
   "execution_count": 25,
   "id": "38fd4225",
   "metadata": {},
   "outputs": [
    {
     "data": {
      "text/html": [
       "<div>\n",
       "<style scoped>\n",
       "    .dataframe tbody tr th:only-of-type {\n",
       "        vertical-align: middle;\n",
       "    }\n",
       "\n",
       "    .dataframe tbody tr th {\n",
       "        vertical-align: top;\n",
       "    }\n",
       "\n",
       "    .dataframe thead th {\n",
       "        text-align: right;\n",
       "    }\n",
       "</style>\n",
       "<table border=\"1\" class=\"dataframe\">\n",
       "  <thead>\n",
       "    <tr style=\"text-align: right;\">\n",
       "      <th></th>\n",
       "      <th>min_temp_pred</th>\n",
       "      <th>max_temp_pred</th>\n",
       "      <th>mean_temp_pred</th>\n",
       "      <th>differences_temp_pred</th>\n",
       "    </tr>\n",
       "    <tr>\n",
       "      <th>date</th>\n",
       "      <th></th>\n",
       "      <th></th>\n",
       "      <th></th>\n",
       "      <th></th>\n",
       "    </tr>\n",
       "  </thead>\n",
       "  <tbody>\n",
       "    <tr>\n",
       "      <th>2019-01-01</th>\n",
       "      <td>2.0</td>\n",
       "      <td>6.0</td>\n",
       "      <td>4.375</td>\n",
       "      <td>4.0</td>\n",
       "    </tr>\n",
       "    <tr>\n",
       "      <th>2019-01-02</th>\n",
       "      <td>0.0</td>\n",
       "      <td>4.0</td>\n",
       "      <td>1.500</td>\n",
       "      <td>4.0</td>\n",
       "    </tr>\n",
       "    <tr>\n",
       "      <th>2019-01-03</th>\n",
       "      <td>-2.0</td>\n",
       "      <td>-1.0</td>\n",
       "      <td>-1.375</td>\n",
       "      <td>1.0</td>\n",
       "    </tr>\n",
       "    <tr>\n",
       "      <th>2019-01-04</th>\n",
       "      <td>-2.0</td>\n",
       "      <td>1.0</td>\n",
       "      <td>-0.125</td>\n",
       "      <td>3.0</td>\n",
       "    </tr>\n",
       "    <tr>\n",
       "      <th>2019-01-05</th>\n",
       "      <td>-2.0</td>\n",
       "      <td>4.0</td>\n",
       "      <td>1.500</td>\n",
       "      <td>6.0</td>\n",
       "    </tr>\n",
       "    <tr>\n",
       "      <th>...</th>\n",
       "      <td>...</td>\n",
       "      <td>...</td>\n",
       "      <td>...</td>\n",
       "      <td>...</td>\n",
       "    </tr>\n",
       "    <tr>\n",
       "      <th>2023-03-27</th>\n",
       "      <td>-2.0</td>\n",
       "      <td>3.0</td>\n",
       "      <td>1.250</td>\n",
       "      <td>5.0</td>\n",
       "    </tr>\n",
       "    <tr>\n",
       "      <th>2023-03-28</th>\n",
       "      <td>-2.0</td>\n",
       "      <td>2.0</td>\n",
       "      <td>-0.250</td>\n",
       "      <td>4.0</td>\n",
       "    </tr>\n",
       "    <tr>\n",
       "      <th>2023-03-29</th>\n",
       "      <td>-2.0</td>\n",
       "      <td>5.0</td>\n",
       "      <td>1.500</td>\n",
       "      <td>7.0</td>\n",
       "    </tr>\n",
       "    <tr>\n",
       "      <th>2023-03-30</th>\n",
       "      <td>3.0</td>\n",
       "      <td>9.0</td>\n",
       "      <td>6.375</td>\n",
       "      <td>6.0</td>\n",
       "    </tr>\n",
       "    <tr>\n",
       "      <th>2023-03-31</th>\n",
       "      <td>5.0</td>\n",
       "      <td>10.0</td>\n",
       "      <td>7.500</td>\n",
       "      <td>5.0</td>\n",
       "    </tr>\n",
       "  </tbody>\n",
       "</table>\n",
       "<p>1551 rows × 4 columns</p>\n",
       "</div>"
      ],
      "text/plain": [
       "            min_temp_pred  max_temp_pred  mean_temp_pred  \\\n",
       "date                                                       \n",
       "2019-01-01            2.0            6.0           4.375   \n",
       "2019-01-02            0.0            4.0           1.500   \n",
       "2019-01-03           -2.0           -1.0          -1.375   \n",
       "2019-01-04           -2.0            1.0          -0.125   \n",
       "2019-01-05           -2.0            4.0           1.500   \n",
       "...                   ...            ...             ...   \n",
       "2023-03-27           -2.0            3.0           1.250   \n",
       "2023-03-28           -2.0            2.0          -0.250   \n",
       "2023-03-29           -2.0            5.0           1.500   \n",
       "2023-03-30            3.0            9.0           6.375   \n",
       "2023-03-31            5.0           10.0           7.500   \n",
       "\n",
       "            differences_temp_pred  \n",
       "date                               \n",
       "2019-01-01                    4.0  \n",
       "2019-01-02                    4.0  \n",
       "2019-01-03                    1.0  \n",
       "2019-01-04                    3.0  \n",
       "2019-01-05                    6.0  \n",
       "...                           ...  \n",
       "2023-03-27                    5.0  \n",
       "2023-03-28                    4.0  \n",
       "2023-03-29                    7.0  \n",
       "2023-03-30                    6.0  \n",
       "2023-03-31                    5.0  \n",
       "\n",
       "[1551 rows x 4 columns]"
      ]
     },
     "execution_count": 25,
     "metadata": {},
     "output_type": "execute_result"
    }
   ],
   "source": [
    "df_group_temp_pred_train"
   ]
  },
  {
   "cell_type": "code",
   "execution_count": null,
   "id": "c31787eb",
   "metadata": {},
   "outputs": [],
   "source": []
  },
  {
   "cell_type": "code",
   "execution_count": null,
   "id": "022fd960",
   "metadata": {},
   "outputs": [],
   "source": []
  },
  {
   "cell_type": "code",
   "execution_count": null,
   "id": "b10992f1",
   "metadata": {},
   "outputs": [],
   "source": []
  },
  {
   "cell_type": "code",
   "execution_count": null,
   "id": "79e3b6f6",
   "metadata": {},
   "outputs": [],
   "source": []
  },
  {
   "cell_type": "code",
   "execution_count": 26,
   "id": "3635de74",
   "metadata": {},
   "outputs": [],
   "source": [
    "df_group_train =  groupe_temp_pred(df_train)"
   ]
  },
  {
   "cell_type": "code",
   "execution_count": null,
   "id": "f5905edd",
   "metadata": {},
   "outputs": [],
   "source": []
  },
  {
   "cell_type": "code",
   "execution_count": null,
   "id": "50773bdc",
   "metadata": {},
   "outputs": [],
   "source": []
  },
  {
   "cell_type": "code",
   "execution_count": 27,
   "id": "2eca29a9",
   "metadata": {},
   "outputs": [],
   "source": [
    "df_group = df_train.groupby('date')['temp_pred'].agg(['min', 'max', 'mean'])"
   ]
  },
  {
   "cell_type": "code",
   "execution_count": 28,
   "id": "fdd0152a",
   "metadata": {},
   "outputs": [
    {
     "data": {
      "text/html": [
       "<div>\n",
       "<style scoped>\n",
       "    .dataframe tbody tr th:only-of-type {\n",
       "        vertical-align: middle;\n",
       "    }\n",
       "\n",
       "    .dataframe tbody tr th {\n",
       "        vertical-align: top;\n",
       "    }\n",
       "\n",
       "    .dataframe thead th {\n",
       "        text-align: right;\n",
       "    }\n",
       "</style>\n",
       "<table border=\"1\" class=\"dataframe\">\n",
       "  <thead>\n",
       "    <tr style=\"text-align: right;\">\n",
       "      <th></th>\n",
       "      <th>min</th>\n",
       "      <th>max</th>\n",
       "      <th>mean</th>\n",
       "    </tr>\n",
       "    <tr>\n",
       "      <th>date</th>\n",
       "      <th></th>\n",
       "      <th></th>\n",
       "      <th></th>\n",
       "    </tr>\n",
       "  </thead>\n",
       "  <tbody>\n",
       "    <tr>\n",
       "      <th>2019-01-01</th>\n",
       "      <td>2.0</td>\n",
       "      <td>6.0</td>\n",
       "      <td>4.375</td>\n",
       "    </tr>\n",
       "    <tr>\n",
       "      <th>2019-01-02</th>\n",
       "      <td>0.0</td>\n",
       "      <td>4.0</td>\n",
       "      <td>1.500</td>\n",
       "    </tr>\n",
       "    <tr>\n",
       "      <th>2019-01-03</th>\n",
       "      <td>-2.0</td>\n",
       "      <td>-1.0</td>\n",
       "      <td>-1.375</td>\n",
       "    </tr>\n",
       "    <tr>\n",
       "      <th>2019-01-04</th>\n",
       "      <td>-2.0</td>\n",
       "      <td>1.0</td>\n",
       "      <td>-0.125</td>\n",
       "    </tr>\n",
       "    <tr>\n",
       "      <th>2019-01-05</th>\n",
       "      <td>-2.0</td>\n",
       "      <td>4.0</td>\n",
       "      <td>1.500</td>\n",
       "    </tr>\n",
       "    <tr>\n",
       "      <th>...</th>\n",
       "      <td>...</td>\n",
       "      <td>...</td>\n",
       "      <td>...</td>\n",
       "    </tr>\n",
       "    <tr>\n",
       "      <th>2023-03-27</th>\n",
       "      <td>-2.0</td>\n",
       "      <td>3.0</td>\n",
       "      <td>1.250</td>\n",
       "    </tr>\n",
       "    <tr>\n",
       "      <th>2023-03-28</th>\n",
       "      <td>-2.0</td>\n",
       "      <td>2.0</td>\n",
       "      <td>-0.250</td>\n",
       "    </tr>\n",
       "    <tr>\n",
       "      <th>2023-03-29</th>\n",
       "      <td>-2.0</td>\n",
       "      <td>5.0</td>\n",
       "      <td>1.500</td>\n",
       "    </tr>\n",
       "    <tr>\n",
       "      <th>2023-03-30</th>\n",
       "      <td>3.0</td>\n",
       "      <td>9.0</td>\n",
       "      <td>6.375</td>\n",
       "    </tr>\n",
       "    <tr>\n",
       "      <th>2023-03-31</th>\n",
       "      <td>5.0</td>\n",
       "      <td>10.0</td>\n",
       "      <td>7.500</td>\n",
       "    </tr>\n",
       "  </tbody>\n",
       "</table>\n",
       "<p>1551 rows × 3 columns</p>\n",
       "</div>"
      ],
      "text/plain": [
       "            min   max   mean\n",
       "date                        \n",
       "2019-01-01  2.0   6.0  4.375\n",
       "2019-01-02  0.0   4.0  1.500\n",
       "2019-01-03 -2.0  -1.0 -1.375\n",
       "2019-01-04 -2.0   1.0 -0.125\n",
       "2019-01-05 -2.0   4.0  1.500\n",
       "...         ...   ...    ...\n",
       "2023-03-27 -2.0   3.0  1.250\n",
       "2023-03-28 -2.0   2.0 -0.250\n",
       "2023-03-29 -2.0   5.0  1.500\n",
       "2023-03-30  3.0   9.0  6.375\n",
       "2023-03-31  5.0  10.0  7.500\n",
       "\n",
       "[1551 rows x 3 columns]"
      ]
     },
     "execution_count": 28,
     "metadata": {},
     "output_type": "execute_result"
    }
   ],
   "source": [
    "df_group"
   ]
  },
  {
   "cell_type": "code",
   "execution_count": null,
   "id": "43eec811",
   "metadata": {},
   "outputs": [],
   "source": []
  },
  {
   "cell_type": "code",
   "execution_count": 29,
   "id": "3cb1423f",
   "metadata": {},
   "outputs": [],
   "source": [
    "df_group['Differences'] = abs(df_group['max'] - df_group['min'])"
   ]
  },
  {
   "cell_type": "code",
   "execution_count": 30,
   "id": "0f6cfc4c",
   "metadata": {},
   "outputs": [
    {
     "data": {
      "text/html": [
       "<div>\n",
       "<style scoped>\n",
       "    .dataframe tbody tr th:only-of-type {\n",
       "        vertical-align: middle;\n",
       "    }\n",
       "\n",
       "    .dataframe tbody tr th {\n",
       "        vertical-align: top;\n",
       "    }\n",
       "\n",
       "    .dataframe thead th {\n",
       "        text-align: right;\n",
       "    }\n",
       "</style>\n",
       "<table border=\"1\" class=\"dataframe\">\n",
       "  <thead>\n",
       "    <tr style=\"text-align: right;\">\n",
       "      <th></th>\n",
       "      <th>min</th>\n",
       "      <th>max</th>\n",
       "      <th>mean</th>\n",
       "      <th>Differences</th>\n",
       "    </tr>\n",
       "    <tr>\n",
       "      <th>date</th>\n",
       "      <th></th>\n",
       "      <th></th>\n",
       "      <th></th>\n",
       "      <th></th>\n",
       "    </tr>\n",
       "  </thead>\n",
       "  <tbody>\n",
       "    <tr>\n",
       "      <th>2019-01-01</th>\n",
       "      <td>2.0</td>\n",
       "      <td>6.0</td>\n",
       "      <td>4.375</td>\n",
       "      <td>4.0</td>\n",
       "    </tr>\n",
       "    <tr>\n",
       "      <th>2019-01-02</th>\n",
       "      <td>0.0</td>\n",
       "      <td>4.0</td>\n",
       "      <td>1.500</td>\n",
       "      <td>4.0</td>\n",
       "    </tr>\n",
       "    <tr>\n",
       "      <th>2019-01-03</th>\n",
       "      <td>-2.0</td>\n",
       "      <td>-1.0</td>\n",
       "      <td>-1.375</td>\n",
       "      <td>1.0</td>\n",
       "    </tr>\n",
       "    <tr>\n",
       "      <th>2019-01-04</th>\n",
       "      <td>-2.0</td>\n",
       "      <td>1.0</td>\n",
       "      <td>-0.125</td>\n",
       "      <td>3.0</td>\n",
       "    </tr>\n",
       "    <tr>\n",
       "      <th>2019-01-05</th>\n",
       "      <td>-2.0</td>\n",
       "      <td>4.0</td>\n",
       "      <td>1.500</td>\n",
       "      <td>6.0</td>\n",
       "    </tr>\n",
       "    <tr>\n",
       "      <th>...</th>\n",
       "      <td>...</td>\n",
       "      <td>...</td>\n",
       "      <td>...</td>\n",
       "      <td>...</td>\n",
       "    </tr>\n",
       "    <tr>\n",
       "      <th>2023-03-27</th>\n",
       "      <td>-2.0</td>\n",
       "      <td>3.0</td>\n",
       "      <td>1.250</td>\n",
       "      <td>5.0</td>\n",
       "    </tr>\n",
       "    <tr>\n",
       "      <th>2023-03-28</th>\n",
       "      <td>-2.0</td>\n",
       "      <td>2.0</td>\n",
       "      <td>-0.250</td>\n",
       "      <td>4.0</td>\n",
       "    </tr>\n",
       "    <tr>\n",
       "      <th>2023-03-29</th>\n",
       "      <td>-2.0</td>\n",
       "      <td>5.0</td>\n",
       "      <td>1.500</td>\n",
       "      <td>7.0</td>\n",
       "    </tr>\n",
       "    <tr>\n",
       "      <th>2023-03-30</th>\n",
       "      <td>3.0</td>\n",
       "      <td>9.0</td>\n",
       "      <td>6.375</td>\n",
       "      <td>6.0</td>\n",
       "    </tr>\n",
       "    <tr>\n",
       "      <th>2023-03-31</th>\n",
       "      <td>5.0</td>\n",
       "      <td>10.0</td>\n",
       "      <td>7.500</td>\n",
       "      <td>5.0</td>\n",
       "    </tr>\n",
       "  </tbody>\n",
       "</table>\n",
       "<p>1551 rows × 4 columns</p>\n",
       "</div>"
      ],
      "text/plain": [
       "            min   max   mean  Differences\n",
       "date                                     \n",
       "2019-01-01  2.0   6.0  4.375          4.0\n",
       "2019-01-02  0.0   4.0  1.500          4.0\n",
       "2019-01-03 -2.0  -1.0 -1.375          1.0\n",
       "2019-01-04 -2.0   1.0 -0.125          3.0\n",
       "2019-01-05 -2.0   4.0  1.500          6.0\n",
       "...         ...   ...    ...          ...\n",
       "2023-03-27 -2.0   3.0  1.250          5.0\n",
       "2023-03-28 -2.0   2.0 -0.250          4.0\n",
       "2023-03-29 -2.0   5.0  1.500          7.0\n",
       "2023-03-30  3.0   9.0  6.375          6.0\n",
       "2023-03-31  5.0  10.0  7.500          5.0\n",
       "\n",
       "[1551 rows x 4 columns]"
      ]
     },
     "execution_count": 30,
     "metadata": {},
     "output_type": "execute_result"
    }
   ],
   "source": [
    "df_group"
   ]
  },
  {
   "cell_type": "code",
   "execution_count": null,
   "id": "abe0afd8",
   "metadata": {},
   "outputs": [],
   "source": []
  },
  {
   "cell_type": "code",
   "execution_count": null,
   "id": "c6af76db",
   "metadata": {},
   "outputs": [],
   "source": []
  },
  {
   "cell_type": "code",
   "execution_count": null,
   "id": "a543b57f",
   "metadata": {},
   "outputs": [],
   "source": []
  },
  {
   "cell_type": "code",
   "execution_count": 31,
   "id": "e717d1b9",
   "metadata": {},
   "outputs": [
    {
     "data": {
      "text/html": [
       "<div>\n",
       "<style scoped>\n",
       "    .dataframe tbody tr th:only-of-type {\n",
       "        vertical-align: middle;\n",
       "    }\n",
       "\n",
       "    .dataframe tbody tr th {\n",
       "        vertical-align: top;\n",
       "    }\n",
       "\n",
       "    .dataframe thead th {\n",
       "        text-align: right;\n",
       "    }\n",
       "</style>\n",
       "<table border=\"1\" class=\"dataframe\">\n",
       "  <thead>\n",
       "    <tr style=\"text-align: right;\">\n",
       "      <th></th>\n",
       "      <th>time</th>\n",
       "      <th>target</th>\n",
       "      <th>temp</th>\n",
       "      <th>temp_pred</th>\n",
       "      <th>weather_pred</th>\n",
       "      <th>weather_fact</th>\n",
       "    </tr>\n",
       "    <tr>\n",
       "      <th>date</th>\n",
       "      <th></th>\n",
       "      <th></th>\n",
       "      <th></th>\n",
       "      <th></th>\n",
       "      <th></th>\n",
       "      <th></th>\n",
       "    </tr>\n",
       "  </thead>\n",
       "  <tbody>\n",
       "    <tr>\n",
       "      <th>2022-03-19</th>\n",
       "      <td>12</td>\n",
       "      <td>582.397</td>\n",
       "      <td>9.0</td>\n",
       "      <td>9.0</td>\n",
       "      <td>малообл.</td>\n",
       "      <td>NaN</td>\n",
       "    </tr>\n",
       "  </tbody>\n",
       "</table>\n",
       "</div>"
      ],
      "text/plain": [
       "            time   target  temp  temp_pred weather_pred weather_fact\n",
       "date                                                                \n",
       "2022-03-19    12  582.397   9.0        9.0     малообл.          NaN"
      ]
     },
     "execution_count": 31,
     "metadata": {},
     "output_type": "execute_result"
    }
   ],
   "source": [
    "df_train[df_train['weather_fact'].isnull()]"
   ]
  },
  {
   "cell_type": "code",
   "execution_count": null,
   "id": "71bcf42b",
   "metadata": {},
   "outputs": [],
   "source": []
  },
  {
   "cell_type": "code",
   "execution_count": null,
   "id": "742cafd3",
   "metadata": {},
   "outputs": [],
   "source": []
  },
  {
   "cell_type": "code",
   "execution_count": null,
   "id": "fee5cdd8",
   "metadata": {},
   "outputs": [],
   "source": []
  },
  {
   "cell_type": "code",
   "execution_count": 32,
   "id": "da84164d",
   "metadata": {},
   "outputs": [
    {
     "name": "stdout",
     "output_type": "stream",
     "text": [
      "<class 'pandas.core.frame.DataFrame'>\n",
      "DatetimeIndex: 37224 entries, 2019-01-01 to 2023-03-31\n",
      "Data columns (total 6 columns):\n",
      " #   Column        Non-Null Count  Dtype  \n",
      "---  ------        --------------  -----  \n",
      " 0   time          37224 non-null  int64  \n",
      " 1   target        37224 non-null  float64\n",
      " 2   temp          37224 non-null  float64\n",
      " 3   temp_pred     37136 non-null  float64\n",
      " 4   weather_pred  37136 non-null  object \n",
      " 5   weather_fact  37223 non-null  object \n",
      "dtypes: float64(3), int64(1), object(2)\n",
      "memory usage: 2.0+ MB\n"
     ]
    }
   ],
   "source": [
    "df_train.info()"
   ]
  },
  {
   "cell_type": "code",
   "execution_count": 33,
   "id": "9d6477ed",
   "metadata": {},
   "outputs": [
    {
     "data": {
      "text/plain": [
       "time             0\n",
       "target           0\n",
       "temp             0\n",
       "temp_pred       88\n",
       "weather_pred    88\n",
       "weather_fact     1\n",
       "dtype: int64"
      ]
     },
     "execution_count": 33,
     "metadata": {},
     "output_type": "execute_result"
    }
   ],
   "source": [
    "df_train.isna().sum()"
   ]
  },
  {
   "cell_type": "code",
   "execution_count": 34,
   "id": "0d86e9d8",
   "metadata": {},
   "outputs": [
    {
     "data": {
      "text/plain": [
       "time             0\n",
       "target           0\n",
       "temp             0\n",
       "temp_pred       24\n",
       "weather_pred    24\n",
       "weather_fact     0\n",
       "dtype: int64"
      ]
     },
     "execution_count": 34,
     "metadata": {},
     "output_type": "execute_result"
    }
   ],
   "source": [
    "df_test.isna().sum()"
   ]
  },
  {
   "cell_type": "code",
   "execution_count": null,
   "id": "8e292e73",
   "metadata": {},
   "outputs": [],
   "source": []
  },
  {
   "cell_type": "code",
   "execution_count": null,
   "id": "cba0219c",
   "metadata": {},
   "outputs": [],
   "source": []
  },
  {
   "cell_type": "code",
   "execution_count": null,
   "id": "802fe96b",
   "metadata": {},
   "outputs": [],
   "source": []
  },
  {
   "cell_type": "code",
   "execution_count": null,
   "id": "eb90274b",
   "metadata": {},
   "outputs": [],
   "source": []
  },
  {
   "cell_type": "code",
   "execution_count": null,
   "id": "b38c76be",
   "metadata": {},
   "outputs": [],
   "source": []
  },
  {
   "cell_type": "code",
   "execution_count": 35,
   "id": "17305d19",
   "metadata": {},
   "outputs": [
    {
     "data": {
      "text/plain": [
       "True"
      ]
     },
     "execution_count": 35,
     "metadata": {},
     "output_type": "execute_result"
    }
   ],
   "source": [
    "df_train.index.is_monotonic"
   ]
  },
  {
   "cell_type": "code",
   "execution_count": 36,
   "id": "2f9920cb",
   "metadata": {},
   "outputs": [
    {
     "data": {
      "text/plain": [
       "True"
      ]
     },
     "execution_count": 36,
     "metadata": {},
     "output_type": "execute_result"
    }
   ],
   "source": [
    "df_test.index.is_monotonic"
   ]
  },
  {
   "cell_type": "code",
   "execution_count": null,
   "id": "ac1b7775",
   "metadata": {},
   "outputs": [],
   "source": []
  },
  {
   "cell_type": "markdown",
   "id": "1b9760b7",
   "metadata": {},
   "source": [
    "#### Ресемплирование данных"
   ]
  },
  {
   "cell_type": "code",
   "execution_count": null,
   "id": "4dc1bb53",
   "metadata": {},
   "outputs": [],
   "source": []
  },
  {
   "cell_type": "code",
   "execution_count": null,
   "id": "5a4d0a41",
   "metadata": {},
   "outputs": [],
   "source": []
  },
  {
   "cell_type": "code",
   "execution_count": 37,
   "id": "5ed81466",
   "metadata": {},
   "outputs": [],
   "source": [
    "df_tr = df_train.resample('1D').sum()"
   ]
  },
  {
   "cell_type": "code",
   "execution_count": 38,
   "id": "298d4783",
   "metadata": {},
   "outputs": [],
   "source": [
    "df_tt = df_test.resample('1D').sum()"
   ]
  },
  {
   "cell_type": "code",
   "execution_count": null,
   "id": "dfeffdc7",
   "metadata": {},
   "outputs": [],
   "source": []
  },
  {
   "cell_type": "code",
   "execution_count": 39,
   "id": "6ba1cac6",
   "metadata": {},
   "outputs": [
    {
     "data": {
      "text/html": [
       "<div>\n",
       "<style scoped>\n",
       "    .dataframe tbody tr th:only-of-type {\n",
       "        vertical-align: middle;\n",
       "    }\n",
       "\n",
       "    .dataframe tbody tr th {\n",
       "        vertical-align: top;\n",
       "    }\n",
       "\n",
       "    .dataframe thead th {\n",
       "        text-align: right;\n",
       "    }\n",
       "</style>\n",
       "<table border=\"1\" class=\"dataframe\">\n",
       "  <thead>\n",
       "    <tr style=\"text-align: right;\">\n",
       "      <th></th>\n",
       "      <th>time</th>\n",
       "      <th>target</th>\n",
       "      <th>temp</th>\n",
       "      <th>temp_pred</th>\n",
       "    </tr>\n",
       "    <tr>\n",
       "      <th>date</th>\n",
       "      <th></th>\n",
       "      <th></th>\n",
       "      <th></th>\n",
       "      <th></th>\n",
       "    </tr>\n",
       "  </thead>\n",
       "  <tbody>\n",
       "    <tr>\n",
       "      <th>2019-01-01</th>\n",
       "      <td>276</td>\n",
       "      <td>11126.866</td>\n",
       "      <td>117.0</td>\n",
       "      <td>105.0</td>\n",
       "    </tr>\n",
       "    <tr>\n",
       "      <th>2019-01-02</th>\n",
       "      <td>276</td>\n",
       "      <td>11547.210</td>\n",
       "      <td>32.4</td>\n",
       "      <td>36.0</td>\n",
       "    </tr>\n",
       "    <tr>\n",
       "      <th>2019-01-03</th>\n",
       "      <td>276</td>\n",
       "      <td>12235.564</td>\n",
       "      <td>-27.9</td>\n",
       "      <td>-33.0</td>\n",
       "    </tr>\n",
       "    <tr>\n",
       "      <th>2019-01-04</th>\n",
       "      <td>276</td>\n",
       "      <td>12763.044</td>\n",
       "      <td>-36.0</td>\n",
       "      <td>-3.0</td>\n",
       "    </tr>\n",
       "    <tr>\n",
       "      <th>2019-01-05</th>\n",
       "      <td>276</td>\n",
       "      <td>12735.145</td>\n",
       "      <td>22.5</td>\n",
       "      <td>36.0</td>\n",
       "    </tr>\n",
       "    <tr>\n",
       "      <th>...</th>\n",
       "      <td>...</td>\n",
       "      <td>...</td>\n",
       "      <td>...</td>\n",
       "      <td>...</td>\n",
       "    </tr>\n",
       "    <tr>\n",
       "      <th>2023-03-27</th>\n",
       "      <td>276</td>\n",
       "      <td>12513.596</td>\n",
       "      <td>34.5</td>\n",
       "      <td>30.0</td>\n",
       "    </tr>\n",
       "    <tr>\n",
       "      <th>2023-03-28</th>\n",
       "      <td>276</td>\n",
       "      <td>12988.331</td>\n",
       "      <td>-31.2</td>\n",
       "      <td>-6.0</td>\n",
       "    </tr>\n",
       "    <tr>\n",
       "      <th>2023-03-29</th>\n",
       "      <td>276</td>\n",
       "      <td>12771.077</td>\n",
       "      <td>57.0</td>\n",
       "      <td>36.0</td>\n",
       "    </tr>\n",
       "    <tr>\n",
       "      <th>2023-03-30</th>\n",
       "      <td>276</td>\n",
       "      <td>12478.985</td>\n",
       "      <td>178.5</td>\n",
       "      <td>153.0</td>\n",
       "    </tr>\n",
       "    <tr>\n",
       "      <th>2023-03-31</th>\n",
       "      <td>276</td>\n",
       "      <td>12414.945</td>\n",
       "      <td>211.5</td>\n",
       "      <td>180.0</td>\n",
       "    </tr>\n",
       "  </tbody>\n",
       "</table>\n",
       "<p>1551 rows × 4 columns</p>\n",
       "</div>"
      ],
      "text/plain": [
       "            time     target   temp  temp_pred\n",
       "date                                         \n",
       "2019-01-01   276  11126.866  117.0      105.0\n",
       "2019-01-02   276  11547.210   32.4       36.0\n",
       "2019-01-03   276  12235.564  -27.9      -33.0\n",
       "2019-01-04   276  12763.044  -36.0       -3.0\n",
       "2019-01-05   276  12735.145   22.5       36.0\n",
       "...          ...        ...    ...        ...\n",
       "2023-03-27   276  12513.596   34.5       30.0\n",
       "2023-03-28   276  12988.331  -31.2       -6.0\n",
       "2023-03-29   276  12771.077   57.0       36.0\n",
       "2023-03-30   276  12478.985  178.5      153.0\n",
       "2023-03-31   276  12414.945  211.5      180.0\n",
       "\n",
       "[1551 rows x 4 columns]"
      ]
     },
     "execution_count": 39,
     "metadata": {},
     "output_type": "execute_result"
    }
   ],
   "source": [
    "df_tr"
   ]
  },
  {
   "cell_type": "code",
   "execution_count": null,
   "id": "64d79eda",
   "metadata": {},
   "outputs": [],
   "source": []
  },
  {
   "cell_type": "code",
   "execution_count": 40,
   "id": "56708497",
   "metadata": {},
   "outputs": [
    {
     "ename": "NameError",
     "evalue": "name 'df' is not defined",
     "output_type": "error",
     "traceback": [
      "\u001b[1;31m---------------------------------------------------------------------------\u001b[0m",
      "\u001b[1;31mNameError\u001b[0m                                 Traceback (most recent call last)",
      "\u001b[1;32mc:\\Users\\79099\\Desktop\\Hakaton_GlowByte\\Hakaton_1.ipynb Cell 74\u001b[0m line \u001b[0;36m1\n\u001b[1;32m----> <a href='vscode-notebook-cell:/c%3A/Users/79099/Desktop/Hakaton_GlowByte/Hakaton_1.ipynb#Y133sZmlsZQ%3D%3D?line=0'>1</a>\u001b[0m df \u001b[39m=\u001b[39m df\u001b[39m.\u001b[39mdrop([\u001b[39m'\u001b[39m\u001b[39mC\u001b[39m\u001b[39m'\u001b[39m, \u001b[39m'\u001b[39m\u001b[39mD\u001b[39m\u001b[39m'\u001b[39m], axis\u001b[39m=\u001b[39m\u001b[39m1\u001b[39m)\n",
      "\u001b[1;31mNameError\u001b[0m: name 'df' is not defined"
     ]
    }
   ],
   "source": [
    "df = df.drop(['C', 'D'], axis=1)"
   ]
  },
  {
   "cell_type": "code",
   "execution_count": null,
   "id": "4743f15f",
   "metadata": {},
   "outputs": [],
   "source": []
  }
 ],
 "metadata": {
  "kernelspec": {
   "display_name": "Python 3 (ipykernel)",
   "language": "python",
   "name": "python3"
  },
  "language_info": {
   "codemirror_mode": {
    "name": "ipython",
    "version": 3
   },
   "file_extension": ".py",
   "mimetype": "text/x-python",
   "name": "python",
   "nbconvert_exporter": "python",
   "pygments_lexer": "ipython3",
   "version": "3.9.16"
  }
 },
 "nbformat": 4,
 "nbformat_minor": 5
}
